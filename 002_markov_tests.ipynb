{
 "cells": [
  {
   "cell_type": "code",
   "execution_count": 1,
   "metadata": {},
   "outputs": [],
   "source": [
    "%load_ext autoreload\n",
    "%autoreload 2"
   ]
  },
  {
   "cell_type": "code",
   "execution_count": 2,
   "metadata": {},
   "outputs": [],
   "source": [
    "import os\n",
    "import numpy as np\n",
    "import pandas as pd"
   ]
  },
  {
   "cell_type": "code",
   "execution_count": null,
   "metadata": {},
   "outputs": [],
   "source": [
    "import lib\n",
    "import plotting\n",
    "import markov_chain as mc\n",
    "import markov_tools as mt"
   ]
  },
  {
   "cell_type": "code",
   "execution_count": null,
   "metadata": {},
   "outputs": [
    {
     "data": {
      "text/plain": [
       "['config.cfg']"
      ]
     },
     "execution_count": 4,
     "metadata": {},
     "output_type": "execute_result"
    }
   ],
   "source": [
    "from configparser import ConfigParser\n",
    "cfg = ConfigParser()\n",
    "cfg.read(\"config.cfg\")"
   ]
  },
  {
   "cell_type": "code",
   "execution_count": null,
   "metadata": {},
   "outputs": [],
   "source": [
    "from tqdm._tqdm_notebook import tqdm_notebook as tqdm # we manually import the notebook submodule as the normal one struggles with jupyterlab\n",
    "tqdm.pandas() # this enables us to use progress_apply instead of apply"
   ]
  },
  {
   "cell_type": "code",
   "execution_count": null,
   "metadata": {},
   "outputs": [],
   "source": [
    "sequence_file = os.path.join(cfg.get(\"directory\", \"exchange\"), \"[wikidata]004_sequences.p\")\n",
    "labels_file = os.path.join(cfg.get(\"directory\", \"exchange\"), \"[wikidata]004_labels.p\")\n",
    "results_prefix = \"[WIKIDATA]\""
   ]
  },
  {
   "cell_type": "code",
   "execution_count": null,
   "metadata": {},
   "outputs": [
    {
     "data": {
      "text/html": [
       "<div>\n",
       "<style scoped>\n",
       "    .dataframe tbody tr th:only-of-type {\n",
       "        vertical-align: middle;\n",
       "    }\n",
       "\n",
       "    .dataframe tbody tr th {\n",
       "        vertical-align: top;\n",
       "    }\n",
       "\n",
       "    .dataframe thead th {\n",
       "        text-align: right;\n",
       "    }\n",
       "</style>\n",
       "<table border=\"1\" class=\"dataframe\">\n",
       "  <thead>\n",
       "    <tr style=\"text-align: right;\">\n",
       "      <th></th>\n",
       "      <th>length</th>\n",
       "      <th>sequence</th>\n",
       "      <th>user_id</th>\n",
       "    </tr>\n",
       "  </thead>\n",
       "  <tbody>\n",
       "    <tr>\n",
       "      <th>0</th>\n",
       "      <td>1523</td>\n",
       "      <td>[CLAIM_CREATE, CLAIM_CREATE, BREAK, DESCRIPTIO...</td>\n",
       "      <td>1</td>\n",
       "    </tr>\n",
       "    <tr>\n",
       "      <th>1</th>\n",
       "      <td>8</td>\n",
       "      <td>[SITELINK_ADD, ENTITY_CREATE, BREAK, MERGE, BR...</td>\n",
       "      <td>1000036</td>\n",
       "    </tr>\n",
       "    <tr>\n",
       "      <th>2</th>\n",
       "      <td>7</td>\n",
       "      <td>[SITELINK_ADD, BREAK, SITELINK_ADD, BREAK, SIT...</td>\n",
       "      <td>1000078</td>\n",
       "    </tr>\n",
       "    <tr>\n",
       "      <th>3</th>\n",
       "      <td>8</td>\n",
       "      <td>[SITELINK_REMOVE, SITELINK_ADD, BREAK, SITELIN...</td>\n",
       "      <td>100008</td>\n",
       "    </tr>\n",
       "    <tr>\n",
       "      <th>4</th>\n",
       "      <td>35</td>\n",
       "      <td>[SITELINK_ADD, SITELINK_ADD, BREAK, SITELINK_A...</td>\n",
       "      <td>100012</td>\n",
       "    </tr>\n",
       "  </tbody>\n",
       "</table>\n",
       "</div>"
      ],
      "text/plain": [
       "   length                                           sequence  user_id\n",
       "0    1523  [CLAIM_CREATE, CLAIM_CREATE, BREAK, DESCRIPTIO...        1\n",
       "1       8  [SITELINK_ADD, ENTITY_CREATE, BREAK, MERGE, BR...  1000036\n",
       "2       7  [SITELINK_ADD, BREAK, SITELINK_ADD, BREAK, SIT...  1000078\n",
       "3       8  [SITELINK_REMOVE, SITELINK_ADD, BREAK, SITELIN...   100008\n",
       "4      35  [SITELINK_ADD, SITELINK_ADD, BREAK, SITELINK_A...   100012"
      ]
     },
     "execution_count": 7,
     "metadata": {},
     "output_type": "execute_result"
    }
   ],
   "source": [
    "df = pd.read_pickle(sequence_file)\n",
    "labels = pd.read_pickle(labels_file)['label'].values\n",
    "df.head()"
   ]
  },
  {
   "cell_type": "code",
   "execution_count": null,
   "metadata": {},
   "outputs": [],
   "source": [
    "null_model = 5"
   ]
  },
  {
   "cell_type": "code",
   "execution_count": null,
   "metadata": {},
   "outputs": [],
   "source": [
    "sequence = df['sequence'].values"
   ]
  },
  {
   "cell_type": "code",
   "execution_count": null,
   "metadata": {},
   "outputs": [
    {
     "name": "stdout",
     "output_type": "stream",
     "text": [
      "-410645758.04462343\n",
      "-295818533.5543103\n",
      "-232920454.97538206\n",
      "-199397229.50105223\n"
     ]
    }
   ],
   "source": [
    "parameters = {}\n",
    "likelihoods = {}\n",
    "observations = {}\n",
    "\n",
    "for order in range(0, null_model + 1):\n",
    "    markov_chain = mc.MarkovChain(k=order, use_prior=False, reset=True, modus=\"mle\")\n",
    "    markov_chain.prepare_data(sequence)\n",
    "    matrix = markov_chain.fit(sequence, ret=True)\n",
    "    likelihoods[order] = markov_chain.loglikelihood()\n",
    "    print(order, likelihoods[order])\n",
    "    parameters[order] = markov_chain.parameter_count_\n",
    "    observations[order] = markov_chain.observation_count_\n",
    "\n",
    "    del markov_chain\n",
    "\n",
    "print(\"########################\")\n",
    "\n",
    "lrts, pvals, dfs = mt.likelihood_ratio_test(likelihoods, parameters)\n",
    "aics = mt.akaike_information_criterion(lratios=lrts, dfs=dfs, null_model=null_model)\n",
    "bics = mt.bayesian_information_criterion(lratios=lrts, dfs=dfs, obs=observations, null_model=null_model)\n",
    "print(\"AICS\", aics)\n",
    "print(\"min index:\", min(aics, key=aics.get))\n",
    "print(\"BICS\", bics)\n",
    "print(\"min index:\", min(bics, key=bics.get))\n",
    "print(\"########################\")\n",
    "plot_data[label_level] = {\"aics\": aics, \"bics\": bics}"
   ]
  },
  {
   "cell_type": "code",
   "execution_count": null,
   "metadata": {},
   "outputs": [],
   "source": [
    "plotting.aics_bics(plot_data, store_path)"
   ]
  },
  {
   "cell_type": "code",
   "execution_count": null,
   "metadata": {},
   "outputs": [],
   "source": [
    "store_path = os.path.join(cfg.get(\"directory\", \"results\"), results_prefix + \"information_criterion\")"
   ]
  }
 ],
 "metadata": {
  "kernelspec": {
   "display_name": "Python 3",
   "language": "python",
   "name": "python3"
  },
  "language_info": {
   "codemirror_mode": {
    "name": "ipython",
    "version": 3
   },
   "file_extension": ".py",
   "mimetype": "text/x-python",
   "name": "python",
   "nbconvert_exporter": "python",
   "pygments_lexer": "ipython3",
   "version": "3.7.1"
  }
 },
 "nbformat": 4,
 "nbformat_minor": 2
}
