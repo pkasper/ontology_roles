{
 "cells": [
  {
   "cell_type": "code",
   "execution_count": 1,
   "metadata": {},
   "outputs": [],
   "source": [
    "%load_ext autoreload\n",
    "%autoreload 2"
   ]
  },
  {
   "cell_type": "code",
   "execution_count": 2,
   "metadata": {},
   "outputs": [],
   "source": [
    "import os\n",
    "import numpy as np\n",
    "import pandas as pd"
   ]
  },
  {
   "cell_type": "code",
   "execution_count": 3,
   "metadata": {},
   "outputs": [],
   "source": [
    "import lib\n",
    "import plotting\n",
    "import markov_chain as mc\n",
    "import markov_tools as mt"
   ]
  },
  {
   "cell_type": "code",
   "execution_count": 4,
   "metadata": {},
   "outputs": [],
   "source": [
    "from statsmodels.stats.multicomp import pairwise_tukeyhsd, MultiComparison"
   ]
  },
  {
   "cell_type": "code",
   "execution_count": 5,
   "metadata": {},
   "outputs": [
    {
     "data": {
      "text/plain": [
       "['config.cfg']"
      ]
     },
     "execution_count": 5,
     "metadata": {},
     "output_type": "execute_result"
    }
   ],
   "source": [
    "from configparser import ConfigParser\n",
    "cfg = ConfigParser()\n",
    "cfg.read(\"config.cfg\")"
   ]
  },
  {
   "cell_type": "code",
   "execution_count": 6,
   "metadata": {},
   "outputs": [],
   "source": [
    "from tqdm._tqdm_notebook import tqdm_notebook as tqdm # we manually import the notebook submodule as the normal one struggles with jupyterlab\n",
    "tqdm.pandas() # this enables us to use progress_apply instead of apply"
   ]
  },
  {
   "cell_type": "code",
   "execution_count": 7,
   "metadata": {},
   "outputs": [],
   "source": [
    "results_prefix = \"[WIKIDATA_PAPER]\"\n",
    "\n",
    "sequence_file = os.path.join(cfg.get(\"directory\", \"exchange\"), results_prefix + \"001_clustering.p\")\n",
    "labels_file = os.path.join(cfg.get(\"directory\", \"exchange\"), \"[wikidata]004_labels_readable.p\")"
   ]
  },
  {
   "cell_type": "code",
   "execution_count": 8,
   "metadata": {},
   "outputs": [
    {
     "data": {
      "text/html": [
       "<div>\n",
       "<style scoped>\n",
       "    .dataframe tbody tr th:only-of-type {\n",
       "        vertical-align: middle;\n",
       "    }\n",
       "\n",
       "    .dataframe tbody tr th {\n",
       "        vertical-align: top;\n",
       "    }\n",
       "\n",
       "    .dataframe thead th {\n",
       "        text-align: right;\n",
       "    }\n",
       "</style>\n",
       "<table border=\"1\" class=\"dataframe\">\n",
       "  <thead>\n",
       "    <tr style=\"text-align: right;\">\n",
       "      <th></th>\n",
       "      <th>bot_name</th>\n",
       "      <th>bot_sequence</th>\n",
       "      <th>length</th>\n",
       "      <th>length_nobreak</th>\n",
       "      <th>sequence</th>\n",
       "      <th>sequence_readable</th>\n",
       "      <th>user_id</th>\n",
       "      <th>user_name</th>\n",
       "      <th>stat_dist</th>\n",
       "      <th>kmeans_2</th>\n",
       "      <th>kmeans_3</th>\n",
       "      <th>kmeans_4</th>\n",
       "      <th>kmeans_5</th>\n",
       "      <th>kmeans_6</th>\n",
       "      <th>kmeans_7</th>\n",
       "      <th>kmeans_8</th>\n",
       "      <th>kmeans_9</th>\n",
       "      <th>kmeans_10</th>\n",
       "    </tr>\n",
       "  </thead>\n",
       "  <tbody>\n",
       "    <tr>\n",
       "      <th>0</th>\n",
       "      <td>False</td>\n",
       "      <td>False</td>\n",
       "      <td>1517</td>\n",
       "      <td>1385</td>\n",
       "      <td>[REVERT_MANUAL, BREAK, CLAIM_CREATE, BREAK, CL...</td>\n",
       "      <td>[Revert Item, Break, Create Claim, Break, Crea...</td>\n",
       "      <td>1</td>\n",
       "      <td>Hoo man</td>\n",
       "      <td>[0.033592832488441825, 0.029154644609674315, 0...</td>\n",
       "      <td>0</td>\n",
       "      <td>2</td>\n",
       "      <td>1</td>\n",
       "      <td>2</td>\n",
       "      <td>0</td>\n",
       "      <td>4</td>\n",
       "      <td>6</td>\n",
       "      <td>2</td>\n",
       "      <td>2</td>\n",
       "    </tr>\n",
       "    <tr>\n",
       "      <th>1</th>\n",
       "      <td>False</td>\n",
       "      <td>False</td>\n",
       "      <td>9</td>\n",
       "      <td>6</td>\n",
       "      <td>[ENTITY_CREATE, BREAK, SITELINK_ADD, BREAK, ME...</td>\n",
       "      <td>[Create Item, Break, Add Sitelink, Break, Merg...</td>\n",
       "      <td>1000036</td>\n",
       "      <td>JShenk</td>\n",
       "      <td>[0.02643738030717696, 0.02643738030717696, 0.0...</td>\n",
       "      <td>1</td>\n",
       "      <td>0</td>\n",
       "      <td>2</td>\n",
       "      <td>4</td>\n",
       "      <td>3</td>\n",
       "      <td>3</td>\n",
       "      <td>1</td>\n",
       "      <td>1</td>\n",
       "      <td>1</td>\n",
       "    </tr>\n",
       "    <tr>\n",
       "      <th>2</th>\n",
       "      <td>False</td>\n",
       "      <td>False</td>\n",
       "      <td>7</td>\n",
       "      <td>4</td>\n",
       "      <td>[SITELINK_ADD, BREAK, SITELINK_ADD, BREAK, SIT...</td>\n",
       "      <td>[Add Sitelink, Break, Add Sitelink, Break, Add...</td>\n",
       "      <td>1000078</td>\n",
       "      <td>Egor-belikov</td>\n",
       "      <td>[0.025412586144359806, 0.025412586144359806, 0...</td>\n",
       "      <td>1</td>\n",
       "      <td>1</td>\n",
       "      <td>0</td>\n",
       "      <td>3</td>\n",
       "      <td>1</td>\n",
       "      <td>2</td>\n",
       "      <td>4</td>\n",
       "      <td>4</td>\n",
       "      <td>4</td>\n",
       "    </tr>\n",
       "    <tr>\n",
       "      <th>3</th>\n",
       "      <td>False</td>\n",
       "      <td>False</td>\n",
       "      <td>9</td>\n",
       "      <td>6</td>\n",
       "      <td>[ENTITY_CREATE, BREAK, SITELINK_REMOVE, SITELI...</td>\n",
       "      <td>[Create Item, Break, Remove Sitelink, Add Site...</td>\n",
       "      <td>100008</td>\n",
       "      <td>Wars</td>\n",
       "      <td>[0.027056268692473535, 0.02705626869247354, 0....</td>\n",
       "      <td>1</td>\n",
       "      <td>1</td>\n",
       "      <td>0</td>\n",
       "      <td>3</td>\n",
       "      <td>1</td>\n",
       "      <td>2</td>\n",
       "      <td>4</td>\n",
       "      <td>1</td>\n",
       "      <td>1</td>\n",
       "    </tr>\n",
       "    <tr>\n",
       "      <th>4</th>\n",
       "      <td>False</td>\n",
       "      <td>False</td>\n",
       "      <td>44</td>\n",
       "      <td>23</td>\n",
       "      <td>[SITELINK_ADD, BREAK, SITELINK_ADD, BREAK, SIT...</td>\n",
       "      <td>[Add Sitelink, Break, Add Sitelink, Break, Add...</td>\n",
       "      <td>100012</td>\n",
       "      <td>Kane 14</td>\n",
       "      <td>[0.025862068965517248, 0.025862068965517244, 0...</td>\n",
       "      <td>1</td>\n",
       "      <td>1</td>\n",
       "      <td>0</td>\n",
       "      <td>3</td>\n",
       "      <td>1</td>\n",
       "      <td>2</td>\n",
       "      <td>4</td>\n",
       "      <td>4</td>\n",
       "      <td>4</td>\n",
       "    </tr>\n",
       "  </tbody>\n",
       "</table>\n",
       "</div>"
      ],
      "text/plain": [
       "   bot_name  bot_sequence  length  length_nobreak  \\\n",
       "0     False         False    1517            1385   \n",
       "1     False         False       9               6   \n",
       "2     False         False       7               4   \n",
       "3     False         False       9               6   \n",
       "4     False         False      44              23   \n",
       "\n",
       "                                            sequence  \\\n",
       "0  [REVERT_MANUAL, BREAK, CLAIM_CREATE, BREAK, CL...   \n",
       "1  [ENTITY_CREATE, BREAK, SITELINK_ADD, BREAK, ME...   \n",
       "2  [SITELINK_ADD, BREAK, SITELINK_ADD, BREAK, SIT...   \n",
       "3  [ENTITY_CREATE, BREAK, SITELINK_REMOVE, SITELI...   \n",
       "4  [SITELINK_ADD, BREAK, SITELINK_ADD, BREAK, SIT...   \n",
       "\n",
       "                                   sequence_readable  user_id     user_name  \\\n",
       "0  [Revert Item, Break, Create Claim, Break, Crea...        1       Hoo man   \n",
       "1  [Create Item, Break, Add Sitelink, Break, Merg...  1000036        JShenk   \n",
       "2  [Add Sitelink, Break, Add Sitelink, Break, Add...  1000078  Egor-belikov   \n",
       "3  [Create Item, Break, Remove Sitelink, Add Site...   100008          Wars   \n",
       "4  [Add Sitelink, Break, Add Sitelink, Break, Add...   100012       Kane 14   \n",
       "\n",
       "                                           stat_dist  kmeans_2  kmeans_3  \\\n",
       "0  [0.033592832488441825, 0.029154644609674315, 0...         0         2   \n",
       "1  [0.02643738030717696, 0.02643738030717696, 0.0...         1         0   \n",
       "2  [0.025412586144359806, 0.025412586144359806, 0...         1         1   \n",
       "3  [0.027056268692473535, 0.02705626869247354, 0....         1         1   \n",
       "4  [0.025862068965517248, 0.025862068965517244, 0...         1         1   \n",
       "\n",
       "   kmeans_4  kmeans_5  kmeans_6  kmeans_7  kmeans_8  kmeans_9  kmeans_10  \n",
       "0         1         2         0         4         6         2          2  \n",
       "1         2         4         3         3         1         1          1  \n",
       "2         0         3         1         2         4         4          4  \n",
       "3         0         3         1         2         4         1          1  \n",
       "4         0         3         1         2         4         4          4  "
      ]
     },
     "execution_count": 8,
     "metadata": {},
     "output_type": "execute_result"
    }
   ],
   "source": [
    "df = pd.read_pickle(sequence_file)\n",
    "df.head()"
   ]
  },
  {
   "cell_type": "code",
   "execution_count": 9,
   "metadata": {},
   "outputs": [],
   "source": [
    "labels = pd.read_pickle(labels_file)['label'].values"
   ]
  },
  {
   "cell_type": "markdown",
   "metadata": {},
   "source": [
    "We test only one clustering (numer of clusters) at a time.  \n",
    "For each label/action we conduct a pairwise tukey's test to highlight the actions that show significant difference.\n",
    "\n",
    "Note: as this is a pairwise comparison for each single label this generates a lot of output!"
   ]
  },
  {
   "cell_type": "code",
   "execution_count": 10,
   "metadata": {},
   "outputs": [
    {
     "data": {
      "text/plain": [
       "32"
      ]
     },
     "execution_count": 10,
     "metadata": {},
     "output_type": "execute_result"
    }
   ],
   "source": [
    "len(df.iloc[0]['stat_dist'])"
   ]
  },
  {
   "cell_type": "code",
   "execution_count": 11,
   "metadata": {},
   "outputs": [
    {
     "data": {
      "text/plain": [
       "32"
      ]
     },
     "execution_count": 11,
     "metadata": {},
     "output_type": "execute_result"
    }
   ],
   "source": [
    "len(labels)"
   ]
  },
  {
   "cell_type": "code",
   "execution_count": 12,
   "metadata": {},
   "outputs": [],
   "source": [
    "num_clusters = 4\n",
    "df_selector = \"kmeans_{n}\".format(n=num_clusters)"
   ]
  },
  {
   "cell_type": "code",
   "execution_count": 13,
   "metadata": {},
   "outputs": [
    {
     "name": "stdout",
     "output_type": "stream",
     "text": [
      "Add Description: 5 / 6\n",
      "Add Item Alias: 5 / 6\n",
      "Add Label: 6 / 6\n",
      "Add Qualifier: 5 / 6\n",
      "Add Reference: 5 / 6\n",
      "Add Sitelink: 6 / 6\n",
      "Break: 6 / 6\n",
      "Create Claim: 5 / 6\n",
      "Create Item: 6 / 6\n",
      "Create Property: 5 / 6\n",
      "Edit Alias: 5 / 6\n",
      "Edit Claim: 5 / 6\n",
      "Edit Claim Value: 6 / 6\n",
      "Edit Description: 5 / 6\n",
      "Edit Item: 5 / 6\n",
      "Edit Label: 6 / 6\n",
      "Edit Qualifier: 5 / 6\n",
      "Edit Reference: 5 / 6\n",
      "Edit Sitelink: 6 / 6\n",
      "Merge Items: 5 / 6\n",
      "Override Item: 5 / 6\n",
      "Protect Item: 5 / 6\n",
      "Redirect Item: 5 / 6\n",
      "Remove Alias: 5 / 6\n",
      "Remove Claim: 5 / 6\n",
      "Remove Description: 5 / 6\n",
      "Remove Item: 5 / 6\n",
      "Remove Label: 5 / 6\n",
      "Remove Qualifier: 5 / 6\n",
      "Remove Reference: 5 / 6\n",
      "Remove Sitelink: 6 / 6\n",
      "Revert Item: 5 / 6\n"
     ]
    }
   ],
   "source": [
    "sig_labels = []\n",
    "for i, l in enumerate(labels):\n",
    "    vals = df['stat_dist'].apply(lambda x: x[i])\n",
    "    lbls = df[df_selector]\n",
    "    comp_object = MultiComparison(vals, lbls)\n",
    "    hsd = comp_object.tukeyhsd(alpha=0.01)\n",
    "    print(\"{l}: {s} / 6\".format(l=l, s=sum(hsd.reject)))\n",
    "    #print(hsd.summary())\n",
    "    \n",
    "    if sum(hsd.reject) == 6:\n",
    "        sig_labels.append(l)"
   ]
  },
  {
   "cell_type": "code",
   "execution_count": 14,
   "metadata": {},
   "outputs": [
    {
     "data": {
      "text/plain": [
       "['Add Label',\n",
       " 'Add Sitelink',\n",
       " 'Break',\n",
       " 'Create Item',\n",
       " 'Edit Claim Value',\n",
       " 'Edit Label',\n",
       " 'Edit Sitelink',\n",
       " 'Remove Sitelink']"
      ]
     },
     "execution_count": 14,
     "metadata": {},
     "output_type": "execute_result"
    }
   ],
   "source": [
    "sig_labels"
   ]
  },
  {
   "cell_type": "markdown",
   "metadata": {},
   "source": [
    "### TOP Labels"
   ]
  },
  {
   "cell_type": "code",
   "execution_count": 15,
   "metadata": {},
   "outputs": [],
   "source": [
    "cluster_grp = df.groupby(df_selector)"
   ]
  },
  {
   "cell_type": "code",
   "execution_count": 16,
   "metadata": {},
   "outputs": [],
   "source": [
    "from collections import defaultdict"
   ]
  },
  {
   "cell_type": "code",
   "execution_count": 32,
   "metadata": {},
   "outputs": [],
   "source": [
    "full_seq = np.array([])\n",
    "for c_id, grp in cluster_grp:\n",
    "    seq = np.concatenate(grp['sequence_readable'].values)\n",
    "    \n",
    "    full_seq = np.concatenate((full_seq, seq))\n",
    "full_seq = pd.Series(full_seq)"
   ]
  },
  {
   "cell_type": "code",
   "execution_count": 37,
   "metadata": {},
   "outputs": [],
   "source": [
    "counts = pd.Series(full_seq).value_counts()"
   ]
  },
  {
   "cell_type": "code",
   "execution_count": 39,
   "metadata": {},
   "outputs": [
    {
     "data": {
      "text/plain": [
       "['Add Description',\n",
       " 'Add Label',\n",
       " 'Add Qualifier',\n",
       " 'Add Reference',\n",
       " 'Add Sitelink',\n",
       " 'Break',\n",
       " 'Create Claim',\n",
       " 'Create Item',\n",
       " 'Edit Claim',\n",
       " 'Remove Claim']"
      ]
     },
     "execution_count": 39,
     "metadata": {},
     "output_type": "execute_result"
    }
   ],
   "source": [
    "sorted(list(counts.head(10).index))"
   ]
  },
  {
   "cell_type": "code",
   "execution_count": null,
   "metadata": {},
   "outputs": [],
   "source": []
  }
 ],
 "metadata": {
  "kernelspec": {
   "display_name": "Python 3",
   "language": "python",
   "name": "python3"
  },
  "language_info": {
   "codemirror_mode": {
    "name": "ipython",
    "version": 3
   },
   "file_extension": ".py",
   "mimetype": "text/x-python",
   "name": "python",
   "nbconvert_exporter": "python",
   "pygments_lexer": "ipython3",
   "version": "3.7.1"
  }
 },
 "nbformat": 4,
 "nbformat_minor": 2
}
