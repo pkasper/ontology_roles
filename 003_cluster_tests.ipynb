{
 "cells": [
  {
   "cell_type": "code",
   "execution_count": 1,
   "metadata": {},
   "outputs": [],
   "source": [
    "%load_ext autoreload\n",
    "%autoreload 2"
   ]
  },
  {
   "cell_type": "code",
   "execution_count": 2,
   "metadata": {},
   "outputs": [],
   "source": [
    "import os\n",
    "import numpy as np\n",
    "import pandas as pd"
   ]
  },
  {
   "cell_type": "code",
   "execution_count": 3,
   "metadata": {},
   "outputs": [],
   "source": [
    "import lib\n",
    "import plotting\n",
    "import markov_chain as mc\n",
    "import markov_tools as mt"
   ]
  },
  {
   "cell_type": "code",
   "execution_count": 4,
   "metadata": {},
   "outputs": [],
   "source": [
    "from statsmodels.stats.multicomp import pairwise_tukeyhsd, MultiComparison"
   ]
  },
  {
   "cell_type": "code",
   "execution_count": 5,
   "metadata": {},
   "outputs": [
    {
     "data": {
      "text/plain": [
       "['config.cfg']"
      ]
     },
     "execution_count": 5,
     "metadata": {},
     "output_type": "execute_result"
    }
   ],
   "source": [
    "from configparser import ConfigParser\n",
    "cfg = ConfigParser()\n",
    "cfg.read(\"config.cfg\")"
   ]
  },
  {
   "cell_type": "code",
   "execution_count": 6,
   "metadata": {},
   "outputs": [],
   "source": [
    "from tqdm._tqdm_notebook import tqdm_notebook as tqdm # we manually import the notebook submodule as the normal one struggles with jupyterlab\n",
    "tqdm.pandas() # this enables us to use progress_apply instead of apply"
   ]
  },
  {
   "cell_type": "code",
   "execution_count": 7,
   "metadata": {},
   "outputs": [],
   "source": [
    "results_prefix = \"[WIKIDATA]\"\n",
    "\n",
    "sequence_file = os.path.join(cfg.get(\"directory\", \"exchange\"), results_prefix + \"001_clustering.p\")\n",
    "labels_file = os.path.join(cfg.get(\"directory\", \"exchange\"), \"[wikidata]004_labels.p\")"
   ]
  },
  {
   "cell_type": "code",
   "execution_count": 8,
   "metadata": {},
   "outputs": [
    {
     "data": {
      "text/html": [
       "<div>\n",
       "<style scoped>\n",
       "    .dataframe tbody tr th:only-of-type {\n",
       "        vertical-align: middle;\n",
       "    }\n",
       "\n",
       "    .dataframe tbody tr th {\n",
       "        vertical-align: top;\n",
       "    }\n",
       "\n",
       "    .dataframe thead th {\n",
       "        text-align: right;\n",
       "    }\n",
       "</style>\n",
       "<table border=\"1\" class=\"dataframe\">\n",
       "  <thead>\n",
       "    <tr style=\"text-align: right;\">\n",
       "      <th></th>\n",
       "      <th>length</th>\n",
       "      <th>sequence</th>\n",
       "      <th>user_id</th>\n",
       "      <th>stat_dist</th>\n",
       "      <th>kmeans_2</th>\n",
       "      <th>kmeans_3</th>\n",
       "      <th>kmeans_4</th>\n",
       "      <th>kmeans_5</th>\n",
       "      <th>kmeans_6</th>\n",
       "      <th>kmeans_7</th>\n",
       "      <th>kmeans_8</th>\n",
       "      <th>kmeans_9</th>\n",
       "      <th>kmeans_10</th>\n",
       "    </tr>\n",
       "  </thead>\n",
       "  <tbody>\n",
       "    <tr>\n",
       "      <th>0</th>\n",
       "      <td>1511</td>\n",
       "      <td>[REVERT_MANUAL, BREAK, CLAIM_CREATE, BREAK, CL...</td>\n",
       "      <td>1</td>\n",
       "      <td>[0.022260285362644863, 0.01999793118304165, 0....</td>\n",
       "      <td>1</td>\n",
       "      <td>0</td>\n",
       "      <td>3</td>\n",
       "      <td>2</td>\n",
       "      <td>2</td>\n",
       "      <td>4</td>\n",
       "      <td>1</td>\n",
       "      <td>2</td>\n",
       "      <td>2</td>\n",
       "    </tr>\n",
       "    <tr>\n",
       "      <th>1</th>\n",
       "      <td>9</td>\n",
       "      <td>[ENTITY_CREATE, BREAK, SITELINK_ADD, BREAK, ME...</td>\n",
       "      <td>1000036</td>\n",
       "      <td>[0.020070153072094386, 0.02007015307209438, 0....</td>\n",
       "      <td>0</td>\n",
       "      <td>0</td>\n",
       "      <td>2</td>\n",
       "      <td>4</td>\n",
       "      <td>0</td>\n",
       "      <td>0</td>\n",
       "      <td>0</td>\n",
       "      <td>0</td>\n",
       "      <td>0</td>\n",
       "    </tr>\n",
       "    <tr>\n",
       "      <th>2</th>\n",
       "      <td>7</td>\n",
       "      <td>[SITELINK_ADD, BREAK, SITELINK_ADD, BREAK, SIT...</td>\n",
       "      <td>1000078</td>\n",
       "      <td>[0.01947397679104996, 0.019473976791049966, 0....</td>\n",
       "      <td>0</td>\n",
       "      <td>2</td>\n",
       "      <td>1</td>\n",
       "      <td>1</td>\n",
       "      <td>1</td>\n",
       "      <td>1</td>\n",
       "      <td>5</td>\n",
       "      <td>3</td>\n",
       "      <td>3</td>\n",
       "    </tr>\n",
       "    <tr>\n",
       "      <th>3</th>\n",
       "      <td>9</td>\n",
       "      <td>[ENTITY_CREATE, BREAK, SITELINK_REMOVE, SITELI...</td>\n",
       "      <td>100008</td>\n",
       "      <td>[0.02042483183496783, 0.020424831834967825, 0....</td>\n",
       "      <td>0</td>\n",
       "      <td>2</td>\n",
       "      <td>1</td>\n",
       "      <td>1</td>\n",
       "      <td>1</td>\n",
       "      <td>1</td>\n",
       "      <td>5</td>\n",
       "      <td>0</td>\n",
       "      <td>0</td>\n",
       "    </tr>\n",
       "    <tr>\n",
       "      <th>4</th>\n",
       "      <td>44</td>\n",
       "      <td>[SITELINK_ADD, BREAK, SITELINK_ADD, BREAK, SIT...</td>\n",
       "      <td>100012</td>\n",
       "      <td>[0.01973684210526316, 0.019736842105263157, 0....</td>\n",
       "      <td>0</td>\n",
       "      <td>2</td>\n",
       "      <td>1</td>\n",
       "      <td>1</td>\n",
       "      <td>1</td>\n",
       "      <td>1</td>\n",
       "      <td>5</td>\n",
       "      <td>3</td>\n",
       "      <td>3</td>\n",
       "    </tr>\n",
       "  </tbody>\n",
       "</table>\n",
       "</div>"
      ],
      "text/plain": [
       "   length                                           sequence  user_id  \\\n",
       "0    1511  [REVERT_MANUAL, BREAK, CLAIM_CREATE, BREAK, CL...        1   \n",
       "1       9  [ENTITY_CREATE, BREAK, SITELINK_ADD, BREAK, ME...  1000036   \n",
       "2       7  [SITELINK_ADD, BREAK, SITELINK_ADD, BREAK, SIT...  1000078   \n",
       "3       9  [ENTITY_CREATE, BREAK, SITELINK_REMOVE, SITELI...   100008   \n",
       "4      44  [SITELINK_ADD, BREAK, SITELINK_ADD, BREAK, SIT...   100012   \n",
       "\n",
       "                                           stat_dist  kmeans_2  kmeans_3  \\\n",
       "0  [0.022260285362644863, 0.01999793118304165, 0....         1         0   \n",
       "1  [0.020070153072094386, 0.02007015307209438, 0....         0         0   \n",
       "2  [0.01947397679104996, 0.019473976791049966, 0....         0         2   \n",
       "3  [0.02042483183496783, 0.020424831834967825, 0....         0         2   \n",
       "4  [0.01973684210526316, 0.019736842105263157, 0....         0         2   \n",
       "\n",
       "   kmeans_4  kmeans_5  kmeans_6  kmeans_7  kmeans_8  kmeans_9  kmeans_10  \n",
       "0         3         2         2         4         1         2          2  \n",
       "1         2         4         0         0         0         0          0  \n",
       "2         1         1         1         1         5         3          3  \n",
       "3         1         1         1         1         5         0          0  \n",
       "4         1         1         1         1         5         3          3  "
      ]
     },
     "execution_count": 8,
     "metadata": {},
     "output_type": "execute_result"
    }
   ],
   "source": [
    "df = pd.read_pickle(sequence_file)\n",
    "df.head()"
   ]
  },
  {
   "cell_type": "code",
   "execution_count": 9,
   "metadata": {},
   "outputs": [],
   "source": [
    "labels = pd.read_pickle(labels_file)['label'].values"
   ]
  },
  {
   "cell_type": "markdown",
   "metadata": {},
   "source": [
    "We test only one clustering (numer of clusters) at a time.  \n",
    "For each label/action we conduct a pairwise tukey's test to highlight the actions that show significant difference.\n",
    "\n",
    "Note: as this is a pairwise comparison for each single label this generates a lot of output!"
   ]
  },
  {
   "cell_type": "code",
   "execution_count": 10,
   "metadata": {},
   "outputs": [],
   "source": [
    "num_clusters = 8\n",
    "df_selector = \"kmeans_{n}\".format(n=num_clusters)"
   ]
  },
  {
   "cell_type": "code",
   "execution_count": 13,
   "metadata": {},
   "outputs": [
    {
     "name": "stdout",
     "output_type": "stream",
     "text": [
      "ALIAS_ADD: 19 / 28\n",
      "ALIAS_REMOVE: 12 / 28\n",
      "ALIAS_UPDATE: 14 / 28\n",
      "BREAK: 28 / 28\n",
      "CLAIM_CREATE: 18 / 28\n",
      "CLAIM_REMOVE: 17 / 28\n",
      "CLAIM_UPDATE: 18 / 28\n",
      "CLAIM_UPDATEVALUE: 11 / 28\n",
      "CREATE_MANUAL: 9 / 28\n",
      "DESCRIPTION_ADD: 22 / 28\n",
      "DESCRIPTION_REMOVE: 13 / 28\n",
      "DESCRIPTION_UPDATE: 24 / 28\n",
      "ENTITY_CREATE: 18 / 28\n",
      "ENTITY_OVERRIDE: 13 / 28\n",
      "ENTITY_REDIRECT: 19 / 28\n",
      "ENTITY_UPDATE: 13 / 28\n",
      "FORM_ADD: 13 / 28\n",
      "FORM_REMOVE: 13 / 28\n",
      "FORM_UPDATE: 13 / 28\n",
      "LABEL_ADD: 20 / 28\n",
      "LABEL_REMOVE: 7 / 28\n",
      "LABEL_UPDATE: 14 / 28\n",
      "LEXEME_CREATE: 13 / 28\n",
      "LEXEME_UPDATE: 13 / 28\n",
      "MERGE: 23 / 28\n",
      "MOVE_MANUAL: 13 / 28\n",
      "PROPERTY_CREATE: 13 / 28\n",
      "PROTECT_MANUAL: 13 / 28\n",
      "QUALIFIER_ADD: 13 / 28\n",
      "QUALIFIER_REMOVE: 13 / 28\n",
      "QUALIFIER_UPDATE: 13 / 28\n",
      "REFERENCE_ADD: 13 / 28\n",
      "REFERENCE_REMOVE: 13 / 28\n",
      "REFERENCE_UPDATE: 13 / 28\n",
      "REMOVE_MANUAL: 12 / 28\n",
      "RENAME_MANUAL: 12 / 28\n",
      "REVERT: 12 / 28\n",
      "REVERT_MANUAL: 10 / 28\n",
      "SENSE_ADD: 13 / 28\n",
      "SENSE_REMOVE: 13 / 28\n",
      "SENSE_UPDATE: 13 / 28\n",
      "SITELINK_ADD: 22 / 28\n",
      "SITELINK_REMOVE: 17 / 28\n",
      "SITELINK_UPDATE: 17 / 28\n"
     ]
    }
   ],
   "source": [
    "for i, l in enumerate(labels):\n",
    "    vals = df['stat_dist'].apply(lambda x: x[i])\n",
    "    lbls = df[df_selector]\n",
    "    comp_object = MultiComparison(vals, lbls)\n",
    "    hsd = comp_object.tukeyhsd(alpha=0.01)\n",
    "    print(\"{l}: {s} / 28\".format(l=l, s=sum(hsd.reject)))"
   ]
  },
  {
   "cell_type": "code",
   "execution_count": null,
   "metadata": {},
   "outputs": [],
   "source": []
  }
 ],
 "metadata": {
  "kernelspec": {
   "display_name": "Python 3",
   "language": "python",
   "name": "python3"
  },
  "language_info": {
   "codemirror_mode": {
    "name": "ipython",
    "version": 3
   },
   "file_extension": ".py",
   "mimetype": "text/x-python",
   "name": "python",
   "nbconvert_exporter": "python",
   "pygments_lexer": "ipython3",
   "version": "3.7.1"
  }
 },
 "nbformat": 4,
 "nbformat_minor": 2
}
