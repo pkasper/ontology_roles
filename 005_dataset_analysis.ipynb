{
 "cells": [
  {
   "cell_type": "code",
   "execution_count": 35,
   "metadata": {},
   "outputs": [
    {
     "name": "stdout",
     "output_type": "stream",
     "text": [
      "The autoreload extension is already loaded. To reload it, use:\n",
      "  %reload_ext autoreload\n"
     ]
    }
   ],
   "source": [
    "%load_ext autoreload\n",
    "%autoreload 2"
   ]
  },
  {
   "cell_type": "code",
   "execution_count": 36,
   "metadata": {},
   "outputs": [],
   "source": [
    "import os\n",
    "import numpy as np\n",
    "import pandas as pd"
   ]
  },
  {
   "cell_type": "code",
   "execution_count": 37,
   "metadata": {},
   "outputs": [],
   "source": [
    "import lib\n",
    "import plotting"
   ]
  },
  {
   "cell_type": "code",
   "execution_count": 38,
   "metadata": {},
   "outputs": [],
   "source": [
    "from multiprocessing import Pool\n",
    "import pickle\n",
    "from collections import defaultdict"
   ]
  },
  {
   "cell_type": "code",
   "execution_count": 39,
   "metadata": {},
   "outputs": [],
   "source": [
    "from sklearn.cluster import KMeans\n",
    "from sklearn.metrics import silhouette_samples, silhouette_score, calinski_harabaz_score\n",
    "from sklearn.decomposition import PCA"
   ]
  },
  {
   "cell_type": "code",
   "execution_count": 40,
   "metadata": {},
   "outputs": [
    {
     "data": {
      "text/plain": [
       "['config.cfg']"
      ]
     },
     "execution_count": 40,
     "metadata": {},
     "output_type": "execute_result"
    }
   ],
   "source": [
    "from configparser import ConfigParser\n",
    "cfg = ConfigParser()\n",
    "cfg.read(\"config.cfg\")"
   ]
  },
  {
   "cell_type": "code",
   "execution_count": 41,
   "metadata": {},
   "outputs": [],
   "source": [
    "from tqdm._tqdm_notebook import tqdm_notebook as tqdm # we manually import the notebook submodule as the normal one struggles with jupyterlab\n",
    "tqdm.pandas() # this enables us to use progress_apply instead of apply"
   ]
  },
  {
   "cell_type": "code",
   "execution_count": 42,
   "metadata": {},
   "outputs": [],
   "source": [
    "results_prefix = \"[WIKIDATA_NOBOT]\"\n",
    "\n",
    "sequence_file = os.path.join(cfg.get(\"directory\", \"exchange\"), \"[wikidata]004_sequences.p\")\n",
    "labels_file = os.path.join(cfg.get(\"directory\", \"exchange\"), \"[wikidata]004_labels.p\")\n",
    "users_file = os.path.join(cfg.get(\"directory\", \"exchange\"), \"[wikidata]004_users.p\")"
   ]
  },
  {
   "cell_type": "code",
   "execution_count": 43,
   "metadata": {},
   "outputs": [
    {
     "data": {
      "text/html": [
       "<div>\n",
       "<style scoped>\n",
       "    .dataframe tbody tr th:only-of-type {\n",
       "        vertical-align: middle;\n",
       "    }\n",
       "\n",
       "    .dataframe tbody tr th {\n",
       "        vertical-align: top;\n",
       "    }\n",
       "\n",
       "    .dataframe thead th {\n",
       "        text-align: right;\n",
       "    }\n",
       "</style>\n",
       "<table border=\"1\" class=\"dataframe\">\n",
       "  <thead>\n",
       "    <tr style=\"text-align: right;\">\n",
       "      <th></th>\n",
       "      <th>is_bot</th>\n",
       "      <th>length</th>\n",
       "      <th>sequence</th>\n",
       "      <th>user_id</th>\n",
       "      <th>user_name</th>\n",
       "    </tr>\n",
       "  </thead>\n",
       "  <tbody>\n",
       "    <tr>\n",
       "      <th>0</th>\n",
       "      <td>False</td>\n",
       "      <td>1511</td>\n",
       "      <td>[REVERT_MANUAL, BREAK, CLAIM_CREATE, BREAK, CL...</td>\n",
       "      <td>1</td>\n",
       "      <td>Hoo man</td>\n",
       "    </tr>\n",
       "    <tr>\n",
       "      <th>1</th>\n",
       "      <td>False</td>\n",
       "      <td>9</td>\n",
       "      <td>[ENTITY_CREATE, BREAK, SITELINK_ADD, BREAK, ME...</td>\n",
       "      <td>1000036</td>\n",
       "      <td>JShenk</td>\n",
       "    </tr>\n",
       "    <tr>\n",
       "      <th>2</th>\n",
       "      <td>False</td>\n",
       "      <td>7</td>\n",
       "      <td>[SITELINK_ADD, BREAK, SITELINK_ADD, BREAK, SIT...</td>\n",
       "      <td>1000078</td>\n",
       "      <td>Egor-belikov</td>\n",
       "    </tr>\n",
       "    <tr>\n",
       "      <th>3</th>\n",
       "      <td>False</td>\n",
       "      <td>9</td>\n",
       "      <td>[ENTITY_CREATE, BREAK, SITELINK_REMOVE, SITELI...</td>\n",
       "      <td>100008</td>\n",
       "      <td>Wars</td>\n",
       "    </tr>\n",
       "    <tr>\n",
       "      <th>4</th>\n",
       "      <td>False</td>\n",
       "      <td>44</td>\n",
       "      <td>[SITELINK_ADD, BREAK, SITELINK_ADD, BREAK, SIT...</td>\n",
       "      <td>100012</td>\n",
       "      <td>Kane 14</td>\n",
       "    </tr>\n",
       "  </tbody>\n",
       "</table>\n",
       "</div>"
      ],
      "text/plain": [
       "   is_bot  length                                           sequence  user_id  \\\n",
       "0   False    1511  [REVERT_MANUAL, BREAK, CLAIM_CREATE, BREAK, CL...        1   \n",
       "1   False       9  [ENTITY_CREATE, BREAK, SITELINK_ADD, BREAK, ME...  1000036   \n",
       "2   False       7  [SITELINK_ADD, BREAK, SITELINK_ADD, BREAK, SIT...  1000078   \n",
       "3   False       9  [ENTITY_CREATE, BREAK, SITELINK_REMOVE, SITELI...   100008   \n",
       "4   False      44  [SITELINK_ADD, BREAK, SITELINK_ADD, BREAK, SIT...   100012   \n",
       "\n",
       "      user_name  \n",
       "0       Hoo man  \n",
       "1        JShenk  \n",
       "2  Egor-belikov  \n",
       "3          Wars  \n",
       "4       Kane 14  "
      ]
     },
     "execution_count": 43,
     "metadata": {},
     "output_type": "execute_result"
    }
   ],
   "source": [
    "df = pd.read_pickle(sequence_file)\n",
    "labels = pd.read_pickle(labels_file)['label'].values\n",
    "df.head()"
   ]
  },
  {
   "cell_type": "code",
   "execution_count": 44,
   "metadata": {},
   "outputs": [
    {
     "data": {
      "text/plain": [
       "87480"
      ]
     },
     "execution_count": 44,
     "metadata": {},
     "output_type": "execute_result"
    }
   ],
   "source": [
    "len(df)"
   ]
  },
  {
   "cell_type": "code",
   "execution_count": 10,
   "metadata": {},
   "outputs": [
    {
     "data": {
      "text/plain": [
       "'BREAK'"
      ]
     },
     "execution_count": 10,
     "metadata": {},
     "output_type": "execute_result"
    }
   ],
   "source": [
    "break_label = cfg.get(\"preprocessing\", \"break_label\")\n",
    "break_label"
   ]
  },
  {
   "cell_type": "code",
   "execution_count": 11,
   "metadata": {},
   "outputs": [
    {
     "data": {
      "application/vnd.jupyter.widget-view+json": {
       "model_id": "2a43538f87ae48a5b338003d5006b53b",
       "version_major": 2,
       "version_minor": 0
      },
      "text/plain": [
       "HBox(children=(IntProgress(value=0, max=87480), HTML(value='')))"
      ]
     },
     "metadata": {},
     "output_type": "display_data"
    },
    {
     "name": "stdout",
     "output_type": "stream",
     "text": [
      "\n"
     ]
    }
   ],
   "source": [
    "df[\"length_nobreak\"] = df['sequence'].progress_apply(lambda x: len([y for y in x if y != break_label]))"
   ]
  },
  {
   "cell_type": "code",
   "execution_count": 12,
   "metadata": {},
   "outputs": [
    {
     "data": {
      "text/html": [
       "<div>\n",
       "<style scoped>\n",
       "    .dataframe tbody tr th:only-of-type {\n",
       "        vertical-align: middle;\n",
       "    }\n",
       "\n",
       "    .dataframe tbody tr th {\n",
       "        vertical-align: top;\n",
       "    }\n",
       "\n",
       "    .dataframe thead th {\n",
       "        text-align: right;\n",
       "    }\n",
       "</style>\n",
       "<table border=\"1\" class=\"dataframe\">\n",
       "  <thead>\n",
       "    <tr style=\"text-align: right;\">\n",
       "      <th></th>\n",
       "      <th>is_bot</th>\n",
       "      <th>length</th>\n",
       "      <th>sequence</th>\n",
       "      <th>user_id</th>\n",
       "      <th>user_name</th>\n",
       "      <th>length_nobreak</th>\n",
       "    </tr>\n",
       "  </thead>\n",
       "  <tbody>\n",
       "    <tr>\n",
       "      <th>0</th>\n",
       "      <td>False</td>\n",
       "      <td>1511</td>\n",
       "      <td>[REVERT_MANUAL, BREAK, CLAIM_CREATE, BREAK, CL...</td>\n",
       "      <td>1</td>\n",
       "      <td>Hoo man</td>\n",
       "      <td>1379</td>\n",
       "    </tr>\n",
       "    <tr>\n",
       "      <th>1</th>\n",
       "      <td>False</td>\n",
       "      <td>9</td>\n",
       "      <td>[ENTITY_CREATE, BREAK, SITELINK_ADD, BREAK, ME...</td>\n",
       "      <td>1000036</td>\n",
       "      <td>JShenk</td>\n",
       "      <td>6</td>\n",
       "    </tr>\n",
       "    <tr>\n",
       "      <th>2</th>\n",
       "      <td>False</td>\n",
       "      <td>7</td>\n",
       "      <td>[SITELINK_ADD, BREAK, SITELINK_ADD, BREAK, SIT...</td>\n",
       "      <td>1000078</td>\n",
       "      <td>Egor-belikov</td>\n",
       "      <td>4</td>\n",
       "    </tr>\n",
       "    <tr>\n",
       "      <th>3</th>\n",
       "      <td>False</td>\n",
       "      <td>9</td>\n",
       "      <td>[ENTITY_CREATE, BREAK, SITELINK_REMOVE, SITELI...</td>\n",
       "      <td>100008</td>\n",
       "      <td>Wars</td>\n",
       "      <td>6</td>\n",
       "    </tr>\n",
       "    <tr>\n",
       "      <th>4</th>\n",
       "      <td>False</td>\n",
       "      <td>44</td>\n",
       "      <td>[SITELINK_ADD, BREAK, SITELINK_ADD, BREAK, SIT...</td>\n",
       "      <td>100012</td>\n",
       "      <td>Kane 14</td>\n",
       "      <td>23</td>\n",
       "    </tr>\n",
       "  </tbody>\n",
       "</table>\n",
       "</div>"
      ],
      "text/plain": [
       "   is_bot  length                                           sequence  user_id  \\\n",
       "0   False    1511  [REVERT_MANUAL, BREAK, CLAIM_CREATE, BREAK, CL...        1   \n",
       "1   False       9  [ENTITY_CREATE, BREAK, SITELINK_ADD, BREAK, ME...  1000036   \n",
       "2   False       7  [SITELINK_ADD, BREAK, SITELINK_ADD, BREAK, SIT...  1000078   \n",
       "3   False       9  [ENTITY_CREATE, BREAK, SITELINK_REMOVE, SITELI...   100008   \n",
       "4   False      44  [SITELINK_ADD, BREAK, SITELINK_ADD, BREAK, SIT...   100012   \n",
       "\n",
       "      user_name  length_nobreak  \n",
       "0       Hoo man            1379  \n",
       "1        JShenk               6  \n",
       "2  Egor-belikov               4  \n",
       "3          Wars               6  \n",
       "4       Kane 14              23  "
      ]
     },
     "execution_count": 12,
     "metadata": {},
     "output_type": "execute_result"
    }
   ],
   "source": [
    "df.head()"
   ]
  },
  {
   "cell_type": "code",
   "execution_count": 13,
   "metadata": {},
   "outputs": [
    {
     "name": "stdout",
     "output_type": "stream",
     "text": [
      "87480 145207564\n",
      "38036 144946013\n"
     ]
    }
   ],
   "source": [
    "min_changes = 10\n",
    "\n",
    "print(len(df), df['length'].sum())\n",
    "df = df.loc[df['length_nobreak'] >= min_changes].reset_index(drop=True)\n",
    "print(len(df), df['length'].sum())"
   ]
  },
  {
   "cell_type": "code",
   "execution_count": 14,
   "metadata": {},
   "outputs": [
    {
     "name": "stdout",
     "output_type": "stream",
     "text": [
      "38036 144946013\n",
      "37912 70497658\n"
     ]
    }
   ],
   "source": [
    "print(len(df), df['length'].sum())\n",
    "df = df.loc[~df['is_bot']].reset_index(drop=True)\n",
    "print(len(df), df['length'].sum())"
   ]
  },
  {
   "cell_type": "code",
   "execution_count": 15,
   "metadata": {},
   "outputs": [],
   "source": [
    "length_full = df.sort_values(\"length\", ascending=False)['length'].values\n",
    "length_nobreak = df.sort_values(\"length_nobreak\", ascending=False)['length_nobreak'].values"
   ]
  },
  {
   "cell_type": "code",
   "execution_count": 16,
   "metadata": {},
   "outputs": [],
   "source": [
    "from matplotlib import pyplot as plt"
   ]
  },
  {
   "cell_type": "code",
   "execution_count": 32,
   "metadata": {},
   "outputs": [
    {
     "data": {
      "image/png": "[encoded data removed]",
      "text/plain": [
       "<Figure size 432x288 with 1 Axes>"
      ]
     },
     "metadata": {
      "needs_background": "light"
     },
     "output_type": "display_data"
    }
   ],
   "source": [
    "import seaborn as sns\n",
    "import matplotlib\n",
    "\n",
    "fig, ax = plt.subplots()\n",
    "ax.loglog(length_full, np.linspace(0,1,len(length_full)))\n",
    "#ax.set_ylim(0,1)\n",
    "#ax.plot(length_nobreak)\n",
    "#ax.set_xscale(\"log\")\n",
    "#ax.set_yscale(\"log\", nonposy='clip')\n",
    "ax.set_ylabel(\"Users PDE\")\n",
    "ax.set_xlabel(\"$log$ Number of Edit Actions\")\n",
    "#ax.xaxis.set_major_formatter(matplotlib.ticker.ScalarFormatter())\n",
    "sns.despine(fig)"
   ]
  },
  {
   "cell_type": "code",
   "execution_count": 18,
   "metadata": {},
   "outputs": [
    {
     "data": {
      "application/vnd.jupyter.widget-view+json": {
       "model_id": "c9d63073a0a74b0e9163b98823d41b01",
       "version_major": 2,
       "version_minor": 0
      },
      "text/plain": [
       "HBox(children=(IntProgress(value=0, max=37912), HTML(value='')))"
      ]
     },
     "metadata": {},
     "output_type": "display_data"
    },
    {
     "name": "stdout",
     "output_type": "stream",
     "text": [
      "\n"
     ]
    }
   ],
   "source": [
    "df['endbot'] = df['user_name'].progress_apply(lambda x: x.endswith(\"bot\"))"
   ]
  },
  {
   "cell_type": "code",
   "execution_count": 19,
   "metadata": {},
   "outputs": [
    {
     "data": {
      "text/html": [
       "<div>\n",
       "<style scoped>\n",
       "    .dataframe tbody tr th:only-of-type {\n",
       "        vertical-align: middle;\n",
       "    }\n",
       "\n",
       "    .dataframe tbody tr th {\n",
       "        vertical-align: top;\n",
       "    }\n",
       "\n",
       "    .dataframe thead th {\n",
       "        text-align: right;\n",
       "    }\n",
       "</style>\n",
       "<table border=\"1\" class=\"dataframe\">\n",
       "  <thead>\n",
       "    <tr style=\"text-align: right;\">\n",
       "      <th></th>\n",
       "      <th>is_bot</th>\n",
       "      <th>length</th>\n",
       "      <th>sequence</th>\n",
       "      <th>user_id</th>\n",
       "      <th>user_name</th>\n",
       "      <th>length_nobreak</th>\n",
       "      <th>endbot</th>\n",
       "    </tr>\n",
       "  </thead>\n",
       "  <tbody>\n",
       "    <tr>\n",
       "      <th>3174</th>\n",
       "      <td>False</td>\n",
       "      <td>12</td>\n",
       "      <td>[SITELINK_UPDATE, SITELINK_UPDATE, SITELINK_UP...</td>\n",
       "      <td>1391699</td>\n",
       "      <td>Kanjybot</td>\n",
       "      <td>12</td>\n",
       "      <td>True</td>\n",
       "    </tr>\n",
       "    <tr>\n",
       "      <th>3997</th>\n",
       "      <td>False</td>\n",
       "      <td>46061</td>\n",
       "      <td>[SITELINK_ADD, SITELINK_ADD, LABEL_ADD, DESCRI...</td>\n",
       "      <td>147889</td>\n",
       "      <td>Paucabot</td>\n",
       "      <td>43420</td>\n",
       "      <td>True</td>\n",
       "    </tr>\n",
       "    <tr>\n",
       "      <th>7796</th>\n",
       "      <td>False</td>\n",
       "      <td>355</td>\n",
       "      <td>[SITELINK_REMOVE, BREAK, SITELINK_REMOVE, SITE...</td>\n",
       "      <td>190961</td>\n",
       "      <td>Maskbot</td>\n",
       "      <td>347</td>\n",
       "      <td>True</td>\n",
       "    </tr>\n",
       "    <tr>\n",
       "      <th>8118</th>\n",
       "      <td>False</td>\n",
       "      <td>33345</td>\n",
       "      <td>[SITELINK_UPDATE, SITELINK_UPDATE, SITELINK_UP...</td>\n",
       "      <td>1953626</td>\n",
       "      <td>Cydebot</td>\n",
       "      <td>31796</td>\n",
       "      <td>True</td>\n",
       "    </tr>\n",
       "    <tr>\n",
       "      <th>9546</th>\n",
       "      <td>False</td>\n",
       "      <td>21</td>\n",
       "      <td>[SITELINK_UPDATE, BREAK, SITELINK_UPDATE, BREA...</td>\n",
       "      <td>2166790</td>\n",
       "      <td>BadRobot</td>\n",
       "      <td>11</td>\n",
       "      <td>True</td>\n",
       "    </tr>\n",
       "    <tr>\n",
       "      <th>10482</th>\n",
       "      <td>False</td>\n",
       "      <td>79</td>\n",
       "      <td>[SITELINK_UPDATE, SITELINK_UPDATE, SITELINK_UP...</td>\n",
       "      <td>228706</td>\n",
       "      <td>Gubot</td>\n",
       "      <td>79</td>\n",
       "      <td>True</td>\n",
       "    </tr>\n",
       "    <tr>\n",
       "      <th>12538</th>\n",
       "      <td>False</td>\n",
       "      <td>630</td>\n",
       "      <td>[SITELINK_UPDATE, SITELINK_UPDATE, SITELINK_UP...</td>\n",
       "      <td>2629392</td>\n",
       "      <td>Jnanabot</td>\n",
       "      <td>627</td>\n",
       "      <td>True</td>\n",
       "    </tr>\n",
       "    <tr>\n",
       "      <th>14181</th>\n",
       "      <td>False</td>\n",
       "      <td>437</td>\n",
       "      <td>[SITELINK_ADD, SITELINK_ADD, SITELINK_ADD, SIT...</td>\n",
       "      <td>273770</td>\n",
       "      <td>CTMakerbot</td>\n",
       "      <td>349</td>\n",
       "      <td>True</td>\n",
       "    </tr>\n",
       "    <tr>\n",
       "      <th>14807</th>\n",
       "      <td>False</td>\n",
       "      <td>2651</td>\n",
       "      <td>[SITELINK_UPDATE, SITELINK_UPDATE, SITELINK_UP...</td>\n",
       "      <td>2762477</td>\n",
       "      <td>JJMC89 bot</td>\n",
       "      <td>2649</td>\n",
       "      <td>True</td>\n",
       "    </tr>\n",
       "    <tr>\n",
       "      <th>16339</th>\n",
       "      <td>False</td>\n",
       "      <td>385</td>\n",
       "      <td>[ENTITY_CREATE, CLAIM_CREATE, CLAIM_CREATE, EN...</td>\n",
       "      <td>2798183</td>\n",
       "      <td>YULbot</td>\n",
       "      <td>381</td>\n",
       "      <td>True</td>\n",
       "    </tr>\n",
       "    <tr>\n",
       "      <th>18116</th>\n",
       "      <td>False</td>\n",
       "      <td>15</td>\n",
       "      <td>[SITELINK_UPDATE, SITELINK_UPDATE, SITELINK_UP...</td>\n",
       "      <td>2832972</td>\n",
       "      <td>MB-bot</td>\n",
       "      <td>13</td>\n",
       "      <td>True</td>\n",
       "    </tr>\n",
       "    <tr>\n",
       "      <th>18736</th>\n",
       "      <td>False</td>\n",
       "      <td>33</td>\n",
       "      <td>[MERGE, MERGE, SITELINK_REMOVE, SITELINK_ADD, ...</td>\n",
       "      <td>2843699</td>\n",
       "      <td>Mirceabot</td>\n",
       "      <td>28</td>\n",
       "      <td>True</td>\n",
       "    </tr>\n",
       "    <tr>\n",
       "      <th>18813</th>\n",
       "      <td>False</td>\n",
       "      <td>12</td>\n",
       "      <td>[CREATE_MANUAL, CREATE_MANUAL, SITELINK_REMOVE...</td>\n",
       "      <td>2844399</td>\n",
       "      <td>Red-link.bot</td>\n",
       "      <td>12</td>\n",
       "      <td>True</td>\n",
       "    </tr>\n",
       "    <tr>\n",
       "      <th>20786</th>\n",
       "      <td>False</td>\n",
       "      <td>55</td>\n",
       "      <td>[CREATE_MANUAL, BREAK, CREATE_MANUAL, CREATE_M...</td>\n",
       "      <td>2865950</td>\n",
       "      <td>Vodenbot</td>\n",
       "      <td>52</td>\n",
       "      <td>True</td>\n",
       "    </tr>\n",
       "    <tr>\n",
       "      <th>23353</th>\n",
       "      <td>False</td>\n",
       "      <td>37</td>\n",
       "      <td>[DESCRIPTION_UPDATE, DESCRIPTION_UPDATE, DESCR...</td>\n",
       "      <td>2908525</td>\n",
       "      <td>Histoiremarbot</td>\n",
       "      <td>35</td>\n",
       "      <td>True</td>\n",
       "    </tr>\n",
       "    <tr>\n",
       "      <th>24583</th>\n",
       "      <td>False</td>\n",
       "      <td>28476</td>\n",
       "      <td>[CREATE_MANUAL, BREAK, CLAIM_CREATE, BREAK, CL...</td>\n",
       "      <td>2929997</td>\n",
       "      <td>Taiwan democracy common bot</td>\n",
       "      <td>28398</td>\n",
       "      <td>True</td>\n",
       "    </tr>\n",
       "    <tr>\n",
       "      <th>24832</th>\n",
       "      <td>False</td>\n",
       "      <td>400</td>\n",
       "      <td>[SITELINK_UPDATE, BREAK, SITELINK_UPDATE, BREA...</td>\n",
       "      <td>2934128</td>\n",
       "      <td>Tictacbot</td>\n",
       "      <td>392</td>\n",
       "      <td>True</td>\n",
       "    </tr>\n",
       "    <tr>\n",
       "      <th>25353</th>\n",
       "      <td>False</td>\n",
       "      <td>569</td>\n",
       "      <td>[SITELINK_ADD, SITELINK_ADD, SITELINK_ADD, SIT...</td>\n",
       "      <td>2944105</td>\n",
       "      <td>Modernbot</td>\n",
       "      <td>559</td>\n",
       "      <td>True</td>\n",
       "    </tr>\n",
       "    <tr>\n",
       "      <th>25725</th>\n",
       "      <td>False</td>\n",
       "      <td>5403</td>\n",
       "      <td>[SITELINK_UPDATE, BREAK, SITELINK_UPDATE, BREA...</td>\n",
       "      <td>2951044</td>\n",
       "      <td>Avatar6 bot</td>\n",
       "      <td>5361</td>\n",
       "      <td>True</td>\n",
       "    </tr>\n",
       "    <tr>\n",
       "      <th>27171</th>\n",
       "      <td>False</td>\n",
       "      <td>13</td>\n",
       "      <td>[CREATE_MANUAL, BREAK, CREATE_MANUAL, BREAK, E...</td>\n",
       "      <td>2980354</td>\n",
       "      <td>Pricezabot</td>\n",
       "      <td>11</td>\n",
       "      <td>True</td>\n",
       "    </tr>\n",
       "    <tr>\n",
       "      <th>27917</th>\n",
       "      <td>False</td>\n",
       "      <td>106</td>\n",
       "      <td>[SITELINK_UPDATE, SITELINK_UPDATE, SITELINK_UP...</td>\n",
       "      <td>2993214</td>\n",
       "      <td>A2093064-bot</td>\n",
       "      <td>102</td>\n",
       "      <td>True</td>\n",
       "    </tr>\n",
       "    <tr>\n",
       "      <th>28588</th>\n",
       "      <td>False</td>\n",
       "      <td>43</td>\n",
       "      <td>[SITELINK_UPDATE, BREAK, SITELINK_UPDATE, SITE...</td>\n",
       "      <td>3006936</td>\n",
       "      <td>Mathieu Mars .bot</td>\n",
       "      <td>35</td>\n",
       "      <td>True</td>\n",
       "    </tr>\n",
       "    <tr>\n",
       "      <th>28589</th>\n",
       "      <td>False</td>\n",
       "      <td>15</td>\n",
       "      <td>[CLAIM_UPDATE, CLAIM_UPDATE, CLAIM_CREATE, CLA...</td>\n",
       "      <td>3006945</td>\n",
       "      <td>Pabbot</td>\n",
       "      <td>12</td>\n",
       "      <td>True</td>\n",
       "    </tr>\n",
       "    <tr>\n",
       "      <th>34898</th>\n",
       "      <td>False</td>\n",
       "      <td>17</td>\n",
       "      <td>[SITELINK_UPDATE, SITELINK_UPDATE, SITELINK_UP...</td>\n",
       "      <td>611975</td>\n",
       "      <td>EvRubot</td>\n",
       "      <td>15</td>\n",
       "      <td>True</td>\n",
       "    </tr>\n",
       "    <tr>\n",
       "      <th>35830</th>\n",
       "      <td>False</td>\n",
       "      <td>1920</td>\n",
       "      <td>[SITELINK_UPDATE, SITELINK_UPDATE, SITELINK_UP...</td>\n",
       "      <td>714358</td>\n",
       "      <td>MBHbot</td>\n",
       "      <td>1911</td>\n",
       "      <td>True</td>\n",
       "    </tr>\n",
       "    <tr>\n",
       "      <th>36050</th>\n",
       "      <td>False</td>\n",
       "      <td>492</td>\n",
       "      <td>[SITELINK_UPDATE, SITELINK_UPDATE, SITELINK_UP...</td>\n",
       "      <td>739128</td>\n",
       "      <td>Rotbot</td>\n",
       "      <td>490</td>\n",
       "      <td>True</td>\n",
       "    </tr>\n",
       "    <tr>\n",
       "      <th>36062</th>\n",
       "      <td>False</td>\n",
       "      <td>226</td>\n",
       "      <td>[SITELINK_UPDATE, SITELINK_UPDATE, SITELINK_UP...</td>\n",
       "      <td>739895</td>\n",
       "      <td>Arjunaraocbot</td>\n",
       "      <td>223</td>\n",
       "      <td>True</td>\n",
       "    </tr>\n",
       "  </tbody>\n",
       "</table>\n",
       "</div>"
      ],
      "text/plain": [
       "       is_bot  length                                           sequence  \\\n",
       "3174    False      12  [SITELINK_UPDATE, SITELINK_UPDATE, SITELINK_UP...   \n",
       "3997    False   46061  [SITELINK_ADD, SITELINK_ADD, LABEL_ADD, DESCRI...   \n",
       "7796    False     355  [SITELINK_REMOVE, BREAK, SITELINK_REMOVE, SITE...   \n",
       "8118    False   33345  [SITELINK_UPDATE, SITELINK_UPDATE, SITELINK_UP...   \n",
       "9546    False      21  [SITELINK_UPDATE, BREAK, SITELINK_UPDATE, BREA...   \n",
       "10482   False      79  [SITELINK_UPDATE, SITELINK_UPDATE, SITELINK_UP...   \n",
       "12538   False     630  [SITELINK_UPDATE, SITELINK_UPDATE, SITELINK_UP...   \n",
       "14181   False     437  [SITELINK_ADD, SITELINK_ADD, SITELINK_ADD, SIT...   \n",
       "14807   False    2651  [SITELINK_UPDATE, SITELINK_UPDATE, SITELINK_UP...   \n",
       "16339   False     385  [ENTITY_CREATE, CLAIM_CREATE, CLAIM_CREATE, EN...   \n",
       "18116   False      15  [SITELINK_UPDATE, SITELINK_UPDATE, SITELINK_UP...   \n",
       "18736   False      33  [MERGE, MERGE, SITELINK_REMOVE, SITELINK_ADD, ...   \n",
       "18813   False      12  [CREATE_MANUAL, CREATE_MANUAL, SITELINK_REMOVE...   \n",
       "20786   False      55  [CREATE_MANUAL, BREAK, CREATE_MANUAL, CREATE_M...   \n",
       "23353   False      37  [DESCRIPTION_UPDATE, DESCRIPTION_UPDATE, DESCR...   \n",
       "24583   False   28476  [CREATE_MANUAL, BREAK, CLAIM_CREATE, BREAK, CL...   \n",
       "24832   False     400  [SITELINK_UPDATE, BREAK, SITELINK_UPDATE, BREA...   \n",
       "25353   False     569  [SITELINK_ADD, SITELINK_ADD, SITELINK_ADD, SIT...   \n",
       "25725   False    5403  [SITELINK_UPDATE, BREAK, SITELINK_UPDATE, BREA...   \n",
       "27171   False      13  [CREATE_MANUAL, BREAK, CREATE_MANUAL, BREAK, E...   \n",
       "27917   False     106  [SITELINK_UPDATE, SITELINK_UPDATE, SITELINK_UP...   \n",
       "28588   False      43  [SITELINK_UPDATE, BREAK, SITELINK_UPDATE, SITE...   \n",
       "28589   False      15  [CLAIM_UPDATE, CLAIM_UPDATE, CLAIM_CREATE, CLA...   \n",
       "34898   False      17  [SITELINK_UPDATE, SITELINK_UPDATE, SITELINK_UP...   \n",
       "35830   False    1920  [SITELINK_UPDATE, SITELINK_UPDATE, SITELINK_UP...   \n",
       "36050   False     492  [SITELINK_UPDATE, SITELINK_UPDATE, SITELINK_UP...   \n",
       "36062   False     226  [SITELINK_UPDATE, SITELINK_UPDATE, SITELINK_UP...   \n",
       "\n",
       "       user_id                    user_name  length_nobreak  endbot  \n",
       "3174   1391699                     Kanjybot              12    True  \n",
       "3997    147889                     Paucabot           43420    True  \n",
       "7796    190961                      Maskbot             347    True  \n",
       "8118   1953626                      Cydebot           31796    True  \n",
       "9546   2166790                     BadRobot              11    True  \n",
       "10482   228706                        Gubot              79    True  \n",
       "12538  2629392                     Jnanabot             627    True  \n",
       "14181   273770                   CTMakerbot             349    True  \n",
       "14807  2762477                   JJMC89 bot            2649    True  \n",
       "16339  2798183                       YULbot             381    True  \n",
       "18116  2832972                       MB-bot              13    True  \n",
       "18736  2843699                    Mirceabot              28    True  \n",
       "18813  2844399                 Red-link.bot              12    True  \n",
       "20786  2865950                     Vodenbot              52    True  \n",
       "23353  2908525               Histoiremarbot              35    True  \n",
       "24583  2929997  Taiwan democracy common bot           28398    True  \n",
       "24832  2934128                    Tictacbot             392    True  \n",
       "25353  2944105                    Modernbot             559    True  \n",
       "25725  2951044                  Avatar6 bot            5361    True  \n",
       "27171  2980354                   Pricezabot              11    True  \n",
       "27917  2993214                 A2093064-bot             102    True  \n",
       "28588  3006936            Mathieu Mars .bot              35    True  \n",
       "28589  3006945                       Pabbot              12    True  \n",
       "34898   611975                      EvRubot              15    True  \n",
       "35830   714358                       MBHbot            1911    True  \n",
       "36050   739128                       Rotbot             490    True  \n",
       "36062   739895                Arjunaraocbot             223    True  "
      ]
     },
     "execution_count": 19,
     "metadata": {},
     "output_type": "execute_result"
    }
   ],
   "source": [
    "df.loc[df['endbot']]"
   ]
  },
  {
   "cell_type": "code",
   "execution_count": null,
   "metadata": {},
   "outputs": [],
   "source": []
  }
 ],
 "metadata": {
  "kernelspec": {
   "display_name": "Python 3",
   "language": "python",
   "name": "python3"
  },
  "language_info": {
   "codemirror_mode": {
    "name": "ipython",
    "version": 3
   },
   "file_extension": ".py",
   "mimetype": "text/x-python",
   "name": "python",
   "nbconvert_exporter": "python",
   "pygments_lexer": "ipython3",
   "version": "3.7.1"
  }
 },
 "nbformat": 4,
 "nbformat_minor": 2
}
