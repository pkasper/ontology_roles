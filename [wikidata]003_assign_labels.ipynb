{
 "cells": [
  {
   "cell_type": "code",
   "execution_count": 1,
   "metadata": {},
   "outputs": [],
   "source": [
    "import os\n",
    "import pandas as pd"
   ]
  },
  {
   "cell_type": "code",
   "execution_count": 2,
   "metadata": {},
   "outputs": [
    {
     "data": {
      "text/plain": [
       "['config.cfg']"
      ]
     },
     "execution_count": 2,
     "metadata": {},
     "output_type": "execute_result"
    }
   ],
   "source": [
    "from configparser import ConfigParser\n",
    "cfg = ConfigParser()\n",
    "cfg.read(\"config.cfg\")"
   ]
  },
  {
   "cell_type": "code",
   "execution_count": 3,
   "metadata": {},
   "outputs": [],
   "source": [
    "from tqdm._tqdm_notebook import tqdm_notebook as tqdm # we manually import the notebook submodule as the normal one struggles with jupyterlab\n",
    "tqdm.pandas() # this enables us to use progress_apply instead of apply"
   ]
  },
  {
   "cell_type": "code",
   "execution_count": 4,
   "metadata": {},
   "outputs": [],
   "source": [
    "df = pd.read_pickle(os.path.join(cfg.get(\"directory\", \"exchange\"), \"[wikidata]002_extract_actions.p\"))"
   ]
  },
  {
   "cell_type": "code",
   "execution_count": 5,
   "metadata": {},
   "outputs": [
    {
     "data": {
      "text/html": [
       "<div>\n",
       "<style scoped>\n",
       "    .dataframe tbody tr th:only-of-type {\n",
       "        vertical-align: middle;\n",
       "    }\n",
       "\n",
       "    .dataframe tbody tr th {\n",
       "        vertical-align: top;\n",
       "    }\n",
       "\n",
       "    .dataframe thead th {\n",
       "        text-align: right;\n",
       "    }\n",
       "</style>\n",
       "<table border=\"1\" class=\"dataframe\">\n",
       "  <thead>\n",
       "    <tr style=\"text-align: right;\">\n",
       "      <th></th>\n",
       "      <th>comment</th>\n",
       "      <th>dataset_file</th>\n",
       "      <th>model</th>\n",
       "      <th>note</th>\n",
       "      <th>page_id</th>\n",
       "      <th>page_ns</th>\n",
       "      <th>page_title</th>\n",
       "      <th>timestamp</th>\n",
       "      <th>user_id</th>\n",
       "      <th>user_ip</th>\n",
       "      <th>user_name</th>\n",
       "      <th>action_base</th>\n",
       "      <th>action_digit</th>\n",
       "      <th>action_language</th>\n",
       "    </tr>\n",
       "  </thead>\n",
       "  <tbody>\n",
       "    <tr>\n",
       "      <th>0</th>\n",
       "      <td>/* wbsetdescription-add:1|ar */ مؤرخ ألماني</td>\n",
       "      <td>wikidatawiki-20190101-pages-meta-history1.xml-...</td>\n",
       "      <td>wikibase-item</td>\n",
       "      <td></td>\n",
       "      <td>101383</td>\n",
       "      <td>0</td>\n",
       "      <td>Q98773</td>\n",
       "      <td>2017-06-23 19:37:19+00:00</td>\n",
       "      <td>2437879</td>\n",
       "      <td></td>\n",
       "      <td>Benseid Seid</td>\n",
       "      <td>wbsetdescription-add</td>\n",
       "      <td>1</td>\n",
       "      <td>ar</td>\n",
       "    </tr>\n",
       "    <tr>\n",
       "      <th>1</th>\n",
       "      <td>/* wbsetlabel-add:1|sl */ Gerhard Raff, #quick...</td>\n",
       "      <td>wikidatawiki-20190101-pages-meta-history1.xml-...</td>\n",
       "      <td>wikibase-item</td>\n",
       "      <td></td>\n",
       "      <td>101383</td>\n",
       "      <td>0</td>\n",
       "      <td>Q98773</td>\n",
       "      <td>2018-01-29 13:38:28+00:00</td>\n",
       "      <td>23475</td>\n",
       "      <td></td>\n",
       "      <td>Sporti</td>\n",
       "      <td>wbsetlabel-add</td>\n",
       "      <td>1</td>\n",
       "      <td>sl</td>\n",
       "    </tr>\n",
       "    <tr>\n",
       "      <th>2</th>\n",
       "      <td>/* wbsetsitelink-add:1|enwiki */ Wolfram Wette</td>\n",
       "      <td>wikidatawiki-20190101-pages-meta-history1.xml-...</td>\n",
       "      <td>wikibase-item</td>\n",
       "      <td></td>\n",
       "      <td>101384</td>\n",
       "      <td>0</td>\n",
       "      <td>Q98774</td>\n",
       "      <td>2017-01-04 17:08:50+00:00</td>\n",
       "      <td>17848</td>\n",
       "      <td></td>\n",
       "      <td>Assayer</td>\n",
       "      <td>wbsetsitelink-add</td>\n",
       "      <td>1</td>\n",
       "      <td>enwiki</td>\n",
       "    </tr>\n",
       "    <tr>\n",
       "      <th>3</th>\n",
       "      <td>/* wbsetreference-add:2| */ [[Property:P937]]:...</td>\n",
       "      <td>wikidatawiki-20190101-pages-meta-history1.xml-...</td>\n",
       "      <td>wikibase-item</td>\n",
       "      <td></td>\n",
       "      <td>101384</td>\n",
       "      <td>0</td>\n",
       "      <td>Q98774</td>\n",
       "      <td>2017-06-06 08:21:58+00:00</td>\n",
       "      <td>38324</td>\n",
       "      <td></td>\n",
       "      <td>Olaf Kosinsky</td>\n",
       "      <td>wbsetreference-add</td>\n",
       "      <td>2</td>\n",
       "      <td></td>\n",
       "    </tr>\n",
       "    <tr>\n",
       "      <th>4</th>\n",
       "      <td>/* wbcreateclaim-create:1| */ [[Property:P1412...</td>\n",
       "      <td>wikidatawiki-20190101-pages-meta-history1.xml-...</td>\n",
       "      <td>wikibase-item</td>\n",
       "      <td></td>\n",
       "      <td>101384</td>\n",
       "      <td>0</td>\n",
       "      <td>Q98774</td>\n",
       "      <td>2017-06-06 14:59:40+00:00</td>\n",
       "      <td>38324</td>\n",
       "      <td></td>\n",
       "      <td>Olaf Kosinsky</td>\n",
       "      <td>wbcreateclaim-create</td>\n",
       "      <td>1</td>\n",
       "      <td></td>\n",
       "    </tr>\n",
       "  </tbody>\n",
       "</table>\n",
       "</div>"
      ],
      "text/plain": [
       "                                             comment  \\\n",
       "0        /* wbsetdescription-add:1|ar */ مؤرخ ألماني   \n",
       "1  /* wbsetlabel-add:1|sl */ Gerhard Raff, #quick...   \n",
       "2     /* wbsetsitelink-add:1|enwiki */ Wolfram Wette   \n",
       "3  /* wbsetreference-add:2| */ [[Property:P937]]:...   \n",
       "4  /* wbcreateclaim-create:1| */ [[Property:P1412...   \n",
       "\n",
       "                                        dataset_file          model note  \\\n",
       "0  wikidatawiki-20190101-pages-meta-history1.xml-...  wikibase-item        \n",
       "1  wikidatawiki-20190101-pages-meta-history1.xml-...  wikibase-item        \n",
       "2  wikidatawiki-20190101-pages-meta-history1.xml-...  wikibase-item        \n",
       "3  wikidatawiki-20190101-pages-meta-history1.xml-...  wikibase-item        \n",
       "4  wikidatawiki-20190101-pages-meta-history1.xml-...  wikibase-item        \n",
       "\n",
       "  page_id page_ns page_title                 timestamp  user_id user_ip  \\\n",
       "0  101383       0     Q98773 2017-06-23 19:37:19+00:00  2437879           \n",
       "1  101383       0     Q98773 2018-01-29 13:38:28+00:00    23475           \n",
       "2  101384       0     Q98774 2017-01-04 17:08:50+00:00    17848           \n",
       "3  101384       0     Q98774 2017-06-06 08:21:58+00:00    38324           \n",
       "4  101384       0     Q98774 2017-06-06 14:59:40+00:00    38324           \n",
       "\n",
       "       user_name           action_base action_digit action_language  \n",
       "0   Benseid Seid  wbsetdescription-add            1              ar  \n",
       "1         Sporti        wbsetlabel-add            1              sl  \n",
       "2        Assayer     wbsetsitelink-add            1          enwiki  \n",
       "3  Olaf Kosinsky    wbsetreference-add            2                  \n",
       "4  Olaf Kosinsky  wbcreateclaim-create            1                  "
      ]
     },
     "execution_count": 5,
     "metadata": {},
     "output_type": "execute_result"
    }
   ],
   "source": [
    "df.head()"
   ]
  },
  {
   "cell_type": "code",
   "execution_count": 6,
   "metadata": {},
   "outputs": [],
   "source": [
    "label_dict = {}"
   ]
  },
  {
   "cell_type": "code",
   "execution_count": 7,
   "metadata": {},
   "outputs": [],
   "source": [
    "action_counts = df['action_base'].value_counts()"
   ]
  },
  {
   "cell_type": "code",
   "execution_count": 8,
   "metadata": {},
   "outputs": [
    {
     "data": {
      "text/plain": [
       "69"
      ]
     },
     "execution_count": 8,
     "metadata": {},
     "output_type": "execute_result"
    }
   ],
   "source": [
    "len(action_counts)"
   ]
  },
  {
   "cell_type": "code",
   "execution_count": null,
   "metadata": {},
   "outputs": [],
   "source": [
    "for a,c in action_counts.iteritems():\n",
    "    print(a, c)\n",
    "    label = input()\n",
    "    label_dict[a] = label\n",
    "    break"
   ]
  },
  {
   "cell_type": "code",
   "execution_count": 9,
   "metadata": {},
   "outputs": [
    {
     "ename": "TypeError",
     "evalue": "cannot unpack non-iterable int object",
     "output_type": "error",
     "traceback": [
      "\u001b[0;31m---------------------------------------------------------------------------\u001b[0m",
      "\u001b[0;31mTypeError\u001b[0m                                 Traceback (most recent call last)",
      "\u001b[0;32m<ipython-input-9-f42835842fe1>\u001b[0m in \u001b[0;36m<module>\u001b[0;34m\u001b[0m\n\u001b[0;32m----> 1\u001b[0;31m \u001b[0;32mfor\u001b[0m \u001b[0ma\u001b[0m\u001b[0;34m,\u001b[0m\u001b[0mc\u001b[0m \u001b[0;32min\u001b[0m \u001b[0maction_counts\u001b[0m\u001b[0;34m:\u001b[0m\u001b[0;34m\u001b[0m\u001b[0;34m\u001b[0m\u001b[0m\n\u001b[0m\u001b[1;32m      2\u001b[0m     \u001b[0mprint\u001b[0m\u001b[0;34m(\u001b[0m\u001b[0ma\u001b[0m\u001b[0;34m,\u001b[0m\u001b[0mc\u001b[0m\u001b[0;34m)\u001b[0m\u001b[0;34m\u001b[0m\u001b[0;34m\u001b[0m\u001b[0m\n",
      "\u001b[0;31mTypeError\u001b[0m: cannot unpack non-iterable int object"
     ]
    }
   ],
   "source": [
    "for a,c in action_counts:\n",
    "    print(a,c)"
   ]
  },
  {
   "cell_type": "code",
   "execution_count": 10,
   "metadata": {},
   "outputs": [
    {
     "data": {
      "text/plain": [
       "wbcreateclaim-create                34365910\n",
       "wbsetdescription-add                29508789\n",
       "wbsetreference-add                  12821614\n",
       "wbsetclaim-create                   12391814\n",
       "wbsetlabel-add                      11260870\n",
       "wbsetdescription-set                 8327748\n",
       "wbeditentity-update                  5824128\n",
       "wbsetqualifier-add                   4742348\n",
       "wbsetsitelink-add                    4561629\n",
       "wbsetclaim-update                    3116188\n",
       "wbremoveclaims-remove                2941159\n",
       "wbeditentity-create                  2542185\n",
       "wbsetlabel-set                       1653396\n",
       "wbsetaliases-add                     1650484\n",
       "clientsitelink-update                1230466\n",
       "wbmergeitems-to                       764768\n",
       "wbmergeitems-from                     724044\n",
       "wbcreateredirect                      600534\n",
       "clientsitelink-remove                 405785\n",
       "wbsetsitelink-remove                  309854\n",
       "wbsetclaimvalue                       257311\n",
       "wbeditentity-create-item              253629\n",
       "wbeditentity-override                 201525\n",
       "wbsetdescription-remove               183477\n",
       "undo                                  176758\n",
       "REVERT                                128003\n",
       "CREATE                                 97442\n",
       "wbsetaliases-update                    93481\n",
       "wbsetlabel-remove                      88956\n",
       "wbsetaliases-remove                    87856\n",
       "                                      ...   \n",
       "wbeditentity-create-lexeme              7110\n",
       "add-sense                               6892\n",
       "wbsetreference-set                      5091\n",
       "REMOVE                                  3657\n",
       "MOVE                                    3123\n",
       "wbremovereferences-update               2770\n",
       "wbsetsitelink-add-both                  2068\n",
       "RENAME                                  2006\n",
       "PROTECT                                 1344\n",
       "add-form-grammatical-features            962\n",
       "set-sense-glosses                        725\n",
       "add-sense-glosses                        554\n",
       "add-form-representations                 435\n",
       "wblinktitles-connect                     427\n",
       "set-form-representations                 376\n",
       "wbeditentity-create-property             310\n",
       "wbremoveclaims-update                    280\n",
       "update-form-grammatical-features         271\n",
       "remove-form                              178\n",
       "update-form-representations               97\n",
       "update-form-elements                      76\n",
       "remove-form-grammatical-features          74\n",
       "wblmergelexemes-from                      53\n",
       "wblmergelexemes-to                        42\n",
       "remove-sense                              36\n",
       "update-sense-glosses                      29\n",
       "wblinktitles-create                       24\n",
       "remove-form-representations               18\n",
       "remove-sense-glosses                       3\n",
       "wbsetsitelink-set-badges                   1\n",
       "Name: action_base, Length: 69, dtype: int64"
      ]
     },
     "execution_count": 10,
     "metadata": {},
     "output_type": "execute_result"
    }
   ],
   "source": [
    "action_counts"
   ]
  },
  {
   "cell_type": "code",
   "execution_count": 11,
   "metadata": {},
   "outputs": [
    {
     "data": {
      "text/plain": [
       "1"
      ]
     },
     "execution_count": 11,
     "metadata": {},
     "output_type": "execute_result"
    }
   ],
   "source": [
    "sum(action_counts == 1)"
   ]
  },
  {
   "cell_type": "code",
   "execution_count": 12,
   "metadata": {},
   "outputs": [
    {
     "name": "stdout",
     "output_type": "stream",
     "text": [
      "wbcreateclaim-create 34365910\n",
      "wbsetdescription-add 29508789\n",
      "wbsetreference-add 12821614\n",
      "wbsetclaim-create 12391814\n",
      "wbsetlabel-add 11260870\n",
      "wbsetdescription-set 8327748\n",
      "wbeditentity-update 5824128\n",
      "wbsetqualifier-add 4742348\n",
      "wbsetsitelink-add 4561629\n",
      "wbsetclaim-update 3116188\n",
      "wbremoveclaims-remove 2941159\n",
      "wbeditentity-create 2542185\n",
      "wbsetlabel-set 1653396\n",
      "wbsetaliases-add 1650484\n",
      "clientsitelink-update 1230466\n",
      "wbmergeitems-to 764768\n",
      "wbmergeitems-from 724044\n",
      "wbcreateredirect 600534\n",
      "clientsitelink-remove 405785\n",
      "wbsetsitelink-remove 309854\n",
      "wbsetclaimvalue 257311\n",
      "wbeditentity-create-item 253629\n",
      "wbeditentity-override 201525\n",
      "wbsetdescription-remove 183477\n",
      "undo 176758\n",
      "REVERT 128003\n",
      "CREATE 97442\n",
      "wbsetaliases-update 93481\n",
      "wbsetlabel-remove 88956\n",
      "wbsetaliases-remove 87856\n",
      "wbsetsitelink-set 61283\n",
      "wbsetaliases-set 54484\n",
      "wbremovequalifiers-remove 40284\n",
      "restore 40133\n",
      "wbsetlabeldescriptionaliases 27211\n",
      "wbsetqualifier-update 22429\n",
      "add-form 20429\n",
      "wbremovereferences-remove 19717\n",
      "wbsetsitelink-set-both 14697\n",
      "wbeditentity-create-lexeme 7110\n",
      "add-sense 6892\n",
      "wbsetreference-set 5091\n",
      "REMOVE 3657\n",
      "MOVE 3123\n",
      "wbremovereferences-update 2770\n",
      "wbsetsitelink-add-both 2068\n",
      "RENAME 2006\n",
      "PROTECT 1344\n",
      "add-form-grammatical-features 962\n",
      "set-sense-glosses 725\n",
      "add-sense-glosses 554\n",
      "add-form-representations 435\n",
      "wblinktitles-connect 427\n",
      "set-form-representations 376\n",
      "wbeditentity-create-property 310\n",
      "wbremoveclaims-update 280\n",
      "update-form-grammatical-features 271\n",
      "remove-form 178\n",
      "update-form-representations 97\n",
      "update-form-elements 76\n",
      "remove-form-grammatical-features 74\n",
      "wblmergelexemes-from 53\n",
      "wblmergelexemes-to 42\n",
      "remove-sense 36\n",
      "update-sense-glosses 29\n",
      "wblinktitles-create 24\n",
      "remove-form-representations 18\n",
      "remove-sense-glosses 3\n",
      "wbsetsitelink-set-badges 1\n"
     ]
    }
   ],
   "source": [
    "for a,c in action_counts.iteritems():\n",
    "    print(a, c)"
   ]
  },
  {
   "cell_type": "code",
   "execution_count": null,
   "metadata": {},
   "outputs": [],
   "source": []
  }
 ],
 "metadata": {
  "kernelspec": {
   "display_name": "Python 3",
   "language": "python",
   "name": "python3"
  },
  "language_info": {
   "codemirror_mode": {
    "name": "ipython",
    "version": 3
   },
   "file_extension": ".py",
   "mimetype": "text/x-python",
   "name": "python",
   "nbconvert_exporter": "python",
   "pygments_lexer": "ipython3",
   "version": "3.7.1"
  }
 },
 "nbformat": 4,
 "nbformat_minor": 2
}
