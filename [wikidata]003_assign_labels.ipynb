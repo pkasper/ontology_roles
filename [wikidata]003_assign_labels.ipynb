{
 "cells": [
  {
   "cell_type": "code",
   "execution_count": 1,
   "metadata": {},
   "outputs": [],
   "source": [
    "import os\n",
    "import pandas as pd"
   ]
  },
  {
   "cell_type": "code",
   "execution_count": 2,
   "metadata": {},
   "outputs": [
    {
     "data": {
      "text/plain": [
       "['config.cfg']"
      ]
     },
     "execution_count": 2,
     "metadata": {},
     "output_type": "execute_result"
    }
   ],
   "source": [
    "from configparser import ConfigParser\n",
    "cfg = ConfigParser()\n",
    "cfg.read(\"config.cfg\")"
   ]
  },
  {
   "cell_type": "code",
   "execution_count": 3,
   "metadata": {},
   "outputs": [],
   "source": [
    "from tqdm._tqdm_notebook import tqdm_notebook as tqdm # we manually import the notebook submodule as the normal one struggles with jupyterlab\n",
    "tqdm.pandas() # this enables us to use progress_apply instead of apply"
   ]
  },
  {
   "cell_type": "code",
   "execution_count": 4,
   "metadata": {},
   "outputs": [],
   "source": [
    "df = pd.read_pickle(os.path.join(cfg.get(\"directory\", \"exchange\"), \"[wikidata]002_extract_actions.p\"))"
   ]
  },
  {
   "cell_type": "code",
   "execution_count": 5,
   "metadata": {},
   "outputs": [
    {
     "data": {
      "text/html": [
       "<div>\n",
       "<style scoped>\n",
       "    .dataframe tbody tr th:only-of-type {\n",
       "        vertical-align: middle;\n",
       "    }\n",
       "\n",
       "    .dataframe tbody tr th {\n",
       "        vertical-align: top;\n",
       "    }\n",
       "\n",
       "    .dataframe thead th {\n",
       "        text-align: right;\n",
       "    }\n",
       "</style>\n",
       "<table border=\"1\" class=\"dataframe\">\n",
       "  <thead>\n",
       "    <tr style=\"text-align: right;\">\n",
       "      <th></th>\n",
       "      <th>comment</th>\n",
       "      <th>dataset_file</th>\n",
       "      <th>model</th>\n",
       "      <th>note</th>\n",
       "      <th>page_id</th>\n",
       "      <th>page_ns</th>\n",
       "      <th>page_title</th>\n",
       "      <th>timestamp</th>\n",
       "      <th>user_id</th>\n",
       "      <th>user_ip</th>\n",
       "      <th>user_name</th>\n",
       "      <th>action_base</th>\n",
       "      <th>action_digit</th>\n",
       "      <th>action_language</th>\n",
       "    </tr>\n",
       "  </thead>\n",
       "  <tbody>\n",
       "    <tr>\n",
       "      <th>0</th>\n",
       "      <td>/* wbsetdescription-add:1|ar */ مؤرخ ألماني</td>\n",
       "      <td>wikidatawiki-20190101-pages-meta-history1.xml-...</td>\n",
       "      <td>wikibase-item</td>\n",
       "      <td></td>\n",
       "      <td>101383</td>\n",
       "      <td>0</td>\n",
       "      <td>Q98773</td>\n",
       "      <td>2017-06-23 19:37:19+00:00</td>\n",
       "      <td>2437879</td>\n",
       "      <td></td>\n",
       "      <td>Benseid Seid</td>\n",
       "      <td>wbsetdescription-add</td>\n",
       "      <td>1</td>\n",
       "      <td>ar</td>\n",
       "    </tr>\n",
       "    <tr>\n",
       "      <th>1</th>\n",
       "      <td>/* wbsetlabel-add:1|sl */ Gerhard Raff, #quick...</td>\n",
       "      <td>wikidatawiki-20190101-pages-meta-history1.xml-...</td>\n",
       "      <td>wikibase-item</td>\n",
       "      <td></td>\n",
       "      <td>101383</td>\n",
       "      <td>0</td>\n",
       "      <td>Q98773</td>\n",
       "      <td>2018-01-29 13:38:28+00:00</td>\n",
       "      <td>23475</td>\n",
       "      <td></td>\n",
       "      <td>Sporti</td>\n",
       "      <td>wbsetlabel-add</td>\n",
       "      <td>1</td>\n",
       "      <td>sl</td>\n",
       "    </tr>\n",
       "    <tr>\n",
       "      <th>2</th>\n",
       "      <td>/* wbsetsitelink-add:1|enwiki */ Wolfram Wette</td>\n",
       "      <td>wikidatawiki-20190101-pages-meta-history1.xml-...</td>\n",
       "      <td>wikibase-item</td>\n",
       "      <td></td>\n",
       "      <td>101384</td>\n",
       "      <td>0</td>\n",
       "      <td>Q98774</td>\n",
       "      <td>2017-01-04 17:08:50+00:00</td>\n",
       "      <td>17848</td>\n",
       "      <td></td>\n",
       "      <td>Assayer</td>\n",
       "      <td>wbsetsitelink-add</td>\n",
       "      <td>1</td>\n",
       "      <td>enwiki</td>\n",
       "    </tr>\n",
       "    <tr>\n",
       "      <th>3</th>\n",
       "      <td>/* wbsetreference-add:2| */ [[Property:P937]]:...</td>\n",
       "      <td>wikidatawiki-20190101-pages-meta-history1.xml-...</td>\n",
       "      <td>wikibase-item</td>\n",
       "      <td></td>\n",
       "      <td>101384</td>\n",
       "      <td>0</td>\n",
       "      <td>Q98774</td>\n",
       "      <td>2017-06-06 08:21:58+00:00</td>\n",
       "      <td>38324</td>\n",
       "      <td></td>\n",
       "      <td>Olaf Kosinsky</td>\n",
       "      <td>wbsetreference-add</td>\n",
       "      <td>2</td>\n",
       "      <td></td>\n",
       "    </tr>\n",
       "    <tr>\n",
       "      <th>4</th>\n",
       "      <td>/* wbcreateclaim-create:1| */ [[Property:P1412...</td>\n",
       "      <td>wikidatawiki-20190101-pages-meta-history1.xml-...</td>\n",
       "      <td>wikibase-item</td>\n",
       "      <td></td>\n",
       "      <td>101384</td>\n",
       "      <td>0</td>\n",
       "      <td>Q98774</td>\n",
       "      <td>2017-06-06 14:59:40+00:00</td>\n",
       "      <td>38324</td>\n",
       "      <td></td>\n",
       "      <td>Olaf Kosinsky</td>\n",
       "      <td>wbcreateclaim-create</td>\n",
       "      <td>1</td>\n",
       "      <td></td>\n",
       "    </tr>\n",
       "  </tbody>\n",
       "</table>\n",
       "</div>"
      ],
      "text/plain": [
       "                                             comment  \\\n",
       "0        /* wbsetdescription-add:1|ar */ مؤرخ ألماني   \n",
       "1  /* wbsetlabel-add:1|sl */ Gerhard Raff, #quick...   \n",
       "2     /* wbsetsitelink-add:1|enwiki */ Wolfram Wette   \n",
       "3  /* wbsetreference-add:2| */ [[Property:P937]]:...   \n",
       "4  /* wbcreateclaim-create:1| */ [[Property:P1412...   \n",
       "\n",
       "                                        dataset_file          model note  \\\n",
       "0  wikidatawiki-20190101-pages-meta-history1.xml-...  wikibase-item        \n",
       "1  wikidatawiki-20190101-pages-meta-history1.xml-...  wikibase-item        \n",
       "2  wikidatawiki-20190101-pages-meta-history1.xml-...  wikibase-item        \n",
       "3  wikidatawiki-20190101-pages-meta-history1.xml-...  wikibase-item        \n",
       "4  wikidatawiki-20190101-pages-meta-history1.xml-...  wikibase-item        \n",
       "\n",
       "  page_id page_ns page_title                 timestamp  user_id user_ip  \\\n",
       "0  101383       0     Q98773 2017-06-23 19:37:19+00:00  2437879           \n",
       "1  101383       0     Q98773 2018-01-29 13:38:28+00:00    23475           \n",
       "2  101384       0     Q98774 2017-01-04 17:08:50+00:00    17848           \n",
       "3  101384       0     Q98774 2017-06-06 08:21:58+00:00    38324           \n",
       "4  101384       0     Q98774 2017-06-06 14:59:40+00:00    38324           \n",
       "\n",
       "       user_name           action_base action_digit action_language  \n",
       "0   Benseid Seid  wbsetdescription-add            1              ar  \n",
       "1         Sporti        wbsetlabel-add            1              sl  \n",
       "2        Assayer     wbsetsitelink-add            1          enwiki  \n",
       "3  Olaf Kosinsky    wbsetreference-add            2                  \n",
       "4  Olaf Kosinsky  wbcreateclaim-create            1                  "
      ]
     },
     "execution_count": 5,
     "metadata": {},
     "output_type": "execute_result"
    }
   ],
   "source": [
    "df.head()"
   ]
  },
  {
   "cell_type": "markdown",
   "metadata": {},
   "source": [
    "### Load mapping if we have one"
   ]
  },
  {
   "cell_type": "code",
   "execution_count": 6,
   "metadata": {},
   "outputs": [],
   "source": [
    "label_dict = {}\n",
    "mapping_file = os.path.join(cfg.get(\"directory\", \"dataset\"), cfg.get(\"dataset\", \"wikidata_aux\"), cfg.get(\"dataset\", \"wikidata_full_labels\"))\n",
    "if os.path.isfile(mapping_file): # load it manually if we have a mapping already\n",
    "    df_labels_load = pd.read_csv(mapping_file)\n",
    "    for i, r in df_labels_load.iterrows():\n",
    "        label_dict[r['action_base']] = r['label']\n",
    "# label_dict"
   ]
  },
  {
   "cell_type": "code",
   "execution_count": 7,
   "metadata": {},
   "outputs": [],
   "source": [
    "action_counts = df['action_base'].value_counts()"
   ]
  },
  {
   "cell_type": "markdown",
   "metadata": {},
   "source": [
    "### Manual mapping for undefined actions\n",
    "\n",
    "Wikidata API reference: https://www.mediawiki.org/wiki/Wikibase/API/en#wblinktitles"
   ]
  },
  {
   "cell_type": "code",
   "execution_count": 8,
   "metadata": {},
   "outputs": [],
   "source": [
    "for a,c in action_counts.iteritems():\n",
    "    if a not in label_dict:\n",
    "        print(a, c)\n",
    "        label = input()\n",
    "        label_dict[a] = label"
   ]
  },
  {
   "cell_type": "code",
   "execution_count": 9,
   "metadata": {},
   "outputs": [],
   "source": [
    "df_label = pd.DataFrame({\"action_base\": list(label_dict.keys()), \"label\": list(label_dict.values())})"
   ]
  },
  {
   "cell_type": "code",
   "execution_count": 10,
   "metadata": {},
   "outputs": [],
   "source": [
    "# store labels\n",
    "df_label.to_csv(mapping_file, index=False)"
   ]
  },
  {
   "cell_type": "markdown",
   "metadata": {},
   "source": [
    "### Add label to revision"
   ]
  },
  {
   "cell_type": "code",
   "execution_count": 11,
   "metadata": {},
   "outputs": [
    {
     "data": {
      "text/plain": [
       "141651850"
      ]
     },
     "execution_count": 11,
     "metadata": {},
     "output_type": "execute_result"
    }
   ],
   "source": [
    "len(df)"
   ]
  },
  {
   "cell_type": "code",
   "execution_count": 12,
   "metadata": {},
   "outputs": [],
   "source": [
    "df = df.merge(right=df_label, how=\"left\", on=\"action_base\")"
   ]
  },
  {
   "cell_type": "code",
   "execution_count": 13,
   "metadata": {},
   "outputs": [
    {
     "data": {
      "text/html": [
       "<div>\n",
       "<style scoped>\n",
       "    .dataframe tbody tr th:only-of-type {\n",
       "        vertical-align: middle;\n",
       "    }\n",
       "\n",
       "    .dataframe tbody tr th {\n",
       "        vertical-align: top;\n",
       "    }\n",
       "\n",
       "    .dataframe thead th {\n",
       "        text-align: right;\n",
       "    }\n",
       "</style>\n",
       "<table border=\"1\" class=\"dataframe\">\n",
       "  <thead>\n",
       "    <tr style=\"text-align: right;\">\n",
       "      <th></th>\n",
       "      <th>comment</th>\n",
       "      <th>dataset_file</th>\n",
       "      <th>model</th>\n",
       "      <th>note</th>\n",
       "      <th>page_id</th>\n",
       "      <th>page_ns</th>\n",
       "      <th>page_title</th>\n",
       "      <th>timestamp</th>\n",
       "      <th>user_id</th>\n",
       "      <th>user_ip</th>\n",
       "      <th>user_name</th>\n",
       "      <th>action_base</th>\n",
       "      <th>action_digit</th>\n",
       "      <th>action_language</th>\n",
       "      <th>label</th>\n",
       "    </tr>\n",
       "  </thead>\n",
       "  <tbody>\n",
       "    <tr>\n",
       "      <th>0</th>\n",
       "      <td>/* wbsetdescription-add:1|ar */ مؤرخ ألماني</td>\n",
       "      <td>wikidatawiki-20190101-pages-meta-history1.xml-...</td>\n",
       "      <td>wikibase-item</td>\n",
       "      <td></td>\n",
       "      <td>101383</td>\n",
       "      <td>0</td>\n",
       "      <td>Q98773</td>\n",
       "      <td>2017-06-23 19:37:19+00:00</td>\n",
       "      <td>2437879</td>\n",
       "      <td></td>\n",
       "      <td>Benseid Seid</td>\n",
       "      <td>wbsetdescription-add</td>\n",
       "      <td>1</td>\n",
       "      <td>ar</td>\n",
       "      <td>DESCRIPTION_ADD</td>\n",
       "    </tr>\n",
       "    <tr>\n",
       "      <th>1</th>\n",
       "      <td>/* wbsetlabel-add:1|sl */ Gerhard Raff, #quick...</td>\n",
       "      <td>wikidatawiki-20190101-pages-meta-history1.xml-...</td>\n",
       "      <td>wikibase-item</td>\n",
       "      <td></td>\n",
       "      <td>101383</td>\n",
       "      <td>0</td>\n",
       "      <td>Q98773</td>\n",
       "      <td>2018-01-29 13:38:28+00:00</td>\n",
       "      <td>23475</td>\n",
       "      <td></td>\n",
       "      <td>Sporti</td>\n",
       "      <td>wbsetlabel-add</td>\n",
       "      <td>1</td>\n",
       "      <td>sl</td>\n",
       "      <td>LABEL_ADD</td>\n",
       "    </tr>\n",
       "    <tr>\n",
       "      <th>2</th>\n",
       "      <td>/* wbsetsitelink-add:1|enwiki */ Wolfram Wette</td>\n",
       "      <td>wikidatawiki-20190101-pages-meta-history1.xml-...</td>\n",
       "      <td>wikibase-item</td>\n",
       "      <td></td>\n",
       "      <td>101384</td>\n",
       "      <td>0</td>\n",
       "      <td>Q98774</td>\n",
       "      <td>2017-01-04 17:08:50+00:00</td>\n",
       "      <td>17848</td>\n",
       "      <td></td>\n",
       "      <td>Assayer</td>\n",
       "      <td>wbsetsitelink-add</td>\n",
       "      <td>1</td>\n",
       "      <td>enwiki</td>\n",
       "      <td>SITELINK_ADD</td>\n",
       "    </tr>\n",
       "    <tr>\n",
       "      <th>3</th>\n",
       "      <td>/* wbsetreference-add:2| */ [[Property:P937]]:...</td>\n",
       "      <td>wikidatawiki-20190101-pages-meta-history1.xml-...</td>\n",
       "      <td>wikibase-item</td>\n",
       "      <td></td>\n",
       "      <td>101384</td>\n",
       "      <td>0</td>\n",
       "      <td>Q98774</td>\n",
       "      <td>2017-06-06 08:21:58+00:00</td>\n",
       "      <td>38324</td>\n",
       "      <td></td>\n",
       "      <td>Olaf Kosinsky</td>\n",
       "      <td>wbsetreference-add</td>\n",
       "      <td>2</td>\n",
       "      <td></td>\n",
       "      <td>REFERENCE_ADD</td>\n",
       "    </tr>\n",
       "    <tr>\n",
       "      <th>4</th>\n",
       "      <td>/* wbcreateclaim-create:1| */ [[Property:P1412...</td>\n",
       "      <td>wikidatawiki-20190101-pages-meta-history1.xml-...</td>\n",
       "      <td>wikibase-item</td>\n",
       "      <td></td>\n",
       "      <td>101384</td>\n",
       "      <td>0</td>\n",
       "      <td>Q98774</td>\n",
       "      <td>2017-06-06 14:59:40+00:00</td>\n",
       "      <td>38324</td>\n",
       "      <td></td>\n",
       "      <td>Olaf Kosinsky</td>\n",
       "      <td>wbcreateclaim-create</td>\n",
       "      <td>1</td>\n",
       "      <td></td>\n",
       "      <td>CLAIM_CREATE</td>\n",
       "    </tr>\n",
       "  </tbody>\n",
       "</table>\n",
       "</div>"
      ],
      "text/plain": [
       "                                             comment  \\\n",
       "0        /* wbsetdescription-add:1|ar */ مؤرخ ألماني   \n",
       "1  /* wbsetlabel-add:1|sl */ Gerhard Raff, #quick...   \n",
       "2     /* wbsetsitelink-add:1|enwiki */ Wolfram Wette   \n",
       "3  /* wbsetreference-add:2| */ [[Property:P937]]:...   \n",
       "4  /* wbcreateclaim-create:1| */ [[Property:P1412...   \n",
       "\n",
       "                                        dataset_file          model note  \\\n",
       "0  wikidatawiki-20190101-pages-meta-history1.xml-...  wikibase-item        \n",
       "1  wikidatawiki-20190101-pages-meta-history1.xml-...  wikibase-item        \n",
       "2  wikidatawiki-20190101-pages-meta-history1.xml-...  wikibase-item        \n",
       "3  wikidatawiki-20190101-pages-meta-history1.xml-...  wikibase-item        \n",
       "4  wikidatawiki-20190101-pages-meta-history1.xml-...  wikibase-item        \n",
       "\n",
       "  page_id page_ns page_title                 timestamp  user_id user_ip  \\\n",
       "0  101383       0     Q98773 2017-06-23 19:37:19+00:00  2437879           \n",
       "1  101383       0     Q98773 2018-01-29 13:38:28+00:00    23475           \n",
       "2  101384       0     Q98774 2017-01-04 17:08:50+00:00    17848           \n",
       "3  101384       0     Q98774 2017-06-06 08:21:58+00:00    38324           \n",
       "4  101384       0     Q98774 2017-06-06 14:59:40+00:00    38324           \n",
       "\n",
       "       user_name           action_base action_digit action_language  \\\n",
       "0   Benseid Seid  wbsetdescription-add            1              ar   \n",
       "1         Sporti        wbsetlabel-add            1              sl   \n",
       "2        Assayer     wbsetsitelink-add            1          enwiki   \n",
       "3  Olaf Kosinsky    wbsetreference-add            2                   \n",
       "4  Olaf Kosinsky  wbcreateclaim-create            1                   \n",
       "\n",
       "             label  \n",
       "0  DESCRIPTION_ADD  \n",
       "1        LABEL_ADD  \n",
       "2     SITELINK_ADD  \n",
       "3    REFERENCE_ADD  \n",
       "4     CLAIM_CREATE  "
      ]
     },
     "execution_count": 13,
     "metadata": {},
     "output_type": "execute_result"
    }
   ],
   "source": [
    "df.head()"
   ]
  },
  {
   "cell_type": "code",
   "execution_count": 14,
   "metadata": {},
   "outputs": [
    {
     "data": {
      "text/plain": [
       "['SITELINK_BADGE']"
      ]
     },
     "execution_count": 14,
     "metadata": {},
     "output_type": "execute_result"
    }
   ],
   "source": [
    "labels_to_remove = df['label'].value_counts()\n",
    "labels_to_remove = list(labels_to_remove.loc[labels_to_remove <= cfg.getint(\"preprocessing\", \"min_label_occurrency\")].index)\n",
    "labels_to_remove"
   ]
  },
  {
   "cell_type": "code",
   "execution_count": 15,
   "metadata": {},
   "outputs": [
    {
     "name": "stdout",
     "output_type": "stream",
     "text": [
      "Num revisions before removal: 141651850\n",
      "Num revisions after removal: 141651849\n"
     ]
    }
   ],
   "source": [
    "print(\"Num revisions before removal: {n}\".format(n=len(df)))\n",
    "df = df.loc[~df['label'].isin(labels_to_remove)].reset_index(drop=True)\n",
    "print(\"Num revisions after removal: {n}\".format(n=len(df)))"
   ]
  },
  {
   "cell_type": "code",
   "execution_count": 16,
   "metadata": {},
   "outputs": [
    {
     "name": "stdout",
     "output_type": "stream",
     "text": [
      "Num unique labels: 43\n"
     ]
    }
   ],
   "source": [
    "print(\"Num unique labels: {n}\".format(n=len(df['label'].unique())))"
   ]
  },
  {
   "cell_type": "code",
   "execution_count": 17,
   "metadata": {},
   "outputs": [
    {
     "data": {
      "text/plain": [
       "CLAIM_CREATE          46757724\n",
       "DESCRIPTION_ADD       29508789\n",
       "REFERENCE_ADD         12821614\n",
       "LABEL_ADD             11260870\n",
       "DESCRIPTION_UPDATE     8327748\n",
       "ENTITY_UPDATE          5824128\n",
       "QUALIFIER_ADD          4742348\n",
       "SITELINK_ADD           4561653\n",
       "CLAIM_UPDATE           3116188\n",
       "CLAIM_REMOVE           2941439\n",
       "ENTITY_CREATE          2795814\n",
       "LABEL_UPDATE           1653396\n",
       "ALIAS_ADD              1650484\n",
       "MERGE                  1488812\n",
       "SITELINK_UPDATE        1308941\n",
       "SITELINK_REMOVE         715639\n",
       "ENTITY_REDIRECT         600534\n",
       "CLAIM_UPDATEVALUE       257311\n",
       "REVERT                  216891\n",
       "ENTITY_OVERRIDE         201525\n",
       "DESCRIPTION_REMOVE      183477\n",
       "ALIAS_UPDATE            175176\n",
       "REVERT_MANUAL           128003\n",
       "CREATE_MANUAL            97442\n",
       "LABEL_REMOVE             88956\n",
       "ALIAS_REMOVE             87856\n",
       "QUALIFIER_REMOVE         40284\n",
       "REFERENCE_REMOVE         22487\n",
       "QUALIFIER_UPDATE         22429\n",
       "FORM_ADD                 20429\n",
       "SENSE_ADD                 7446\n",
       "LEXEME_CREATE             7110\n",
       "REFERENCE_UPDATE          5091\n",
       "REMOVE_MANUAL             3657\n",
       "MOVE_MANUAL               3123\n",
       "FORM_UPDATE               2309\n",
       "RENAME_MANUAL             2006\n",
       "PROTECT_MANUAL            1344\n",
       "SENSE_UPDATE               754\n",
       "PROPERTY_CREATE            310\n",
       "FORM_REMOVE                178\n",
       "LEXEME_UPDATE               95\n",
       "SENSE_REMOVE                39\n",
       "Name: label, dtype: int64"
      ]
     },
     "execution_count": 17,
     "metadata": {},
     "output_type": "execute_result"
    }
   ],
   "source": [
    "df['label'].value_counts()"
   ]
  },
  {
   "cell_type": "markdown",
   "metadata": {},
   "source": [
    "### Store data"
   ]
  },
  {
   "cell_type": "code",
   "execution_count": 18,
   "metadata": {},
   "outputs": [],
   "source": [
    "df.to_pickle(os.path.join(cfg.get(\"directory\", \"exchange\"), \"[wikidata]003_assign_labels.p\"))"
   ]
  }
 ],
 "metadata": {
  "kernelspec": {
   "display_name": "Python 3",
   "language": "python",
   "name": "python3"
  },
  "language_info": {
   "codemirror_mode": {
    "name": "ipython",
    "version": 3
   },
   "file_extension": ".py",
   "mimetype": "text/x-python",
   "name": "python",
   "nbconvert_exporter": "python",
   "pygments_lexer": "ipython3",
   "version": "3.7.1"
  }
 },
 "nbformat": 4,
 "nbformat_minor": 2
}
