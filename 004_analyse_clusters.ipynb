{
 "cells": [
  {
   "cell_type": "code",
   "execution_count": 17,
   "metadata": {},
   "outputs": [
    {
     "name": "stdout",
     "output_type": "stream",
     "text": [
      "The autoreload extension is already loaded. To reload it, use:\n",
      "  %reload_ext autoreload\n"
     ]
    }
   ],
   "source": [
    "%load_ext autoreload\n",
    "%autoreload 2"
   ]
  },
  {
   "cell_type": "code",
   "execution_count": 18,
   "metadata": {},
   "outputs": [],
   "source": [
    "import os\n",
    "import numpy as np\n",
    "import pandas as pd"
   ]
  },
  {
   "cell_type": "code",
   "execution_count": 3,
   "metadata": {},
   "outputs": [],
   "source": [
    "import lib\n",
    "import plotting"
   ]
  },
  {
   "cell_type": "code",
   "execution_count": 4,
   "metadata": {},
   "outputs": [
    {
     "data": {
      "text/plain": [
       "['config.cfg']"
      ]
     },
     "execution_count": 4,
     "metadata": {},
     "output_type": "execute_result"
    }
   ],
   "source": [
    "from configparser import ConfigParser\n",
    "cfg = ConfigParser()\n",
    "cfg.read(\"config.cfg\")"
   ]
  },
  {
   "cell_type": "code",
   "execution_count": 5,
   "metadata": {},
   "outputs": [],
   "source": [
    "from tqdm._tqdm_notebook import tqdm_notebook as tqdm # we manually import the notebook submodule as the normal one struggles with jupyterlab\n",
    "tqdm.pandas() # this enables us to use progress_apply instead of apply"
   ]
  },
  {
   "cell_type": "code",
   "execution_count": 11,
   "metadata": {},
   "outputs": [],
   "source": [
    "results_prefix = cfg.get(\"results\", \"prefix\")\n",
    "\n",
    "sequence_file = os.path.join(cfg.get(\"directory\", \"exchange\"), results_prefix + \"001_clustering.p\")\n",
    "labels_file = os.path.join(cfg.get(\"directory\", \"exchange\"), \"[wikidata]004_labels_readable.p\")"
   ]
  },
  {
   "cell_type": "code",
   "execution_count": 12,
   "metadata": {},
   "outputs": [
    {
     "data": {
      "text/html": [
       "<div>\n",
       "<style scoped>\n",
       "    .dataframe tbody tr th:only-of-type {\n",
       "        vertical-align: middle;\n",
       "    }\n",
       "\n",
       "    .dataframe tbody tr th {\n",
       "        vertical-align: top;\n",
       "    }\n",
       "\n",
       "    .dataframe thead th {\n",
       "        text-align: right;\n",
       "    }\n",
       "</style>\n",
       "<table border=\"1\" class=\"dataframe\">\n",
       "  <thead>\n",
       "    <tr style=\"text-align: right;\">\n",
       "      <th></th>\n",
       "      <th>bot_name</th>\n",
       "      <th>bot_sequence</th>\n",
       "      <th>length</th>\n",
       "      <th>length_nobreak</th>\n",
       "      <th>sequence</th>\n",
       "      <th>sequence_readable</th>\n",
       "      <th>user_id</th>\n",
       "      <th>user_name</th>\n",
       "      <th>stat_dist</th>\n",
       "      <th>kmeans_4</th>\n",
       "      <th>kmeans_8</th>\n",
       "    </tr>\n",
       "  </thead>\n",
       "  <tbody>\n",
       "    <tr>\n",
       "      <th>0</th>\n",
       "      <td>False</td>\n",
       "      <td>False</td>\n",
       "      <td>1517</td>\n",
       "      <td>1385</td>\n",
       "      <td>[REVERT_MANUAL, BREAK, CLAIM_CREATE, BREAK, CL...</td>\n",
       "      <td>[Revert Item, Break, Create Claim, Break, Crea...</td>\n",
       "      <td>1</td>\n",
       "      <td>Hoo man</td>\n",
       "      <td>[0.033592832488441825, 0.029154644609674315, 0...</td>\n",
       "      <td>0</td>\n",
       "      <td>3</td>\n",
       "    </tr>\n",
       "    <tr>\n",
       "      <th>1</th>\n",
       "      <td>False</td>\n",
       "      <td>False</td>\n",
       "      <td>44</td>\n",
       "      <td>23</td>\n",
       "      <td>[SITELINK_ADD, BREAK, SITELINK_ADD, BREAK, SIT...</td>\n",
       "      <td>[Add Sitelink, Break, Add Sitelink, Break, Add...</td>\n",
       "      <td>100012</td>\n",
       "      <td>Kane 14</td>\n",
       "      <td>[0.02586206896551723, 0.025862068965517227, 0....</td>\n",
       "      <td>2</td>\n",
       "      <td>1</td>\n",
       "    </tr>\n",
       "    <tr>\n",
       "      <th>2</th>\n",
       "      <td>False</td>\n",
       "      <td>False</td>\n",
       "      <td>17</td>\n",
       "      <td>12</td>\n",
       "      <td>[LABEL_UPDATE, ALIAS_ADD, BREAK, CLAIM_CREATE,...</td>\n",
       "      <td>[Edit Label, Add Item Alias, Break, Create Cla...</td>\n",
       "      <td>1000197</td>\n",
       "      <td>Zaizone</td>\n",
       "      <td>[0.026205469193709592, 0.07779210211701826, 0....</td>\n",
       "      <td>1</td>\n",
       "      <td>5</td>\n",
       "    </tr>\n",
       "    <tr>\n",
       "      <th>3</th>\n",
       "      <td>False</td>\n",
       "      <td>False</td>\n",
       "      <td>91</td>\n",
       "      <td>82</td>\n",
       "      <td>[SITELINK_UPDATE, BREAK, LABEL_ADD, CLAIM_CREA...</td>\n",
       "      <td>[Edit Sitelink, Break, Add Label, Create Claim...</td>\n",
       "      <td>1001159</td>\n",
       "      <td>Gogo hr</td>\n",
       "      <td>[0.04118566424353361, 0.03162035177772598, 0.0...</td>\n",
       "      <td>0</td>\n",
       "      <td>0</td>\n",
       "    </tr>\n",
       "    <tr>\n",
       "      <th>4</th>\n",
       "      <td>False</td>\n",
       "      <td>False</td>\n",
       "      <td>21</td>\n",
       "      <td>12</td>\n",
       "      <td>[DESCRIPTION_ADD, BREAK, DESCRIPTION_UPDATE, D...</td>\n",
       "      <td>[Add Description, Break, Edit Description, Add...</td>\n",
       "      <td>1001194</td>\n",
       "      <td>Phylosofo</td>\n",
       "      <td>[0.08620689655172406, 0.025862068965517255, 0....</td>\n",
       "      <td>1</td>\n",
       "      <td>7</td>\n",
       "    </tr>\n",
       "  </tbody>\n",
       "</table>\n",
       "</div>"
      ],
      "text/plain": [
       "   bot_name  bot_sequence  length  length_nobreak  \\\n",
       "0     False         False    1517            1385   \n",
       "1     False         False      44              23   \n",
       "2     False         False      17              12   \n",
       "3     False         False      91              82   \n",
       "4     False         False      21              12   \n",
       "\n",
       "                                            sequence  \\\n",
       "0  [REVERT_MANUAL, BREAK, CLAIM_CREATE, BREAK, CL...   \n",
       "1  [SITELINK_ADD, BREAK, SITELINK_ADD, BREAK, SIT...   \n",
       "2  [LABEL_UPDATE, ALIAS_ADD, BREAK, CLAIM_CREATE,...   \n",
       "3  [SITELINK_UPDATE, BREAK, LABEL_ADD, CLAIM_CREA...   \n",
       "4  [DESCRIPTION_ADD, BREAK, DESCRIPTION_UPDATE, D...   \n",
       "\n",
       "                                   sequence_readable  user_id  user_name  \\\n",
       "0  [Revert Item, Break, Create Claim, Break, Crea...        1    Hoo man   \n",
       "1  [Add Sitelink, Break, Add Sitelink, Break, Add...   100012    Kane 14   \n",
       "2  [Edit Label, Add Item Alias, Break, Create Cla...  1000197    Zaizone   \n",
       "3  [Edit Sitelink, Break, Add Label, Create Claim...  1001159    Gogo hr   \n",
       "4  [Add Description, Break, Edit Description, Add...  1001194  Phylosofo   \n",
       "\n",
       "                                           stat_dist  kmeans_4  kmeans_8  \n",
       "0  [0.033592832488441825, 0.029154644609674315, 0...         0         3  \n",
       "1  [0.02586206896551723, 0.025862068965517227, 0....         2         1  \n",
       "2  [0.026205469193709592, 0.07779210211701826, 0....         1         5  \n",
       "3  [0.04118566424353361, 0.03162035177772598, 0.0...         0         0  \n",
       "4  [0.08620689655172406, 0.025862068965517255, 0....         1         7  "
      ]
     },
     "execution_count": 12,
     "metadata": {},
     "output_type": "execute_result"
    }
   ],
   "source": [
    "df = pd.read_pickle(sequence_file)\n",
    "df.head()"
   ]
  },
  {
   "cell_type": "code",
   "execution_count": 13,
   "metadata": {},
   "outputs": [],
   "source": [
    "labels = pd.read_pickle(labels_file)['label'].values"
   ]
  },
  {
   "cell_type": "code",
   "execution_count": 14,
   "metadata": {},
   "outputs": [],
   "source": [
    "num_clusters = 4\n",
    "df_selector = \"kmeans_{n}\".format(n=num_clusters)"
   ]
  },
  {
   "cell_type": "code",
   "execution_count": 15,
   "metadata": {},
   "outputs": [],
   "source": [
    "cluster_group = df.groupby(df_selector)"
   ]
  },
  {
   "cell_type": "code",
   "execution_count": 19,
   "metadata": {},
   "outputs": [
    {
     "data": {
      "text/html": [
       "<div>\n",
       "<style scoped>\n",
       "    .dataframe tbody tr th:only-of-type {\n",
       "        vertical-align: middle;\n",
       "    }\n",
       "\n",
       "    .dataframe tbody tr th {\n",
       "        vertical-align: top;\n",
       "    }\n",
       "\n",
       "    .dataframe thead th {\n",
       "        text-align: right;\n",
       "    }\n",
       "</style>\n",
       "<table border=\"1\" class=\"dataframe\">\n",
       "  <thead>\n",
       "    <tr style=\"text-align: right;\">\n",
       "      <th></th>\n",
       "      <th>actions_max</th>\n",
       "      <th>actions_mean</th>\n",
       "      <th>actions_median</th>\n",
       "      <th>actions_min</th>\n",
       "      <th>actions_sum</th>\n",
       "      <th>cluster</th>\n",
       "      <th>population</th>\n",
       "    </tr>\n",
       "  </thead>\n",
       "  <tbody>\n",
       "    <tr>\n",
       "      <th>0</th>\n",
       "      <td>1098458</td>\n",
       "      <td>4821.861259</td>\n",
       "      <td>46.0</td>\n",
       "      <td>10</td>\n",
       "      <td>48030560</td>\n",
       "      <td>0</td>\n",
       "      <td>9961</td>\n",
       "    </tr>\n",
       "    <tr>\n",
       "      <th>1</th>\n",
       "      <td>1574515</td>\n",
       "      <td>1870.649995</td>\n",
       "      <td>31.0</td>\n",
       "      <td>10</td>\n",
       "      <td>20085169</td>\n",
       "      <td>1</td>\n",
       "      <td>10737</td>\n",
       "    </tr>\n",
       "    <tr>\n",
       "      <th>2</th>\n",
       "      <td>86583</td>\n",
       "      <td>319.509446</td>\n",
       "      <td>41.0</td>\n",
       "      <td>10</td>\n",
       "      <td>3974378</td>\n",
       "      <td>2</td>\n",
       "      <td>12439</td>\n",
       "    </tr>\n",
       "    <tr>\n",
       "      <th>3</th>\n",
       "      <td>16405</td>\n",
       "      <td>151.873961</td>\n",
       "      <td>31.0</td>\n",
       "      <td>10</td>\n",
       "      <td>803717</td>\n",
       "      <td>3</td>\n",
       "      <td>5292</td>\n",
       "    </tr>\n",
       "  </tbody>\n",
       "</table>\n",
       "</div>"
      ],
      "text/plain": [
       "   actions_max  actions_mean  actions_median  actions_min  actions_sum  \\\n",
       "0      1098458   4821.861259            46.0           10     48030560   \n",
       "1      1574515   1870.649995            31.0           10     20085169   \n",
       "2        86583    319.509446            41.0           10      3974378   \n",
       "3        16405    151.873961            31.0           10       803717   \n",
       "\n",
       "   cluster  population  \n",
       "0        0        9961  \n",
       "1        1       10737  \n",
       "2        2       12439  \n",
       "3        3        5292  "
      ]
     },
     "execution_count": 19,
     "metadata": {},
     "output_type": "execute_result"
    }
   ],
   "source": [
    "results = []\n",
    "for i, g in cluster_group:\n",
    "    actions = g[\"sequence\"].apply(len)\n",
    "    actions = g[\"length_nobreak\"]\n",
    "    res = {\n",
    "        \"cluster\": i,\n",
    "        \"population\": len(g),\n",
    "        \"actions_sum\": actions.sum(),\n",
    "        \"actions_mean\": actions.mean(),\n",
    "        \"actions_median\": actions.median(),\n",
    "        \"actions_max\": actions.max(),\n",
    "        \"actions_min\": actions.min()\n",
    "    }\n",
    "    \n",
    "    #for i, r in g.iterrows():\n",
    "    #    if len(r['sequence']) == actions.max():\n",
    "    #        print(r[\"user_id\"])\n",
    "    results.append(res)\n",
    "    \n",
    "df_res = pd.DataFrame(results)\n",
    "df_res"
   ]
  },
  {
   "cell_type": "code",
   "execution_count": null,
   "metadata": {},
   "outputs": [],
   "source": []
  }
 ],
 "metadata": {
  "kernelspec": {
   "display_name": "Python 3",
   "language": "python",
   "name": "python3"
  },
  "language_info": {
   "codemirror_mode": {
    "name": "ipython",
    "version": 3
   },
   "file_extension": ".py",
   "mimetype": "text/x-python",
   "name": "python",
   "nbconvert_exporter": "python",
   "pygments_lexer": "ipython3",
   "version": "3.7.1"
  }
 },
 "nbformat": 4,
 "nbformat_minor": 2
}
