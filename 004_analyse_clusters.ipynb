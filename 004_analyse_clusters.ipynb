{
 "cells": [
  {
   "cell_type": "code",
   "execution_count": 2,
   "metadata": {},
   "outputs": [
    {
     "name": "stdout",
     "output_type": "stream",
     "text": [
      "The autoreload extension is already loaded. To reload it, use:\n",
      "  %reload_ext autoreload\n"
     ]
    }
   ],
   "source": [
    "%load_ext autoreload\n",
    "%autoreload 2"
   ]
  },
  {
   "cell_type": "code",
   "execution_count": 3,
   "metadata": {},
   "outputs": [],
   "source": [
    "import os\n",
    "import numpy as np\n",
    "import pandas as pd"
   ]
  },
  {
   "cell_type": "code",
   "execution_count": 4,
   "metadata": {},
   "outputs": [],
   "source": [
    "import lib\n",
    "import plotting"
   ]
  },
  {
   "cell_type": "code",
   "execution_count": 5,
   "metadata": {},
   "outputs": [
    {
     "data": {
      "text/plain": [
       "['config.cfg']"
      ]
     },
     "execution_count": 5,
     "metadata": {},
     "output_type": "execute_result"
    }
   ],
   "source": [
    "from configparser import ConfigParser\n",
    "cfg = ConfigParser()\n",
    "cfg.read(\"config.cfg\")"
   ]
  },
  {
   "cell_type": "code",
   "execution_count": 6,
   "metadata": {},
   "outputs": [],
   "source": [
    "from tqdm._tqdm_notebook import tqdm_notebook as tqdm # we manually import the notebook submodule as the normal one struggles with jupyterlab\n",
    "tqdm.pandas() # this enables us to use progress_apply instead of apply"
   ]
  },
  {
   "cell_type": "code",
   "execution_count": 7,
   "metadata": {},
   "outputs": [],
   "source": [
    "results_prefix = \"[WIKIDATA]\"\n",
    "\n",
    "sequence_file = os.path.join(cfg.get(\"directory\", \"exchange\"), results_prefix + \"001_clustering.p\")\n",
    "labels_file = os.path.join(cfg.get(\"directory\", \"exchange\"), \"[wikidata]004_labels.p\")"
   ]
  },
  {
   "cell_type": "code",
   "execution_count": 8,
   "metadata": {},
   "outputs": [
    {
     "data": {
      "text/html": [
       "<div>\n",
       "<style scoped>\n",
       "    .dataframe tbody tr th:only-of-type {\n",
       "        vertical-align: middle;\n",
       "    }\n",
       "\n",
       "    .dataframe tbody tr th {\n",
       "        vertical-align: top;\n",
       "    }\n",
       "\n",
       "    .dataframe thead th {\n",
       "        text-align: right;\n",
       "    }\n",
       "</style>\n",
       "<table border=\"1\" class=\"dataframe\">\n",
       "  <thead>\n",
       "    <tr style=\"text-align: right;\">\n",
       "      <th></th>\n",
       "      <th>length</th>\n",
       "      <th>sequence</th>\n",
       "      <th>user_id</th>\n",
       "      <th>stat_dist</th>\n",
       "      <th>kmeans_2</th>\n",
       "      <th>kmeans_3</th>\n",
       "      <th>kmeans_4</th>\n",
       "      <th>kmeans_5</th>\n",
       "      <th>kmeans_6</th>\n",
       "      <th>kmeans_7</th>\n",
       "      <th>kmeans_8</th>\n",
       "      <th>kmeans_9</th>\n",
       "      <th>kmeans_10</th>\n",
       "    </tr>\n",
       "  </thead>\n",
       "  <tbody>\n",
       "    <tr>\n",
       "      <th>0</th>\n",
       "      <td>1511</td>\n",
       "      <td>[REVERT_MANUAL, BREAK, CLAIM_CREATE, BREAK, CL...</td>\n",
       "      <td>1</td>\n",
       "      <td>[0.022260285362644863, 0.01999793118304165, 0....</td>\n",
       "      <td>1</td>\n",
       "      <td>0</td>\n",
       "      <td>3</td>\n",
       "      <td>2</td>\n",
       "      <td>2</td>\n",
       "      <td>4</td>\n",
       "      <td>1</td>\n",
       "      <td>2</td>\n",
       "      <td>2</td>\n",
       "    </tr>\n",
       "    <tr>\n",
       "      <th>1</th>\n",
       "      <td>9</td>\n",
       "      <td>[ENTITY_CREATE, BREAK, SITELINK_ADD, BREAK, ME...</td>\n",
       "      <td>1000036</td>\n",
       "      <td>[0.020070153072094386, 0.02007015307209438, 0....</td>\n",
       "      <td>0</td>\n",
       "      <td>0</td>\n",
       "      <td>2</td>\n",
       "      <td>4</td>\n",
       "      <td>0</td>\n",
       "      <td>0</td>\n",
       "      <td>0</td>\n",
       "      <td>0</td>\n",
       "      <td>0</td>\n",
       "    </tr>\n",
       "    <tr>\n",
       "      <th>2</th>\n",
       "      <td>7</td>\n",
       "      <td>[SITELINK_ADD, BREAK, SITELINK_ADD, BREAK, SIT...</td>\n",
       "      <td>1000078</td>\n",
       "      <td>[0.01947397679104996, 0.019473976791049966, 0....</td>\n",
       "      <td>0</td>\n",
       "      <td>2</td>\n",
       "      <td>1</td>\n",
       "      <td>1</td>\n",
       "      <td>1</td>\n",
       "      <td>1</td>\n",
       "      <td>5</td>\n",
       "      <td>3</td>\n",
       "      <td>3</td>\n",
       "    </tr>\n",
       "    <tr>\n",
       "      <th>3</th>\n",
       "      <td>9</td>\n",
       "      <td>[ENTITY_CREATE, BREAK, SITELINK_REMOVE, SITELI...</td>\n",
       "      <td>100008</td>\n",
       "      <td>[0.02042483183496783, 0.020424831834967825, 0....</td>\n",
       "      <td>0</td>\n",
       "      <td>2</td>\n",
       "      <td>1</td>\n",
       "      <td>1</td>\n",
       "      <td>1</td>\n",
       "      <td>1</td>\n",
       "      <td>5</td>\n",
       "      <td>0</td>\n",
       "      <td>0</td>\n",
       "    </tr>\n",
       "    <tr>\n",
       "      <th>4</th>\n",
       "      <td>44</td>\n",
       "      <td>[SITELINK_ADD, BREAK, SITELINK_ADD, BREAK, SIT...</td>\n",
       "      <td>100012</td>\n",
       "      <td>[0.01973684210526316, 0.019736842105263157, 0....</td>\n",
       "      <td>0</td>\n",
       "      <td>2</td>\n",
       "      <td>1</td>\n",
       "      <td>1</td>\n",
       "      <td>1</td>\n",
       "      <td>1</td>\n",
       "      <td>5</td>\n",
       "      <td>3</td>\n",
       "      <td>3</td>\n",
       "    </tr>\n",
       "  </tbody>\n",
       "</table>\n",
       "</div>"
      ],
      "text/plain": [
       "   length                                           sequence  user_id  \\\n",
       "0    1511  [REVERT_MANUAL, BREAK, CLAIM_CREATE, BREAK, CL...        1   \n",
       "1       9  [ENTITY_CREATE, BREAK, SITELINK_ADD, BREAK, ME...  1000036   \n",
       "2       7  [SITELINK_ADD, BREAK, SITELINK_ADD, BREAK, SIT...  1000078   \n",
       "3       9  [ENTITY_CREATE, BREAK, SITELINK_REMOVE, SITELI...   100008   \n",
       "4      44  [SITELINK_ADD, BREAK, SITELINK_ADD, BREAK, SIT...   100012   \n",
       "\n",
       "                                           stat_dist  kmeans_2  kmeans_3  \\\n",
       "0  [0.022260285362644863, 0.01999793118304165, 0....         1         0   \n",
       "1  [0.020070153072094386, 0.02007015307209438, 0....         0         0   \n",
       "2  [0.01947397679104996, 0.019473976791049966, 0....         0         2   \n",
       "3  [0.02042483183496783, 0.020424831834967825, 0....         0         2   \n",
       "4  [0.01973684210526316, 0.019736842105263157, 0....         0         2   \n",
       "\n",
       "   kmeans_4  kmeans_5  kmeans_6  kmeans_7  kmeans_8  kmeans_9  kmeans_10  \n",
       "0         3         2         2         4         1         2          2  \n",
       "1         2         4         0         0         0         0          0  \n",
       "2         1         1         1         1         5         3          3  \n",
       "3         1         1         1         1         5         0          0  \n",
       "4         1         1         1         1         5         3          3  "
      ]
     },
     "execution_count": 8,
     "metadata": {},
     "output_type": "execute_result"
    }
   ],
   "source": [
    "df = pd.read_pickle(sequence_file)\n",
    "df.head()"
   ]
  },
  {
   "cell_type": "code",
   "execution_count": 9,
   "metadata": {},
   "outputs": [],
   "source": [
    "labels = pd.read_pickle(labels_file)['label'].values"
   ]
  },
  {
   "cell_type": "code",
   "execution_count": 10,
   "metadata": {},
   "outputs": [],
   "source": [
    "num_clusters = 8\n",
    "df_selector = \"kmeans_{n}\".format(n=num_clusters)"
   ]
  },
  {
   "cell_type": "code",
   "execution_count": 11,
   "metadata": {},
   "outputs": [],
   "source": [
    "cluster_group = df.groupby(df_selector)"
   ]
  },
  {
   "cell_type": "code",
   "execution_count": 19,
   "metadata": {},
   "outputs": [
    {
     "name": "stdout",
     "output_type": "stream",
     "text": [
      "145693\n",
      "133116\n",
      "300821\n",
      "2221426\n",
      "2883061\n",
      "2211707\n",
      "28325\n",
      "372\n"
     ]
    },
    {
     "data": {
      "text/html": [
       "<div>\n",
       "<style scoped>\n",
       "    .dataframe tbody tr th:only-of-type {\n",
       "        vertical-align: middle;\n",
       "    }\n",
       "\n",
       "    .dataframe tbody tr th {\n",
       "        vertical-align: top;\n",
       "    }\n",
       "\n",
       "    .dataframe thead th {\n",
       "        text-align: right;\n",
       "    }\n",
       "</style>\n",
       "<table border=\"1\" class=\"dataframe\">\n",
       "  <thead>\n",
       "    <tr style=\"text-align: right;\">\n",
       "      <th></th>\n",
       "      <th>actions_max</th>\n",
       "      <th>actions_mean</th>\n",
       "      <th>actions_median</th>\n",
       "      <th>actions_min</th>\n",
       "      <th>cluster</th>\n",
       "      <th>population</th>\n",
       "    </tr>\n",
       "  </thead>\n",
       "  <tbody>\n",
       "    <tr>\n",
       "      <th>0</th>\n",
       "      <td>1873540</td>\n",
       "      <td>749.741952</td>\n",
       "      <td>5.0</td>\n",
       "      <td>2</td>\n",
       "      <td>0</td>\n",
       "      <td>28173</td>\n",
       "    </tr>\n",
       "    <tr>\n",
       "      <th>1</th>\n",
       "      <td>9818156</td>\n",
       "      <td>7360.444942</td>\n",
       "      <td>32.0</td>\n",
       "      <td>2</td>\n",
       "      <td>1</td>\n",
       "      <td>11379</td>\n",
       "    </tr>\n",
       "    <tr>\n",
       "      <th>2</th>\n",
       "      <td>196642</td>\n",
       "      <td>154.065982</td>\n",
       "      <td>6.0</td>\n",
       "      <td>2</td>\n",
       "      <td>2</td>\n",
       "      <td>2531</td>\n",
       "    </tr>\n",
       "    <tr>\n",
       "      <th>3</th>\n",
       "      <td>47055</td>\n",
       "      <td>105.777276</td>\n",
       "      <td>12.0</td>\n",
       "      <td>2</td>\n",
       "      <td>3</td>\n",
       "      <td>10861</td>\n",
       "    </tr>\n",
       "    <tr>\n",
       "      <th>4</th>\n",
       "      <td>11681018</td>\n",
       "      <td>6619.027118</td>\n",
       "      <td>11.0</td>\n",
       "      <td>2</td>\n",
       "      <td>4</td>\n",
       "      <td>5052</td>\n",
       "    </tr>\n",
       "    <tr>\n",
       "      <th>5</th>\n",
       "      <td>89097</td>\n",
       "      <td>193.374556</td>\n",
       "      <td>13.0</td>\n",
       "      <td>2</td>\n",
       "      <td>5</td>\n",
       "      <td>25051</td>\n",
       "    </tr>\n",
       "    <tr>\n",
       "      <th>6</th>\n",
       "      <td>29800</td>\n",
       "      <td>37.302671</td>\n",
       "      <td>3.0</td>\n",
       "      <td>2</td>\n",
       "      <td>6</td>\n",
       "      <td>2696</td>\n",
       "    </tr>\n",
       "    <tr>\n",
       "      <th>7</th>\n",
       "      <td>200931</td>\n",
       "      <td>234.700058</td>\n",
       "      <td>5.0</td>\n",
       "      <td>2</td>\n",
       "      <td>7</td>\n",
       "      <td>1737</td>\n",
       "    </tr>\n",
       "  </tbody>\n",
       "</table>\n",
       "</div>"
      ],
      "text/plain": [
       "   actions_max  actions_mean  actions_median  actions_min  cluster  population\n",
       "0      1873540    749.741952             5.0            2        0       28173\n",
       "1      9818156   7360.444942            32.0            2        1       11379\n",
       "2       196642    154.065982             6.0            2        2        2531\n",
       "3        47055    105.777276            12.0            2        3       10861\n",
       "4     11681018   6619.027118            11.0            2        4        5052\n",
       "5        89097    193.374556            13.0            2        5       25051\n",
       "6        29800     37.302671             3.0            2        6        2696\n",
       "7       200931    234.700058             5.0            2        7        1737"
      ]
     },
     "execution_count": 19,
     "metadata": {},
     "output_type": "execute_result"
    }
   ],
   "source": [
    "results = []\n",
    "for i, g in cluster_group:\n",
    "    actions = g[\"sequence\"].apply(len)\n",
    "    res = {\n",
    "        \"cluster\": i,\n",
    "        \"population\": len(g),\n",
    "        \"actions_mean\": actions.mean(),\n",
    "        \"actions_median\": actions.median(),\n",
    "        \"actions_max\": actions.max(),\n",
    "        \"actions_min\": actions.min()\n",
    "    }\n",
    "    \n",
    "    for i, r in g.iterrows():\n",
    "        if len(r['sequence']) == actions.max():\n",
    "            print(r[\"user_id\"])\n",
    "    results.append(res)\n",
    "    \n",
    "df_res = pd.DataFrame(results)\n",
    "df_res"
   ]
  },
  {
   "cell_type": "code",
   "execution_count": null,
   "metadata": {},
   "outputs": [],
   "source": []
  }
 ],
 "metadata": {
  "kernelspec": {
   "display_name": "Python 3",
   "language": "python",
   "name": "python3"
  },
  "language_info": {
   "codemirror_mode": {
    "name": "ipython",
    "version": 3
   },
   "file_extension": ".py",
   "mimetype": "text/x-python",
   "name": "python",
   "nbconvert_exporter": "python",
   "pygments_lexer": "ipython3",
   "version": "3.7.1"
  }
 },
 "nbformat": 4,
 "nbformat_minor": 2
}
