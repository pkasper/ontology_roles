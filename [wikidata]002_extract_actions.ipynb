{
 "cells": [
  {
   "cell_type": "code",
   "execution_count": 1,
   "metadata": {},
   "outputs": [],
   "source": [
    "import os\n",
    "import pandas as pd"
   ]
  },
  {
   "cell_type": "code",
   "execution_count": 2,
   "metadata": {},
   "outputs": [],
   "source": [
    "import re"
   ]
  },
  {
   "cell_type": "code",
   "execution_count": 3,
   "metadata": {},
   "outputs": [
    {
     "data": {
      "text/plain": [
       "['config.cfg']"
      ]
     },
     "execution_count": 3,
     "metadata": {},
     "output_type": "execute_result"
    }
   ],
   "source": [
    "from configparser import ConfigParser\n",
    "cfg = ConfigParser()\n",
    "cfg.read(\"config.cfg\")"
   ]
  },
  {
   "cell_type": "code",
   "execution_count": 4,
   "metadata": {},
   "outputs": [],
   "source": [
    "from tqdm._tqdm_notebook import tqdm_notebook as tqdm # we manually import the notebook submodule as the normal one struggles with jupyterlab\n",
    "tqdm.pandas() # this enables us to use progress_apply instead of apply"
   ]
  },
  {
   "cell_type": "code",
   "execution_count": null,
   "metadata": {},
   "outputs": [],
   "source": [
    "df = pd.read_pickle(os.path.join(cfg.get(\"directory\", \"exchange\"), \"[wikidata]001_dataframe_full.p\"))"
   ]
  },
  {
   "cell_type": "code",
   "execution_count": null,
   "metadata": {},
   "outputs": [],
   "source": [
    "df.head()"
   ]
  },
  {
   "cell_type": "code",
   "execution_count": null,
   "metadata": {},
   "outputs": [],
   "source": [
    "df_manual_labels = pd.read_csv(os.path.join(cfg.get(\"directory\", \"dataset\"), cfg.get(\"dataset\", \"wikidata_aux\"), cfg.get(\"dataset\", \"wikidata_manual_labels\")), engine='python')\n",
    "df_manual_labels['match'] = df_manual_labels['match'].apply(lambda x: \" \" + x.strip() + \" \")\n",
    "df_manual_labels"
   ]
  },
  {
   "cell_type": "code",
   "execution_count": null,
   "metadata": {},
   "outputs": [],
   "source": [
    "comment_regex = re.compile(r\"\\/\\* (.*):(\\d*)\\|(.*?)( \\*\\/|\\|)\")\n",
    "\n",
    "def split_comment(comment):\n",
    "    if comment == \"\" or pd.isna(comment):\n",
    "        base_action = \"\"\n",
    "        digit = \"\"\n",
    "        language_code = \"\"\n",
    "    else:\n",
    "        match = re.match(comment_regex, comment)\n",
    "        print(match)\n",
    "        if match is not None:\n",
    "            base_action = match.group(1).strip()\n",
    "            digit = match.group(2).strip()\n",
    "            language_code = match.group(3).strip()\n",
    "        else:\n",
    "            # the re did not match. let's see if we can match anything from the manual labels\n",
    "            comment_lower = comment.lower().strip()\n",
    "            comment_lower = \" \" + comment_lower + \" \"\n",
    "            matches = df_manual_labels.loc[df_manual_labels['match'].apply(lambda x: x in comment_lower)] # look for words\n",
    "            if len(matches) > 0:\n",
    "                base_action = matches['label'].value_counts().idxmax() # take the most common label from the matches\n",
    "            else:\n",
    "                base_action = \"\"\n",
    "            digit = \"\"\n",
    "            language_code = \"\"\n",
    "    return {\n",
    "        \"action_base\": base_action,\n",
    "        \"action_digit\": digit,\n",
    "        \"action_language\": language_code\n",
    "    }"
   ]
  },
  {
   "cell_type": "code",
   "execution_count": null,
   "metadata": {},
   "outputs": [],
   "source": [
    "print(df_slice.loc[39943]['comment'])\n",
    "split_comment(df_slice.loc[39943]['comment'])"
   ]
  },
  {
   "cell_type": "code",
   "execution_count": null,
   "metadata": {},
   "outputs": [],
   "source": [
    "df = pd.concat([df, pd.DataFrame.from_records(df['comment'].progress_apply(split_comment))], axis=1)"
   ]
  },
  {
   "cell_type": "code",
   "execution_count": null,
   "metadata": {},
   "outputs": [],
   "source": [
    "df.head()"
   ]
  },
  {
   "cell_type": "code",
   "execution_count": null,
   "metadata": {},
   "outputs": [],
   "source": [
    "df_slice = df.loc[(df[\"action_base\"] == \"\") & (df['comment'] != \"\")]\n",
    "len(df_slice)"
   ]
  },
  {
   "cell_type": "code",
   "execution_count": null,
   "metadata": {},
   "outputs": [],
   "source": [
    "df_slice"
   ]
  },
  {
   "cell_type": "code",
   "execution_count": null,
   "metadata": {},
   "outputs": [],
   "source": []
  },
  {
   "cell_type": "code",
   "execution_count": null,
   "metadata": {},
   "outputs": [],
   "source": []
  }
 ],
 "metadata": {
  "kernelspec": {
   "display_name": "Python 3",
   "language": "python",
   "name": "python3"
  },
  "language_info": {
   "codemirror_mode": {
    "name": "ipython",
    "version": 3
   },
   "file_extension": ".py",
   "mimetype": "text/x-python",
   "name": "python",
   "nbconvert_exporter": "python",
   "pygments_lexer": "ipython3",
   "version": "3.7.1"
  }
 },
 "nbformat": 4,
 "nbformat_minor": 2
}
