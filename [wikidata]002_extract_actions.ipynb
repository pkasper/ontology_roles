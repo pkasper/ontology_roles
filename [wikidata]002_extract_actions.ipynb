{
 "cells": [
  {
   "cell_type": "code",
   "execution_count": null,
   "metadata": {},
   "outputs": [],
   "source": [
    "import os\n",
    "import pandas as pd"
   ]
  },
  {
   "cell_type": "code",
   "execution_count": null,
   "metadata": {},
   "outputs": [],
   "source": [
    "import re"
   ]
  },
  {
   "cell_type": "code",
   "execution_count": null,
   "metadata": {},
   "outputs": [],
   "source": [
    "from configparser import ConfigParser\n",
    "cfg = ConfigParser()\n",
    "cfg.read(\"config.cfg\")"
   ]
  },
  {
   "cell_type": "code",
   "execution_count": null,
   "metadata": {},
   "outputs": [],
   "source": [
    "from tqdm._tqdm_notebook import tqdm_notebook as tqdm # we manually import the notebook submodule as the normal one struggles with jupyterlab\n",
    "tqdm.pandas() # this enables us to use progress_apply instead of apply"
   ]
  },
  {
   "cell_type": "markdown",
   "metadata": {},
   "source": [
    "### Load previous data"
   ]
  },
  {
   "cell_type": "code",
   "execution_count": null,
   "metadata": {},
   "outputs": [],
   "source": [
    "df = pd.read_pickle(os.path.join(cfg.get(\"directory\", \"exchange\"), \"[wikidata]001_dataframe_full.p\"))"
   ]
  },
  {
   "cell_type": "code",
   "execution_count": null,
   "metadata": {},
   "outputs": [],
   "source": [
    "df.head()"
   ]
  },
  {
   "cell_type": "markdown",
   "metadata": {},
   "source": [
    "### Load manual label matchers"
   ]
  },
  {
   "cell_type": "code",
   "execution_count": null,
   "metadata": {},
   "outputs": [],
   "source": [
    "df_manual_labels = pd.read_csv(os.path.join(cfg.get(\"directory\", \"dataset\"), cfg.get(\"dataset\", \"wikidata_aux\"), cfg.get(\"dataset\", \"wikidata_manual_labels\")), engine='python')\n",
    "df_manual_labels['match'] = df_manual_labels['match'].apply(lambda x: \" \" + x.strip() + \" \")"
   ]
  },
  {
   "cell_type": "code",
   "execution_count": null,
   "metadata": {},
   "outputs": [],
   "source": [
    "comment_regex = re.compile(r\"\\/\\* (.*?):(\\d*)\\|(.*?)( \\*\\/|\\|)\")\n",
    "\n",
    "def split_comment(comment):\n",
    "    if comment == \"\" or pd.isna(comment):\n",
    "        base_action = \"\"\n",
    "        digit = \"\"\n",
    "        language_code = \"\"\n",
    "    else:\n",
    "        match = re.match(comment_regex, comment)\n",
    "        if match is not None:\n",
    "            base_action = match.group(1).strip()\n",
    "            digit = match.group(2).strip()\n",
    "            language_code = match.group(3).strip()\n",
    "        else:\n",
    "            # the re did not match. let's see if we can match anything from the manual labels\n",
    "            comment_lower = comment.lower().replace(\":\", \"\").strip()\n",
    "            comment_lower = \" \" + comment_lower + \" \"\n",
    "            matches = df_manual_labels.loc[df_manual_labels['match'].apply(lambda x: x in comment_lower)] # look for words\n",
    "            if len(matches) > 0:\n",
    "                base_action = matches['label'].value_counts().idxmax() # take the most common label from the matches\n",
    "            else:\n",
    "                base_action = \"\"\n",
    "            digit = \"\"\n",
    "            language_code = \"\"\n",
    "    return {\n",
    "        \"action_base\": base_action,\n",
    "        \"action_digit\": digit,\n",
    "        \"action_language\": language_code\n",
    "    }"
   ]
  },
  {
   "cell_type": "markdown",
   "metadata": {},
   "source": [
    "### Extract labels"
   ]
  },
  {
   "cell_type": "code",
   "execution_count": null,
   "metadata": {},
   "outputs": [],
   "source": [
    "df_actions = pd.concat([df, pd.DataFrame.from_records(df['comment'].progress_apply(split_comment))], axis=1)"
   ]
  },
  {
   "cell_type": "code",
   "execution_count": null,
   "metadata": {},
   "outputs": [],
   "source": [
    "df_actions.head()"
   ]
  },
  {
   "cell_type": "markdown",
   "metadata": {},
   "source": [
    "### Remove unmatched revisions"
   ]
  },
  {
   "cell_type": "code",
   "execution_count": null,
   "metadata": {},
   "outputs": [],
   "source": [
    "print(\"Pre unmatched comments\", len(df_actions))\n",
    "df_actions = df_actions.loc[~(df_actions[\"action_base\"] == \"\")].reset_index(drop=True)\n",
    "print(\"Post unmatched comments\", len(df_actions))"
   ]
  },
  {
   "cell_type": "code",
   "execution_count": null,
   "metadata": {},
   "outputs": [],
   "source": [
    "num_labels = len(df_actions['action_base'].unique())\n",
    "print(\"Num Labels {n}\".format(n=num_labels))"
   ]
  },
  {
   "cell_type": "markdown",
   "metadata": {},
   "source": [
    "### Remove all users with a low number of changes (below threshold)"
   ]
  },
  {
   "cell_type": "code",
   "execution_count": null,
   "metadata": {},
   "outputs": [],
   "source": [
    "change_threshold = cfg.getint(\"preprocessing\", \"min_num_changes\")"
   ]
  },
  {
   "cell_type": "code",
   "execution_count": null,
   "metadata": {},
   "outputs": [],
   "source": [
    "df_num_changes = df_actions[\"user_id\"].value_counts()"
   ]
  },
  {
   "cell_type": "code",
   "execution_count": null,
   "metadata": {},
   "outputs": [],
   "source": [
    "print(\"# Revisions before: {n}\".format(n=len(df_actions)))\n",
    "df_actions = df_actions.loc[~df_actions['user_id'].isin(df_num_changes.loc[df_num_changes < change_threshold].index)].reset_index(drop=True)\n",
    "print(\"# Revisions before: {n}\".format(n=len(df_actions)))"
   ]
  },
  {
   "cell_type": "markdown",
   "metadata": {},
   "source": [
    "### Store Data"
   ]
  },
  {
   "cell_type": "code",
   "execution_count": null,
   "metadata": {},
   "outputs": [],
   "source": [
    "df_actions.to_pickle(os.path.join(cfg.get(\"directory\", \"exchange\"), \"[wikidata]002_extract_actions.p\"))"
   ]
  },
  {
   "cell_type": "code",
   "execution_count": null,
   "metadata": {},
   "outputs": [],
   "source": []
  }
 ],
 "metadata": {
  "kernelspec": {
   "display_name": "Python 3",
   "language": "python",
   "name": "python3"
  },
  "language_info": {
   "codemirror_mode": {
    "name": "ipython",
    "version": 3
   },
   "file_extension": ".py",
   "mimetype": "text/x-python",
   "name": "python",
   "nbconvert_exporter": "python",
   "pygments_lexer": "ipython3",
   "version": "3.7.1"
  }
 },
 "nbformat": 4,
 "nbformat_minor": 2
}
