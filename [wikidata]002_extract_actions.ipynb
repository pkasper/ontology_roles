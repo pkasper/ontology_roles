{
 "cells": [
  {
   "cell_type": "code",
   "execution_count": 1,
   "metadata": {},
   "outputs": [],
   "source": [
    "import os\n",
    "import pandas as pd"
   ]
  },
  {
   "cell_type": "code",
   "execution_count": 2,
   "metadata": {},
   "outputs": [],
   "source": [
    "import re"
   ]
  },
  {
   "cell_type": "code",
   "execution_count": 3,
   "metadata": {},
   "outputs": [
    {
     "data": {
      "text/plain": [
       "['config.cfg']"
      ]
     },
     "execution_count": 3,
     "metadata": {},
     "output_type": "execute_result"
    }
   ],
   "source": [
    "from configparser import ConfigParser\n",
    "cfg = ConfigParser()\n",
    "cfg.read(\"config.cfg\")"
   ]
  },
  {
   "cell_type": "code",
   "execution_count": 4,
   "metadata": {},
   "outputs": [],
   "source": [
    "from tqdm._tqdm_notebook import tqdm_notebook as tqdm # we manually import the notebook submodule as the normal one struggles with jupyterlab\n",
    "tqdm.pandas() # this enables us to use progress_apply instead of apply"
   ]
  },
  {
   "cell_type": "markdown",
   "metadata": {},
   "source": [
    "### Load previous data"
   ]
  },
  {
   "cell_type": "code",
   "execution_count": 5,
   "metadata": {},
   "outputs": [],
   "source": [
    "df = pd.read_pickle(os.path.join(cfg.get(\"directory\", \"exchange\"), \"[wikidata]001_dataframe_full.p\"))"
   ]
  },
  {
   "cell_type": "code",
   "execution_count": 6,
   "metadata": {},
   "outputs": [
    {
     "data": {
      "text/html": [
       "<div>\n",
       "<style scoped>\n",
       "    .dataframe tbody tr th:only-of-type {\n",
       "        vertical-align: middle;\n",
       "    }\n",
       "\n",
       "    .dataframe tbody tr th {\n",
       "        vertical-align: top;\n",
       "    }\n",
       "\n",
       "    .dataframe thead th {\n",
       "        text-align: right;\n",
       "    }\n",
       "</style>\n",
       "<table border=\"1\" class=\"dataframe\">\n",
       "  <thead>\n",
       "    <tr style=\"text-align: right;\">\n",
       "      <th></th>\n",
       "      <th>comment</th>\n",
       "      <th>dataset_file</th>\n",
       "      <th>model</th>\n",
       "      <th>note</th>\n",
       "      <th>page_id</th>\n",
       "      <th>page_ns</th>\n",
       "      <th>page_title</th>\n",
       "      <th>timestamp</th>\n",
       "      <th>user_id</th>\n",
       "      <th>user_ip</th>\n",
       "      <th>user_name</th>\n",
       "    </tr>\n",
       "  </thead>\n",
       "  <tbody>\n",
       "    <tr>\n",
       "      <th>0</th>\n",
       "      <td>/* wbsetdescription-add:1|ar */ مؤرخ ألماني</td>\n",
       "      <td>wikidatawiki-20190101-pages-meta-history1.xml-...</td>\n",
       "      <td>wikibase-item</td>\n",
       "      <td></td>\n",
       "      <td>101383</td>\n",
       "      <td>0</td>\n",
       "      <td>Q98773</td>\n",
       "      <td>2017-06-23 19:37:19+00:00</td>\n",
       "      <td>2437879</td>\n",
       "      <td></td>\n",
       "      <td>Benseid Seid</td>\n",
       "    </tr>\n",
       "    <tr>\n",
       "      <th>1</th>\n",
       "      <td>/* wbsetlabel-add:1|sl */ Gerhard Raff, #quick...</td>\n",
       "      <td>wikidatawiki-20190101-pages-meta-history1.xml-...</td>\n",
       "      <td>wikibase-item</td>\n",
       "      <td></td>\n",
       "      <td>101383</td>\n",
       "      <td>0</td>\n",
       "      <td>Q98773</td>\n",
       "      <td>2018-01-29 13:38:28+00:00</td>\n",
       "      <td>23475</td>\n",
       "      <td></td>\n",
       "      <td>Sporti</td>\n",
       "    </tr>\n",
       "    <tr>\n",
       "      <th>2</th>\n",
       "      <td>/* wbsetsitelink-add:1|enwiki */ Wolfram Wette</td>\n",
       "      <td>wikidatawiki-20190101-pages-meta-history1.xml-...</td>\n",
       "      <td>wikibase-item</td>\n",
       "      <td></td>\n",
       "      <td>101384</td>\n",
       "      <td>0</td>\n",
       "      <td>Q98774</td>\n",
       "      <td>2017-01-04 17:08:50+00:00</td>\n",
       "      <td>17848</td>\n",
       "      <td></td>\n",
       "      <td>Assayer</td>\n",
       "    </tr>\n",
       "    <tr>\n",
       "      <th>3</th>\n",
       "      <td>/* wbsetreference-add:2| */ [[Property:P937]]:...</td>\n",
       "      <td>wikidatawiki-20190101-pages-meta-history1.xml-...</td>\n",
       "      <td>wikibase-item</td>\n",
       "      <td></td>\n",
       "      <td>101384</td>\n",
       "      <td>0</td>\n",
       "      <td>Q98774</td>\n",
       "      <td>2017-06-06 08:21:58+00:00</td>\n",
       "      <td>38324</td>\n",
       "      <td></td>\n",
       "      <td>Olaf Kosinsky</td>\n",
       "    </tr>\n",
       "    <tr>\n",
       "      <th>4</th>\n",
       "      <td>/* wbcreateclaim-create:1| */ [[Property:P1412...</td>\n",
       "      <td>wikidatawiki-20190101-pages-meta-history1.xml-...</td>\n",
       "      <td>wikibase-item</td>\n",
       "      <td></td>\n",
       "      <td>101384</td>\n",
       "      <td>0</td>\n",
       "      <td>Q98774</td>\n",
       "      <td>2017-06-06 14:59:40+00:00</td>\n",
       "      <td>38324</td>\n",
       "      <td></td>\n",
       "      <td>Olaf Kosinsky</td>\n",
       "    </tr>\n",
       "  </tbody>\n",
       "</table>\n",
       "</div>"
      ],
      "text/plain": [
       "                                             comment  \\\n",
       "0        /* wbsetdescription-add:1|ar */ مؤرخ ألماني   \n",
       "1  /* wbsetlabel-add:1|sl */ Gerhard Raff, #quick...   \n",
       "2     /* wbsetsitelink-add:1|enwiki */ Wolfram Wette   \n",
       "3  /* wbsetreference-add:2| */ [[Property:P937]]:...   \n",
       "4  /* wbcreateclaim-create:1| */ [[Property:P1412...   \n",
       "\n",
       "                                        dataset_file          model note  \\\n",
       "0  wikidatawiki-20190101-pages-meta-history1.xml-...  wikibase-item        \n",
       "1  wikidatawiki-20190101-pages-meta-history1.xml-...  wikibase-item        \n",
       "2  wikidatawiki-20190101-pages-meta-history1.xml-...  wikibase-item        \n",
       "3  wikidatawiki-20190101-pages-meta-history1.xml-...  wikibase-item        \n",
       "4  wikidatawiki-20190101-pages-meta-history1.xml-...  wikibase-item        \n",
       "\n",
       "  page_id page_ns page_title                 timestamp  user_id user_ip  \\\n",
       "0  101383       0     Q98773 2017-06-23 19:37:19+00:00  2437879           \n",
       "1  101383       0     Q98773 2018-01-29 13:38:28+00:00    23475           \n",
       "2  101384       0     Q98774 2017-01-04 17:08:50+00:00    17848           \n",
       "3  101384       0     Q98774 2017-06-06 08:21:58+00:00    38324           \n",
       "4  101384       0     Q98774 2017-06-06 14:59:40+00:00    38324           \n",
       "\n",
       "       user_name  \n",
       "0   Benseid Seid  \n",
       "1         Sporti  \n",
       "2        Assayer  \n",
       "3  Olaf Kosinsky  \n",
       "4  Olaf Kosinsky  "
      ]
     },
     "execution_count": 6,
     "metadata": {},
     "output_type": "execute_result"
    }
   ],
   "source": [
    "df.head()"
   ]
  },
  {
   "cell_type": "markdown",
   "metadata": {},
   "source": [
    "### Load manual label matchers"
   ]
  },
  {
   "cell_type": "code",
   "execution_count": 7,
   "metadata": {},
   "outputs": [],
   "source": [
    "df_manual_labels = pd.read_csv(os.path.join(cfg.get(\"directory\", \"dataset\"), cfg.get(\"dataset\", \"wikidata_aux\"), cfg.get(\"dataset\", \"wikidata_manual_labels\")), engine='python')\n",
    "df_manual_labels['match'] = df_manual_labels['match'].apply(lambda x: \" \" + x.strip() + \" \")"
   ]
  },
  {
   "cell_type": "code",
   "execution_count": 8,
   "metadata": {},
   "outputs": [],
   "source": [
    "comment_regex = re.compile(r\"\\/\\* (.*?):(\\d*)\\|(.*?)( \\*\\/|\\|)\")\n",
    "\n",
    "def split_comment(comment):\n",
    "    if comment == \"\" or pd.isna(comment):\n",
    "        base_action = \"\"\n",
    "        digit = \"\"\n",
    "        language_code = \"\"\n",
    "    else:\n",
    "        match = re.match(comment_regex, comment)\n",
    "        if match is not None:\n",
    "            base_action = match.group(1).strip()\n",
    "            digit = match.group(2).strip()\n",
    "            language_code = match.group(3).strip()\n",
    "        else:\n",
    "            # the re did not match. let's see if we can match anything from the manual labels\n",
    "            comment_lower = comment.lower().replace(\":\", \"\").strip()\n",
    "            comment_lower = \" \" + comment_lower + \" \"\n",
    "            matches = df_manual_labels.loc[df_manual_labels['match'].apply(lambda x: x in comment_lower)] # look for words\n",
    "            if len(matches) > 0:\n",
    "                base_action = matches['label'].value_counts().idxmax() # take the most common label from the matches\n",
    "            else:\n",
    "                base_action = \"\"\n",
    "            digit = \"\"\n",
    "            language_code = \"\"\n",
    "    return {\n",
    "        \"action_base\": base_action,\n",
    "        \"action_digit\": digit,\n",
    "        \"action_language\": language_code\n",
    "    }"
   ]
  },
  {
   "cell_type": "markdown",
   "metadata": {},
   "source": [
    "### Extract labels"
   ]
  },
  {
   "cell_type": "code",
   "execution_count": 9,
   "metadata": {},
   "outputs": [
    {
     "data": {
      "application/vnd.jupyter.widget-view+json": {
       "model_id": "86d545aa631a46dc8e4eadacc22cb863",
       "version_major": 2,
       "version_minor": 0
      },
      "text/plain": [
       "HBox(children=(IntProgress(value=0, max=136771513), HTML(value='')))"
      ]
     },
     "metadata": {},
     "output_type": "display_data"
    },
    {
     "name": "stdout",
     "output_type": "stream",
     "text": [
      "\n"
     ]
    }
   ],
   "source": [
    "df_actions = pd.concat([df, pd.DataFrame.from_records(df['comment'].progress_apply(split_comment))], axis=1)"
   ]
  },
  {
   "cell_type": "code",
   "execution_count": 10,
   "metadata": {},
   "outputs": [
    {
     "data": {
      "text/html": [
       "<div>\n",
       "<style scoped>\n",
       "    .dataframe tbody tr th:only-of-type {\n",
       "        vertical-align: middle;\n",
       "    }\n",
       "\n",
       "    .dataframe tbody tr th {\n",
       "        vertical-align: top;\n",
       "    }\n",
       "\n",
       "    .dataframe thead th {\n",
       "        text-align: right;\n",
       "    }\n",
       "</style>\n",
       "<table border=\"1\" class=\"dataframe\">\n",
       "  <thead>\n",
       "    <tr style=\"text-align: right;\">\n",
       "      <th></th>\n",
       "      <th>comment</th>\n",
       "      <th>dataset_file</th>\n",
       "      <th>model</th>\n",
       "      <th>note</th>\n",
       "      <th>page_id</th>\n",
       "      <th>page_ns</th>\n",
       "      <th>page_title</th>\n",
       "      <th>timestamp</th>\n",
       "      <th>user_id</th>\n",
       "      <th>user_ip</th>\n",
       "      <th>user_name</th>\n",
       "      <th>action_base</th>\n",
       "      <th>action_digit</th>\n",
       "      <th>action_language</th>\n",
       "    </tr>\n",
       "  </thead>\n",
       "  <tbody>\n",
       "    <tr>\n",
       "      <th>0</th>\n",
       "      <td>/* wbsetdescription-add:1|ar */ مؤرخ ألماني</td>\n",
       "      <td>wikidatawiki-20190101-pages-meta-history1.xml-...</td>\n",
       "      <td>wikibase-item</td>\n",
       "      <td></td>\n",
       "      <td>101383</td>\n",
       "      <td>0</td>\n",
       "      <td>Q98773</td>\n",
       "      <td>2017-06-23 19:37:19+00:00</td>\n",
       "      <td>2437879</td>\n",
       "      <td></td>\n",
       "      <td>Benseid Seid</td>\n",
       "      <td>wbsetdescription-add</td>\n",
       "      <td>1</td>\n",
       "      <td>ar</td>\n",
       "    </tr>\n",
       "    <tr>\n",
       "      <th>1</th>\n",
       "      <td>/* wbsetlabel-add:1|sl */ Gerhard Raff, #quick...</td>\n",
       "      <td>wikidatawiki-20190101-pages-meta-history1.xml-...</td>\n",
       "      <td>wikibase-item</td>\n",
       "      <td></td>\n",
       "      <td>101383</td>\n",
       "      <td>0</td>\n",
       "      <td>Q98773</td>\n",
       "      <td>2018-01-29 13:38:28+00:00</td>\n",
       "      <td>23475</td>\n",
       "      <td></td>\n",
       "      <td>Sporti</td>\n",
       "      <td>wbsetlabel-add</td>\n",
       "      <td>1</td>\n",
       "      <td>sl</td>\n",
       "    </tr>\n",
       "    <tr>\n",
       "      <th>2</th>\n",
       "      <td>/* wbsetsitelink-add:1|enwiki */ Wolfram Wette</td>\n",
       "      <td>wikidatawiki-20190101-pages-meta-history1.xml-...</td>\n",
       "      <td>wikibase-item</td>\n",
       "      <td></td>\n",
       "      <td>101384</td>\n",
       "      <td>0</td>\n",
       "      <td>Q98774</td>\n",
       "      <td>2017-01-04 17:08:50+00:00</td>\n",
       "      <td>17848</td>\n",
       "      <td></td>\n",
       "      <td>Assayer</td>\n",
       "      <td>wbsetsitelink-add</td>\n",
       "      <td>1</td>\n",
       "      <td>enwiki</td>\n",
       "    </tr>\n",
       "    <tr>\n",
       "      <th>3</th>\n",
       "      <td>/* wbsetreference-add:2| */ [[Property:P937]]:...</td>\n",
       "      <td>wikidatawiki-20190101-pages-meta-history1.xml-...</td>\n",
       "      <td>wikibase-item</td>\n",
       "      <td></td>\n",
       "      <td>101384</td>\n",
       "      <td>0</td>\n",
       "      <td>Q98774</td>\n",
       "      <td>2017-06-06 08:21:58+00:00</td>\n",
       "      <td>38324</td>\n",
       "      <td></td>\n",
       "      <td>Olaf Kosinsky</td>\n",
       "      <td>wbsetreference-add</td>\n",
       "      <td>2</td>\n",
       "      <td></td>\n",
       "    </tr>\n",
       "    <tr>\n",
       "      <th>4</th>\n",
       "      <td>/* wbcreateclaim-create:1| */ [[Property:P1412...</td>\n",
       "      <td>wikidatawiki-20190101-pages-meta-history1.xml-...</td>\n",
       "      <td>wikibase-item</td>\n",
       "      <td></td>\n",
       "      <td>101384</td>\n",
       "      <td>0</td>\n",
       "      <td>Q98774</td>\n",
       "      <td>2017-06-06 14:59:40+00:00</td>\n",
       "      <td>38324</td>\n",
       "      <td></td>\n",
       "      <td>Olaf Kosinsky</td>\n",
       "      <td>wbcreateclaim-create</td>\n",
       "      <td>1</td>\n",
       "      <td></td>\n",
       "    </tr>\n",
       "  </tbody>\n",
       "</table>\n",
       "</div>"
      ],
      "text/plain": [
       "                                             comment  \\\n",
       "0        /* wbsetdescription-add:1|ar */ مؤرخ ألماني   \n",
       "1  /* wbsetlabel-add:1|sl */ Gerhard Raff, #quick...   \n",
       "2     /* wbsetsitelink-add:1|enwiki */ Wolfram Wette   \n",
       "3  /* wbsetreference-add:2| */ [[Property:P937]]:...   \n",
       "4  /* wbcreateclaim-create:1| */ [[Property:P1412...   \n",
       "\n",
       "                                        dataset_file          model note  \\\n",
       "0  wikidatawiki-20190101-pages-meta-history1.xml-...  wikibase-item        \n",
       "1  wikidatawiki-20190101-pages-meta-history1.xml-...  wikibase-item        \n",
       "2  wikidatawiki-20190101-pages-meta-history1.xml-...  wikibase-item        \n",
       "3  wikidatawiki-20190101-pages-meta-history1.xml-...  wikibase-item        \n",
       "4  wikidatawiki-20190101-pages-meta-history1.xml-...  wikibase-item        \n",
       "\n",
       "  page_id page_ns page_title                 timestamp  user_id user_ip  \\\n",
       "0  101383       0     Q98773 2017-06-23 19:37:19+00:00  2437879           \n",
       "1  101383       0     Q98773 2018-01-29 13:38:28+00:00    23475           \n",
       "2  101384       0     Q98774 2017-01-04 17:08:50+00:00    17848           \n",
       "3  101384       0     Q98774 2017-06-06 08:21:58+00:00    38324           \n",
       "4  101384       0     Q98774 2017-06-06 14:59:40+00:00    38324           \n",
       "\n",
       "       user_name           action_base action_digit action_language  \n",
       "0   Benseid Seid  wbsetdescription-add            1              ar  \n",
       "1         Sporti        wbsetlabel-add            1              sl  \n",
       "2        Assayer     wbsetsitelink-add            1          enwiki  \n",
       "3  Olaf Kosinsky    wbsetreference-add            2                  \n",
       "4  Olaf Kosinsky  wbcreateclaim-create            1                  "
      ]
     },
     "execution_count": 10,
     "metadata": {},
     "output_type": "execute_result"
    }
   ],
   "source": [
    "df_actions.head()"
   ]
  },
  {
   "cell_type": "code",
   "execution_count": 11,
   "metadata": {},
   "outputs": [],
   "source": [
    "df_lookup = df_actions.loc[(df_actions[\"action_base\"] == \"\")]"
   ]
  },
  {
   "cell_type": "code",
   "execution_count": 12,
   "metadata": {},
   "outputs": [
    {
     "data": {
      "text/html": [
       "<div>\n",
       "<style scoped>\n",
       "    .dataframe tbody tr th:only-of-type {\n",
       "        vertical-align: middle;\n",
       "    }\n",
       "\n",
       "    .dataframe tbody tr th {\n",
       "        vertical-align: top;\n",
       "    }\n",
       "\n",
       "    .dataframe thead th {\n",
       "        text-align: right;\n",
       "    }\n",
       "</style>\n",
       "<table border=\"1\" class=\"dataframe\">\n",
       "  <thead>\n",
       "    <tr style=\"text-align: right;\">\n",
       "      <th></th>\n",
       "      <th>comment</th>\n",
       "      <th>dataset_file</th>\n",
       "      <th>model</th>\n",
       "      <th>note</th>\n",
       "      <th>page_id</th>\n",
       "      <th>page_ns</th>\n",
       "      <th>page_title</th>\n",
       "      <th>timestamp</th>\n",
       "      <th>user_id</th>\n",
       "      <th>user_ip</th>\n",
       "      <th>user_name</th>\n",
       "      <th>action_base</th>\n",
       "      <th>action_digit</th>\n",
       "      <th>action_language</th>\n",
       "    </tr>\n",
       "  </thead>\n",
       "  <tbody>\n",
       "    <tr>\n",
       "      <th>15073</th>\n",
       "      <td>\"Label\" aktualisiert</td>\n",
       "      <td>wikidatawiki-20190101-pages-meta-history1.xml-...</td>\n",
       "      <td>wikitext</td>\n",
       "      <td></td>\n",
       "      <td>102766</td>\n",
       "      <td>1198</td>\n",
       "      <td>Translations:Wikidata:Glossary/31/de</td>\n",
       "      <td>2017-05-21 14:13:40+00:00</td>\n",
       "      <td>8206</td>\n",
       "      <td></td>\n",
       "      <td>JakobVoss</td>\n",
       "      <td></td>\n",
       "      <td></td>\n",
       "      <td></td>\n",
       "    </tr>\n",
       "    <tr>\n",
       "      <th>30718</th>\n",
       "      <td>Replaced content with \"mw.loader.using(['media...</td>\n",
       "      <td>wikidatawiki-20190101-pages-meta-history1.xml-...</td>\n",
       "      <td>javascript</td>\n",
       "      <td></td>\n",
       "      <td>104205</td>\n",
       "      <td>2</td>\n",
       "      <td>User:Danmichaelo/common.js</td>\n",
       "      <td>2017-07-27 04:43:00+00:00</td>\n",
       "      <td>4107</td>\n",
       "      <td></td>\n",
       "      <td>Danmichaelo</td>\n",
       "      <td></td>\n",
       "      <td></td>\n",
       "      <td></td>\n",
       "    </tr>\n",
       "    <tr>\n",
       "      <th>36098</th>\n",
       "      <td>/* Angående betjener (P121) */ new section</td>\n",
       "      <td>wikidatawiki-20190101-pages-meta-history1.xml-...</td>\n",
       "      <td>wikitext</td>\n",
       "      <td></td>\n",
       "      <td>104609</td>\n",
       "      <td>3</td>\n",
       "      <td>User talk:Danmichaelo</td>\n",
       "      <td>2017-07-07 10:00:52+00:00</td>\n",
       "      <td>1910369</td>\n",
       "      <td></td>\n",
       "      <td>Pmt</td>\n",
       "      <td></td>\n",
       "      <td></td>\n",
       "      <td></td>\n",
       "    </tr>\n",
       "    <tr>\n",
       "      <th>36099</th>\n",
       "      <td>/* Angående betjener (P121) */</td>\n",
       "      <td>wikidatawiki-20190101-pages-meta-history1.xml-...</td>\n",
       "      <td>wikitext</td>\n",
       "      <td></td>\n",
       "      <td>104609</td>\n",
       "      <td>3</td>\n",
       "      <td>User talk:Danmichaelo</td>\n",
       "      <td>2017-07-07 10:48:32+00:00</td>\n",
       "      <td>4107</td>\n",
       "      <td></td>\n",
       "      <td>Danmichaelo</td>\n",
       "      <td></td>\n",
       "      <td></td>\n",
       "      <td></td>\n",
       "    </tr>\n",
       "    <tr>\n",
       "      <th>36101</th>\n",
       "      <td>/* Angående betjener (P121) */</td>\n",
       "      <td>wikidatawiki-20190101-pages-meta-history1.xml-...</td>\n",
       "      <td>wikitext</td>\n",
       "      <td></td>\n",
       "      <td>104609</td>\n",
       "      <td>3</td>\n",
       "      <td>User talk:Danmichaelo</td>\n",
       "      <td>2017-07-07 10:52:15+00:00</td>\n",
       "      <td>1910369</td>\n",
       "      <td></td>\n",
       "      <td>Pmt</td>\n",
       "      <td></td>\n",
       "      <td></td>\n",
       "      <td></td>\n",
       "    </tr>\n",
       "  </tbody>\n",
       "</table>\n",
       "</div>"
      ],
      "text/plain": [
       "                                                 comment  \\\n",
       "15073                               \"Label\" aktualisiert   \n",
       "30718  Replaced content with \"mw.loader.using(['media...   \n",
       "36098         /* Angående betjener (P121) */ new section   \n",
       "36099                     /* Angående betjener (P121) */   \n",
       "36101                     /* Angående betjener (P121) */   \n",
       "\n",
       "                                            dataset_file       model note  \\\n",
       "15073  wikidatawiki-20190101-pages-meta-history1.xml-...    wikitext        \n",
       "30718  wikidatawiki-20190101-pages-meta-history1.xml-...  javascript        \n",
       "36098  wikidatawiki-20190101-pages-meta-history1.xml-...    wikitext        \n",
       "36099  wikidatawiki-20190101-pages-meta-history1.xml-...    wikitext        \n",
       "36101  wikidatawiki-20190101-pages-meta-history1.xml-...    wikitext        \n",
       "\n",
       "      page_id page_ns                            page_title  \\\n",
       "15073  102766    1198  Translations:Wikidata:Glossary/31/de   \n",
       "30718  104205       2            User:Danmichaelo/common.js   \n",
       "36098  104609       3                 User talk:Danmichaelo   \n",
       "36099  104609       3                 User talk:Danmichaelo   \n",
       "36101  104609       3                 User talk:Danmichaelo   \n",
       "\n",
       "                      timestamp  user_id user_ip    user_name action_base  \\\n",
       "15073 2017-05-21 14:13:40+00:00     8206            JakobVoss               \n",
       "30718 2017-07-27 04:43:00+00:00     4107          Danmichaelo               \n",
       "36098 2017-07-07 10:00:52+00:00  1910369                  Pmt               \n",
       "36099 2017-07-07 10:48:32+00:00     4107          Danmichaelo               \n",
       "36101 2017-07-07 10:52:15+00:00  1910369                  Pmt               \n",
       "\n",
       "      action_digit action_language  \n",
       "15073                               \n",
       "30718                               \n",
       "36098                               \n",
       "36099                               \n",
       "36101                               "
      ]
     },
     "execution_count": 12,
     "metadata": {},
     "output_type": "execute_result"
    }
   ],
   "source": [
    "df_lookup.loc[df_lookup[\"comment\"] != \"\"].head()"
   ]
  },
  {
   "cell_type": "markdown",
   "metadata": {},
   "source": [
    "### Remove unmatched revisions"
   ]
  },
  {
   "cell_type": "code",
   "execution_count": 13,
   "metadata": {},
   "outputs": [
    {
     "name": "stdout",
     "output_type": "stream",
     "text": [
      "Pre unmatched comments 136771513\n",
      "Post unmatched comments 136418103\n"
     ]
    }
   ],
   "source": [
    "print(\"Pre unmatched comments\", len(df_actions))\n",
    "df_actions = df_actions.loc[~(df_actions[\"action_base\"] == \"\")].reset_index(drop=True)\n",
    "print(\"Post unmatched comments\", len(df_actions))"
   ]
  },
  {
   "cell_type": "code",
   "execution_count": 14,
   "metadata": {},
   "outputs": [
    {
     "name": "stdout",
     "output_type": "stream",
     "text": [
      "Num Labels 69\n"
     ]
    }
   ],
   "source": [
    "num_labels = len(df_actions['action_base'].unique())\n",
    "print(\"Num Labels {n}\".format(n=num_labels))"
   ]
  },
  {
   "cell_type": "markdown",
   "metadata": {},
   "source": [
    "### Remove all users with a low number of changes (below threshold)"
   ]
  },
  {
   "cell_type": "code",
   "execution_count": 15,
   "metadata": {},
   "outputs": [],
   "source": [
    "change_threshold = cfg.getint(\"preprocessing\", \"min_num_changes\")"
   ]
  },
  {
   "cell_type": "code",
   "execution_count": 16,
   "metadata": {},
   "outputs": [],
   "source": [
    "df_num_changes = df_actions[\"user_id\"].value_counts()"
   ]
  },
  {
   "cell_type": "code",
   "execution_count": 17,
   "metadata": {},
   "outputs": [
    {
     "data": {
      "text/plain": [
       "2883061    11911579\n",
       "133116     10056849\n",
       "1822        3818507\n",
       "78009       3522027\n",
       "110062      3085793\n",
       "609373      2891172\n",
       "862070      2767516\n",
       "2886706     2499565\n",
       "24057       2162074\n",
       "1062        2018819\n",
       "171448      1983772\n",
       "145693      1913672\n",
       "4115        1598006\n",
       "23475       1574515\n",
       "44949       1570616\n",
       "115508      1330309\n",
       "1134        1098495\n",
       "2727990     1078322\n",
       "38324       1052621\n",
       "4943        1014233\n",
       "7150         982441\n",
       "220959       948067\n",
       "2580335      862762\n",
       "9712         859188\n",
       "609198       841028\n",
       "3361         836339\n",
       "2701887      828695\n",
       "768608       781368\n",
       "3402         744663\n",
       "2029201      712463\n",
       "             ...   \n",
       "2964115           1\n",
       "2817099           1\n",
       "2845311           1\n",
       "3038553           1\n",
       "2953803           1\n",
       "1165888           1\n",
       "2858180           1\n",
       "2868421           1\n",
       "2800226           1\n",
       "1603539           1\n",
       "2810815           1\n",
       "2709799           1\n",
       "2947527           1\n",
       "3053121           1\n",
       "2999125           1\n",
       "3011466           1\n",
       "2964516           1\n",
       "2847982           1\n",
       "2997439           1\n",
       "2895709           1\n",
       "2882665           1\n",
       "3012541           1\n",
       "2037595           1\n",
       "2553616           1\n",
       "2938091           1\n",
       "2631247           1\n",
       "2985211           1\n",
       "3023118           1\n",
       "2759921           1\n",
       "2792886           1\n",
       "Name: user_id, Length: 131120, dtype: int64"
      ]
     },
     "execution_count": 17,
     "metadata": {},
     "output_type": "execute_result"
    }
   ],
   "source": [
    "# look at the users and the number of changes. we will try to detect bots and filter for them later!\n",
    "df_num_changes"
   ]
  },
  {
   "cell_type": "code",
   "execution_count": 18,
   "metadata": {},
   "outputs": [
    {
     "name": "stdout",
     "output_type": "stream",
     "text": [
      "# Revisions before: 136418103\n",
      "# Revisions before: 136418103\n"
     ]
    }
   ],
   "source": [
    "print(\"# Revisions before: {n}\".format(n=len(df_actions)))\n",
    "valid_users = df_num_changes.loc[df_num_changes < change_threshold].index\n",
    "df_actions = df_actions.loc[~df_actions['user_id'].isin(valid_users)].reset_index(drop=True)\n",
    "print(\"# Revisions before: {n}\".format(n=len(df_actions)))"
   ]
  },
  {
   "cell_type": "markdown",
   "metadata": {},
   "source": [
    "### Store Data"
   ]
  },
  {
   "cell_type": "code",
   "execution_count": 19,
   "metadata": {},
   "outputs": [],
   "source": [
    "df_actions.to_pickle(os.path.join(cfg.get(\"directory\", \"exchange\"), \"[wikidata]002_extract_actions.p\"))"
   ]
  },
  {
   "cell_type": "code",
   "execution_count": null,
   "metadata": {},
   "outputs": [],
   "source": []
  }
 ],
 "metadata": {
  "kernelspec": {
   "display_name": "Python 3",
   "language": "python",
   "name": "python3"
  },
  "language_info": {
   "codemirror_mode": {
    "name": "ipython",
    "version": 3
   },
   "file_extension": ".py",
   "mimetype": "text/x-python",
   "name": "python",
   "nbconvert_exporter": "python",
   "pygments_lexer": "ipython3",
   "version": "3.7.1"
  }
 },
 "nbformat": 4,
 "nbformat_minor": 2
}
