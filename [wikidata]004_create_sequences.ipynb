{
 "cells": [
  {
   "cell_type": "code",
   "execution_count": 1,
   "metadata": {},
   "outputs": [],
   "source": [
    "%load_ext autoreload\n",
    "%autoreload 2"
   ]
  },
  {
   "cell_type": "code",
   "execution_count": 2,
   "metadata": {},
   "outputs": [],
   "source": [
    "import os\n",
    "import pandas as pd"
   ]
  },
  {
   "cell_type": "code",
   "execution_count": 3,
   "metadata": {},
   "outputs": [],
   "source": [
    "from multiprocessing.pool import ThreadPool\n",
    "from concurrent.futures import ThreadPoolExecutor"
   ]
  },
  {
   "cell_type": "code",
   "execution_count": 4,
   "metadata": {},
   "outputs": [
    {
     "data": {
      "text/plain": [
       "['config.cfg']"
      ]
     },
     "execution_count": 4,
     "metadata": {},
     "output_type": "execute_result"
    }
   ],
   "source": [
    "from configparser import ConfigParser\n",
    "cfg = ConfigParser()\n",
    "cfg.read(\"config.cfg\")"
   ]
  },
  {
   "cell_type": "code",
   "execution_count": 5,
   "metadata": {},
   "outputs": [],
   "source": [
    "from tqdm._tqdm_notebook import tqdm_notebook as tqdm # we manually import the notebook submodule as the normal one struggles with jupyterlab\n",
    "tqdm.pandas() # this enables us to use progress_apply instead of apply"
   ]
  },
  {
   "cell_type": "code",
   "execution_count": 6,
   "metadata": {},
   "outputs": [],
   "source": [
    "import experimental"
   ]
  },
  {
   "cell_type": "code",
   "execution_count": 7,
   "metadata": {},
   "outputs": [
    {
     "data": {
      "text/html": [
       "<div>\n",
       "<style scoped>\n",
       "    .dataframe tbody tr th:only-of-type {\n",
       "        vertical-align: middle;\n",
       "    }\n",
       "\n",
       "    .dataframe tbody tr th {\n",
       "        vertical-align: top;\n",
       "    }\n",
       "\n",
       "    .dataframe thead th {\n",
       "        text-align: right;\n",
       "    }\n",
       "</style>\n",
       "<table border=\"1\" class=\"dataframe\">\n",
       "  <thead>\n",
       "    <tr style=\"text-align: right;\">\n",
       "      <th></th>\n",
       "      <th>comment</th>\n",
       "      <th>dataset_file</th>\n",
       "      <th>model</th>\n",
       "      <th>note</th>\n",
       "      <th>page_id</th>\n",
       "      <th>page_ns</th>\n",
       "      <th>page_title</th>\n",
       "      <th>timestamp</th>\n",
       "      <th>user_id</th>\n",
       "      <th>user_ip</th>\n",
       "      <th>user_name</th>\n",
       "      <th>action_base</th>\n",
       "      <th>action_digit</th>\n",
       "      <th>action_language</th>\n",
       "      <th>label</th>\n",
       "    </tr>\n",
       "  </thead>\n",
       "  <tbody>\n",
       "    <tr>\n",
       "      <th>0</th>\n",
       "      <td>/* wbsetdescription-add:1|ar */ مؤرخ ألماني</td>\n",
       "      <td>wikidatawiki-20190101-pages-meta-history1.xml-...</td>\n",
       "      <td>wikibase-item</td>\n",
       "      <td></td>\n",
       "      <td>101383</td>\n",
       "      <td>0</td>\n",
       "      <td>Q98773</td>\n",
       "      <td>2017-06-23 19:37:19+00:00</td>\n",
       "      <td>2437879</td>\n",
       "      <td></td>\n",
       "      <td>Benseid Seid</td>\n",
       "      <td>wbsetdescription-add</td>\n",
       "      <td>1</td>\n",
       "      <td>ar</td>\n",
       "      <td>DESCRIPTION_ADD</td>\n",
       "    </tr>\n",
       "    <tr>\n",
       "      <th>1</th>\n",
       "      <td>/* wbsetlabel-add:1|sl */ Gerhard Raff, #quick...</td>\n",
       "      <td>wikidatawiki-20190101-pages-meta-history1.xml-...</td>\n",
       "      <td>wikibase-item</td>\n",
       "      <td></td>\n",
       "      <td>101383</td>\n",
       "      <td>0</td>\n",
       "      <td>Q98773</td>\n",
       "      <td>2018-01-29 13:38:28+00:00</td>\n",
       "      <td>23475</td>\n",
       "      <td></td>\n",
       "      <td>Sporti</td>\n",
       "      <td>wbsetlabel-add</td>\n",
       "      <td>1</td>\n",
       "      <td>sl</td>\n",
       "      <td>LABEL_ADD</td>\n",
       "    </tr>\n",
       "    <tr>\n",
       "      <th>2</th>\n",
       "      <td>/* wbsetsitelink-add:1|enwiki */ Wolfram Wette</td>\n",
       "      <td>wikidatawiki-20190101-pages-meta-history1.xml-...</td>\n",
       "      <td>wikibase-item</td>\n",
       "      <td></td>\n",
       "      <td>101384</td>\n",
       "      <td>0</td>\n",
       "      <td>Q98774</td>\n",
       "      <td>2017-01-04 17:08:50+00:00</td>\n",
       "      <td>17848</td>\n",
       "      <td></td>\n",
       "      <td>Assayer</td>\n",
       "      <td>wbsetsitelink-add</td>\n",
       "      <td>1</td>\n",
       "      <td>enwiki</td>\n",
       "      <td>SITELINK_ADD</td>\n",
       "    </tr>\n",
       "    <tr>\n",
       "      <th>3</th>\n",
       "      <td>/* wbsetreference-add:2| */ [[Property:P937]]:...</td>\n",
       "      <td>wikidatawiki-20190101-pages-meta-history1.xml-...</td>\n",
       "      <td>wikibase-item</td>\n",
       "      <td></td>\n",
       "      <td>101384</td>\n",
       "      <td>0</td>\n",
       "      <td>Q98774</td>\n",
       "      <td>2017-06-06 08:21:58+00:00</td>\n",
       "      <td>38324</td>\n",
       "      <td></td>\n",
       "      <td>Olaf Kosinsky</td>\n",
       "      <td>wbsetreference-add</td>\n",
       "      <td>2</td>\n",
       "      <td></td>\n",
       "      <td>REFERENCE_ADD</td>\n",
       "    </tr>\n",
       "    <tr>\n",
       "      <th>4</th>\n",
       "      <td>/* wbcreateclaim-create:1| */ [[Property:P1412...</td>\n",
       "      <td>wikidatawiki-20190101-pages-meta-history1.xml-...</td>\n",
       "      <td>wikibase-item</td>\n",
       "      <td></td>\n",
       "      <td>101384</td>\n",
       "      <td>0</td>\n",
       "      <td>Q98774</td>\n",
       "      <td>2017-06-06 14:59:40+00:00</td>\n",
       "      <td>38324</td>\n",
       "      <td></td>\n",
       "      <td>Olaf Kosinsky</td>\n",
       "      <td>wbcreateclaim-create</td>\n",
       "      <td>1</td>\n",
       "      <td></td>\n",
       "      <td>CLAIM_CREATE</td>\n",
       "    </tr>\n",
       "  </tbody>\n",
       "</table>\n",
       "</div>"
      ],
      "text/plain": [
       "                                             comment  \\\n",
       "0        /* wbsetdescription-add:1|ar */ مؤرخ ألماني   \n",
       "1  /* wbsetlabel-add:1|sl */ Gerhard Raff, #quick...   \n",
       "2     /* wbsetsitelink-add:1|enwiki */ Wolfram Wette   \n",
       "3  /* wbsetreference-add:2| */ [[Property:P937]]:...   \n",
       "4  /* wbcreateclaim-create:1| */ [[Property:P1412...   \n",
       "\n",
       "                                        dataset_file          model note  \\\n",
       "0  wikidatawiki-20190101-pages-meta-history1.xml-...  wikibase-item        \n",
       "1  wikidatawiki-20190101-pages-meta-history1.xml-...  wikibase-item        \n",
       "2  wikidatawiki-20190101-pages-meta-history1.xml-...  wikibase-item        \n",
       "3  wikidatawiki-20190101-pages-meta-history1.xml-...  wikibase-item        \n",
       "4  wikidatawiki-20190101-pages-meta-history1.xml-...  wikibase-item        \n",
       "\n",
       "  page_id page_ns page_title                 timestamp  user_id user_ip  \\\n",
       "0  101383       0     Q98773 2017-06-23 19:37:19+00:00  2437879           \n",
       "1  101383       0     Q98773 2018-01-29 13:38:28+00:00    23475           \n",
       "2  101384       0     Q98774 2017-01-04 17:08:50+00:00    17848           \n",
       "3  101384       0     Q98774 2017-06-06 08:21:58+00:00    38324           \n",
       "4  101384       0     Q98774 2017-06-06 14:59:40+00:00    38324           \n",
       "\n",
       "       user_name           action_base action_digit action_language  \\\n",
       "0   Benseid Seid  wbsetdescription-add            1              ar   \n",
       "1         Sporti        wbsetlabel-add            1              sl   \n",
       "2        Assayer     wbsetsitelink-add            1          enwiki   \n",
       "3  Olaf Kosinsky    wbsetreference-add            2                   \n",
       "4  Olaf Kosinsky  wbcreateclaim-create            1                   \n",
       "\n",
       "             label  \n",
       "0  DESCRIPTION_ADD  \n",
       "1        LABEL_ADD  \n",
       "2     SITELINK_ADD  \n",
       "3    REFERENCE_ADD  \n",
       "4     CLAIM_CREATE  "
      ]
     },
     "execution_count": 7,
     "metadata": {},
     "output_type": "execute_result"
    }
   ],
   "source": [
    "df_revision = pd.read_pickle(os.path.join(cfg.get(\"directory\", \"exchange\"), \"[wikidata]003_assign_labels.p\"))\n",
    "df_revision.head()"
   ]
  },
  {
   "cell_type": "code",
   "execution_count": 8,
   "metadata": {},
   "outputs": [],
   "source": [
    "grouped_users = df_revision.groupby(\"user_id\")"
   ]
  },
  {
   "cell_type": "code",
   "execution_count": 9,
   "metadata": {},
   "outputs": [],
   "source": [
    "break_label = cfg.get(\"preprocessing\", \"break_label\")\n",
    "break_delta = pd.Timedelta(cfg.get(\"preprocessing\", \"break_min_delta\"))"
   ]
  },
  {
   "cell_type": "raw",
   "metadata": {},
   "source": [
    "def extract_sequence(group):\n",
    "    user_id, revisions = group\n",
    "    revisions_sorted = revisions.sort_values(\"timestamp\")\n",
    "    user_name = revisions_sorted['user_name'].iloc[0]\n",
    "    sequence = []\n",
    "    sequence_nobreak = []\n",
    "    last_ts = None\n",
    "    for i, (_, r) in enumerate(revisions_sorted.iterrows()):\n",
    "        if i > 0:\n",
    "            if r['timestamp'] > last_ts + break_delta:\n",
    "                sequence.append(break_label)\n",
    "        sequence.append(r['label'])\n",
    "        sequence_nobreak.append(r['label'])\n",
    "        last_ts = r['timestamp']\n",
    "    bot_sequence = experimental.detect_bot(revisions_sorted)\n",
    "    bot_name = user_name.endswith(\"bot\") or user_name.endswith(\"Bot\")\n",
    "    user_package = {\n",
    "        \"user_id\": user_id, \n",
    "        \"user_name\": user_name, \n",
    "        \"length\": len(sequence), \n",
    "        \"length_nobreak\": len(sequence_nobreak),\n",
    "        \"sequence\": sequence, \n",
    "        \"bot_sequence\": bot_sequence,\n",
    "        \"bot_name\": bot_name\n",
    "    }\n",
    "    return user_package\n",
    "\n",
    "\n",
    "with ThreadPool(cfg.getint(\"core\", \"num_cores\")) as processor_pool:\n",
    "    users = processor_pool.map(extract_sequence, tqdm(grouped_users))"
   ]
  },
  {
   "cell_type": "code",
   "execution_count": 10,
   "metadata": {},
   "outputs": [
    {
     "data": {
      "application/vnd.jupyter.widget-view+json": {
       "model_id": "5e9a6df7ed784a95a7603ab825a6333a",
       "version_major": 2,
       "version_minor": 0
      },
      "text/plain": [
       "HBox(children=(IntProgress(value=0, max=130916), HTML(value='')))"
      ]
     },
     "metadata": {},
     "output_type": "display_data"
    },
    {
     "name": "stdout",
     "output_type": "stream",
     "text": [
      "\n"
     ]
    }
   ],
   "source": [
    "# use this implementation for singlecore\n",
    "users = []\n",
    "for user_id, revisions in tqdm(grouped_users):\n",
    "    revisions_sorted = revisions.sort_values(\"timestamp\")\n",
    "    user_name = revisions_sorted['user_name'].iloc[0]\n",
    "    sequence = []\n",
    "    sequence_nobreak = []\n",
    "    last_ts = None\n",
    "    for i, (_, r) in enumerate(revisions_sorted.iterrows()):\n",
    "        if i > 0:\n",
    "            if r['timestamp'] > last_ts + break_delta:\n",
    "                sequence.append(break_label)\n",
    "        sequence.append(r['label'])\n",
    "        sequence_nobreak.append(r['label'])\n",
    "        last_ts = r['timestamp']\n",
    "    bot_sequence = experimental.detect_bot(revisions_sorted)\n",
    "    bot_name = user_name.lower().endswith(\"bot\") or user_name.lower().endswith(\"bot*\")\n",
    "    user_package = {\n",
    "        \"user_id\": user_id, \n",
    "        \"user_name\": user_name, \n",
    "        \"length\": len(sequence), \n",
    "        \"length_nobreak\": len(sequence_nobreak),\n",
    "        \"sequence\": sequence, \n",
    "        \"bot_sequence\": bot_sequence,\n",
    "        \"bot_name\": bot_name\n",
    "    }\n",
    "    users.append(user_package)"
   ]
  },
  {
   "cell_type": "code",
   "execution_count": 11,
   "metadata": {},
   "outputs": [
    {
     "name": "stdout",
     "output_type": "stream",
     "text": [
      "done sequencing....\n"
     ]
    }
   ],
   "source": [
    "print(\"done sequencing....\")"
   ]
  },
  {
   "cell_type": "code",
   "execution_count": 12,
   "metadata": {},
   "outputs": [],
   "source": [
    "df_user = pd.DataFrame(users)"
   ]
  },
  {
   "cell_type": "code",
   "execution_count": 13,
   "metadata": {},
   "outputs": [
    {
     "data": {
      "text/html": [
       "<div>\n",
       "<style scoped>\n",
       "    .dataframe tbody tr th:only-of-type {\n",
       "        vertical-align: middle;\n",
       "    }\n",
       "\n",
       "    .dataframe tbody tr th {\n",
       "        vertical-align: top;\n",
       "    }\n",
       "\n",
       "    .dataframe thead th {\n",
       "        text-align: right;\n",
       "    }\n",
       "</style>\n",
       "<table border=\"1\" class=\"dataframe\">\n",
       "  <thead>\n",
       "    <tr style=\"text-align: right;\">\n",
       "      <th></th>\n",
       "      <th>bot_name</th>\n",
       "      <th>bot_sequence</th>\n",
       "      <th>length</th>\n",
       "      <th>length_nobreak</th>\n",
       "      <th>sequence</th>\n",
       "      <th>user_id</th>\n",
       "      <th>user_name</th>\n",
       "    </tr>\n",
       "  </thead>\n",
       "  <tbody>\n",
       "    <tr>\n",
       "      <th>0</th>\n",
       "      <td>False</td>\n",
       "      <td>False</td>\n",
       "      <td>1529</td>\n",
       "      <td>1392</td>\n",
       "      <td>[REVERT_MANUAL, BREAK, CLAIM_CREATE, BREAK, CL...</td>\n",
       "      <td>1</td>\n",
       "      <td>Hoo man</td>\n",
       "    </tr>\n",
       "    <tr>\n",
       "      <th>1</th>\n",
       "      <td>False</td>\n",
       "      <td>False</td>\n",
       "      <td>9</td>\n",
       "      <td>6</td>\n",
       "      <td>[ENTITY_CREATE, BREAK, SITELINK_ADD, BREAK, ME...</td>\n",
       "      <td>1000036</td>\n",
       "      <td>JShenk</td>\n",
       "    </tr>\n",
       "    <tr>\n",
       "      <th>2</th>\n",
       "      <td>False</td>\n",
       "      <td>False</td>\n",
       "      <td>7</td>\n",
       "      <td>4</td>\n",
       "      <td>[SITELINK_ADD, BREAK, SITELINK_ADD, BREAK, SIT...</td>\n",
       "      <td>1000078</td>\n",
       "      <td>Egor-belikov</td>\n",
       "    </tr>\n",
       "    <tr>\n",
       "      <th>3</th>\n",
       "      <td>False</td>\n",
       "      <td>False</td>\n",
       "      <td>9</td>\n",
       "      <td>6</td>\n",
       "      <td>[ENTITY_CREATE, BREAK, SITELINK_REMOVE, SITELI...</td>\n",
       "      <td>100008</td>\n",
       "      <td>Wars</td>\n",
       "    </tr>\n",
       "    <tr>\n",
       "      <th>4</th>\n",
       "      <td>False</td>\n",
       "      <td>False</td>\n",
       "      <td>44</td>\n",
       "      <td>23</td>\n",
       "      <td>[SITELINK_ADD, BREAK, SITELINK_ADD, BREAK, SIT...</td>\n",
       "      <td>100012</td>\n",
       "      <td>Kane 14</td>\n",
       "    </tr>\n",
       "  </tbody>\n",
       "</table>\n",
       "</div>"
      ],
      "text/plain": [
       "   bot_name  bot_sequence  length  length_nobreak  \\\n",
       "0     False         False    1529            1392   \n",
       "1     False         False       9               6   \n",
       "2     False         False       7               4   \n",
       "3     False         False       9               6   \n",
       "4     False         False      44              23   \n",
       "\n",
       "                                            sequence  user_id     user_name  \n",
       "0  [REVERT_MANUAL, BREAK, CLAIM_CREATE, BREAK, CL...        1       Hoo man  \n",
       "1  [ENTITY_CREATE, BREAK, SITELINK_ADD, BREAK, ME...  1000036        JShenk  \n",
       "2  [SITELINK_ADD, BREAK, SITELINK_ADD, BREAK, SIT...  1000078  Egor-belikov  \n",
       "3  [ENTITY_CREATE, BREAK, SITELINK_REMOVE, SITELI...   100008          Wars  \n",
       "4  [SITELINK_ADD, BREAK, SITELINK_ADD, BREAK, SIT...   100012       Kane 14  "
      ]
     },
     "execution_count": 13,
     "metadata": {},
     "output_type": "execute_result"
    }
   ],
   "source": [
    "df_user.head()"
   ]
  },
  {
   "cell_type": "markdown",
   "metadata": {},
   "source": [
    "### Store data"
   ]
  },
  {
   "cell_type": "code",
   "execution_count": 14,
   "metadata": {},
   "outputs": [],
   "source": [
    "df_user.to_pickle(os.path.join(cfg.get(\"directory\", \"exchange\"), \"[wikidata]004_sequences.p\"))"
   ]
  },
  {
   "cell_type": "code",
   "execution_count": 15,
   "metadata": {},
   "outputs": [],
   "source": [
    "all_labels = set(df_revision['label'].unique())\n",
    "all_labels.add(break_label)\n",
    "all_labels = sorted(all_labels)\n",
    "df_label = pd.DataFrame({\"label\": all_labels})\n",
    "# df_label"
   ]
  },
  {
   "cell_type": "code",
   "execution_count": 16,
   "metadata": {},
   "outputs": [],
   "source": [
    "df_label.to_pickle(os.path.join(cfg.get(\"directory\", \"exchange\"), \"[wikidata]004_labels.p\"))"
   ]
  },
  {
   "cell_type": "code",
   "execution_count": 17,
   "metadata": {},
   "outputs": [
    {
     "data": {
      "text/plain": [
       "'complete...'"
      ]
     },
     "execution_count": 17,
     "metadata": {},
     "output_type": "execute_result"
    }
   ],
   "source": [
    "\"complete...\""
   ]
  },
  {
   "cell_type": "code",
   "execution_count": null,
   "metadata": {},
   "outputs": [],
   "source": []
  }
 ],
 "metadata": {
  "kernelspec": {
   "display_name": "Python 3",
   "language": "python",
   "name": "python3"
  },
  "language_info": {
   "codemirror_mode": {
    "name": "ipython",
    "version": 3
   },
   "file_extension": ".py",
   "mimetype": "text/x-python",
   "name": "python",
   "nbconvert_exporter": "python",
   "pygments_lexer": "ipython3",
   "version": "3.7.1"
  }
 },
 "nbformat": 4,
 "nbformat_minor": 2
}
