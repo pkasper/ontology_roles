{
 "cells": [
  {
   "cell_type": "markdown",
   "metadata": {},
   "source": [
    "### Load Config"
   ]
  },
  {
   "cell_type": "code",
   "execution_count": 1,
   "metadata": {},
   "outputs": [],
   "source": [
    "import os\n",
    "import pandas as pd"
   ]
  },
  {
   "cell_type": "code",
   "execution_count": 2,
   "metadata": {},
   "outputs": [
    {
     "data": {
      "text/plain": [
       "['config.cfg']"
      ]
     },
     "execution_count": 2,
     "metadata": {},
     "output_type": "execute_result"
    }
   ],
   "source": [
    "from configparser import ConfigParser\n",
    "cfg = ConfigParser()\n",
    "cfg.read(\"config.cfg\")"
   ]
  },
  {
   "cell_type": "code",
   "execution_count": 3,
   "metadata": {},
   "outputs": [],
   "source": [
    "from tqdm._tqdm_notebook import tqdm_notebook as tqdm # we manually import the notebook submodule as the normal one struggles with jupyterlab\n",
    "tqdm.pandas() # this enables us to use progress_apply instead of apply"
   ]
  },
  {
   "cell_type": "code",
   "execution_count": 4,
   "metadata": {},
   "outputs": [
    {
     "data": {
      "application/vnd.jupyter.widget-view+json": {
       "model_id": "b753a38ed0614d458c5f4cd5b3a5cc36",
       "version_major": 2,
       "version_minor": 0
      },
      "text/plain": [
       "HBox(children=(IntProgress(value=0, max=561), HTML(value='')))"
      ]
     },
     "metadata": {},
     "output_type": "display_data"
    },
    {
     "name": "stdout",
     "output_type": "stream",
     "text": [
      "\n"
     ]
    }
   ],
   "source": [
    "pickle_path = cfg.get(\"directory\", \"pickles\")\n",
    "dataframes = [pd.read_pickle(os.path.join(pickle_path, f)) for f in tqdm(sorted(os.listdir(pickle_path))) if \"df_revisions\" in f and os.path.isfile(os.path.join(pickle_path, f))]"
   ]
  },
  {
   "cell_type": "code",
   "execution_count": 5,
   "metadata": {},
   "outputs": [],
   "source": [
    "df = pd.concat(dataframes, ignore_index=True)"
   ]
  },
  {
   "cell_type": "code",
   "execution_count": 6,
   "metadata": {},
   "outputs": [
    {
     "data": {
      "text/html": [
       "<div>\n",
       "<style scoped>\n",
       "    .dataframe tbody tr th:only-of-type {\n",
       "        vertical-align: middle;\n",
       "    }\n",
       "\n",
       "    .dataframe tbody tr th {\n",
       "        vertical-align: top;\n",
       "    }\n",
       "\n",
       "    .dataframe thead th {\n",
       "        text-align: right;\n",
       "    }\n",
       "</style>\n",
       "<table border=\"1\" class=\"dataframe\">\n",
       "  <thead>\n",
       "    <tr style=\"text-align: right;\">\n",
       "      <th></th>\n",
       "      <th>comment</th>\n",
       "      <th>dataset_file</th>\n",
       "      <th>model</th>\n",
       "      <th>note</th>\n",
       "      <th>page_id</th>\n",
       "      <th>page_ns</th>\n",
       "      <th>page_title</th>\n",
       "      <th>timestamp</th>\n",
       "      <th>user_id</th>\n",
       "      <th>user_ip</th>\n",
       "      <th>user_name</th>\n",
       "    </tr>\n",
       "  </thead>\n",
       "  <tbody>\n",
       "    <tr>\n",
       "      <th>0</th>\n",
       "      <td>/* wbsetentity */ Bötli: Ygfüegt: [[de:Gerhard...</td>\n",
       "      <td>wikidatawiki-20190101-pages-meta-history1.xml-...</td>\n",
       "      <td>wikibase-item</td>\n",
       "      <td></td>\n",
       "      <td>101383</td>\n",
       "      <td>0</td>\n",
       "      <td>Q98773</td>\n",
       "      <td>2012-11-24 07:37:30+00:00</td>\n",
       "      <td>3280</td>\n",
       "      <td></td>\n",
       "      <td>MerlIwBot</td>\n",
       "    </tr>\n",
       "    <tr>\n",
       "      <th>1</th>\n",
       "      <td></td>\n",
       "      <td>wikidatawiki-20190101-pages-meta-history1.xml-...</td>\n",
       "      <td>wikibase-item</td>\n",
       "      <td></td>\n",
       "      <td>101383</td>\n",
       "      <td>0</td>\n",
       "      <td>Q98773</td>\n",
       "      <td>2013-03-15 07:36:57+00:00</td>\n",
       "      <td>5312</td>\n",
       "      <td></td>\n",
       "      <td>BeneBot*</td>\n",
       "    </tr>\n",
       "    <tr>\n",
       "      <th>2</th>\n",
       "      <td></td>\n",
       "      <td>wikidatawiki-20190101-pages-meta-history1.xml-...</td>\n",
       "      <td>wikibase-item</td>\n",
       "      <td></td>\n",
       "      <td>101383</td>\n",
       "      <td>0</td>\n",
       "      <td>Q98773</td>\n",
       "      <td>2013-03-15 07:36:58+00:00</td>\n",
       "      <td>5312</td>\n",
       "      <td></td>\n",
       "      <td>BeneBot*</td>\n",
       "    </tr>\n",
       "    <tr>\n",
       "      <th>3</th>\n",
       "      <td></td>\n",
       "      <td>wikidatawiki-20190101-pages-meta-history1.xml-...</td>\n",
       "      <td>wikibase-item</td>\n",
       "      <td></td>\n",
       "      <td>101383</td>\n",
       "      <td>0</td>\n",
       "      <td>Q98773</td>\n",
       "      <td>2013-03-22 19:45:27+00:00</td>\n",
       "      <td>18825</td>\n",
       "      <td></td>\n",
       "      <td>Legobot</td>\n",
       "    </tr>\n",
       "    <tr>\n",
       "      <th>4</th>\n",
       "      <td>/* wbsetlabel-set:1|nl */ Gerhard Raff</td>\n",
       "      <td>wikidatawiki-20190101-pages-meta-history1.xml-...</td>\n",
       "      <td>wikibase-item</td>\n",
       "      <td></td>\n",
       "      <td>101383</td>\n",
       "      <td>0</td>\n",
       "      <td>Q98773</td>\n",
       "      <td>2013-04-18 08:00:49+00:00</td>\n",
       "      <td>157561</td>\n",
       "      <td></td>\n",
       "      <td>RobotMichiel1972</td>\n",
       "    </tr>\n",
       "  </tbody>\n",
       "</table>\n",
       "</div>"
      ],
      "text/plain": [
       "                                             comment  \\\n",
       "0  /* wbsetentity */ Bötli: Ygfüegt: [[de:Gerhard...   \n",
       "1                                                      \n",
       "2                                                      \n",
       "3                                                      \n",
       "4             /* wbsetlabel-set:1|nl */ Gerhard Raff   \n",
       "\n",
       "                                        dataset_file          model note  \\\n",
       "0  wikidatawiki-20190101-pages-meta-history1.xml-...  wikibase-item        \n",
       "1  wikidatawiki-20190101-pages-meta-history1.xml-...  wikibase-item        \n",
       "2  wikidatawiki-20190101-pages-meta-history1.xml-...  wikibase-item        \n",
       "3  wikidatawiki-20190101-pages-meta-history1.xml-...  wikibase-item        \n",
       "4  wikidatawiki-20190101-pages-meta-history1.xml-...  wikibase-item        \n",
       "\n",
       "  page_id page_ns page_title                 timestamp user_id user_ip  \\\n",
       "0  101383       0     Q98773 2012-11-24 07:37:30+00:00    3280           \n",
       "1  101383       0     Q98773 2013-03-15 07:36:57+00:00    5312           \n",
       "2  101383       0     Q98773 2013-03-15 07:36:58+00:00    5312           \n",
       "3  101383       0     Q98773 2013-03-22 19:45:27+00:00   18825           \n",
       "4  101383       0     Q98773 2013-04-18 08:00:49+00:00  157561           \n",
       "\n",
       "          user_name  \n",
       "0         MerlIwBot  \n",
       "1          BeneBot*  \n",
       "2          BeneBot*  \n",
       "3           Legobot  \n",
       "4  RobotMichiel1972  "
      ]
     },
     "execution_count": 6,
     "metadata": {},
     "output_type": "execute_result"
    }
   ],
   "source": [
    "df.head()"
   ]
  },
  {
   "cell_type": "code",
   "execution_count": 11,
   "metadata": {},
   "outputs": [],
   "source": [
    "#convert this because the concat sometimes makes an object type out of it\n",
    "df['page_ns'] = df['page_ns'].astype(np.int)"
   ]
  },
  {
   "cell_type": "code",
   "execution_count": 12,
   "metadata": {},
   "outputs": [
    {
     "name": "stdout",
     "output_type": "stream",
     "text": [
      "0      396992005\n",
      "120       291592\n",
      "Name: page_ns, dtype: int64\n"
     ]
    }
   ],
   "source": [
    "print(df['page_ns'].value_counts())"
   ]
  },
  {
   "cell_type": "markdown",
   "metadata": {},
   "source": [
    "### Filter for observation window"
   ]
  },
  {
   "cell_type": "code",
   "execution_count": 8,
   "metadata": {},
   "outputs": [],
   "source": [
    "ts_min = pd.to_datetime(cfg.get(\"preprocessing\", \"datetime_from\"), utc=True)\n",
    "ts_max = pd.to_datetime(cfg.get(\"preprocessing\", \"datetime_to\"), utc=True)"
   ]
  },
  {
   "cell_type": "code",
   "execution_count": 9,
   "metadata": {},
   "outputs": [
    {
     "name": "stdout",
     "output_type": "stream",
     "text": [
      "# entries total: 817730117\n",
      "# entries obs window: 399831902\n"
     ]
    }
   ],
   "source": [
    "print(\"# entries total: {n}\".format(n=len(df)))\n",
    "df = df.loc[(ts_min <= df['timestamp']) & (df['timestamp'] <= ts_max)].reset_index(drop=True)\n",
    "print(\"# entries obs window: {n}\".format(n=len(df)))"
   ]
  },
  {
   "cell_type": "markdown",
   "metadata": {},
   "source": [
    "### Filter for target namespaces"
   ]
  },
  {
   "cell_type": "code",
   "execution_count": 10,
   "metadata": {},
   "outputs": [
    {
     "name": "stdout",
     "output_type": "stream",
     "text": [
      "# in all NS: 399831902\n",
      "# entries in target NS: 397283597\n"
     ]
    }
   ],
   "source": [
    "#   0 ... item\n",
    "# 120 ... property\n",
    "print(\"# in all NS: {n}\".format(n=len(df)))\n",
    "df = df.loc[df[\"page_ns\"].isin([0, 120])].reset_index(drop=True)\n",
    "print(\"# entries in target NS: {n}\".format(n=len(df)))"
   ]
  },
  {
   "cell_type": "markdown",
   "metadata": {},
   "source": [
    "### Remove Anonymous Users\n",
    "\n",
    "These are users with no username (np.NaN) but technically have an IP  \n",
    "Here, we ignore these users. But future work may try to recreate users and sessions from IP and other available data"
   ]
  },
  {
   "cell_type": "code",
   "execution_count": 13,
   "metadata": {},
   "outputs": [
    {
     "data": {
      "text/plain": [
       "1416586"
      ]
     },
     "execution_count": 13,
     "metadata": {},
     "output_type": "execute_result"
    }
   ],
   "source": [
    "len(df.loc[pd.isna(df['user_id'])])"
   ]
  },
  {
   "cell_type": "code",
   "execution_count": 14,
   "metadata": {},
   "outputs": [
    {
     "name": "stdout",
     "output_type": "stream",
     "text": [
      "# entries with anonymous users: 397283597\n",
      "# entries without anonymous users: 395867011\n"
     ]
    }
   ],
   "source": [
    "print(\"# entries with anonymous users: {n}\".format(n=len(df)))\n",
    "df = df.loc[~pd.isna(df['user_id'])].reset_index(drop=True)\n",
    "print(\"# entries without anonymous users: {n}\".format(n=len(df)))"
   ]
  },
  {
   "cell_type": "markdown",
   "metadata": {},
   "source": [
    "### Remove Bots"
   ]
  },
  {
   "cell_type": "code",
   "execution_count": null,
   "metadata": {},
   "outputs": [],
   "source": [
    "# fetch files and merge lists\n",
    "\n",
    "aux_files = os.path.join(cfg.get(\"directory\", \"dataset\"), cfg.get(\"dataset\", \"wikidata_aux\"))\n",
    "bot_files = [os.path.join(aux_files, f) for f in os.listdir(aux_files) if \"[BOTS]\" in f]\n",
    "\n",
    "bots = set([])\n",
    "\n",
    "for f in bot_files:\n",
    "    print(\"Bot file: {f}\".format(f=f), end=\"...\")\n",
    "    if f.endswitch(\"[BOTS]manual.txt\"): # we want to filter those later\n",
    "        print(\"skipping\")\n",
    "        continue\n",
    "    with open(f, \"r\") as bot_file:\n",
    "        bots = bots.union(set([x.strip() for x in bot_file.readlines()]))\n",
    "        print(\"done!\")\n",
    "        \n",
    "\n",
    "print(\"# bots: {n}\".format(n=len(bots)))"
   ]
  },
  {
   "cell_type": "code",
   "execution_count": null,
   "metadata": {},
   "outputs": [],
   "source": [
    "# strip bots and reset index to make it go faster\n",
    "print(\"# entries with bots: {n}\".format(n=len(df)))\n",
    "df = df.loc[~df['user_name'].isin(bots)].reset_index(drop=True)\n",
    "print(\"# entries without bots: {n}\".format(n=len(df)))\n",
    "print(\"# users excluding bots: {n}\".format(n=len(df['user_id'].unique())))"
   ]
  },
  {
   "cell_type": "markdown",
   "metadata": {},
   "source": [
    "### Store Data"
   ]
  },
  {
   "cell_type": "code",
   "execution_count": null,
   "metadata": {},
   "outputs": [],
   "source": [
    "df.to_pickle(os.path.join(cfg.get(\"directory\", \"exchange\"), \"[wikidata]001_dataframe_full.p\"))"
   ]
  },
  {
   "cell_type": "code",
   "execution_count": null,
   "metadata": {},
   "outputs": [],
   "source": []
  }
 ],
 "metadata": {
  "kernelspec": {
   "display_name": "Python 3",
   "language": "python",
   "name": "python3"
  },
  "language_info": {
   "codemirror_mode": {
    "name": "ipython",
    "version": 3
   },
   "file_extension": ".py",
   "mimetype": "text/x-python",
   "name": "python",
   "nbconvert_exporter": "python",
   "pygments_lexer": "ipython3",
   "version": "3.7.1"
  }
 },
 "nbformat": 4,
 "nbformat_minor": 2
}
