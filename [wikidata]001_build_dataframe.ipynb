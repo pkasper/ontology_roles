{
 "cells": [
  {
   "cell_type": "markdown",
   "metadata": {},
   "source": [
    "### Load Config"
   ]
  },
  {
   "cell_type": "code",
   "execution_count": 1,
   "metadata": {},
   "outputs": [],
   "source": [
    "import os\n",
    "import pandas as pd"
   ]
  },
  {
   "cell_type": "code",
   "execution_count": 2,
   "metadata": {},
   "outputs": [
    {
     "data": {
      "text/plain": [
       "['config.cfg']"
      ]
     },
     "execution_count": 2,
     "metadata": {},
     "output_type": "execute_result"
    }
   ],
   "source": [
    "from configparser import ConfigParser\n",
    "cfg = ConfigParser()\n",
    "cfg.read(\"config.cfg\")"
   ]
  },
  {
   "cell_type": "code",
   "execution_count": 3,
   "metadata": {},
   "outputs": [],
   "source": [
    "pickle_path = cfg.get(\"directory\", \"pickles\")\n",
    "dataframes = [pd.read_pickle(os.path.join(pickle_path, f)) for f in sorted(os.listdir(pickle_path)) if \"df_revisions\" in f]"
   ]
  },
  {
   "cell_type": "code",
   "execution_count": 4,
   "metadata": {},
   "outputs": [],
   "source": [
    "df = pd.concat(dataframes, ignore_index=True)"
   ]
  },
  {
   "cell_type": "code",
   "execution_count": 5,
   "metadata": {},
   "outputs": [
    {
     "data": {
      "text/html": [
       "<div>\n",
       "<style scoped>\n",
       "    .dataframe tbody tr th:only-of-type {\n",
       "        vertical-align: middle;\n",
       "    }\n",
       "\n",
       "    .dataframe tbody tr th {\n",
       "        vertical-align: top;\n",
       "    }\n",
       "\n",
       "    .dataframe thead th {\n",
       "        text-align: right;\n",
       "    }\n",
       "</style>\n",
       "<table border=\"1\" class=\"dataframe\">\n",
       "  <thead>\n",
       "    <tr style=\"text-align: right;\">\n",
       "      <th></th>\n",
       "      <th>comment</th>\n",
       "      <th>dataset_file</th>\n",
       "      <th>model</th>\n",
       "      <th>note</th>\n",
       "      <th>page_id</th>\n",
       "      <th>page_ns</th>\n",
       "      <th>page_title</th>\n",
       "      <th>timestamp</th>\n",
       "      <th>user_id</th>\n",
       "      <th>user_ip</th>\n",
       "      <th>user_name</th>\n",
       "    </tr>\n",
       "  </thead>\n",
       "  <tbody>\n",
       "    <tr>\n",
       "      <th>0</th>\n",
       "      <td>/* wbeditentity-update:0| */ BOT - Adding desc...</td>\n",
       "      <td>wikidatawiki-20190101-pages-meta-history1.xml-...</td>\n",
       "      <td>wikibase-item</td>\n",
       "      <td></td>\n",
       "      <td>101383</td>\n",
       "      <td>0</td>\n",
       "      <td>Q98773</td>\n",
       "      <td>2017-02-16 08:23:44+00:00</td>\n",
       "      <td>6811</td>\n",
       "      <td></td>\n",
       "      <td>Emijrpbot</td>\n",
       "    </tr>\n",
       "    <tr>\n",
       "      <th>1</th>\n",
       "      <td>/* wbsetdescription-add:1|ar */ مؤرخ ألماني</td>\n",
       "      <td>wikidatawiki-20190101-pages-meta-history1.xml-...</td>\n",
       "      <td>wikibase-item</td>\n",
       "      <td></td>\n",
       "      <td>101383</td>\n",
       "      <td>0</td>\n",
       "      <td>Q98773</td>\n",
       "      <td>2017-06-23 19:37:19+00:00</td>\n",
       "      <td>2437879</td>\n",
       "      <td></td>\n",
       "      <td>Benseid Seid</td>\n",
       "    </tr>\n",
       "    <tr>\n",
       "      <th>2</th>\n",
       "      <td>/* wbeditentity-update:0| */ BOT - Adding desc...</td>\n",
       "      <td>wikidatawiki-20190101-pages-meta-history1.xml-...</td>\n",
       "      <td>wikibase-item</td>\n",
       "      <td></td>\n",
       "      <td>101383</td>\n",
       "      <td>0</td>\n",
       "      <td>Q98773</td>\n",
       "      <td>2017-07-01 23:05:50+00:00</td>\n",
       "      <td>6811</td>\n",
       "      <td></td>\n",
       "      <td>Emijrpbot</td>\n",
       "    </tr>\n",
       "    <tr>\n",
       "      <th>3</th>\n",
       "      <td>/* wbeditentity-update:0| */ BOT - Adding desc...</td>\n",
       "      <td>wikidatawiki-20190101-pages-meta-history1.xml-...</td>\n",
       "      <td>wikibase-item</td>\n",
       "      <td></td>\n",
       "      <td>101383</td>\n",
       "      <td>0</td>\n",
       "      <td>Q98773</td>\n",
       "      <td>2017-09-15 09:33:31+00:00</td>\n",
       "      <td>6811</td>\n",
       "      <td></td>\n",
       "      <td>Emijrpbot</td>\n",
       "    </tr>\n",
       "    <tr>\n",
       "      <th>4</th>\n",
       "      <td>/* wbcreateclaim-create:1| */ [[Property:P373]...</td>\n",
       "      <td>wikidatawiki-20190101-pages-meta-history1.xml-...</td>\n",
       "      <td>wikibase-item</td>\n",
       "      <td></td>\n",
       "      <td>101383</td>\n",
       "      <td>0</td>\n",
       "      <td>Q98773</td>\n",
       "      <td>2017-09-21 22:22:39+00:00</td>\n",
       "      <td>2439297</td>\n",
       "      <td></td>\n",
       "      <td>JhealdBatch</td>\n",
       "    </tr>\n",
       "  </tbody>\n",
       "</table>\n",
       "</div>"
      ],
      "text/plain": [
       "                                             comment  \\\n",
       "0  /* wbeditentity-update:0| */ BOT - Adding desc...   \n",
       "1        /* wbsetdescription-add:1|ar */ مؤرخ ألماني   \n",
       "2  /* wbeditentity-update:0| */ BOT - Adding desc...   \n",
       "3  /* wbeditentity-update:0| */ BOT - Adding desc...   \n",
       "4  /* wbcreateclaim-create:1| */ [[Property:P373]...   \n",
       "\n",
       "                                        dataset_file          model note  \\\n",
       "0  wikidatawiki-20190101-pages-meta-history1.xml-...  wikibase-item        \n",
       "1  wikidatawiki-20190101-pages-meta-history1.xml-...  wikibase-item        \n",
       "2  wikidatawiki-20190101-pages-meta-history1.xml-...  wikibase-item        \n",
       "3  wikidatawiki-20190101-pages-meta-history1.xml-...  wikibase-item        \n",
       "4  wikidatawiki-20190101-pages-meta-history1.xml-...  wikibase-item        \n",
       "\n",
       "  page_id page_ns page_title                 timestamp  user_id user_ip  \\\n",
       "0  101383       0     Q98773 2017-02-16 08:23:44+00:00     6811           \n",
       "1  101383       0     Q98773 2017-06-23 19:37:19+00:00  2437879           \n",
       "2  101383       0     Q98773 2017-07-01 23:05:50+00:00     6811           \n",
       "3  101383       0     Q98773 2017-09-15 09:33:31+00:00     6811           \n",
       "4  101383       0     Q98773 2017-09-21 22:22:39+00:00  2439297           \n",
       "\n",
       "      user_name  \n",
       "0     Emijrpbot  \n",
       "1  Benseid Seid  \n",
       "2     Emijrpbot  \n",
       "3     Emijrpbot  \n",
       "4   JhealdBatch  "
      ]
     },
     "execution_count": 5,
     "metadata": {},
     "output_type": "execute_result"
    }
   ],
   "source": [
    "df.head()"
   ]
  },
  {
   "cell_type": "code",
   "execution_count": 6,
   "metadata": {},
   "outputs": [
    {
     "data": {
      "text/plain": [
       "1381279"
      ]
     },
     "execution_count": 6,
     "metadata": {},
     "output_type": "execute_result"
    }
   ],
   "source": [
    "len(df.loc[~(df['user_ip']==\"\")])"
   ]
  },
  {
   "cell_type": "markdown",
   "metadata": {},
   "source": [
    "### Remove Anonymous Users\n",
    "\n",
    "== Users with no username (np.NaN) but an IP"
   ]
  },
  {
   "cell_type": "code",
   "execution_count": 7,
   "metadata": {},
   "outputs": [
    {
     "name": "stdout",
     "output_type": "stream",
     "text": [
      "# entries with anonymous users: 391642390\n",
      "# entries without anonymous users: 390261111\n"
     ]
    }
   ],
   "source": [
    "print(\"# entries with anonymous users: {n}\".format(n=len(df)))\n",
    "df = df.loc[~pd.isna(df['user_id'])].reset_index(drop=True)\n",
    "print(\"# entries without anonymous users: {n}\".format(n=len(df)))"
   ]
  },
  {
   "cell_type": "markdown",
   "metadata": {},
   "source": [
    "### Remove Bots"
   ]
  },
  {
   "cell_type": "code",
   "execution_count": 8,
   "metadata": {},
   "outputs": [
    {
     "name": "stdout",
     "output_type": "stream",
     "text": [
      "# bots: 424\n"
     ]
    }
   ],
   "source": [
    "# fetch files and merge lists\n",
    "\n",
    "aux_files = os.path.join(cfg.get(\"directory\", \"dataset\"), cfg.get(\"dataset\", \"wikidata_aux\"))\n",
    "bot_files = [os.path.join(aux_files, f) for f in os.listdir(aux_files) if \"[BOTS]\" in f]\n",
    "\n",
    "bots = set([])\n",
    "\n",
    "for f in bot_files:\n",
    "    with open(f, \"r\") as bot_file:\n",
    "        bots = bots.union(set([x.strip() for x in bot_file.readlines()]))\n",
    "        \n",
    "\n",
    "print(\"# bots: {n}\".format(n=len(bots)))"
   ]
  },
  {
   "cell_type": "code",
   "execution_count": 9,
   "metadata": {},
   "outputs": [
    {
     "name": "stdout",
     "output_type": "stream",
     "text": [
      "# entries with bots: 390261111\n",
      "# entries without bots: 141998966\n",
      "# users excluding bots: 130494\n"
     ]
    }
   ],
   "source": [
    "# strip bots and reset index to make it go faster\n",
    "print(\"# entries with bots: {n}\".format(n=len(df)))\n",
    "df = df.loc[~df['user_name'].isin(bots)].reset_index(drop=True)\n",
    "print(\"# entries without bots: {n}\".format(n=len(df)))\n",
    "print(\"# users excluding bots: {n}\".format(n=len(df['user_id'].unique())))"
   ]
  },
  {
   "cell_type": "markdown",
   "metadata": {},
   "source": [
    "### Store Data"
   ]
  },
  {
   "cell_type": "code",
   "execution_count": 11,
   "metadata": {},
   "outputs": [],
   "source": [
    "df.to_pickle(os.path.join(cfg.get(\"directory\", \"exchange\"), \"[wikidata]001_dataframe_full.p\"))"
   ]
  },
  {
   "cell_type": "code",
   "execution_count": null,
   "metadata": {},
   "outputs": [],
   "source": []
  }
 ],
 "metadata": {
  "kernelspec": {
   "display_name": "Python 3",
   "language": "python",
   "name": "python3"
  },
  "language_info": {
   "codemirror_mode": {
    "name": "ipython",
    "version": 3
   },
   "file_extension": ".py",
   "mimetype": "text/x-python",
   "name": "python",
   "nbconvert_exporter": "python",
   "pygments_lexer": "ipython3",
   "version": "3.7.1"
  }
 },
 "nbformat": 4,
 "nbformat_minor": 2
}
