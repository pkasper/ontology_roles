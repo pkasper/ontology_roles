{
 "cells": [
  {
   "cell_type": "code",
   "execution_count": 1,
   "metadata": {},
   "outputs": [],
   "source": [
    "%load_ext autoreload\n",
    "%autoreload 2"
   ]
  },
  {
   "cell_type": "code",
   "execution_count": 2,
   "metadata": {},
   "outputs": [],
   "source": [
    "import os\n",
    "import numpy as np\n",
    "import pandas as pd"
   ]
  },
  {
   "cell_type": "code",
   "execution_count": 3,
   "metadata": {},
   "outputs": [],
   "source": [
    "import lib\n",
    "import plotting"
   ]
  },
  {
   "cell_type": "code",
   "execution_count": 4,
   "metadata": {},
   "outputs": [],
   "source": [
    "from multiprocessing import Pool\n",
    "import pickle\n",
    "from collections import defaultdict"
   ]
  },
  {
   "cell_type": "code",
   "execution_count": 5,
   "metadata": {},
   "outputs": [],
   "source": [
    "from sklearn.cluster import KMeans\n",
    "from sklearn.metrics import silhouette_samples, silhouette_score, calinski_harabaz_score\n",
    "from sklearn.decomposition import PCA"
   ]
  },
  {
   "cell_type": "code",
   "execution_count": 6,
   "metadata": {},
   "outputs": [
    {
     "data": {
      "text/plain": [
       "['config.cfg']"
      ]
     },
     "execution_count": 6,
     "metadata": {},
     "output_type": "execute_result"
    }
   ],
   "source": [
    "from configparser import ConfigParser\n",
    "cfg = ConfigParser()\n",
    "cfg.read(\"config.cfg\")"
   ]
  },
  {
   "cell_type": "code",
   "execution_count": 7,
   "metadata": {},
   "outputs": [],
   "source": [
    "from tqdm._tqdm_notebook import tqdm_notebook as tqdm # we manually import the notebook submodule as the normal one struggles with jupyterlab\n",
    "tqdm.pandas() # this enables us to use progress_apply instead of apply"
   ]
  },
  {
   "cell_type": "code",
   "execution_count": 8,
   "metadata": {},
   "outputs": [],
   "source": [
    "results_prefix = cfg.get(\"results\", \"prefix\")\n",
    "\n",
    "sequence_file = os.path.join(cfg.get(\"directory\", \"exchange\"), \"[wikidata]004_sequences.p\")\n",
    "labels_file = os.path.join(cfg.get(\"directory\", \"exchange\"), \"[wikidata]004_labels_readable.p\")\n",
    "users_file = os.path.join(cfg.get(\"directory\", \"exchange\"), \"[wikidata]004_users.p\")"
   ]
  },
  {
   "cell_type": "code",
   "execution_count": 9,
   "metadata": {},
   "outputs": [
    {
     "data": {
      "text/html": [
       "<div>\n",
       "<style scoped>\n",
       "    .dataframe tbody tr th:only-of-type {\n",
       "        vertical-align: middle;\n",
       "    }\n",
       "\n",
       "    .dataframe tbody tr th {\n",
       "        vertical-align: top;\n",
       "    }\n",
       "\n",
       "    .dataframe thead th {\n",
       "        text-align: right;\n",
       "    }\n",
       "</style>\n",
       "<table border=\"1\" class=\"dataframe\">\n",
       "  <thead>\n",
       "    <tr style=\"text-align: right;\">\n",
       "      <th></th>\n",
       "      <th>bot_name</th>\n",
       "      <th>bot_sequence</th>\n",
       "      <th>length</th>\n",
       "      <th>length_nobreak</th>\n",
       "      <th>sequence</th>\n",
       "      <th>sequence_readable</th>\n",
       "      <th>user_id</th>\n",
       "      <th>user_name</th>\n",
       "    </tr>\n",
       "  </thead>\n",
       "  <tbody>\n",
       "    <tr>\n",
       "      <th>0</th>\n",
       "      <td>False</td>\n",
       "      <td>False</td>\n",
       "      <td>1517</td>\n",
       "      <td>1385</td>\n",
       "      <td>[REVERT_MANUAL, BREAK, CLAIM_CREATE, BREAK, CL...</td>\n",
       "      <td>[Revert Item, Break, Create Claim, Break, Crea...</td>\n",
       "      <td>1</td>\n",
       "      <td>Hoo man</td>\n",
       "    </tr>\n",
       "    <tr>\n",
       "      <th>1</th>\n",
       "      <td>False</td>\n",
       "      <td>False</td>\n",
       "      <td>9</td>\n",
       "      <td>6</td>\n",
       "      <td>[ENTITY_CREATE, BREAK, SITELINK_ADD, BREAK, ME...</td>\n",
       "      <td>[Create Item, Break, Add Sitelink, Break, Merg...</td>\n",
       "      <td>1000036</td>\n",
       "      <td>JShenk</td>\n",
       "    </tr>\n",
       "    <tr>\n",
       "      <th>2</th>\n",
       "      <td>False</td>\n",
       "      <td>False</td>\n",
       "      <td>7</td>\n",
       "      <td>4</td>\n",
       "      <td>[SITELINK_ADD, BREAK, SITELINK_ADD, BREAK, SIT...</td>\n",
       "      <td>[Add Sitelink, Break, Add Sitelink, Break, Add...</td>\n",
       "      <td>1000078</td>\n",
       "      <td>Egor-belikov</td>\n",
       "    </tr>\n",
       "    <tr>\n",
       "      <th>3</th>\n",
       "      <td>False</td>\n",
       "      <td>False</td>\n",
       "      <td>9</td>\n",
       "      <td>6</td>\n",
       "      <td>[ENTITY_CREATE, BREAK, SITELINK_REMOVE, SITELI...</td>\n",
       "      <td>[Create Item, Break, Remove Sitelink, Add Site...</td>\n",
       "      <td>100008</td>\n",
       "      <td>Wars</td>\n",
       "    </tr>\n",
       "    <tr>\n",
       "      <th>4</th>\n",
       "      <td>False</td>\n",
       "      <td>False</td>\n",
       "      <td>44</td>\n",
       "      <td>23</td>\n",
       "      <td>[SITELINK_ADD, BREAK, SITELINK_ADD, BREAK, SIT...</td>\n",
       "      <td>[Add Sitelink, Break, Add Sitelink, Break, Add...</td>\n",
       "      <td>100012</td>\n",
       "      <td>Kane 14</td>\n",
       "    </tr>\n",
       "  </tbody>\n",
       "</table>\n",
       "</div>"
      ],
      "text/plain": [
       "   bot_name  bot_sequence  length  length_nobreak  \\\n",
       "0     False         False    1517            1385   \n",
       "1     False         False       9               6   \n",
       "2     False         False       7               4   \n",
       "3     False         False       9               6   \n",
       "4     False         False      44              23   \n",
       "\n",
       "                                            sequence  \\\n",
       "0  [REVERT_MANUAL, BREAK, CLAIM_CREATE, BREAK, CL...   \n",
       "1  [ENTITY_CREATE, BREAK, SITELINK_ADD, BREAK, ME...   \n",
       "2  [SITELINK_ADD, BREAK, SITELINK_ADD, BREAK, SIT...   \n",
       "3  [ENTITY_CREATE, BREAK, SITELINK_REMOVE, SITELI...   \n",
       "4  [SITELINK_ADD, BREAK, SITELINK_ADD, BREAK, SIT...   \n",
       "\n",
       "                                   sequence_readable  user_id     user_name  \n",
       "0  [Revert Item, Break, Create Claim, Break, Crea...        1       Hoo man  \n",
       "1  [Create Item, Break, Add Sitelink, Break, Merg...  1000036        JShenk  \n",
       "2  [Add Sitelink, Break, Add Sitelink, Break, Add...  1000078  Egor-belikov  \n",
       "3  [Create Item, Break, Remove Sitelink, Add Site...   100008          Wars  \n",
       "4  [Add Sitelink, Break, Add Sitelink, Break, Add...   100012       Kane 14  "
      ]
     },
     "execution_count": 9,
     "metadata": {},
     "output_type": "execute_result"
    }
   ],
   "source": [
    "df = pd.read_pickle(sequence_file)\n",
    "labels = pd.read_pickle(labels_file)['label'].values\n",
    "df.head()"
   ]
  },
  {
   "cell_type": "code",
   "execution_count": 10,
   "metadata": {},
   "outputs": [
    {
     "data": {
      "text/plain": [
       "array(['Add Description', 'Add Item Alias', 'Add Label', 'Add Qualifier',\n",
       "       'Add Reference', 'Add Sitelink', 'Break', 'Create Claim',\n",
       "       'Create Item', 'Create Property', 'Edit Alias', 'Edit Claim',\n",
       "       'Edit Claim Value', 'Edit Description', 'Edit Item', 'Edit Label',\n",
       "       'Edit Qualifier', 'Edit Reference', 'Edit Sitelink', 'Merge Items',\n",
       "       'Override Item', 'Protect Item', 'Redirect Item', 'Remove Alias',\n",
       "       'Remove Claim', 'Remove Description', 'Remove Item',\n",
       "       'Remove Label', 'Remove Qualifier', 'Remove Reference',\n",
       "       'Remove Sitelink', 'Revert Item'], dtype=object)"
      ]
     },
     "execution_count": 10,
     "metadata": {},
     "output_type": "execute_result"
    }
   ],
   "source": [
    "labels"
   ]
  },
  {
   "cell_type": "code",
   "execution_count": 113,
   "metadata": {},
   "outputs": [
    {
     "data": {
      "text/plain": [
       "array([4, 8])"
      ]
     },
     "execution_count": 113,
     "metadata": {},
     "output_type": "execute_result"
    }
   ],
   "source": [
    "kernel_range = np.arange(cfg.getint(\"kmeans\", \"clusters_min\"), cfg.getint(\"kmeans\", \"clusters_max\") + 1)\n",
    "kernel_range = np.array([int(x) for x in cfg.get(\"kmeans\", \"clusters_range\").split(\",\")])\n",
    "kernel_range"
   ]
  },
  {
   "cell_type": "code",
   "execution_count": 12,
   "metadata": {},
   "outputs": [
    {
     "name": "stdout",
     "output_type": "stream",
     "text": [
      "Len unfiltered: 88148\n",
      "Len filtered: 38429\n"
     ]
    }
   ],
   "source": [
    "# filter out short sequences. This is a different filter than the preprocessing one!\n",
    "print(\"Len unfiltered: {n}\".format(n=len(df)))\n",
    "df = df.loc[df[\"length_nobreak\"] >= cfg.getint(\"kmeans\", \"min_num_changes\")].reset_index(drop=True)\n",
    "print(\"Len filtered: {n}\".format(n=len(df)))"
   ]
  },
  {
   "cell_type": "code",
   "execution_count": 13,
   "metadata": {},
   "outputs": [
    {
     "data": {
      "application/vnd.jupyter.widget-view+json": {
       "model_id": "2b83c0397960467dadfd5798f86991e8",
       "version_major": 2,
       "version_minor": 0
      },
      "text/plain": [
       "HBox(children=(IntProgress(value=0, max=38429), HTML(value='')))"
      ]
     },
     "metadata": {},
     "output_type": "display_data"
    },
    {
     "name": "stdout",
     "output_type": "stream",
     "text": [
      "\n"
     ]
    }
   ],
   "source": [
    "def calc_dist(sequence):\n",
    "    dist, pivot = lib.calc_distribution(labels.copy(), sequence)\n",
    "    return np.array(dist)\n",
    "\n",
    "with Pool(cfg.getint(\"core\", \"num_cores\")) as processor_pool:\n",
    "    df['stat_dist'] = processor_pool.map(calc_dist, tqdm(df['sequence_readable']))"
   ]
  },
  {
   "cell_type": "code",
   "execution_count": 14,
   "metadata": {},
   "outputs": [
    {
     "data": {
      "text/html": [
       "<div>\n",
       "<style scoped>\n",
       "    .dataframe tbody tr th:only-of-type {\n",
       "        vertical-align: middle;\n",
       "    }\n",
       "\n",
       "    .dataframe tbody tr th {\n",
       "        vertical-align: top;\n",
       "    }\n",
       "\n",
       "    .dataframe thead th {\n",
       "        text-align: right;\n",
       "    }\n",
       "</style>\n",
       "<table border=\"1\" class=\"dataframe\">\n",
       "  <thead>\n",
       "    <tr style=\"text-align: right;\">\n",
       "      <th></th>\n",
       "      <th>bot_name</th>\n",
       "      <th>bot_sequence</th>\n",
       "      <th>length</th>\n",
       "      <th>length_nobreak</th>\n",
       "      <th>sequence</th>\n",
       "      <th>sequence_readable</th>\n",
       "      <th>user_id</th>\n",
       "      <th>user_name</th>\n",
       "      <th>stat_dist</th>\n",
       "    </tr>\n",
       "  </thead>\n",
       "  <tbody>\n",
       "    <tr>\n",
       "      <th>38424</th>\n",
       "      <td>False</td>\n",
       "      <td>False</td>\n",
       "      <td>555</td>\n",
       "      <td>493</td>\n",
       "      <td>[CLAIM_CREATE, CLAIM_UPDATE, CLAIM_CREATE, CLA...</td>\n",
       "      <td>[Create Claim, Edit Claim, Create Claim, Creat...</td>\n",
       "      <td>999054</td>\n",
       "      <td>Acebarry</td>\n",
       "      <td>[0.026173285198555985, 0.02586206896551725, 0....</td>\n",
       "    </tr>\n",
       "    <tr>\n",
       "      <th>38425</th>\n",
       "      <td>False</td>\n",
       "      <td>False</td>\n",
       "      <td>83</td>\n",
       "      <td>44</td>\n",
       "      <td>[ENTITY_CREATE, BREAK, ENTITY_CREATE, SITELINK...</td>\n",
       "      <td>[Create Item, Break, Create Item, Edit Sitelin...</td>\n",
       "      <td>99933</td>\n",
       "      <td>Biagio2103</td>\n",
       "      <td>[0.025903359039922972, 0.02590335903992298, 0....</td>\n",
       "    </tr>\n",
       "    <tr>\n",
       "      <th>38426</th>\n",
       "      <td>False</td>\n",
       "      <td>False</td>\n",
       "      <td>85</td>\n",
       "      <td>50</td>\n",
       "      <td>[SITELINK_ADD, BREAK, SITELINK_ADD, BREAK, SIT...</td>\n",
       "      <td>[Add Sitelink, Break, Add Sitelink, Break, Add...</td>\n",
       "      <td>99995</td>\n",
       "      <td>Gyimhu</td>\n",
       "      <td>[0.027914614121510667, 0.025862068965517244, 0...</td>\n",
       "    </tr>\n",
       "    <tr>\n",
       "      <th>38427</th>\n",
       "      <td>False</td>\n",
       "      <td>False</td>\n",
       "      <td>30</td>\n",
       "      <td>25</td>\n",
       "      <td>[DESCRIPTION_ADD, DESCRIPTION_ADD, DESCRIPTION...</td>\n",
       "      <td>[Add Description, Add Description, Add Descrip...</td>\n",
       "      <td>999951</td>\n",
       "      <td>Mongrangvebet</td>\n",
       "      <td>[0.1447681331747919, 0.025862068965517238, 0.0...</td>\n",
       "    </tr>\n",
       "    <tr>\n",
       "      <th>38428</th>\n",
       "      <td>False</td>\n",
       "      <td>False</td>\n",
       "      <td>24</td>\n",
       "      <td>14</td>\n",
       "      <td>[SITELINK_UPDATE, BREAK, SITELINK_UPDATE, BREA...</td>\n",
       "      <td>[Edit Sitelink, Break, Edit Sitelink, Break, E...</td>\n",
       "      <td>999994</td>\n",
       "      <td>Alena Pokorná</td>\n",
       "      <td>[0.025961231375193083, 0.025961231375193083, 0...</td>\n",
       "    </tr>\n",
       "  </tbody>\n",
       "</table>\n",
       "</div>"
      ],
      "text/plain": [
       "       bot_name  bot_sequence  length  length_nobreak  \\\n",
       "38424     False         False     555             493   \n",
       "38425     False         False      83              44   \n",
       "38426     False         False      85              50   \n",
       "38427     False         False      30              25   \n",
       "38428     False         False      24              14   \n",
       "\n",
       "                                                sequence  \\\n",
       "38424  [CLAIM_CREATE, CLAIM_UPDATE, CLAIM_CREATE, CLA...   \n",
       "38425  [ENTITY_CREATE, BREAK, ENTITY_CREATE, SITELINK...   \n",
       "38426  [SITELINK_ADD, BREAK, SITELINK_ADD, BREAK, SIT...   \n",
       "38427  [DESCRIPTION_ADD, DESCRIPTION_ADD, DESCRIPTION...   \n",
       "38428  [SITELINK_UPDATE, BREAK, SITELINK_UPDATE, BREA...   \n",
       "\n",
       "                                       sequence_readable user_id  \\\n",
       "38424  [Create Claim, Edit Claim, Create Claim, Creat...  999054   \n",
       "38425  [Create Item, Break, Create Item, Edit Sitelin...   99933   \n",
       "38426  [Add Sitelink, Break, Add Sitelink, Break, Add...   99995   \n",
       "38427  [Add Description, Add Description, Add Descrip...  999951   \n",
       "38428  [Edit Sitelink, Break, Edit Sitelink, Break, E...  999994   \n",
       "\n",
       "           user_name                                          stat_dist  \n",
       "38424       Acebarry  [0.026173285198555985, 0.02586206896551725, 0....  \n",
       "38425     Biagio2103  [0.025903359039922972, 0.02590335903992298, 0....  \n",
       "38426         Gyimhu  [0.027914614121510667, 0.025862068965517244, 0...  \n",
       "38427  Mongrangvebet  [0.1447681331747919, 0.025862068965517238, 0.0...  \n",
       "38428  Alena Pokorná  [0.025961231375193083, 0.025961231375193083, 0...  "
      ]
     },
     "execution_count": 14,
     "metadata": {},
     "output_type": "execute_result"
    }
   ],
   "source": [
    "df.tail()"
   ]
  },
  {
   "cell_type": "code",
   "execution_count": 119,
   "metadata": {},
   "outputs": [
    {
     "data": {
      "text/plain": [
       "1986.6067032709673"
      ]
     },
     "execution_count": 119,
     "metadata": {},
     "output_type": "execute_result"
    }
   ],
   "source": [
    "df['length'].mean()"
   ]
  },
  {
   "cell_type": "code",
   "execution_count": 15,
   "metadata": {},
   "outputs": [
    {
     "data": {
      "text/html": [
       "<div>\n",
       "<style scoped>\n",
       "    .dataframe tbody tr th:only-of-type {\n",
       "        vertical-align: middle;\n",
       "    }\n",
       "\n",
       "    .dataframe tbody tr th {\n",
       "        vertical-align: top;\n",
       "    }\n",
       "\n",
       "    .dataframe thead th {\n",
       "        text-align: right;\n",
       "    }\n",
       "</style>\n",
       "<table border=\"1\" class=\"dataframe\">\n",
       "  <thead>\n",
       "    <tr style=\"text-align: right;\">\n",
       "      <th></th>\n",
       "      <th>bot_name</th>\n",
       "      <th>bot_sequence</th>\n",
       "      <th>length</th>\n",
       "      <th>length_nobreak</th>\n",
       "      <th>sequence</th>\n",
       "      <th>sequence_readable</th>\n",
       "      <th>user_id</th>\n",
       "      <th>user_name</th>\n",
       "      <th>stat_dist</th>\n",
       "    </tr>\n",
       "  </thead>\n",
       "  <tbody>\n",
       "  </tbody>\n",
       "</table>\n",
       "</div>"
      ],
      "text/plain": [
       "Empty DataFrame\n",
       "Columns: [bot_name, bot_sequence, length, length_nobreak, sequence, sequence_readable, user_id, user_name, stat_dist]\n",
       "Index: []"
      ]
     },
     "execution_count": 15,
     "metadata": {},
     "output_type": "execute_result"
    }
   ],
   "source": [
    "df.loc[pd.isna(df['stat_dist'])]"
   ]
  },
  {
   "cell_type": "code",
   "execution_count": 16,
   "metadata": {},
   "outputs": [
    {
     "name": "stdout",
     "output_type": "stream",
     "text": [
      "[0.41699852 0.59538204 0.72375929]\n"
     ]
    }
   ],
   "source": [
    "vectors = np.array([np.array(x) for x in df['stat_dist'].values]) # ensure we have the data in numpy format\n",
    "pca = PCA(n_components=3)\n",
    "plot_vectors = pca.fit_transform(vectors)\n",
    "plot_variance_ratios = pca.explained_variance_ratio_\n",
    "print(plot_variance_ratios.cumsum())"
   ]
  },
  {
   "cell_type": "code",
   "execution_count": 85,
   "metadata": {},
   "outputs": [
    {
     "data": {
      "application/vnd.jupyter.widget-view+json": {
       "model_id": "2e54f87559784b448db4f5bbb2c6e3a0",
       "version_major": 2,
       "version_minor": 0
      },
      "text/plain": [
       "HBox(children=(IntProgress(value=0, max=9), HTML(value='')))"
      ]
     },
     "metadata": {},
     "output_type": "display_data"
    },
    {
     "name": "stdout",
     "output_type": "stream",
     "text": [
      "Num Centroids: 2\n"
     ]
    },
    {
     "name": "stderr",
     "output_type": "stream",
     "text": [
      "/home/pkasper/python/Python-3.7.1/lib/python3.7/site-packages/sklearn/cluster/k_means_.py:971: RuntimeWarning: Explicit initial center position passed: performing only one init in k-means instead of n_init=10\n",
      "  return_n_iter=True)\n"
     ]
    },
    {
     "name": "stdout",
     "output_type": "stream",
     "text": [
      "Average Silhouette Coefficience: 0.33872547867114816\n",
      "Calinksi-Harabaz Score: 18349.84667396173\n",
      "data/results/[WIKIDATA_10]kmeans[2]_silhouette.png\n",
      "data/results/[WIKIDATA_10]kmeans[2]_silhouette.pdf\n",
      "data/results/[WIKIDATA_10]kmeans[2]_clusters.png\n",
      "data/results/[WIKIDATA_10]kmeans[2]_clusters.pdf\n",
      "data/results/[WIKIDATA_10]kmeans[2]_clusters_planar.png\n",
      "data/results/[WIKIDATA_10]kmeans[2]_clusters_planar.pdf\n",
      "data/results/[WIKIDATA_10]kmeans[2]_population.png\n",
      "data/results/[WIKIDATA_10]kmeans[2]_population.pdf\n",
      "Num Centroids: 3\n"
     ]
    },
    {
     "name": "stderr",
     "output_type": "stream",
     "text": [
      "/home/pkasper/python/Python-3.7.1/lib/python3.7/site-packages/sklearn/cluster/k_means_.py:971: RuntimeWarning: Explicit initial center position passed: performing only one init in k-means instead of n_init=10\n",
      "  return_n_iter=True)\n"
     ]
    },
    {
     "name": "stdout",
     "output_type": "stream",
     "text": [
      "Average Silhouette Coefficience: 0.3213767432181204\n",
      "Calinksi-Harabaz Score: 17168.74183263665\n",
      "data/results/[WIKIDATA_10]kmeans[3]_silhouette.png\n",
      "data/results/[WIKIDATA_10]kmeans[3]_silhouette.pdf\n",
      "data/results/[WIKIDATA_10]kmeans[3]_clusters.png\n",
      "data/results/[WIKIDATA_10]kmeans[3]_clusters.pdf\n",
      "data/results/[WIKIDATA_10]kmeans[3]_clusters_planar.png\n",
      "data/results/[WIKIDATA_10]kmeans[3]_clusters_planar.pdf\n",
      "data/results/[WIKIDATA_10]kmeans[3]_population.png\n",
      "data/results/[WIKIDATA_10]kmeans[3]_population.pdf\n",
      "Num Centroids: 4\n"
     ]
    },
    {
     "name": "stderr",
     "output_type": "stream",
     "text": [
      "/home/pkasper/python/Python-3.7.1/lib/python3.7/site-packages/sklearn/cluster/k_means_.py:971: RuntimeWarning: Explicit initial center position passed: performing only one init in k-means instead of n_init=10\n",
      "  return_n_iter=True)\n"
     ]
    },
    {
     "name": "stdout",
     "output_type": "stream",
     "text": [
      "Average Silhouette Coefficience: 0.3630671646489982\n",
      "Calinksi-Harabaz Score: 17143.601574092856\n",
      "data/results/[WIKIDATA_10]kmeans[4]_silhouette.png\n",
      "data/results/[WIKIDATA_10]kmeans[4]_silhouette.pdf\n",
      "data/results/[WIKIDATA_10]kmeans[4]_clusters.png\n",
      "data/results/[WIKIDATA_10]kmeans[4]_clusters.pdf\n",
      "data/results/[WIKIDATA_10]kmeans[4]_clusters_planar.png\n",
      "data/results/[WIKIDATA_10]kmeans[4]_clusters_planar.pdf\n",
      "data/results/[WIKIDATA_10]kmeans[4]_population.png\n",
      "data/results/[WIKIDATA_10]kmeans[4]_population.pdf\n",
      "Num Centroids: 5\n"
     ]
    },
    {
     "name": "stderr",
     "output_type": "stream",
     "text": [
      "/home/pkasper/python/Python-3.7.1/lib/python3.7/site-packages/sklearn/cluster/k_means_.py:971: RuntimeWarning: Explicit initial center position passed: performing only one init in k-means instead of n_init=10\n",
      "  return_n_iter=True)\n"
     ]
    },
    {
     "name": "stdout",
     "output_type": "stream",
     "text": [
      "Average Silhouette Coefficience: 0.355519547705662\n",
      "Calinksi-Harabaz Score: 15709.819307575593\n",
      "data/results/[WIKIDATA_10]kmeans[5]_silhouette.png\n",
      "data/results/[WIKIDATA_10]kmeans[5]_silhouette.pdf\n",
      "data/results/[WIKIDATA_10]kmeans[5]_clusters.png\n",
      "data/results/[WIKIDATA_10]kmeans[5]_clusters.pdf\n",
      "data/results/[WIKIDATA_10]kmeans[5]_clusters_planar.png\n",
      "data/results/[WIKIDATA_10]kmeans[5]_clusters_planar.pdf\n",
      "data/results/[WIKIDATA_10]kmeans[5]_population.png\n",
      "data/results/[WIKIDATA_10]kmeans[5]_population.pdf\n",
      "Num Centroids: 6\n"
     ]
    },
    {
     "name": "stderr",
     "output_type": "stream",
     "text": [
      "/home/pkasper/python/Python-3.7.1/lib/python3.7/site-packages/sklearn/cluster/k_means_.py:971: RuntimeWarning: Explicit initial center position passed: performing only one init in k-means instead of n_init=10\n",
      "  return_n_iter=True)\n"
     ]
    },
    {
     "name": "stdout",
     "output_type": "stream",
     "text": [
      "Average Silhouette Coefficience: 0.288789152558481\n",
      "Calinksi-Harabaz Score: 14545.207617016478\n",
      "data/results/[WIKIDATA_10]kmeans[6]_silhouette.png\n",
      "data/results/[WIKIDATA_10]kmeans[6]_silhouette.pdf\n",
      "data/results/[WIKIDATA_10]kmeans[6]_clusters.png\n",
      "data/results/[WIKIDATA_10]kmeans[6]_clusters.pdf\n",
      "data/results/[WIKIDATA_10]kmeans[6]_clusters_planar.png\n",
      "data/results/[WIKIDATA_10]kmeans[6]_clusters_planar.pdf\n",
      "data/results/[WIKIDATA_10]kmeans[6]_population.png\n",
      "data/results/[WIKIDATA_10]kmeans[6]_population.pdf\n",
      "Num Centroids: 7\n"
     ]
    },
    {
     "name": "stderr",
     "output_type": "stream",
     "text": [
      "/home/pkasper/python/Python-3.7.1/lib/python3.7/site-packages/sklearn/cluster/k_means_.py:971: RuntimeWarning: Explicit initial center position passed: performing only one init in k-means instead of n_init=10\n",
      "  return_n_iter=True)\n"
     ]
    },
    {
     "name": "stdout",
     "output_type": "stream",
     "text": [
      "Average Silhouette Coefficience: 0.2915417479788477\n",
      "Calinksi-Harabaz Score: 13472.952817917747\n",
      "data/results/[WIKIDATA_10]kmeans[7]_silhouette.png\n",
      "data/results/[WIKIDATA_10]kmeans[7]_silhouette.pdf\n",
      "data/results/[WIKIDATA_10]kmeans[7]_clusters.png\n",
      "data/results/[WIKIDATA_10]kmeans[7]_clusters.pdf\n",
      "data/results/[WIKIDATA_10]kmeans[7]_clusters_planar.png\n",
      "data/results/[WIKIDATA_10]kmeans[7]_clusters_planar.pdf\n",
      "data/results/[WIKIDATA_10]kmeans[7]_population.png\n",
      "data/results/[WIKIDATA_10]kmeans[7]_population.pdf\n",
      "Num Centroids: 8\n"
     ]
    },
    {
     "name": "stderr",
     "output_type": "stream",
     "text": [
      "/home/pkasper/python/Python-3.7.1/lib/python3.7/site-packages/sklearn/cluster/k_means_.py:971: RuntimeWarning: Explicit initial center position passed: performing only one init in k-means instead of n_init=10\n",
      "  return_n_iter=True)\n"
     ]
    },
    {
     "name": "stdout",
     "output_type": "stream",
     "text": [
      "Average Silhouette Coefficience: 0.2938757616138862\n",
      "Calinksi-Harabaz Score: 12778.008198029946\n",
      "data/results/[WIKIDATA_10]kmeans[8]_silhouette.png\n",
      "data/results/[WIKIDATA_10]kmeans[8]_silhouette.pdf\n",
      "data/results/[WIKIDATA_10]kmeans[8]_clusters.png\n",
      "data/results/[WIKIDATA_10]kmeans[8]_clusters.pdf\n",
      "data/results/[WIKIDATA_10]kmeans[8]_clusters_planar.png\n",
      "data/results/[WIKIDATA_10]kmeans[8]_clusters_planar.pdf\n",
      "data/results/[WIKIDATA_10]kmeans[8]_population.png\n",
      "data/results/[WIKIDATA_10]kmeans[8]_population.pdf\n",
      "Num Centroids: 9\n"
     ]
    },
    {
     "name": "stderr",
     "output_type": "stream",
     "text": [
      "/home/pkasper/python/Python-3.7.1/lib/python3.7/site-packages/sklearn/cluster/k_means_.py:971: RuntimeWarning: Explicit initial center position passed: performing only one init in k-means instead of n_init=10\n",
      "  return_n_iter=True)\n"
     ]
    },
    {
     "name": "stdout",
     "output_type": "stream",
     "text": [
      "Average Silhouette Coefficience: 0.29066016614284335\n",
      "Calinksi-Harabaz Score: 12347.531379953112\n",
      "data/results/[WIKIDATA_10]kmeans[9]_silhouette.png\n",
      "data/results/[WIKIDATA_10]kmeans[9]_silhouette.pdf\n",
      "data/results/[WIKIDATA_10]kmeans[9]_clusters.png\n",
      "data/results/[WIKIDATA_10]kmeans[9]_clusters.pdf\n",
      "data/results/[WIKIDATA_10]kmeans[9]_clusters_planar.png\n",
      "data/results/[WIKIDATA_10]kmeans[9]_clusters_planar.pdf\n",
      "data/results/[WIKIDATA_10]kmeans[9]_population.png\n",
      "data/results/[WIKIDATA_10]kmeans[9]_population.pdf\n",
      "Num Centroids: 10\n"
     ]
    },
    {
     "name": "stderr",
     "output_type": "stream",
     "text": [
      "/home/pkasper/python/Python-3.7.1/lib/python3.7/site-packages/sklearn/cluster/k_means_.py:971: RuntimeWarning: Explicit initial center position passed: performing only one init in k-means instead of n_init=10\n",
      "  return_n_iter=True)\n"
     ]
    },
    {
     "name": "stdout",
     "output_type": "stream",
     "text": [
      "Average Silhouette Coefficience: 0.294101342255147\n",
      "Calinksi-Harabaz Score: 11947.400051660221\n",
      "data/results/[WIKIDATA_10]kmeans[10]_silhouette.png\n",
      "data/results/[WIKIDATA_10]kmeans[10]_silhouette.pdf\n",
      "data/results/[WIKIDATA_10]kmeans[10]_clusters.png\n",
      "data/results/[WIKIDATA_10]kmeans[10]_clusters.pdf\n",
      "data/results/[WIKIDATA_10]kmeans[10]_clusters_planar.png\n",
      "data/results/[WIKIDATA_10]kmeans[10]_clusters_planar.pdf\n",
      "data/results/[WIKIDATA_10]kmeans[10]_population.png\n",
      "data/results/[WIKIDATA_10]kmeans[10]_population.pdf\n"
     ]
    }
   ],
   "source": [
    "centroids = {}    \n",
    "centroids_file = os.path.join(cfg.get(\"directory\", \"exchange\"), results_prefix + \"001_centroids.p\")\n",
    "load_centroids = cfg.getboolean(\"kmeans\", \"load_centroids\") and os.path.isfile(centroids_file)\n",
    "for num_centroids in tqdm(kernel_range):    \n",
    "    kmeans = None\n",
    "\n",
    "    print(\"Num Centroids: {n}\".format(n=num_centroids))\n",
    "    if load_centroids:\n",
    "        with open(centroids_file, \"rb\") as dump_file:\n",
    "            centroids = pickle.load(dump_file)\n",
    "        kmeans = KMeans(n_clusters=num_centroids, init=centroids[num_centroids])\n",
    "    else:\n",
    "        kmeans = KMeans(n_clusters=num_centroids, random_state=cfg.getint(\"kmeans\", \"random_state\"))\n",
    "        \n",
    "    kmeans.fit_predict(vectors)\n",
    "    \n",
    "    lbl = kmeans.labels_\n",
    "    centroids[num_centroids] = kmeans.cluster_centers_\n",
    "    \n",
    "    silhouette_avg = silhouette_score(vectors, lbl)\n",
    "    print(\"Average Silhouette Coefficience: {s}\".format(s=silhouette_avg))\n",
    "    calinski_score = calinski_harabaz_score(vectors, lbl)\n",
    "    print(\"Calinksi-Harabaz Score: {s}\".format(s=calinski_score))\n",
    "    sample_silhouette_values = silhouette_samples(vectors, lbl)\n",
    "    \n",
    "    store_path = os.path.join(cfg.get(\"directory\", \"results\"), results_prefix + \"kmeans[{n}]\".format(n=num_centroids))\n",
    "    cluster_lbl = \"kmeans_{n}\".format(n=num_centroids)\n",
    "    df[cluster_lbl] = lbl\n",
    "    plotting.k_means(plot_vectors, plot_variance_ratios, num_centroids, lbl, sample_silhouette_values, silhouette_avg, store_path)\n",
    "    \n",
    "if cfg.getboolean(\"kmeans\", \"store_centroids\"):\n",
    "    with open(centroids_file, \"wb\") as dump_file:\n",
    "        pickle.dump(centroids, dump_file)"
   ]
  },
  {
   "cell_type": "code",
   "execution_count": 18,
   "metadata": {},
   "outputs": [],
   "source": [
    "df.to_pickle(os.path.join(cfg.get(\"directory\", \"exchange\"), results_prefix + \"001_clustering.p\"))"
   ]
  },
  {
   "cell_type": "code",
   "execution_count": 19,
   "metadata": {},
   "outputs": [],
   "source": [
    "#load here to skip previous calculations if you already have em\n",
    "df = pd.read_pickle(os.path.join(cfg.get(\"directory\", \"exchange\"), results_prefix + \"001_clustering.p\"))"
   ]
  },
  {
   "cell_type": "code",
   "execution_count": 120,
   "metadata": {},
   "outputs": [
    {
     "data": {
      "text/plain": [
       "['Break',\n",
       " 'Create Item',\n",
       " 'Merge Items',\n",
       " 'Create Claim',\n",
       " 'Edit Claim',\n",
       " 'Remove Claim',\n",
       " 'Add Reference',\n",
       " 'Add Label',\n",
       " 'Add Description',\n",
       " 'Add Sitelink',\n",
       " 'Edit Sitelink']"
      ]
     },
     "execution_count": 120,
     "metadata": {},
     "output_type": "execute_result"
    }
   ],
   "source": [
    "labels_filtered = sorted(['Add Description', 'Add Label', 'Add Qualifier', 'Add Reference', 'Add Sitelink', 'Break', 'Create Claim', 'Create Item', 'Edit Claim', 'Remove Claim'])\n",
    "labels_filtered = [\"Break\", \"Create Claim\", \"Edit Claim\", \"Remove Claim\", \"Add Description\", \"Edit Description\", \"Merge Items\", \"Add Sitelink\", \"Edit Sitelink\"]\n",
    "labels_filtered = [\"Break\", \"Create Item\", \"Merge Items\", \"Create Claim\", \"Edit Claim\", \"Remove Claim\", \"Add Reference\", \"Add Label\", \"Add Description\", \"Add Sitelink\", \"Edit Sitelink\"]\n",
    "labels_filtered"
   ]
  },
  {
   "cell_type": "code",
   "execution_count": 121,
   "metadata": {},
   "outputs": [
    {
     "data": {
      "text/html": [
       "<div>\n",
       "<style scoped>\n",
       "    .dataframe tbody tr th:only-of-type {\n",
       "        vertical-align: middle;\n",
       "    }\n",
       "\n",
       "    .dataframe tbody tr th {\n",
       "        vertical-align: top;\n",
       "    }\n",
       "\n",
       "    .dataframe thead th {\n",
       "        text-align: right;\n",
       "    }\n",
       "</style>\n",
       "<table border=\"1\" class=\"dataframe\">\n",
       "  <thead>\n",
       "    <tr style=\"text-align: right;\">\n",
       "      <th></th>\n",
       "      <th>bot_name</th>\n",
       "      <th>bot_sequence</th>\n",
       "      <th>length</th>\n",
       "      <th>length_nobreak</th>\n",
       "      <th>sequence</th>\n",
       "      <th>sequence_readable</th>\n",
       "      <th>user_id</th>\n",
       "      <th>user_name</th>\n",
       "      <th>stat_dist</th>\n",
       "      <th>kmeans_4</th>\n",
       "      <th>kmeans_8</th>\n",
       "      <th>kmeans_2</th>\n",
       "      <th>kmeans_3</th>\n",
       "      <th>kmeans_5</th>\n",
       "      <th>kmeans_6</th>\n",
       "      <th>kmeans_7</th>\n",
       "      <th>kmeans_9</th>\n",
       "      <th>kmeans_10</th>\n",
       "    </tr>\n",
       "  </thead>\n",
       "  <tbody>\n",
       "    <tr>\n",
       "      <th>0</th>\n",
       "      <td>False</td>\n",
       "      <td>False</td>\n",
       "      <td>1517</td>\n",
       "      <td>1385</td>\n",
       "      <td>[REVERT_MANUAL, BREAK, CLAIM_CREATE, BREAK, CL...</td>\n",
       "      <td>[Revert Item, Break, Create Claim, Break, Crea...</td>\n",
       "      <td>1</td>\n",
       "      <td>Hoo man</td>\n",
       "      <td>[0.033592832488441825, 0.029154644609674315, 0...</td>\n",
       "      <td>0</td>\n",
       "      <td>3</td>\n",
       "      <td>0</td>\n",
       "      <td>0</td>\n",
       "      <td>3</td>\n",
       "      <td>3</td>\n",
       "      <td>1</td>\n",
       "      <td>0</td>\n",
       "      <td>0</td>\n",
       "    </tr>\n",
       "    <tr>\n",
       "      <th>1</th>\n",
       "      <td>False</td>\n",
       "      <td>False</td>\n",
       "      <td>44</td>\n",
       "      <td>23</td>\n",
       "      <td>[SITELINK_ADD, BREAK, SITELINK_ADD, BREAK, SIT...</td>\n",
       "      <td>[Add Sitelink, Break, Add Sitelink, Break, Add...</td>\n",
       "      <td>100012</td>\n",
       "      <td>Kane 14</td>\n",
       "      <td>[0.02586206896551723, 0.025862068965517227, 0....</td>\n",
       "      <td>2</td>\n",
       "      <td>1</td>\n",
       "      <td>1</td>\n",
       "      <td>1</td>\n",
       "      <td>1</td>\n",
       "      <td>0</td>\n",
       "      <td>5</td>\n",
       "      <td>1</td>\n",
       "      <td>1</td>\n",
       "    </tr>\n",
       "    <tr>\n",
       "      <th>2</th>\n",
       "      <td>False</td>\n",
       "      <td>False</td>\n",
       "      <td>17</td>\n",
       "      <td>12</td>\n",
       "      <td>[LABEL_UPDATE, ALIAS_ADD, BREAK, CLAIM_CREATE,...</td>\n",
       "      <td>[Edit Label, Add Item Alias, Break, Create Cla...</td>\n",
       "      <td>1000197</td>\n",
       "      <td>Zaizone</td>\n",
       "      <td>[0.026205469193709592, 0.07779210211701826, 0....</td>\n",
       "      <td>1</td>\n",
       "      <td>5</td>\n",
       "      <td>1</td>\n",
       "      <td>2</td>\n",
       "      <td>4</td>\n",
       "      <td>1</td>\n",
       "      <td>0</td>\n",
       "      <td>6</td>\n",
       "      <td>2</td>\n",
       "    </tr>\n",
       "    <tr>\n",
       "      <th>3</th>\n",
       "      <td>False</td>\n",
       "      <td>False</td>\n",
       "      <td>91</td>\n",
       "      <td>82</td>\n",
       "      <td>[SITELINK_UPDATE, BREAK, LABEL_ADD, CLAIM_CREA...</td>\n",
       "      <td>[Edit Sitelink, Break, Add Label, Create Claim...</td>\n",
       "      <td>1001159</td>\n",
       "      <td>Gogo hr</td>\n",
       "      <td>[0.04118566424353361, 0.03162035177772598, 0.0...</td>\n",
       "      <td>0</td>\n",
       "      <td>0</td>\n",
       "      <td>0</td>\n",
       "      <td>0</td>\n",
       "      <td>3</td>\n",
       "      <td>4</td>\n",
       "      <td>6</td>\n",
       "      <td>7</td>\n",
       "      <td>4</td>\n",
       "    </tr>\n",
       "    <tr>\n",
       "      <th>4</th>\n",
       "      <td>False</td>\n",
       "      <td>False</td>\n",
       "      <td>21</td>\n",
       "      <td>12</td>\n",
       "      <td>[DESCRIPTION_ADD, BREAK, DESCRIPTION_UPDATE, D...</td>\n",
       "      <td>[Add Description, Break, Edit Description, Add...</td>\n",
       "      <td>1001194</td>\n",
       "      <td>Phylosofo</td>\n",
       "      <td>[0.08620689655172406, 0.025862068965517255, 0....</td>\n",
       "      <td>1</td>\n",
       "      <td>7</td>\n",
       "      <td>1</td>\n",
       "      <td>2</td>\n",
       "      <td>0</td>\n",
       "      <td>5</td>\n",
       "      <td>4</td>\n",
       "      <td>8</td>\n",
       "      <td>5</td>\n",
       "    </tr>\n",
       "  </tbody>\n",
       "</table>\n",
       "</div>"
      ],
      "text/plain": [
       "   bot_name  bot_sequence  length  length_nobreak  \\\n",
       "0     False         False    1517            1385   \n",
       "1     False         False      44              23   \n",
       "2     False         False      17              12   \n",
       "3     False         False      91              82   \n",
       "4     False         False      21              12   \n",
       "\n",
       "                                            sequence  \\\n",
       "0  [REVERT_MANUAL, BREAK, CLAIM_CREATE, BREAK, CL...   \n",
       "1  [SITELINK_ADD, BREAK, SITELINK_ADD, BREAK, SIT...   \n",
       "2  [LABEL_UPDATE, ALIAS_ADD, BREAK, CLAIM_CREATE,...   \n",
       "3  [SITELINK_UPDATE, BREAK, LABEL_ADD, CLAIM_CREA...   \n",
       "4  [DESCRIPTION_ADD, BREAK, DESCRIPTION_UPDATE, D...   \n",
       "\n",
       "                                   sequence_readable  user_id  user_name  \\\n",
       "0  [Revert Item, Break, Create Claim, Break, Crea...        1    Hoo man   \n",
       "1  [Add Sitelink, Break, Add Sitelink, Break, Add...   100012    Kane 14   \n",
       "2  [Edit Label, Add Item Alias, Break, Create Cla...  1000197    Zaizone   \n",
       "3  [Edit Sitelink, Break, Add Label, Create Claim...  1001159    Gogo hr   \n",
       "4  [Add Description, Break, Edit Description, Add...  1001194  Phylosofo   \n",
       "\n",
       "                                           stat_dist  kmeans_4  kmeans_8  \\\n",
       "0  [0.033592832488441825, 0.029154644609674315, 0...         0         3   \n",
       "1  [0.02586206896551723, 0.025862068965517227, 0....         2         1   \n",
       "2  [0.026205469193709592, 0.07779210211701826, 0....         1         5   \n",
       "3  [0.04118566424353361, 0.03162035177772598, 0.0...         0         0   \n",
       "4  [0.08620689655172406, 0.025862068965517255, 0....         1         7   \n",
       "\n",
       "   kmeans_2  kmeans_3  kmeans_5  kmeans_6  kmeans_7  kmeans_9  kmeans_10  \n",
       "0         0         0         3         3         1         0          0  \n",
       "1         1         1         1         0         5         1          1  \n",
       "2         1         2         4         1         0         6          2  \n",
       "3         0         0         3         4         6         7          4  \n",
       "4         1         2         0         5         4         8          5  "
      ]
     },
     "execution_count": 121,
     "metadata": {},
     "output_type": "execute_result"
    }
   ],
   "source": [
    "df.head()"
   ]
  },
  {
   "cell_type": "code",
   "execution_count": 122,
   "metadata": {},
   "outputs": [
    {
     "data": {
      "text/plain": [
       "'SEP'"
      ]
     },
     "execution_count": 122,
     "metadata": {},
     "output_type": "execute_result"
    }
   ],
   "source": [
    "sep_label = cfg.get(\"preprocessing\", \"separator_label\")\n",
    "sep_label"
   ]
  },
  {
   "cell_type": "code",
   "execution_count": 123,
   "metadata": {},
   "outputs": [
    {
     "data": {
      "text/plain": [
       "array([4, 8])"
      ]
     },
     "execution_count": 123,
     "metadata": {},
     "output_type": "execute_result"
    }
   ],
   "source": [
    "kernel_range"
   ]
  },
  {
   "cell_type": "code",
   "execution_count": 125,
   "metadata": {},
   "outputs": [
    {
     "name": "stdout",
     "output_type": "stream",
     "text": [
      "Current k: 4\n"
     ]
    },
    {
     "data": {
      "application/vnd.jupyter.widget-view+json": {
       "model_id": "d721eac2215f4816ab5527b736577f84",
       "version_major": 2,
       "version_minor": 0
      },
      "text/plain": [
       "HBox(children=(IntProgress(value=0, max=4), HTML(value='')))"
      ]
     },
     "metadata": {},
     "output_type": "display_data"
    },
    {
     "ename": "KeyboardInterrupt",
     "evalue": "",
     "output_type": "error",
     "traceback": [
      "\u001b[0;31m---------------------------------------------------------------------------\u001b[0m",
      "\u001b[0;31mKeyboardInterrupt\u001b[0m                         Traceback (most recent call last)",
      "\u001b[0;32m<ipython-input-125-2ca334e1d165>\u001b[0m in \u001b[0;36m<module>\u001b[0;34m\u001b[0m\n\u001b[1;32m     19\u001b[0m         \u001b[0maction_df\u001b[0m\u001b[0;34m[\u001b[0m\u001b[0;34m'to'\u001b[0m\u001b[0;34m]\u001b[0m \u001b[0;34m=\u001b[0m \u001b[0maction_df\u001b[0m\u001b[0;34m[\u001b[0m\u001b[0;34m'from'\u001b[0m\u001b[0;34m]\u001b[0m\u001b[0;34m.\u001b[0m\u001b[0mshift\u001b[0m\u001b[0;34m(\u001b[0m\u001b[0mperiods\u001b[0m\u001b[0;34m=\u001b[0m\u001b[0;34m-\u001b[0m\u001b[0;36m1\u001b[0m\u001b[0;34m)\u001b[0m\u001b[0;34m\u001b[0m\u001b[0;34m\u001b[0m\u001b[0m\n\u001b[1;32m     20\u001b[0m \u001b[0;34m\u001b[0m\u001b[0m\n\u001b[0;32m---> 21\u001b[0;31m         \u001b[0mpivot\u001b[0m \u001b[0;34m=\u001b[0m \u001b[0mpd\u001b[0m\u001b[0;34m.\u001b[0m\u001b[0mcrosstab\u001b[0m\u001b[0;34m(\u001b[0m\u001b[0maction_df\u001b[0m\u001b[0;34m[\u001b[0m\u001b[0;34m'from'\u001b[0m\u001b[0;34m]\u001b[0m\u001b[0;34m,\u001b[0m \u001b[0maction_df\u001b[0m\u001b[0;34m[\u001b[0m\u001b[0;34m'to'\u001b[0m\u001b[0;34m]\u001b[0m\u001b[0;34m)\u001b[0m\u001b[0;34m\u001b[0m\u001b[0;34m\u001b[0m\u001b[0m\n\u001b[0m\u001b[1;32m     22\u001b[0m         \u001b[0mpivot_norm\u001b[0m \u001b[0;34m=\u001b[0m \u001b[0mpd\u001b[0m\u001b[0;34m.\u001b[0m\u001b[0mcrosstab\u001b[0m\u001b[0;34m(\u001b[0m\u001b[0maction_df\u001b[0m\u001b[0;34m[\u001b[0m\u001b[0;34m'from'\u001b[0m\u001b[0;34m]\u001b[0m\u001b[0;34m,\u001b[0m \u001b[0maction_df\u001b[0m\u001b[0;34m[\u001b[0m\u001b[0;34m'to'\u001b[0m\u001b[0;34m]\u001b[0m\u001b[0;34m,\u001b[0m \u001b[0mnormalize\u001b[0m\u001b[0;34m=\u001b[0m\u001b[0;34m\"index\"\u001b[0m\u001b[0;34m)\u001b[0m\u001b[0;34m\u001b[0m\u001b[0;34m\u001b[0m\u001b[0m\n\u001b[1;32m     23\u001b[0m \u001b[0;34m\u001b[0m\u001b[0m\n",
      "\u001b[0;32m~/python/Python-3.7.1/lib/python3.7/site-packages/pandas/core/reshape/pivot.py\u001b[0m in \u001b[0;36mcrosstab\u001b[0;34m(index, columns, values, rownames, colnames, aggfunc, margins, margins_name, dropna, normalize)\u001b[0m\n\u001b[1;32m    519\u001b[0m     table = df.pivot_table('__dummy__', index=rownames, columns=colnames,\n\u001b[1;32m    520\u001b[0m                            \u001b[0mmargins\u001b[0m\u001b[0;34m=\u001b[0m\u001b[0mmargins\u001b[0m\u001b[0;34m,\u001b[0m \u001b[0mmargins_name\u001b[0m\u001b[0;34m=\u001b[0m\u001b[0mmargins_name\u001b[0m\u001b[0;34m,\u001b[0m\u001b[0;34m\u001b[0m\u001b[0;34m\u001b[0m\u001b[0m\n\u001b[0;32m--> 521\u001b[0;31m                            dropna=dropna, **kwargs)\n\u001b[0m\u001b[1;32m    522\u001b[0m \u001b[0;34m\u001b[0m\u001b[0m\n\u001b[1;32m    523\u001b[0m     \u001b[0;31m# Post-process\u001b[0m\u001b[0;34m\u001b[0m\u001b[0;34m\u001b[0m\u001b[0;34m\u001b[0m\u001b[0m\n",
      "\u001b[0;32m~/python/Python-3.7.1/lib/python3.7/site-packages/pandas/core/frame.py\u001b[0m in \u001b[0;36mpivot_table\u001b[0;34m(self, values, index, columns, aggfunc, fill_value, margins, dropna, margins_name)\u001b[0m\n\u001b[1;32m   5757\u001b[0m                            \u001b[0maggfunc\u001b[0m\u001b[0;34m=\u001b[0m\u001b[0maggfunc\u001b[0m\u001b[0;34m,\u001b[0m \u001b[0mfill_value\u001b[0m\u001b[0;34m=\u001b[0m\u001b[0mfill_value\u001b[0m\u001b[0;34m,\u001b[0m\u001b[0;34m\u001b[0m\u001b[0;34m\u001b[0m\u001b[0m\n\u001b[1;32m   5758\u001b[0m                            \u001b[0mmargins\u001b[0m\u001b[0;34m=\u001b[0m\u001b[0mmargins\u001b[0m\u001b[0;34m,\u001b[0m \u001b[0mdropna\u001b[0m\u001b[0;34m=\u001b[0m\u001b[0mdropna\u001b[0m\u001b[0;34m,\u001b[0m\u001b[0;34m\u001b[0m\u001b[0;34m\u001b[0m\u001b[0m\n\u001b[0;32m-> 5759\u001b[0;31m                            margins_name=margins_name)\n\u001b[0m\u001b[1;32m   5760\u001b[0m \u001b[0;34m\u001b[0m\u001b[0m\n\u001b[1;32m   5761\u001b[0m     \u001b[0;32mdef\u001b[0m \u001b[0mstack\u001b[0m\u001b[0;34m(\u001b[0m\u001b[0mself\u001b[0m\u001b[0;34m,\u001b[0m \u001b[0mlevel\u001b[0m\u001b[0;34m=\u001b[0m\u001b[0;34m-\u001b[0m\u001b[0;36m1\u001b[0m\u001b[0;34m,\u001b[0m \u001b[0mdropna\u001b[0m\u001b[0;34m=\u001b[0m\u001b[0;32mTrue\u001b[0m\u001b[0;34m)\u001b[0m\u001b[0;34m:\u001b[0m\u001b[0;34m\u001b[0m\u001b[0;34m\u001b[0m\u001b[0m\n",
      "\u001b[0;32m~/python/Python-3.7.1/lib/python3.7/site-packages/pandas/core/reshape/pivot.py\u001b[0m in \u001b[0;36mpivot_table\u001b[0;34m(data, values, index, columns, aggfunc, fill_value, margins, dropna, margins_name)\u001b[0m\n\u001b[1;32m     80\u001b[0m \u001b[0;34m\u001b[0m\u001b[0m\n\u001b[1;32m     81\u001b[0m     \u001b[0mgrouped\u001b[0m \u001b[0;34m=\u001b[0m \u001b[0mdata\u001b[0m\u001b[0;34m.\u001b[0m\u001b[0mgroupby\u001b[0m\u001b[0;34m(\u001b[0m\u001b[0mkeys\u001b[0m\u001b[0;34m,\u001b[0m \u001b[0mobserved\u001b[0m\u001b[0;34m=\u001b[0m\u001b[0;32mFalse\u001b[0m\u001b[0;34m)\u001b[0m\u001b[0;34m\u001b[0m\u001b[0;34m\u001b[0m\u001b[0m\n\u001b[0;32m---> 82\u001b[0;31m     \u001b[0magged\u001b[0m \u001b[0;34m=\u001b[0m \u001b[0mgrouped\u001b[0m\u001b[0;34m.\u001b[0m\u001b[0magg\u001b[0m\u001b[0;34m(\u001b[0m\u001b[0maggfunc\u001b[0m\u001b[0;34m)\u001b[0m\u001b[0;34m\u001b[0m\u001b[0;34m\u001b[0m\u001b[0m\n\u001b[0m\u001b[1;32m     83\u001b[0m     \u001b[0;32mif\u001b[0m \u001b[0mdropna\u001b[0m \u001b[0;32mand\u001b[0m \u001b[0misinstance\u001b[0m\u001b[0;34m(\u001b[0m\u001b[0magged\u001b[0m\u001b[0;34m,\u001b[0m \u001b[0mABCDataFrame\u001b[0m\u001b[0;34m)\u001b[0m \u001b[0;32mand\u001b[0m \u001b[0mlen\u001b[0m\u001b[0;34m(\u001b[0m\u001b[0magged\u001b[0m\u001b[0;34m.\u001b[0m\u001b[0mcolumns\u001b[0m\u001b[0;34m)\u001b[0m\u001b[0;34m:\u001b[0m\u001b[0;34m\u001b[0m\u001b[0;34m\u001b[0m\u001b[0m\n\u001b[1;32m     84\u001b[0m         \u001b[0magged\u001b[0m \u001b[0;34m=\u001b[0m \u001b[0magged\u001b[0m\u001b[0;34m.\u001b[0m\u001b[0mdropna\u001b[0m\u001b[0;34m(\u001b[0m\u001b[0mhow\u001b[0m\u001b[0;34m=\u001b[0m\u001b[0;34m'all'\u001b[0m\u001b[0;34m)\u001b[0m\u001b[0;34m\u001b[0m\u001b[0;34m\u001b[0m\u001b[0m\n",
      "\u001b[0;32m~/python/Python-3.7.1/lib/python3.7/site-packages/pandas/core/groupby/generic.py\u001b[0m in \u001b[0;36maggregate\u001b[0;34m(self, arg, *args, **kwargs)\u001b[0m\n\u001b[1;32m   1313\u001b[0m     \u001b[0;34m@\u001b[0m\u001b[0mAppender\u001b[0m\u001b[0;34m(\u001b[0m\u001b[0m_shared_docs\u001b[0m\u001b[0;34m[\u001b[0m\u001b[0;34m'aggregate'\u001b[0m\u001b[0;34m]\u001b[0m\u001b[0;34m)\u001b[0m\u001b[0;34m\u001b[0m\u001b[0;34m\u001b[0m\u001b[0m\n\u001b[1;32m   1314\u001b[0m     \u001b[0;32mdef\u001b[0m \u001b[0maggregate\u001b[0m\u001b[0;34m(\u001b[0m\u001b[0mself\u001b[0m\u001b[0;34m,\u001b[0m \u001b[0marg\u001b[0m\u001b[0;34m,\u001b[0m \u001b[0;34m*\u001b[0m\u001b[0margs\u001b[0m\u001b[0;34m,\u001b[0m \u001b[0;34m**\u001b[0m\u001b[0mkwargs\u001b[0m\u001b[0;34m)\u001b[0m\u001b[0;34m:\u001b[0m\u001b[0;34m\u001b[0m\u001b[0;34m\u001b[0m\u001b[0m\n\u001b[0;32m-> 1315\u001b[0;31m         \u001b[0;32mreturn\u001b[0m \u001b[0msuper\u001b[0m\u001b[0;34m(\u001b[0m\u001b[0mDataFrameGroupBy\u001b[0m\u001b[0;34m,\u001b[0m \u001b[0mself\u001b[0m\u001b[0;34m)\u001b[0m\u001b[0;34m.\u001b[0m\u001b[0maggregate\u001b[0m\u001b[0;34m(\u001b[0m\u001b[0marg\u001b[0m\u001b[0;34m,\u001b[0m \u001b[0;34m*\u001b[0m\u001b[0margs\u001b[0m\u001b[0;34m,\u001b[0m \u001b[0;34m**\u001b[0m\u001b[0mkwargs\u001b[0m\u001b[0;34m)\u001b[0m\u001b[0;34m\u001b[0m\u001b[0;34m\u001b[0m\u001b[0m\n\u001b[0m\u001b[1;32m   1316\u001b[0m \u001b[0;34m\u001b[0m\u001b[0m\n\u001b[1;32m   1317\u001b[0m     \u001b[0magg\u001b[0m \u001b[0;34m=\u001b[0m \u001b[0maggregate\u001b[0m\u001b[0;34m\u001b[0m\u001b[0;34m\u001b[0m\u001b[0m\n",
      "\u001b[0;32m~/python/Python-3.7.1/lib/python3.7/site-packages/pandas/core/groupby/generic.py\u001b[0m in \u001b[0;36maggregate\u001b[0;34m(self, arg, *args, **kwargs)\u001b[0m\n\u001b[1;32m    192\u001b[0m             \u001b[0;31m# grouper specific aggregations\u001b[0m\u001b[0;34m\u001b[0m\u001b[0;34m\u001b[0m\u001b[0;34m\u001b[0m\u001b[0m\n\u001b[1;32m    193\u001b[0m             \u001b[0;32mif\u001b[0m \u001b[0mself\u001b[0m\u001b[0;34m.\u001b[0m\u001b[0mgrouper\u001b[0m\u001b[0;34m.\u001b[0m\u001b[0mnkeys\u001b[0m \u001b[0;34m>\u001b[0m \u001b[0;36m1\u001b[0m\u001b[0;34m:\u001b[0m\u001b[0;34m\u001b[0m\u001b[0;34m\u001b[0m\u001b[0m\n\u001b[0;32m--> 194\u001b[0;31m                 \u001b[0;32mreturn\u001b[0m \u001b[0mself\u001b[0m\u001b[0;34m.\u001b[0m\u001b[0m_python_agg_general\u001b[0m\u001b[0;34m(\u001b[0m\u001b[0marg\u001b[0m\u001b[0;34m,\u001b[0m \u001b[0;34m*\u001b[0m\u001b[0margs\u001b[0m\u001b[0;34m,\u001b[0m \u001b[0;34m**\u001b[0m\u001b[0mkwargs\u001b[0m\u001b[0;34m)\u001b[0m\u001b[0;34m\u001b[0m\u001b[0;34m\u001b[0m\u001b[0m\n\u001b[0m\u001b[1;32m    195\u001b[0m             \u001b[0;32melse\u001b[0m\u001b[0;34m:\u001b[0m\u001b[0;34m\u001b[0m\u001b[0;34m\u001b[0m\u001b[0m\n\u001b[1;32m    196\u001b[0m \u001b[0;34m\u001b[0m\u001b[0m\n",
      "\u001b[0;32m~/python/Python-3.7.1/lib/python3.7/site-packages/pandas/core/groupby/groupby.py\u001b[0m in \u001b[0;36m_python_agg_general\u001b[0;34m(self, func, *args, **kwargs)\u001b[0m\n\u001b[1;32m    848\u001b[0m         \u001b[0;32mfor\u001b[0m \u001b[0mname\u001b[0m\u001b[0;34m,\u001b[0m \u001b[0mobj\u001b[0m \u001b[0;32min\u001b[0m \u001b[0mself\u001b[0m\u001b[0;34m.\u001b[0m\u001b[0m_iterate_slices\u001b[0m\u001b[0;34m(\u001b[0m\u001b[0;34m)\u001b[0m\u001b[0;34m:\u001b[0m\u001b[0;34m\u001b[0m\u001b[0;34m\u001b[0m\u001b[0m\n\u001b[1;32m    849\u001b[0m             \u001b[0;32mtry\u001b[0m\u001b[0;34m:\u001b[0m\u001b[0;34m\u001b[0m\u001b[0;34m\u001b[0m\u001b[0m\n\u001b[0;32m--> 850\u001b[0;31m                 \u001b[0mresult\u001b[0m\u001b[0;34m,\u001b[0m \u001b[0mcounts\u001b[0m \u001b[0;34m=\u001b[0m \u001b[0mself\u001b[0m\u001b[0;34m.\u001b[0m\u001b[0mgrouper\u001b[0m\u001b[0;34m.\u001b[0m\u001b[0magg_series\u001b[0m\u001b[0;34m(\u001b[0m\u001b[0mobj\u001b[0m\u001b[0;34m,\u001b[0m \u001b[0mf\u001b[0m\u001b[0;34m)\u001b[0m\u001b[0;34m\u001b[0m\u001b[0;34m\u001b[0m\u001b[0m\n\u001b[0m\u001b[1;32m    851\u001b[0m                 \u001b[0moutput\u001b[0m\u001b[0;34m[\u001b[0m\u001b[0mname\u001b[0m\u001b[0;34m]\u001b[0m \u001b[0;34m=\u001b[0m \u001b[0mself\u001b[0m\u001b[0;34m.\u001b[0m\u001b[0m_try_cast\u001b[0m\u001b[0;34m(\u001b[0m\u001b[0mresult\u001b[0m\u001b[0;34m,\u001b[0m \u001b[0mobj\u001b[0m\u001b[0;34m,\u001b[0m \u001b[0mnumeric_only\u001b[0m\u001b[0;34m=\u001b[0m\u001b[0;32mTrue\u001b[0m\u001b[0;34m)\u001b[0m\u001b[0;34m\u001b[0m\u001b[0;34m\u001b[0m\u001b[0m\n\u001b[1;32m    852\u001b[0m             \u001b[0;32mexcept\u001b[0m \u001b[0mTypeError\u001b[0m\u001b[0;34m:\u001b[0m\u001b[0;34m\u001b[0m\u001b[0;34m\u001b[0m\u001b[0m\n",
      "\u001b[0;32m~/python/Python-3.7.1/lib/python3.7/site-packages/pandas/core/groupby/ops.py\u001b[0m in \u001b[0;36magg_series\u001b[0;34m(self, obj, func)\u001b[0m\n\u001b[1;32m    588\u001b[0m     \u001b[0;32mdef\u001b[0m \u001b[0magg_series\u001b[0m\u001b[0;34m(\u001b[0m\u001b[0mself\u001b[0m\u001b[0;34m,\u001b[0m \u001b[0mobj\u001b[0m\u001b[0;34m,\u001b[0m \u001b[0mfunc\u001b[0m\u001b[0;34m)\u001b[0m\u001b[0;34m:\u001b[0m\u001b[0;34m\u001b[0m\u001b[0;34m\u001b[0m\u001b[0m\n\u001b[1;32m    589\u001b[0m         \u001b[0;32mtry\u001b[0m\u001b[0;34m:\u001b[0m\u001b[0;34m\u001b[0m\u001b[0;34m\u001b[0m\u001b[0m\n\u001b[0;32m--> 590\u001b[0;31m             \u001b[0;32mreturn\u001b[0m \u001b[0mself\u001b[0m\u001b[0;34m.\u001b[0m\u001b[0m_aggregate_series_fast\u001b[0m\u001b[0;34m(\u001b[0m\u001b[0mobj\u001b[0m\u001b[0;34m,\u001b[0m \u001b[0mfunc\u001b[0m\u001b[0;34m)\u001b[0m\u001b[0;34m\u001b[0m\u001b[0;34m\u001b[0m\u001b[0m\n\u001b[0m\u001b[1;32m    591\u001b[0m         \u001b[0;32mexcept\u001b[0m \u001b[0mException\u001b[0m\u001b[0;34m:\u001b[0m\u001b[0;34m\u001b[0m\u001b[0;34m\u001b[0m\u001b[0m\n\u001b[1;32m    592\u001b[0m             \u001b[0;32mreturn\u001b[0m \u001b[0mself\u001b[0m\u001b[0;34m.\u001b[0m\u001b[0m_aggregate_series_pure_python\u001b[0m\u001b[0;34m(\u001b[0m\u001b[0mobj\u001b[0m\u001b[0;34m,\u001b[0m \u001b[0mfunc\u001b[0m\u001b[0;34m)\u001b[0m\u001b[0;34m\u001b[0m\u001b[0;34m\u001b[0m\u001b[0m\n",
      "\u001b[0;32m~/python/Python-3.7.1/lib/python3.7/site-packages/pandas/core/groupby/ops.py\u001b[0m in \u001b[0;36m_aggregate_series_fast\u001b[0;34m(self, obj, func)\u001b[0m\n\u001b[1;32m    598\u001b[0m             \u001b[0;32mraise\u001b[0m \u001b[0mTypeError\u001b[0m\u001b[0;34m(\u001b[0m\u001b[0;34m'Incompatible index for Cython grouper'\u001b[0m\u001b[0;34m)\u001b[0m\u001b[0;34m\u001b[0m\u001b[0;34m\u001b[0m\u001b[0m\n\u001b[1;32m    599\u001b[0m \u001b[0;34m\u001b[0m\u001b[0m\n\u001b[0;32m--> 600\u001b[0;31m         \u001b[0mgroup_index\u001b[0m\u001b[0;34m,\u001b[0m \u001b[0m_\u001b[0m\u001b[0;34m,\u001b[0m \u001b[0mngroups\u001b[0m \u001b[0;34m=\u001b[0m \u001b[0mself\u001b[0m\u001b[0;34m.\u001b[0m\u001b[0mgroup_info\u001b[0m\u001b[0;34m\u001b[0m\u001b[0;34m\u001b[0m\u001b[0m\n\u001b[0m\u001b[1;32m    601\u001b[0m \u001b[0;34m\u001b[0m\u001b[0m\n\u001b[1;32m    602\u001b[0m         \u001b[0;31m# avoids object / Series creation overhead\u001b[0m\u001b[0;34m\u001b[0m\u001b[0;34m\u001b[0m\u001b[0;34m\u001b[0m\u001b[0m\n",
      "\u001b[0;32mpandas/_libs/properties.pyx\u001b[0m in \u001b[0;36mpandas._libs.properties.CachedProperty.__get__\u001b[0;34m()\u001b[0m\n",
      "\u001b[0;32m~/python/Python-3.7.1/lib/python3.7/site-packages/pandas/core/groupby/ops.py\u001b[0m in \u001b[0;36mgroup_info\u001b[0;34m(self)\u001b[0m\n\u001b[1;32m    250\u001b[0m     \u001b[0;34m@\u001b[0m\u001b[0mcache_readonly\u001b[0m\u001b[0;34m\u001b[0m\u001b[0;34m\u001b[0m\u001b[0m\n\u001b[1;32m    251\u001b[0m     \u001b[0;32mdef\u001b[0m \u001b[0mgroup_info\u001b[0m\u001b[0;34m(\u001b[0m\u001b[0mself\u001b[0m\u001b[0;34m)\u001b[0m\u001b[0;34m:\u001b[0m\u001b[0;34m\u001b[0m\u001b[0;34m\u001b[0m\u001b[0m\n\u001b[0;32m--> 252\u001b[0;31m         \u001b[0mcomp_ids\u001b[0m\u001b[0;34m,\u001b[0m \u001b[0mobs_group_ids\u001b[0m \u001b[0;34m=\u001b[0m \u001b[0mself\u001b[0m\u001b[0;34m.\u001b[0m\u001b[0m_get_compressed_labels\u001b[0m\u001b[0;34m(\u001b[0m\u001b[0;34m)\u001b[0m\u001b[0;34m\u001b[0m\u001b[0;34m\u001b[0m\u001b[0m\n\u001b[0m\u001b[1;32m    253\u001b[0m \u001b[0;34m\u001b[0m\u001b[0m\n\u001b[1;32m    254\u001b[0m         \u001b[0mngroups\u001b[0m \u001b[0;34m=\u001b[0m \u001b[0mlen\u001b[0m\u001b[0;34m(\u001b[0m\u001b[0mobs_group_ids\u001b[0m\u001b[0;34m)\u001b[0m\u001b[0;34m\u001b[0m\u001b[0;34m\u001b[0m\u001b[0m\n",
      "\u001b[0;32m~/python/Python-3.7.1/lib/python3.7/site-packages/pandas/core/groupby/ops.py\u001b[0m in \u001b[0;36m_get_compressed_labels\u001b[0;34m(self)\u001b[0m\n\u001b[1;32m    266\u001b[0m \u001b[0;34m\u001b[0m\u001b[0m\n\u001b[1;32m    267\u001b[0m     \u001b[0;32mdef\u001b[0m \u001b[0m_get_compressed_labels\u001b[0m\u001b[0;34m(\u001b[0m\u001b[0mself\u001b[0m\u001b[0;34m)\u001b[0m\u001b[0;34m:\u001b[0m\u001b[0;34m\u001b[0m\u001b[0;34m\u001b[0m\u001b[0m\n\u001b[0;32m--> 268\u001b[0;31m         \u001b[0mall_labels\u001b[0m \u001b[0;34m=\u001b[0m \u001b[0;34m[\u001b[0m\u001b[0mping\u001b[0m\u001b[0;34m.\u001b[0m\u001b[0mlabels\u001b[0m \u001b[0;32mfor\u001b[0m \u001b[0mping\u001b[0m \u001b[0;32min\u001b[0m \u001b[0mself\u001b[0m\u001b[0;34m.\u001b[0m\u001b[0mgroupings\u001b[0m\u001b[0;34m]\u001b[0m\u001b[0;34m\u001b[0m\u001b[0;34m\u001b[0m\u001b[0m\n\u001b[0m\u001b[1;32m    269\u001b[0m         \u001b[0;32mif\u001b[0m \u001b[0mlen\u001b[0m\u001b[0;34m(\u001b[0m\u001b[0mall_labels\u001b[0m\u001b[0;34m)\u001b[0m \u001b[0;34m>\u001b[0m \u001b[0;36m1\u001b[0m\u001b[0;34m:\u001b[0m\u001b[0;34m\u001b[0m\u001b[0;34m\u001b[0m\u001b[0m\n\u001b[1;32m    270\u001b[0m             group_index = get_group_index(all_labels, self.shape,\n",
      "\u001b[0;32m~/python/Python-3.7.1/lib/python3.7/site-packages/pandas/core/groupby/ops.py\u001b[0m in \u001b[0;36m<listcomp>\u001b[0;34m(.0)\u001b[0m\n\u001b[1;32m    266\u001b[0m \u001b[0;34m\u001b[0m\u001b[0m\n\u001b[1;32m    267\u001b[0m     \u001b[0;32mdef\u001b[0m \u001b[0m_get_compressed_labels\u001b[0m\u001b[0;34m(\u001b[0m\u001b[0mself\u001b[0m\u001b[0;34m)\u001b[0m\u001b[0;34m:\u001b[0m\u001b[0;34m\u001b[0m\u001b[0;34m\u001b[0m\u001b[0m\n\u001b[0;32m--> 268\u001b[0;31m         \u001b[0mall_labels\u001b[0m \u001b[0;34m=\u001b[0m \u001b[0;34m[\u001b[0m\u001b[0mping\u001b[0m\u001b[0;34m.\u001b[0m\u001b[0mlabels\u001b[0m \u001b[0;32mfor\u001b[0m \u001b[0mping\u001b[0m \u001b[0;32min\u001b[0m \u001b[0mself\u001b[0m\u001b[0;34m.\u001b[0m\u001b[0mgroupings\u001b[0m\u001b[0;34m]\u001b[0m\u001b[0;34m\u001b[0m\u001b[0;34m\u001b[0m\u001b[0m\n\u001b[0m\u001b[1;32m    269\u001b[0m         \u001b[0;32mif\u001b[0m \u001b[0mlen\u001b[0m\u001b[0;34m(\u001b[0m\u001b[0mall_labels\u001b[0m\u001b[0;34m)\u001b[0m \u001b[0;34m>\u001b[0m \u001b[0;36m1\u001b[0m\u001b[0;34m:\u001b[0m\u001b[0;34m\u001b[0m\u001b[0;34m\u001b[0m\u001b[0m\n\u001b[1;32m    270\u001b[0m             group_index = get_group_index(all_labels, self.shape,\n",
      "\u001b[0;32m~/python/Python-3.7.1/lib/python3.7/site-packages/pandas/core/groupby/grouper.py\u001b[0m in \u001b[0;36mlabels\u001b[0;34m(self)\u001b[0m\n\u001b[1;32m    365\u001b[0m     \u001b[0;32mdef\u001b[0m \u001b[0mlabels\u001b[0m\u001b[0;34m(\u001b[0m\u001b[0mself\u001b[0m\u001b[0;34m)\u001b[0m\u001b[0;34m:\u001b[0m\u001b[0;34m\u001b[0m\u001b[0;34m\u001b[0m\u001b[0m\n\u001b[1;32m    366\u001b[0m         \u001b[0;32mif\u001b[0m \u001b[0mself\u001b[0m\u001b[0;34m.\u001b[0m\u001b[0m_labels\u001b[0m \u001b[0;32mis\u001b[0m \u001b[0;32mNone\u001b[0m\u001b[0;34m:\u001b[0m\u001b[0;34m\u001b[0m\u001b[0;34m\u001b[0m\u001b[0m\n\u001b[0;32m--> 367\u001b[0;31m             \u001b[0mself\u001b[0m\u001b[0;34m.\u001b[0m\u001b[0m_make_labels\u001b[0m\u001b[0;34m(\u001b[0m\u001b[0;34m)\u001b[0m\u001b[0;34m\u001b[0m\u001b[0;34m\u001b[0m\u001b[0m\n\u001b[0m\u001b[1;32m    368\u001b[0m         \u001b[0;32mreturn\u001b[0m \u001b[0mself\u001b[0m\u001b[0;34m.\u001b[0m\u001b[0m_labels\u001b[0m\u001b[0;34m\u001b[0m\u001b[0;34m\u001b[0m\u001b[0m\n\u001b[1;32m    369\u001b[0m \u001b[0;34m\u001b[0m\u001b[0m\n",
      "\u001b[0;32m~/python/Python-3.7.1/lib/python3.7/site-packages/pandas/core/groupby/grouper.py\u001b[0m in \u001b[0;36m_make_labels\u001b[0;34m(self)\u001b[0m\n\u001b[1;32m    390\u001b[0m             \u001b[0;32melse\u001b[0m\u001b[0;34m:\u001b[0m\u001b[0;34m\u001b[0m\u001b[0;34m\u001b[0m\u001b[0m\n\u001b[1;32m    391\u001b[0m                 labels, uniques = algorithms.factorize(\n\u001b[0;32m--> 392\u001b[0;31m                     self.grouper, sort=self.sort)\n\u001b[0m\u001b[1;32m    393\u001b[0m                 \u001b[0muniques\u001b[0m \u001b[0;34m=\u001b[0m \u001b[0mIndex\u001b[0m\u001b[0;34m(\u001b[0m\u001b[0muniques\u001b[0m\u001b[0;34m,\u001b[0m \u001b[0mname\u001b[0m\u001b[0;34m=\u001b[0m\u001b[0mself\u001b[0m\u001b[0;34m.\u001b[0m\u001b[0mname\u001b[0m\u001b[0;34m)\u001b[0m\u001b[0;34m\u001b[0m\u001b[0;34m\u001b[0m\u001b[0m\n\u001b[1;32m    394\u001b[0m             \u001b[0mself\u001b[0m\u001b[0;34m.\u001b[0m\u001b[0m_labels\u001b[0m \u001b[0;34m=\u001b[0m \u001b[0mlabels\u001b[0m\u001b[0;34m\u001b[0m\u001b[0;34m\u001b[0m\u001b[0m\n",
      "\u001b[0;32m~/python/Python-3.7.1/lib/python3.7/site-packages/pandas/util/_decorators.py\u001b[0m in \u001b[0;36mwrapper\u001b[0;34m(*args, **kwargs)\u001b[0m\n\u001b[1;32m    186\u001b[0m                 \u001b[0;32melse\u001b[0m\u001b[0;34m:\u001b[0m\u001b[0;34m\u001b[0m\u001b[0;34m\u001b[0m\u001b[0m\n\u001b[1;32m    187\u001b[0m                     \u001b[0mkwargs\u001b[0m\u001b[0;34m[\u001b[0m\u001b[0mnew_arg_name\u001b[0m\u001b[0;34m]\u001b[0m \u001b[0;34m=\u001b[0m \u001b[0mnew_arg_value\u001b[0m\u001b[0;34m\u001b[0m\u001b[0;34m\u001b[0m\u001b[0m\n\u001b[0;32m--> 188\u001b[0;31m             \u001b[0;32mreturn\u001b[0m \u001b[0mfunc\u001b[0m\u001b[0;34m(\u001b[0m\u001b[0;34m*\u001b[0m\u001b[0margs\u001b[0m\u001b[0;34m,\u001b[0m \u001b[0;34m**\u001b[0m\u001b[0mkwargs\u001b[0m\u001b[0;34m)\u001b[0m\u001b[0;34m\u001b[0m\u001b[0;34m\u001b[0m\u001b[0m\n\u001b[0m\u001b[1;32m    189\u001b[0m         \u001b[0;32mreturn\u001b[0m \u001b[0mwrapper\u001b[0m\u001b[0;34m\u001b[0m\u001b[0;34m\u001b[0m\u001b[0m\n\u001b[1;32m    190\u001b[0m     \u001b[0;32mreturn\u001b[0m \u001b[0m_deprecate_kwarg\u001b[0m\u001b[0;34m\u001b[0m\u001b[0;34m\u001b[0m\u001b[0m\n",
      "\u001b[0;32m~/python/Python-3.7.1/lib/python3.7/site-packages/pandas/core/algorithms.py\u001b[0m in \u001b[0;36mfactorize\u001b[0;34m(values, sort, order, na_sentinel, size_hint)\u001b[0m\n\u001b[1;32m    611\u001b[0m                                            \u001b[0mna_sentinel\u001b[0m\u001b[0;34m=\u001b[0m\u001b[0mna_sentinel\u001b[0m\u001b[0;34m,\u001b[0m\u001b[0;34m\u001b[0m\u001b[0;34m\u001b[0m\u001b[0m\n\u001b[1;32m    612\u001b[0m                                            \u001b[0msize_hint\u001b[0m\u001b[0;34m=\u001b[0m\u001b[0msize_hint\u001b[0m\u001b[0;34m,\u001b[0m\u001b[0;34m\u001b[0m\u001b[0;34m\u001b[0m\u001b[0m\n\u001b[0;32m--> 613\u001b[0;31m                                            na_value=na_value)\n\u001b[0m\u001b[1;32m    614\u001b[0m \u001b[0;34m\u001b[0m\u001b[0m\n\u001b[1;32m    615\u001b[0m     \u001b[0;32mif\u001b[0m \u001b[0msort\u001b[0m \u001b[0;32mand\u001b[0m \u001b[0mlen\u001b[0m\u001b[0;34m(\u001b[0m\u001b[0muniques\u001b[0m\u001b[0;34m)\u001b[0m \u001b[0;34m>\u001b[0m \u001b[0;36m0\u001b[0m\u001b[0;34m:\u001b[0m\u001b[0;34m\u001b[0m\u001b[0;34m\u001b[0m\u001b[0m\n",
      "\u001b[0;32m~/python/Python-3.7.1/lib/python3.7/site-packages/pandas/core/algorithms.py\u001b[0m in \u001b[0;36m_factorize_array\u001b[0;34m(values, na_sentinel, size_hint, na_value)\u001b[0m\n\u001b[1;32m    458\u001b[0m     \u001b[0mtable\u001b[0m \u001b[0;34m=\u001b[0m \u001b[0mhash_klass\u001b[0m\u001b[0;34m(\u001b[0m\u001b[0msize_hint\u001b[0m \u001b[0;32mor\u001b[0m \u001b[0mlen\u001b[0m\u001b[0;34m(\u001b[0m\u001b[0mvalues\u001b[0m\u001b[0;34m)\u001b[0m\u001b[0;34m)\u001b[0m\u001b[0;34m\u001b[0m\u001b[0;34m\u001b[0m\u001b[0m\n\u001b[1;32m    459\u001b[0m     uniques, labels = table.factorize(values, na_sentinel=na_sentinel,\n\u001b[0;32m--> 460\u001b[0;31m                                       na_value=na_value)\n\u001b[0m\u001b[1;32m    461\u001b[0m \u001b[0;34m\u001b[0m\u001b[0m\n\u001b[1;32m    462\u001b[0m     \u001b[0mlabels\u001b[0m \u001b[0;34m=\u001b[0m \u001b[0mensure_platform_int\u001b[0m\u001b[0;34m(\u001b[0m\u001b[0mlabels\u001b[0m\u001b[0;34m)\u001b[0m\u001b[0;34m\u001b[0m\u001b[0;34m\u001b[0m\u001b[0m\n",
      "\u001b[0;32mpandas/_libs/hashtable_class_helper.pxi\u001b[0m in \u001b[0;36mpandas._libs.hashtable.PyObjectHashTable.factorize\u001b[0;34m()\u001b[0m\n",
      "\u001b[0;32mpandas/_libs/hashtable_class_helper.pxi\u001b[0m in \u001b[0;36mpandas._libs.hashtable.PyObjectHashTable._unique\u001b[0;34m()\u001b[0m\n",
      "\u001b[0;32m~/python/Python-3.7.1/lib/python3.7/site-packages/numpy/core/numeric.py\u001b[0m in \u001b[0;36masarray\u001b[0;34m(a, dtype, order)\u001b[0m\n\u001b[1;32m    467\u001b[0m \u001b[0;34m\u001b[0m\u001b[0m\n\u001b[1;32m    468\u001b[0m \u001b[0;34m\u001b[0m\u001b[0m\n\u001b[0;32m--> 469\u001b[0;31m \u001b[0;34m@\u001b[0m\u001b[0mset_module\u001b[0m\u001b[0;34m(\u001b[0m\u001b[0;34m'numpy'\u001b[0m\u001b[0;34m)\u001b[0m\u001b[0;34m\u001b[0m\u001b[0;34m\u001b[0m\u001b[0m\n\u001b[0m\u001b[1;32m    470\u001b[0m \u001b[0;32mdef\u001b[0m \u001b[0masarray\u001b[0m\u001b[0;34m(\u001b[0m\u001b[0ma\u001b[0m\u001b[0;34m,\u001b[0m \u001b[0mdtype\u001b[0m\u001b[0;34m=\u001b[0m\u001b[0;32mNone\u001b[0m\u001b[0;34m,\u001b[0m \u001b[0morder\u001b[0m\u001b[0;34m=\u001b[0m\u001b[0;32mNone\u001b[0m\u001b[0;34m)\u001b[0m\u001b[0;34m:\u001b[0m\u001b[0;34m\u001b[0m\u001b[0;34m\u001b[0m\u001b[0m\n\u001b[1;32m    471\u001b[0m     \"\"\"Convert the input to an array.\n",
      "\u001b[0;31mKeyboardInterrupt\u001b[0m: "
     ]
    }
   ],
   "source": [
    "for num_centroids in kernel_range:   \n",
    "    centroids = dict()\n",
    "    cluster_lbl = \"kmeans_{n}\".format(n=num_centroids)\n",
    "    print(\"Current k: {k}\".format(k=num_centroids))\n",
    "    \n",
    "    for cluster_id, cluster_members in tqdm(df.groupby(cluster_lbl)):\n",
    "        stat_dists = []\n",
    "        actions = []#np.array([])\n",
    "        counts = []\n",
    "        for seq, stat in cluster_members[[\"sequence_readable\", \"stat_dist\"]].values:\n",
    "            stat_dists.append(stat)\n",
    "            actions.append(np.concatenate((seq, [sep_label])))\n",
    "        \n",
    "        actions = np.concatenate(actions)\n",
    "        stat_dists_df = pd.DataFrame(stat_dists, columns=labels)\n",
    "        stat_dist_mean = stat_dists_df.mean()\n",
    "        stat_dist_std = stat_dists_df.std()\n",
    "        action_df = pd.DataFrame({'from': actions})\n",
    "        action_df['to'] = action_df['from'].shift(periods=-1)\n",
    "\n",
    "        pivot = pd.crosstab(action_df['from'], action_df['to'])\n",
    "        pivot_norm = pd.crosstab(action_df['from'], action_df['to'], normalize=\"index\")\n",
    "        \n",
    "        for lbl_set_name, lbl_set in [(\"full\", labels), (\"top\", labels_filtered)]:\n",
    "            pivot_full = lib.stretch_pivot(pivot.copy(), lbl_set)\n",
    "            pivot_full_norm = lib.stretch_pivot(pivot_norm.copy(), lbl_set)\n",
    "            counts = pivot_full.transpose().sum().transpose()\n",
    "            #display(pivot_full_norm)\n",
    "            plot_size = (1, 1)\n",
    "            if lbl_set_name == \"full\":\n",
    "                plot_size = (46, 60)\n",
    "            elif lbl_set_name == \"top\":\n",
    "                plot_size = (16, 22)\n",
    "                \n",
    "            centroids[cluster_id] = (stat_dist_mean[labels].values, stat_dist_std[labels].values)\n",
    "            \n",
    "            store_path = os.path.join(cfg.get(\"directory\", \"results\"), results_prefix + \"[kmeans]clusters[{n}_{i}][{s}]_log\".format(n=num_centroids, i=cluster_id, s=lbl_set_name))\n",
    "            plotting.transition_matrix(plot_size, counts, pivot_full_norm, None, cluster_id, store_path, upper_limit=False, logscale=True, stat_dist=(stat_dist_mean[lbl_set].values, stat_dist_std[lbl_set].values))\n",
    "\n",
    "            store_path = os.path.join(cfg.get(\"directory\", \"results\"), results_prefix + \"[kmeans]clusters[{n}_{i}][{s}]\".format(n=num_centroids, i=cluster_id, s=lbl_set_name))\n",
    "            plotting.transition_matrix(plot_size, counts, pivot_full_norm, None, cluster_id, store_path, upper_limit=False, logscale=False, stat_dist=(stat_dist_mean[lbl_set].values, stat_dist_std[lbl_set].values, 0.15))\n",
    "        \n",
    "  \n",
    "    store_path = os.path.join(cfg.get(\"directory\", \"results\"), results_prefix + \"[kmeans]clusters[{n}]centroids\".format(n=num_centroids))                                                                                                                                                \n",
    "    plotting.cluster_centroids(centroids, labels, store_path)"
   ]
  },
  {
   "cell_type": "code",
   "execution_count": null,
   "metadata": {},
   "outputs": [],
   "source": []
  }
 ],
 "metadata": {
  "kernelspec": {
   "display_name": "Python 3",
   "language": "python",
   "name": "python3"
  },
  "language_info": {
   "codemirror_mode": {
    "name": "ipython",
    "version": 3
   },
   "file_extension": ".py",
   "mimetype": "text/x-python",
   "name": "python",
   "nbconvert_exporter": "python",
   "pygments_lexer": "ipython3",
   "version": "3.7.1"
  }
 },
 "nbformat": 4,
 "nbformat_minor": 2
}
