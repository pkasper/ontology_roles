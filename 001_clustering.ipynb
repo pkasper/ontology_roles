{
 "cells": [
  {
   "cell_type": "code",
   "execution_count": 1,
   "metadata": {},
   "outputs": [],
   "source": [
    "%load_ext autoreload\n",
    "%autoreload 2"
   ]
  },
  {
   "cell_type": "code",
   "execution_count": 2,
   "metadata": {},
   "outputs": [],
   "source": [
    "import os\n",
    "import numpy as np\n",
    "import pandas as pd"
   ]
  },
  {
   "cell_type": "code",
   "execution_count": 3,
   "metadata": {},
   "outputs": [],
   "source": [
    "import lib\n",
    "import plotting"
   ]
  },
  {
   "cell_type": "code",
   "execution_count": 4,
   "metadata": {},
   "outputs": [],
   "source": [
    "from multiprocessing import Pool\n",
    "import pickle\n",
    "from collections import defaultdict"
   ]
  },
  {
   "cell_type": "code",
   "execution_count": 5,
   "metadata": {},
   "outputs": [],
   "source": [
    "from sklearn.cluster import KMeans\n",
    "from sklearn.metrics import silhouette_samples, silhouette_score, calinski_harabaz_score\n",
    "from sklearn.decomposition import PCA"
   ]
  },
  {
   "cell_type": "code",
   "execution_count": 6,
   "metadata": {},
   "outputs": [
    {
     "data": {
      "text/plain": [
       "['config.cfg']"
      ]
     },
     "execution_count": 6,
     "metadata": {},
     "output_type": "execute_result"
    }
   ],
   "source": [
    "from configparser import ConfigParser\n",
    "cfg = ConfigParser()\n",
    "cfg.read(\"config.cfg\")"
   ]
  },
  {
   "cell_type": "code",
   "execution_count": 7,
   "metadata": {},
   "outputs": [],
   "source": [
    "from tqdm._tqdm_notebook import tqdm_notebook as tqdm # we manually import the notebook submodule as the normal one struggles with jupyterlab\n",
    "tqdm.pandas() # this enables us to use progress_apply instead of apply"
   ]
  },
  {
   "cell_type": "code",
   "execution_count": 8,
   "metadata": {},
   "outputs": [],
   "source": [
    "sequence_file = os.path.join(cfg.get(\"directory\", \"exchange\"), \"[wikidata]004_sequences.p\")\n",
    "labels_file = os.path.join(cfg.get(\"directory\", \"exchange\"), \"[wikidata]004_labels.p\")\n",
    "results_prefix = \"[WIKIDATA]\""
   ]
  },
  {
   "cell_type": "code",
   "execution_count": 9,
   "metadata": {},
   "outputs": [
    {
     "data": {
      "text/html": [
       "<div>\n",
       "<style scoped>\n",
       "    .dataframe tbody tr th:only-of-type {\n",
       "        vertical-align: middle;\n",
       "    }\n",
       "\n",
       "    .dataframe tbody tr th {\n",
       "        vertical-align: top;\n",
       "    }\n",
       "\n",
       "    .dataframe thead th {\n",
       "        text-align: right;\n",
       "    }\n",
       "</style>\n",
       "<table border=\"1\" class=\"dataframe\">\n",
       "  <thead>\n",
       "    <tr style=\"text-align: right;\">\n",
       "      <th></th>\n",
       "      <th>length</th>\n",
       "      <th>sequence</th>\n",
       "      <th>user_id</th>\n",
       "    </tr>\n",
       "  </thead>\n",
       "  <tbody>\n",
       "    <tr>\n",
       "      <th>0</th>\n",
       "      <td>1523</td>\n",
       "      <td>[CLAIM_CREATE, CLAIM_CREATE, BREAK, DESCRIPTIO...</td>\n",
       "      <td>1</td>\n",
       "    </tr>\n",
       "    <tr>\n",
       "      <th>1</th>\n",
       "      <td>8</td>\n",
       "      <td>[SITELINK_ADD, ENTITY_CREATE, BREAK, MERGE, BR...</td>\n",
       "      <td>1000036</td>\n",
       "    </tr>\n",
       "    <tr>\n",
       "      <th>2</th>\n",
       "      <td>7</td>\n",
       "      <td>[SITELINK_ADD, BREAK, SITELINK_ADD, BREAK, SIT...</td>\n",
       "      <td>1000078</td>\n",
       "    </tr>\n",
       "    <tr>\n",
       "      <th>3</th>\n",
       "      <td>8</td>\n",
       "      <td>[SITELINK_REMOVE, SITELINK_ADD, BREAK, SITELIN...</td>\n",
       "      <td>100008</td>\n",
       "    </tr>\n",
       "    <tr>\n",
       "      <th>4</th>\n",
       "      <td>35</td>\n",
       "      <td>[SITELINK_ADD, SITELINK_ADD, BREAK, SITELINK_A...</td>\n",
       "      <td>100012</td>\n",
       "    </tr>\n",
       "  </tbody>\n",
       "</table>\n",
       "</div>"
      ],
      "text/plain": [
       "   length                                           sequence  user_id\n",
       "0    1523  [CLAIM_CREATE, CLAIM_CREATE, BREAK, DESCRIPTIO...        1\n",
       "1       8  [SITELINK_ADD, ENTITY_CREATE, BREAK, MERGE, BR...  1000036\n",
       "2       7  [SITELINK_ADD, BREAK, SITELINK_ADD, BREAK, SIT...  1000078\n",
       "3       8  [SITELINK_REMOVE, SITELINK_ADD, BREAK, SITELIN...   100008\n",
       "4      35  [SITELINK_ADD, SITELINK_ADD, BREAK, SITELINK_A...   100012"
      ]
     },
     "execution_count": 9,
     "metadata": {},
     "output_type": "execute_result"
    }
   ],
   "source": [
    "df = pd.read_pickle(sequence_file)\n",
    "labels = pd.read_pickle(labels_file)['label'].values\n",
    "df.head()"
   ]
  },
  {
   "cell_type": "code",
   "execution_count": 10,
   "metadata": {},
   "outputs": [
    {
     "data": {
      "application/vnd.jupyter.widget-view+json": {
       "model_id": "03496ebab3d64cf2b9ba256a7c173ac0",
       "version_major": 2,
       "version_minor": 0
      },
      "text/plain": [
       "HBox(children=(IntProgress(value=0, max=87480), HTML(value='')))"
      ]
     },
     "metadata": {},
     "output_type": "display_data"
    },
    {
     "name": "stdout",
     "output_type": "stream",
     "text": [
      "\n"
     ]
    }
   ],
   "source": [
    "def calc_dist(sequence):\n",
    "    dist, pivot = lib.calc_distribution(labels, sequence)\n",
    "    return np.array(dist)\n",
    "\n",
    "with Pool(cfg.getint(\"core\", \"num_cores\")) as processor_pool:\n",
    "    df['stat_dist'] = pd.Series(processor_pool.imap(calc_dist, tqdm(df['sequence'])))"
   ]
  },
  {
   "cell_type": "code",
   "execution_count": 11,
   "metadata": {},
   "outputs": [
    {
     "data": {
      "text/html": [
       "<div>\n",
       "<style scoped>\n",
       "    .dataframe tbody tr th:only-of-type {\n",
       "        vertical-align: middle;\n",
       "    }\n",
       "\n",
       "    .dataframe tbody tr th {\n",
       "        vertical-align: top;\n",
       "    }\n",
       "\n",
       "    .dataframe thead th {\n",
       "        text-align: right;\n",
       "    }\n",
       "</style>\n",
       "<table border=\"1\" class=\"dataframe\">\n",
       "  <thead>\n",
       "    <tr style=\"text-align: right;\">\n",
       "      <th></th>\n",
       "      <th>length</th>\n",
       "      <th>sequence</th>\n",
       "      <th>user_id</th>\n",
       "      <th>stat_dist</th>\n",
       "    </tr>\n",
       "  </thead>\n",
       "  <tbody>\n",
       "    <tr>\n",
       "      <th>0</th>\n",
       "      <td>1523</td>\n",
       "      <td>[CLAIM_CREATE, CLAIM_CREATE, BREAK, DESCRIPTIO...</td>\n",
       "      <td>1</td>\n",
       "      <td>[0.022328090570691267, 0.01999355101471073, 0....</td>\n",
       "    </tr>\n",
       "    <tr>\n",
       "      <th>1</th>\n",
       "      <td>8</td>\n",
       "      <td>[SITELINK_ADD, ENTITY_CREATE, BREAK, MERGE, BR...</td>\n",
       "      <td>1000036</td>\n",
       "      <td>[0.020189392589955717, 0.020189392589955717, 0...</td>\n",
       "    </tr>\n",
       "    <tr>\n",
       "      <th>2</th>\n",
       "      <td>7</td>\n",
       "      <td>[SITELINK_ADD, BREAK, SITELINK_ADD, BREAK, SIT...</td>\n",
       "      <td>1000078</td>\n",
       "      <td>[0.01947397679104996, 0.019473976791049966, 0....</td>\n",
       "    </tr>\n",
       "    <tr>\n",
       "      <th>3</th>\n",
       "      <td>8</td>\n",
       "      <td>[SITELINK_REMOVE, SITELINK_ADD, BREAK, SITELIN...</td>\n",
       "      <td>100008</td>\n",
       "      <td>[0.020283553057881, 0.020283553057881005, 0.02...</td>\n",
       "    </tr>\n",
       "    <tr>\n",
       "      <th>4</th>\n",
       "      <td>35</td>\n",
       "      <td>[SITELINK_ADD, SITELINK_ADD, BREAK, SITELINK_A...</td>\n",
       "      <td>100012</td>\n",
       "      <td>[0.019736842105263157, 0.019736842105263153, 0...</td>\n",
       "    </tr>\n",
       "  </tbody>\n",
       "</table>\n",
       "</div>"
      ],
      "text/plain": [
       "   length                                           sequence  user_id  \\\n",
       "0    1523  [CLAIM_CREATE, CLAIM_CREATE, BREAK, DESCRIPTIO...        1   \n",
       "1       8  [SITELINK_ADD, ENTITY_CREATE, BREAK, MERGE, BR...  1000036   \n",
       "2       7  [SITELINK_ADD, BREAK, SITELINK_ADD, BREAK, SIT...  1000078   \n",
       "3       8  [SITELINK_REMOVE, SITELINK_ADD, BREAK, SITELIN...   100008   \n",
       "4      35  [SITELINK_ADD, SITELINK_ADD, BREAK, SITELINK_A...   100012   \n",
       "\n",
       "                                           stat_dist  \n",
       "0  [0.022328090570691267, 0.01999355101471073, 0....  \n",
       "1  [0.020189392589955717, 0.020189392589955717, 0...  \n",
       "2  [0.01947397679104996, 0.019473976791049966, 0....  \n",
       "3  [0.020283553057881, 0.020283553057881005, 0.02...  \n",
       "4  [0.019736842105263157, 0.019736842105263153, 0...  "
      ]
     },
     "execution_count": 11,
     "metadata": {},
     "output_type": "execute_result"
    }
   ],
   "source": [
    "df.head()"
   ]
  },
  {
   "cell_type": "code",
   "execution_count": 12,
   "metadata": {},
   "outputs": [
    {
     "data": {
      "text/plain": [
       "array([ 2,  3,  4,  5,  6,  7,  8,  9, 10])"
      ]
     },
     "execution_count": 12,
     "metadata": {},
     "output_type": "execute_result"
    }
   ],
   "source": [
    "kernel_range = np.arange(cfg.getint(\"kmeans\", \"clusters_min\"), cfg.getint(\"kmeans\", \"clusters_max\") + 1)\n",
    "kernel_range"
   ]
  },
  {
   "cell_type": "code",
   "execution_count": 13,
   "metadata": {},
   "outputs": [],
   "source": [
    "vectors = np.array([np.array(x) for x in df['stat_dist'].values])\n",
    "pca = PCA(n_components=3)\n",
    "plot_vectors = pca.fit_transform(vectors)"
   ]
  },
  {
   "cell_type": "code",
   "execution_count": 15,
   "metadata": {},
   "outputs": [
    {
     "data": {
      "application/vnd.jupyter.widget-view+json": {
       "model_id": "216f56da7aba4ef683cfbfad40b62c94",
       "version_major": 2,
       "version_minor": 0
      },
      "text/plain": [
       "HBox(children=(IntProgress(value=0, max=9), HTML(value='')))"
      ]
     },
     "metadata": {},
     "output_type": "display_data"
    },
    {
     "name": "stdout",
     "output_type": "stream",
     "text": [
      "Num Centroids: 2\n"
     ]
    },
    {
     "name": "stderr",
     "output_type": "stream",
     "text": [
      "/home/pkasper/python/Python-3.7.1/lib/python3.7/site-packages/sklearn/cluster/k_means_.py:971: RuntimeWarning: Explicit initial center position passed: performing only one init in k-means instead of n_init=10\n",
      "  return_n_iter=True)\n"
     ]
    },
    {
     "name": "stdout",
     "output_type": "stream",
     "text": [
      "SILHOUETTE 0.24465049950794304\n",
      "CALINSKI 26715.340842608774\n",
      "data/results/[WIKIDATA]kmeans[2]_silhouette.png\n",
      "data/results/[WIKIDATA]kmeans[2]_silhouette.pdf\n",
      "data/results/[WIKIDATA]kmeans[2]_clusters.png\n",
      "data/results/[WIKIDATA]kmeans[2]_clusters.pdf\n",
      "data/results/[WIKIDATA]kmeans[2]_population.png\n",
      "data/results/[WIKIDATA]kmeans[2]_population.pdf\n",
      "Num Centroids: 3\n"
     ]
    },
    {
     "name": "stderr",
     "output_type": "stream",
     "text": [
      "/home/pkasper/python/Python-3.7.1/lib/python3.7/site-packages/sklearn/cluster/k_means_.py:971: RuntimeWarning: Explicit initial center position passed: performing only one init in k-means instead of n_init=10\n",
      "  return_n_iter=True)\n"
     ]
    },
    {
     "name": "stdout",
     "output_type": "stream",
     "text": [
      "SILHOUETTE 0.312124083339527\n",
      "CALINSKI 26486.152975234585\n",
      "data/results/[WIKIDATA]kmeans[3]_silhouette.png\n",
      "data/results/[WIKIDATA]kmeans[3]_silhouette.pdf\n",
      "data/results/[WIKIDATA]kmeans[3]_clusters.png\n",
      "data/results/[WIKIDATA]kmeans[3]_clusters.pdf\n",
      "data/results/[WIKIDATA]kmeans[3]_population.png\n",
      "data/results/[WIKIDATA]kmeans[3]_population.pdf\n",
      "Num Centroids: 4\n"
     ]
    },
    {
     "name": "stderr",
     "output_type": "stream",
     "text": [
      "/home/pkasper/python/Python-3.7.1/lib/python3.7/site-packages/sklearn/cluster/k_means_.py:971: RuntimeWarning: Explicit initial center position passed: performing only one init in k-means instead of n_init=10\n",
      "  return_n_iter=True)\n"
     ]
    },
    {
     "name": "stdout",
     "output_type": "stream",
     "text": [
      "SILHOUETTE 0.32273459723275877\n",
      "CALINSKI 26742.256911854598\n",
      "data/results/[WIKIDATA]kmeans[4]_silhouette.png\n",
      "data/results/[WIKIDATA]kmeans[4]_silhouette.pdf\n",
      "data/results/[WIKIDATA]kmeans[4]_clusters.png\n",
      "data/results/[WIKIDATA]kmeans[4]_clusters.pdf\n",
      "data/results/[WIKIDATA]kmeans[4]_population.png\n",
      "data/results/[WIKIDATA]kmeans[4]_population.pdf\n",
      "Num Centroids: 5\n"
     ]
    },
    {
     "name": "stderr",
     "output_type": "stream",
     "text": [
      "/home/pkasper/python/Python-3.7.1/lib/python3.7/site-packages/sklearn/cluster/k_means_.py:971: RuntimeWarning: Explicit initial center position passed: performing only one init in k-means instead of n_init=10\n",
      "  return_n_iter=True)\n"
     ]
    },
    {
     "name": "stdout",
     "output_type": "stream",
     "text": [
      "SILHOUETTE 0.3341999833138369\n",
      "CALINSKI 24810.875062398143\n",
      "data/results/[WIKIDATA]kmeans[5]_silhouette.png\n",
      "data/results/[WIKIDATA]kmeans[5]_silhouette.pdf\n",
      "data/results/[WIKIDATA]kmeans[5]_clusters.png\n",
      "data/results/[WIKIDATA]kmeans[5]_clusters.pdf\n",
      "data/results/[WIKIDATA]kmeans[5]_population.png\n",
      "data/results/[WIKIDATA]kmeans[5]_population.pdf\n",
      "Num Centroids: 6\n"
     ]
    },
    {
     "name": "stderr",
     "output_type": "stream",
     "text": [
      "/home/pkasper/python/Python-3.7.1/lib/python3.7/site-packages/sklearn/cluster/k_means_.py:971: RuntimeWarning: Explicit initial center position passed: performing only one init in k-means instead of n_init=10\n",
      "  return_n_iter=True)\n"
     ]
    },
    {
     "name": "stdout",
     "output_type": "stream",
     "text": [
      "SILHOUETTE 0.35230396559897215\n",
      "CALINSKI 24219.38328431312\n",
      "data/results/[WIKIDATA]kmeans[6]_silhouette.png\n",
      "data/results/[WIKIDATA]kmeans[6]_silhouette.pdf\n",
      "data/results/[WIKIDATA]kmeans[6]_clusters.png\n",
      "data/results/[WIKIDATA]kmeans[6]_clusters.pdf\n",
      "data/results/[WIKIDATA]kmeans[6]_population.png\n",
      "data/results/[WIKIDATA]kmeans[6]_population.pdf\n",
      "Num Centroids: 7\n"
     ]
    },
    {
     "name": "stderr",
     "output_type": "stream",
     "text": [
      "/home/pkasper/python/Python-3.7.1/lib/python3.7/site-packages/sklearn/cluster/k_means_.py:971: RuntimeWarning: Explicit initial center position passed: performing only one init in k-means instead of n_init=10\n",
      "  return_n_iter=True)\n"
     ]
    },
    {
     "name": "stdout",
     "output_type": "stream",
     "text": [
      "SILHOUETTE 0.3656274167431354\n",
      "CALINSKI 24545.213558298172\n",
      "data/results/[WIKIDATA]kmeans[7]_silhouette.png\n",
      "data/results/[WIKIDATA]kmeans[7]_silhouette.pdf\n",
      "data/results/[WIKIDATA]kmeans[7]_clusters.png\n",
      "data/results/[WIKIDATA]kmeans[7]_clusters.pdf\n",
      "data/results/[WIKIDATA]kmeans[7]_population.png\n",
      "data/results/[WIKIDATA]kmeans[7]_population.pdf\n",
      "Num Centroids: 8\n"
     ]
    },
    {
     "name": "stderr",
     "output_type": "stream",
     "text": [
      "/home/pkasper/python/Python-3.7.1/lib/python3.7/site-packages/sklearn/cluster/k_means_.py:971: RuntimeWarning: Explicit initial center position passed: performing only one init in k-means instead of n_init=10\n",
      "  return_n_iter=True)\n"
     ]
    },
    {
     "name": "stdout",
     "output_type": "stream",
     "text": [
      "SILHOUETTE 0.3790315186931245\n",
      "CALINSKI 24358.32844088437\n",
      "data/results/[WIKIDATA]kmeans[8]_silhouette.png\n",
      "data/results/[WIKIDATA]kmeans[8]_silhouette.pdf\n",
      "data/results/[WIKIDATA]kmeans[8]_clusters.png\n",
      "data/results/[WIKIDATA]kmeans[8]_clusters.pdf\n",
      "data/results/[WIKIDATA]kmeans[8]_population.png\n",
      "data/results/[WIKIDATA]kmeans[8]_population.pdf\n",
      "Num Centroids: 9\n"
     ]
    },
    {
     "name": "stderr",
     "output_type": "stream",
     "text": [
      "/home/pkasper/python/Python-3.7.1/lib/python3.7/site-packages/sklearn/cluster/k_means_.py:971: RuntimeWarning: Explicit initial center position passed: performing only one init in k-means instead of n_init=10\n",
      "  return_n_iter=True)\n"
     ]
    },
    {
     "name": "stdout",
     "output_type": "stream",
     "text": [
      "SILHOUETTE 0.3823363999691437\n",
      "CALINSKI 25264.940019563463\n",
      "data/results/[WIKIDATA]kmeans[9]_silhouette.png\n",
      "data/results/[WIKIDATA]kmeans[9]_silhouette.pdf\n",
      "data/results/[WIKIDATA]kmeans[9]_clusters.png\n",
      "data/results/[WIKIDATA]kmeans[9]_clusters.pdf\n",
      "data/results/[WIKIDATA]kmeans[9]_population.png\n",
      "data/results/[WIKIDATA]kmeans[9]_population.pdf\n",
      "Num Centroids: 10\n"
     ]
    },
    {
     "name": "stderr",
     "output_type": "stream",
     "text": [
      "/home/pkasper/python/Python-3.7.1/lib/python3.7/site-packages/sklearn/cluster/k_means_.py:971: RuntimeWarning: Explicit initial center position passed: performing only one init in k-means instead of n_init=10\n",
      "  return_n_iter=True)\n"
     ]
    },
    {
     "name": "stdout",
     "output_type": "stream",
     "text": [
      "SILHOUETTE 0.34621812520400574\n",
      "CALINSKI 24065.056742387133\n",
      "data/results/[WIKIDATA]kmeans[10]_silhouette.png\n",
      "data/results/[WIKIDATA]kmeans[10]_silhouette.pdf\n",
      "data/results/[WIKIDATA]kmeans[10]_clusters.png\n",
      "data/results/[WIKIDATA]kmeans[10]_clusters.pdf\n",
      "data/results/[WIKIDATA]kmeans[10]_population.png\n",
      "data/results/[WIKIDATA]kmeans[10]_population.pdf\n",
      "\n"
     ]
    }
   ],
   "source": [
    "centroids = {}    \n",
    "centroids_file = os.path.join(cfg.get(\"directory\", \"exchange\"), results_prefix + \"001_centroids.p\")\n",
    "load_centroids = cfg.getboolean(\"kmeans\", \"load_centroids\") and os.path.isfile(centroids_file)\n",
    "for num_centroids in tqdm(kernel_range):    \n",
    "    kmeans = None\n",
    "\n",
    "    print(\"Num Centroids: {n}\".format(n=num_centroids))\n",
    "    if load_centroids:\n",
    "        with open(centroids_file, \"rb\") as dump_file:\n",
    "            centroids = pickle.load(dump_file)\n",
    "        kmeans = KMeans(n_clusters=num_centroids, init=centroids[num_centroids])\n",
    "    else:\n",
    "        kmeans = KMeans(n_clusters=num_centroids)\n",
    "        \n",
    "    kmeans.fit_predict(vectors)\n",
    "    \n",
    "    lbl = kmeans.labels_\n",
    "    centroids[num_centroids] = kmeans.cluster_centers_\n",
    "    if cfg.getboolean(\"kmeans\", \"store_centroids\"):\n",
    "        with open(centroids_file, \"wb\") as dump_file:\n",
    "            pickle.dump(centroids, dump_file)\n",
    "    \n",
    "    silhouette_avg = silhouette_score(vectors, lbl)\n",
    "    print(\"SILHOUETTE\", silhouette_avg)\n",
    "    calinski_score = calinski_harabaz_score(vectors, lbl)\n",
    "    print(\"CALINSKI\", calinski_score)\n",
    "    sample_silhouette_values = silhouette_samples(vectors, lbl)\n",
    "    \n",
    "    store_path = os.path.join(cfg.get(\"directory\", \"results\"), results_prefix + \"kmeans[{n}]\".format(n=num_centroids))\n",
    "    cluster_lbl = \"kmeans_{n}\".format(n=num_centroids)\n",
    "    df[cluster_lbl] = lbl\n",
    "    plotting.k_means(plot_vectors, num_centroids, lbl, sample_silhouette_values, silhouette_avg, store_path)"
   ]
  },
  {
   "cell_type": "code",
   "execution_count": null,
   "metadata": {},
   "outputs": [],
   "source": [
    "df.to_pickle(os.path.join(cfg.get(\"directory\", \"exchange\"), results_prefix + \"001_clustering.p\"))"
   ]
  },
  {
   "cell_type": "code",
   "execution_count": 18,
   "metadata": {},
   "outputs": [
    {
     "data": {
      "application/vnd.jupyter.widget-view+json": {
       "model_id": "c8322bc87ed944409f83ca2554d6e4a9",
       "version_major": 2,
       "version_minor": 0
      },
      "text/plain": [
       "HBox(children=(IntProgress(value=0, max=87480), HTML(value='')))"
      ]
     },
     "metadata": {},
     "output_type": "display_data"
    },
    {
     "name": "stdout",
     "output_type": "stream",
     "text": [
      "\n",
      "sending to plot 2\n",
      "data/results/[WIKIDATA]clusters[2_0].png\n",
      "data/results/[WIKIDATA]clusters[2_0].pdf\n",
      "plot done 2\n",
      "sending to plot 2\n",
      "data/results/[WIKIDATA]clusters[2_1].png\n",
      "data/results/[WIKIDATA]clusters[2_1].pdf\n",
      "plot done 2\n"
     ]
    },
    {
     "data": {
      "application/vnd.jupyter.widget-view+json": {
       "model_id": "8850b3457af74097aa41d6f73ce874ca",
       "version_major": 2,
       "version_minor": 0
      },
      "text/plain": [
       "HBox(children=(IntProgress(value=0, max=87480), HTML(value='')))"
      ]
     },
     "metadata": {},
     "output_type": "display_data"
    },
    {
     "name": "stdout",
     "output_type": "stream",
     "text": [
      "\n",
      "sending to plot 3\n",
      "data/results/[WIKIDATA]clusters[3_2].png\n",
      "data/results/[WIKIDATA]clusters[3_2].pdf\n",
      "plot done 3\n",
      "sending to plot 3\n",
      "data/results/[WIKIDATA]clusters[3_1].png\n",
      "data/results/[WIKIDATA]clusters[3_1].pdf\n",
      "plot done 3\n",
      "sending to plot 3\n",
      "data/results/[WIKIDATA]clusters[3_0].png\n",
      "data/results/[WIKIDATA]clusters[3_0].pdf\n",
      "plot done 3\n"
     ]
    },
    {
     "data": {
      "application/vnd.jupyter.widget-view+json": {
       "model_id": "51522a07f68f4b08a90c30ee484be0c0",
       "version_major": 2,
       "version_minor": 0
      },
      "text/plain": [
       "HBox(children=(IntProgress(value=0, max=87480), HTML(value='')))"
      ]
     },
     "metadata": {},
     "output_type": "display_data"
    },
    {
     "name": "stdout",
     "output_type": "stream",
     "text": [
      "\n",
      "sending to plot 4\n",
      "data/results/[WIKIDATA]clusters[4_1].png\n",
      "data/results/[WIKIDATA]clusters[4_1].pdf\n",
      "plot done 4\n",
      "sending to plot 4\n",
      "data/results/[WIKIDATA]clusters[4_3].png\n",
      "data/results/[WIKIDATA]clusters[4_3].pdf\n",
      "plot done 4\n",
      "sending to plot 4\n",
      "data/results/[WIKIDATA]clusters[4_0].png\n",
      "data/results/[WIKIDATA]clusters[4_0].pdf\n",
      "plot done 4\n",
      "sending to plot 4\n",
      "data/results/[WIKIDATA]clusters[4_2].png\n",
      "data/results/[WIKIDATA]clusters[4_2].pdf\n",
      "plot done 4\n"
     ]
    },
    {
     "data": {
      "application/vnd.jupyter.widget-view+json": {
       "model_id": "d32e8bedf5f94fafb41a2ffd476a112e",
       "version_major": 2,
       "version_minor": 0
      },
      "text/plain": [
       "HBox(children=(IntProgress(value=0, max=87480), HTML(value='')))"
      ]
     },
     "metadata": {},
     "output_type": "display_data"
    },
    {
     "name": "stdout",
     "output_type": "stream",
     "text": [
      "\n",
      "sending to plot 5\n",
      "data/results/[WIKIDATA]clusters[5_4].png\n",
      "data/results/[WIKIDATA]clusters[5_4].pdf\n",
      "plot done 5\n",
      "sending to plot 5\n",
      "data/results/[WIKIDATA]clusters[5_0].png\n",
      "data/results/[WIKIDATA]clusters[5_0].pdf\n",
      "plot done 5\n",
      "sending to plot 5\n",
      "data/results/[WIKIDATA]clusters[5_1].png\n",
      "data/results/[WIKIDATA]clusters[5_1].pdf\n",
      "plot done 5\n",
      "sending to plot 5\n",
      "data/results/[WIKIDATA]clusters[5_3].png\n",
      "data/results/[WIKIDATA]clusters[5_3].pdf\n",
      "plot done 5\n",
      "sending to plot 5\n",
      "data/results/[WIKIDATA]clusters[5_2].png\n",
      "data/results/[WIKIDATA]clusters[5_2].pdf\n",
      "plot done 5\n"
     ]
    },
    {
     "data": {
      "application/vnd.jupyter.widget-view+json": {
       "model_id": "44f0135431e84d50ab80f3245b3e2d57",
       "version_major": 2,
       "version_minor": 0
      },
      "text/plain": [
       "HBox(children=(IntProgress(value=0, max=87480), HTML(value='')))"
      ]
     },
     "metadata": {},
     "output_type": "display_data"
    },
    {
     "name": "stdout",
     "output_type": "stream",
     "text": [
      "\n",
      "sending to plot 6\n",
      "data/results/[WIKIDATA]clusters[6_3].png\n",
      "data/results/[WIKIDATA]clusters[6_3].pdf\n",
      "plot done 6\n",
      "sending to plot 6\n",
      "data/results/[WIKIDATA]clusters[6_2].png\n",
      "data/results/[WIKIDATA]clusters[6_2].pdf\n",
      "plot done 6\n",
      "sending to plot 6\n",
      "data/results/[WIKIDATA]clusters[6_1].png\n",
      "data/results/[WIKIDATA]clusters[6_1].pdf\n",
      "plot done 6\n",
      "sending to plot 6\n",
      "data/results/[WIKIDATA]clusters[6_5].png\n",
      "data/results/[WIKIDATA]clusters[6_5].pdf\n",
      "plot done 6\n",
      "sending to plot 6\n",
      "data/results/[WIKIDATA]clusters[6_4].png\n",
      "data/results/[WIKIDATA]clusters[6_4].pdf\n",
      "plot done 6\n",
      "sending to plot 6\n",
      "data/results/[WIKIDATA]clusters[6_0].png\n",
      "data/results/[WIKIDATA]clusters[6_0].pdf\n",
      "plot done 6\n"
     ]
    },
    {
     "data": {
      "application/vnd.jupyter.widget-view+json": {
       "model_id": "7aa6ecb3c4ea41719567491fbf780136",
       "version_major": 2,
       "version_minor": 0
      },
      "text/plain": [
       "HBox(children=(IntProgress(value=0, max=87480), HTML(value='')))"
      ]
     },
     "metadata": {},
     "output_type": "display_data"
    },
    {
     "name": "stdout",
     "output_type": "stream",
     "text": [
      "\n",
      "sending to plot 7\n",
      "data/results/[WIKIDATA]clusters[7_5].png\n",
      "data/results/[WIKIDATA]clusters[7_5].pdf\n",
      "plot done 7\n",
      "sending to plot 7\n",
      "data/results/[WIKIDATA]clusters[7_3].png\n",
      "data/results/[WIKIDATA]clusters[7_3].pdf\n",
      "plot done 7\n",
      "sending to plot 7\n",
      "data/results/[WIKIDATA]clusters[7_4].png\n",
      "data/results/[WIKIDATA]clusters[7_4].pdf\n",
      "plot done 7\n",
      "sending to plot 7\n",
      "data/results/[WIKIDATA]clusters[7_0].png\n",
      "data/results/[WIKIDATA]clusters[7_0].pdf\n",
      "plot done 7\n",
      "sending to plot 7\n",
      "data/results/[WIKIDATA]clusters[7_2].png\n",
      "data/results/[WIKIDATA]clusters[7_2].pdf\n",
      "plot done 7\n",
      "sending to plot 7\n",
      "data/results/[WIKIDATA]clusters[7_1].png\n",
      "data/results/[WIKIDATA]clusters[7_1].pdf\n",
      "plot done 7\n",
      "sending to plot 7\n",
      "data/results/[WIKIDATA]clusters[7_6].png\n",
      "data/results/[WIKIDATA]clusters[7_6].pdf\n",
      "plot done 7\n"
     ]
    },
    {
     "data": {
      "application/vnd.jupyter.widget-view+json": {
       "model_id": "4a4750a916294be1bef5ea4df1c0dce2",
       "version_major": 2,
       "version_minor": 0
      },
      "text/plain": [
       "HBox(children=(IntProgress(value=0, max=87480), HTML(value='')))"
      ]
     },
     "metadata": {},
     "output_type": "display_data"
    },
    {
     "name": "stdout",
     "output_type": "stream",
     "text": [
      "\n",
      "sending to plot 8\n",
      "data/results/[WIKIDATA]clusters[8_6].png\n",
      "data/results/[WIKIDATA]clusters[8_6].pdf\n",
      "plot done 8\n",
      "sending to plot 8\n",
      "data/results/[WIKIDATA]clusters[8_4].png\n",
      "data/results/[WIKIDATA]clusters[8_4].pdf\n",
      "plot done 8\n",
      "sending to plot 8\n",
      "data/results/[WIKIDATA]clusters[8_0].png\n",
      "data/results/[WIKIDATA]clusters[8_0].pdf\n",
      "plot done 8\n",
      "sending to plot 8\n",
      "data/results/[WIKIDATA]clusters[8_3].png\n",
      "data/results/[WIKIDATA]clusters[8_3].pdf\n",
      "plot done 8\n",
      "sending to plot 8\n",
      "data/results/[WIKIDATA]clusters[8_2].png\n",
      "data/results/[WIKIDATA]clusters[8_2].pdf\n",
      "plot done 8\n",
      "sending to plot 8\n",
      "data/results/[WIKIDATA]clusters[8_7].png\n",
      "data/results/[WIKIDATA]clusters[8_7].pdf\n",
      "plot done 8\n",
      "sending to plot 8\n",
      "data/results/[WIKIDATA]clusters[8_1].png\n",
      "data/results/[WIKIDATA]clusters[8_1].pdf\n",
      "plot done 8\n",
      "sending to plot 8\n",
      "data/results/[WIKIDATA]clusters[8_5].png\n",
      "data/results/[WIKIDATA]clusters[8_5].pdf\n",
      "plot done 8\n"
     ]
    },
    {
     "data": {
      "application/vnd.jupyter.widget-view+json": {
       "model_id": "acc7a862bfab45d69c58ce492d920a9e",
       "version_major": 2,
       "version_minor": 0
      },
      "text/plain": [
       "HBox(children=(IntProgress(value=0, max=87480), HTML(value='')))"
      ]
     },
     "metadata": {},
     "output_type": "display_data"
    },
    {
     "name": "stdout",
     "output_type": "stream",
     "text": [
      "\n",
      "sending to plot 9\n",
      "data/results/[WIKIDATA]clusters[9_3].png\n",
      "data/results/[WIKIDATA]clusters[9_3].pdf\n",
      "plot done 9\n",
      "sending to plot 9\n",
      "data/results/[WIKIDATA]clusters[9_1].png\n",
      "data/results/[WIKIDATA]clusters[9_1].pdf\n",
      "plot done 9\n",
      "sending to plot 9\n",
      "data/results/[WIKIDATA]clusters[9_2].png\n",
      "data/results/[WIKIDATA]clusters[9_2].pdf\n",
      "plot done 9\n",
      "sending to plot 9\n",
      "data/results/[WIKIDATA]clusters[9_7].png\n",
      "data/results/[WIKIDATA]clusters[9_7].pdf\n",
      "plot done 9\n",
      "sending to plot 9\n",
      "data/results/[WIKIDATA]clusters[9_0].png\n",
      "data/results/[WIKIDATA]clusters[9_0].pdf\n",
      "plot done 9\n",
      "sending to plot 9\n",
      "data/results/[WIKIDATA]clusters[9_5].png\n",
      "data/results/[WIKIDATA]clusters[9_5].pdf\n",
      "plot done 9\n",
      "sending to plot 9\n",
      "data/results/[WIKIDATA]clusters[9_6].png\n",
      "data/results/[WIKIDATA]clusters[9_6].pdf\n",
      "plot done 9\n",
      "sending to plot 9\n",
      "data/results/[WIKIDATA]clusters[9_8].png\n",
      "data/results/[WIKIDATA]clusters[9_8].pdf\n",
      "plot done 9\n",
      "sending to plot 9\n",
      "data/results/[WIKIDATA]clusters[9_4].png\n",
      "data/results/[WIKIDATA]clusters[9_4].pdf\n",
      "plot done 9\n"
     ]
    },
    {
     "data": {
      "application/vnd.jupyter.widget-view+json": {
       "model_id": "8bec3d2c174344f4995c34dc11a0c935",
       "version_major": 2,
       "version_minor": 0
      },
      "text/plain": [
       "HBox(children=(IntProgress(value=0, max=87480), HTML(value='')))"
      ]
     },
     "metadata": {},
     "output_type": "display_data"
    },
    {
     "name": "stdout",
     "output_type": "stream",
     "text": [
      "\n",
      "sending to plot 10\n",
      "data/results/[WIKIDATA]clusters[10_2].png\n",
      "data/results/[WIKIDATA]clusters[10_2].pdf\n",
      "plot done 10\n",
      "sending to plot 10\n",
      "data/results/[WIKIDATA]clusters[10_4].png\n",
      "data/results/[WIKIDATA]clusters[10_4].pdf\n",
      "plot done 10\n",
      "sending to plot 10\n",
      "data/results/[WIKIDATA]clusters[10_1].png\n",
      "data/results/[WIKIDATA]clusters[10_1].pdf\n",
      "plot done 10\n",
      "sending to plot 10\n",
      "data/results/[WIKIDATA]clusters[10_3].png\n",
      "data/results/[WIKIDATA]clusters[10_3].pdf\n",
      "plot done 10\n",
      "sending to plot 10\n",
      "data/results/[WIKIDATA]clusters[10_0].png\n",
      "data/results/[WIKIDATA]clusters[10_0].pdf\n",
      "plot done 10\n",
      "sending to plot 10\n",
      "data/results/[WIKIDATA]clusters[10_8].png\n",
      "data/results/[WIKIDATA]clusters[10_8].pdf\n",
      "plot done 10\n",
      "sending to plot 10\n",
      "data/results/[WIKIDATA]clusters[10_6].png\n",
      "data/results/[WIKIDATA]clusters[10_6].pdf\n",
      "plot done 10\n",
      "sending to plot 10\n",
      "data/results/[WIKIDATA]clusters[10_5].png\n",
      "data/results/[WIKIDATA]clusters[10_5].pdf\n",
      "plot done 10\n",
      "sending to plot 10\n",
      "data/results/[WIKIDATA]clusters[10_7].png\n",
      "data/results/[WIKIDATA]clusters[10_7].pdf\n",
      "plot done 10\n",
      "sending to plot 10\n",
      "data/results/[WIKIDATA]clusters[10_9].png\n",
      "data/results/[WIKIDATA]clusters[10_9].pdf\n",
      "plot done 10\n"
     ]
    }
   ],
   "source": [
    "for num_centroids in kernel_range:\n",
    "    member_count = defaultdict(int)\n",
    "    cluster = defaultdict(list)\n",
    "    cluster_lbl = \"kmeans_{n}\".format(n=num_centroids)\n",
    "    \n",
    "    for i, user in tqdm(df.iterrows(), total=len(df)):\n",
    "        cluster_id = user[cluster_lbl]\n",
    "        member_count[cluster_id] += 1\n",
    "        action_df = pd.DataFrame({\"from\": user['sequence']})\n",
    "        action_df[\"to\"] = action_df[\"from\"].shift(periods=-1)\n",
    "        cluster[cluster_id].append(action_df)\n",
    "         \n",
    "    for cluster_index in cluster:\n",
    "        cluster_df = pd.concat(cluster[cluster_index])\n",
    "\n",
    "        transition_count_pivot = lib.stretch_pivot(pd.crosstab(cluster_df['from'], cluster_df['to']), labels)\n",
    "        unnormalized = transition_count_pivot.transpose().sum().transpose()\n",
    "        pivot = lib.stretch_pivot(pd.crosstab(cluster_df['from'], cluster_df['to'], normalize=\"index\"), labels)\n",
    "        \n",
    "        store_path = os.path.join(cfg.get(\"directory\", \"results\"), results_prefix + \"clusters[{n}_{i}]\".format(n=num_centroids, i=cluster_index))\n",
    "        plotting.transition_matrix(unnormalized, pivot, transition_count_pivot, cluster_index, store_path)\n",
    "        \n",
    "        \"\"\"\n",
    "        transition_count_pivot_reduced = lib.stretch_pivot(transition_count_pivot, filtered_states)\n",
    "        unnormalized_reduced = transition_count_pivot_reduced.transpose().sum().transpose()\n",
    "        pivot_reduced = lib.stretch_pivot(pd.crosstab(cluster_df['from'], cluster_df['to'], normalize=\"index\"), filtered_states)\n",
    "        \n",
    "        store_path = os.path.join(cfg.get(\"directory\", \"results\"), results_prefix + \"clusters[{n}_{i}]reduced\".format(n=num_centroids, i=cluster_index))\n",
    "        plotting.transition_matrix(unnormalized, pivot, transition_count_pivot, cluster_index, store_path)\n",
    "        \"\"\"\n",
    "        "
   ]
  },
  {
   "cell_type": "code",
   "execution_count": null,
   "metadata": {},
   "outputs": [],
   "source": []
  }
 ],
 "metadata": {
  "kernelspec": {
   "display_name": "Python 3",
   "language": "python",
   "name": "python3"
  },
  "language_info": {
   "codemirror_mode": {
    "name": "ipython",
    "version": 3
   },
   "file_extension": ".py",
   "mimetype": "text/x-python",
   "name": "python",
   "nbconvert_exporter": "python",
   "pygments_lexer": "ipython3",
   "version": "3.7.1"
  }
 },
 "nbformat": 4,
 "nbformat_minor": 2
}
