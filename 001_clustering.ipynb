{
 "cells": [
  {
   "cell_type": "code",
   "execution_count": 1,
   "metadata": {},
   "outputs": [],
   "source": [
    "%load_ext autoreload\n",
    "%autoreload 2"
   ]
  },
  {
   "cell_type": "code",
   "execution_count": 2,
   "metadata": {},
   "outputs": [],
   "source": [
    "import os\n",
    "import numpy as np\n",
    "import pandas as pd"
   ]
  },
  {
   "cell_type": "code",
   "execution_count": 3,
   "metadata": {},
   "outputs": [],
   "source": [
    "import lib\n",
    "import plotting"
   ]
  },
  {
   "cell_type": "code",
   "execution_count": 4,
   "metadata": {},
   "outputs": [],
   "source": [
    "from multiprocessing import Pool\n",
    "import pickle\n",
    "from collections import defaultdict"
   ]
  },
  {
   "cell_type": "code",
   "execution_count": 5,
   "metadata": {},
   "outputs": [],
   "source": [
    "from sklearn.cluster import KMeans\n",
    "from sklearn.metrics import silhouette_samples, silhouette_score, calinski_harabaz_score\n",
    "from sklearn.decomposition import PCA"
   ]
  },
  {
   "cell_type": "code",
   "execution_count": 6,
   "metadata": {},
   "outputs": [
    {
     "data": {
      "text/plain": [
       "['config.cfg']"
      ]
     },
     "execution_count": 6,
     "metadata": {},
     "output_type": "execute_result"
    }
   ],
   "source": [
    "from configparser import ConfigParser\n",
    "cfg = ConfigParser()\n",
    "cfg.read(\"config.cfg\")"
   ]
  },
  {
   "cell_type": "code",
   "execution_count": 7,
   "metadata": {},
   "outputs": [],
   "source": [
    "from tqdm._tqdm_notebook import tqdm_notebook as tqdm # we manually import the notebook submodule as the normal one struggles with jupyterlab\n",
    "tqdm.pandas() # this enables us to use progress_apply instead of apply"
   ]
  },
  {
   "cell_type": "code",
   "execution_count": 8,
   "metadata": {},
   "outputs": [],
   "source": [
    "results_prefix = \"[WIKIDATA_BOTRM]\"\n",
    "\n",
    "sequence_file = os.path.join(cfg.get(\"directory\", \"exchange\"), \"[wikidata]004_sequences.p\")\n",
    "labels_file = os.path.join(cfg.get(\"directory\", \"exchange\"), \"[wikidata]004_labels.p\")\n",
    "users_file = os.path.join(cfg.get(\"directory\", \"exchange\"), \"[wikidata]004_users.p\")"
   ]
  },
  {
   "cell_type": "code",
   "execution_count": 9,
   "metadata": {},
   "outputs": [
    {
     "data": {
      "text/html": [
       "<div>\n",
       "<style scoped>\n",
       "    .dataframe tbody tr th:only-of-type {\n",
       "        vertical-align: middle;\n",
       "    }\n",
       "\n",
       "    .dataframe tbody tr th {\n",
       "        vertical-align: top;\n",
       "    }\n",
       "\n",
       "    .dataframe thead th {\n",
       "        text-align: right;\n",
       "    }\n",
       "</style>\n",
       "<table border=\"1\" class=\"dataframe\">\n",
       "  <thead>\n",
       "    <tr style=\"text-align: right;\">\n",
       "      <th></th>\n",
       "      <th>length</th>\n",
       "      <th>sequence</th>\n",
       "      <th>user_id</th>\n",
       "    </tr>\n",
       "  </thead>\n",
       "  <tbody>\n",
       "    <tr>\n",
       "      <th>0</th>\n",
       "      <td>1511</td>\n",
       "      <td>[REVERT_MANUAL, BREAK, CLAIM_CREATE, BREAK, CL...</td>\n",
       "      <td>1</td>\n",
       "    </tr>\n",
       "    <tr>\n",
       "      <th>1</th>\n",
       "      <td>9</td>\n",
       "      <td>[ENTITY_CREATE, BREAK, SITELINK_ADD, BREAK, ME...</td>\n",
       "      <td>1000036</td>\n",
       "    </tr>\n",
       "    <tr>\n",
       "      <th>2</th>\n",
       "      <td>7</td>\n",
       "      <td>[SITELINK_ADD, BREAK, SITELINK_ADD, BREAK, SIT...</td>\n",
       "      <td>1000078</td>\n",
       "    </tr>\n",
       "    <tr>\n",
       "      <th>3</th>\n",
       "      <td>9</td>\n",
       "      <td>[ENTITY_CREATE, BREAK, SITELINK_REMOVE, SITELI...</td>\n",
       "      <td>100008</td>\n",
       "    </tr>\n",
       "    <tr>\n",
       "      <th>4</th>\n",
       "      <td>44</td>\n",
       "      <td>[SITELINK_ADD, BREAK, SITELINK_ADD, BREAK, SIT...</td>\n",
       "      <td>100012</td>\n",
       "    </tr>\n",
       "  </tbody>\n",
       "</table>\n",
       "</div>"
      ],
      "text/plain": [
       "   length                                           sequence  user_id\n",
       "0    1511  [REVERT_MANUAL, BREAK, CLAIM_CREATE, BREAK, CL...        1\n",
       "1       9  [ENTITY_CREATE, BREAK, SITELINK_ADD, BREAK, ME...  1000036\n",
       "2       7  [SITELINK_ADD, BREAK, SITELINK_ADD, BREAK, SIT...  1000078\n",
       "3       9  [ENTITY_CREATE, BREAK, SITELINK_REMOVE, SITELI...   100008\n",
       "4      44  [SITELINK_ADD, BREAK, SITELINK_ADD, BREAK, SIT...   100012"
      ]
     },
     "execution_count": 9,
     "metadata": {},
     "output_type": "execute_result"
    }
   ],
   "source": [
    "df = pd.read_pickle(sequence_file)\n",
    "labels = pd.read_pickle(labels_file)['label'].values\n",
    "df.head()"
   ]
  },
  {
   "cell_type": "code",
   "execution_count": 10,
   "metadata": {},
   "outputs": [],
   "source": [
    "# filter top and bottom 5 percentiles"
   ]
  },
  {
   "cell_type": "code",
   "execution_count": 11,
   "metadata": {},
   "outputs": [
    {
     "name": "stdout",
     "output_type": "stream",
     "text": [
      "2.0 3552.0999999999913\n",
      "Num users before: 87480\n",
      "Num users after: 77722\n"
     ]
    }
   ],
   "source": [
    "lower_bound = df['length'].quantile(0.02)\n",
    "upper_bound = df['length'].quantile(0.98)\n",
    "print(lower_bound, upper_bound)\n",
    "\n",
    "print(\"Num users before: {n}\".format(n=len(df)))\n",
    "df_dropped =  df.loc[~((df['length'] < upper_bound) & (lower_bound < df['length']))].reset_index(drop=True)\n",
    "df = df.loc[(df['length'] < upper_bound) & (lower_bound < df['length'])].reset_index(drop=True)\n",
    "print(\"Num users after: {n}\".format(n=len(df)))"
   ]
  },
  {
   "cell_type": "code",
   "execution_count": 12,
   "metadata": {},
   "outputs": [
    {
     "name": "stdout",
     "output_type": "stream",
     "text": [
      "Num actions: 8667310\n",
      "Num actions dropped: 136540254\n"
     ]
    }
   ],
   "source": [
    "num_actions = df[\"length\"].sum()\n",
    "num_actions_dropped = df_dropped[\"length\"].sum()\n",
    "print(\"Num actions: {n}\".format(n=num_actions))\n",
    "print(\"Num actions dropped: {n}\".format(n=num_actions_dropped))"
   ]
  },
  {
   "cell_type": "code",
   "execution_count": null,
   "metadata": {},
   "outputs": [
    {
     "data": {
      "application/vnd.jupyter.widget-view+json": {
       "model_id": "a9fc405decc1401ab7b3c66c418c0432",
       "version_major": 2,
       "version_minor": 0
      },
      "text/plain": [
       "HBox(children=(IntProgress(value=0, max=77722), HTML(value='')))"
      ]
     },
     "metadata": {},
     "output_type": "display_data"
    },
    {
     "name": "stdout",
     "output_type": "stream",
     "text": [
      "\n"
     ]
    }
   ],
   "source": [
    "def calc_dist(sequence):\n",
    "    dist, pivot = lib.calc_distribution(labels, sequence)\n",
    "    return np.array(dist)\n",
    "\n",
    "with Pool(cfg.getint(\"core\", \"num_cores\")) as processor_pool:\n",
    "    df['stat_dist'] = pd.Series(processor_pool.imap(calc_dist, tqdm(df['sequence'])))"
   ]
  },
  {
   "cell_type": "code",
   "execution_count": null,
   "metadata": {},
   "outputs": [
    {
     "data": {
      "text/html": [
       "<div>\n",
       "<style scoped>\n",
       "    .dataframe tbody tr th:only-of-type {\n",
       "        vertical-align: middle;\n",
       "    }\n",
       "\n",
       "    .dataframe tbody tr th {\n",
       "        vertical-align: top;\n",
       "    }\n",
       "\n",
       "    .dataframe thead th {\n",
       "        text-align: right;\n",
       "    }\n",
       "</style>\n",
       "<table border=\"1\" class=\"dataframe\">\n",
       "  <thead>\n",
       "    <tr style=\"text-align: right;\">\n",
       "      <th></th>\n",
       "      <th>length</th>\n",
       "      <th>sequence</th>\n",
       "      <th>user_id</th>\n",
       "      <th>stat_dist</th>\n",
       "    </tr>\n",
       "  </thead>\n",
       "  <tbody>\n",
       "    <tr>\n",
       "      <th>0</th>\n",
       "      <td>1511</td>\n",
       "      <td>[REVERT_MANUAL, BREAK, CLAIM_CREATE, BREAK, CL...</td>\n",
       "      <td>1</td>\n",
       "      <td>[0.022260285362644863, 0.01999793118304165, 0....</td>\n",
       "    </tr>\n",
       "    <tr>\n",
       "      <th>1</th>\n",
       "      <td>9</td>\n",
       "      <td>[ENTITY_CREATE, BREAK, SITELINK_ADD, BREAK, ME...</td>\n",
       "      <td>1000036</td>\n",
       "      <td>[0.020070153072094386, 0.02007015307209438, 0....</td>\n",
       "    </tr>\n",
       "    <tr>\n",
       "      <th>2</th>\n",
       "      <td>7</td>\n",
       "      <td>[SITELINK_ADD, BREAK, SITELINK_ADD, BREAK, SIT...</td>\n",
       "      <td>1000078</td>\n",
       "      <td>[0.01947397679104996, 0.019473976791049966, 0....</td>\n",
       "    </tr>\n",
       "    <tr>\n",
       "      <th>3</th>\n",
       "      <td>9</td>\n",
       "      <td>[ENTITY_CREATE, BREAK, SITELINK_REMOVE, SITELI...</td>\n",
       "      <td>100008</td>\n",
       "      <td>[0.02042483183496783, 0.020424831834967825, 0....</td>\n",
       "    </tr>\n",
       "    <tr>\n",
       "      <th>4</th>\n",
       "      <td>44</td>\n",
       "      <td>[SITELINK_ADD, BREAK, SITELINK_ADD, BREAK, SIT...</td>\n",
       "      <td>100012</td>\n",
       "      <td>[0.01973684210526316, 0.019736842105263157, 0....</td>\n",
       "    </tr>\n",
       "  </tbody>\n",
       "</table>\n",
       "</div>"
      ],
      "text/plain": [
       "   length                                           sequence  user_id  \\\n",
       "0    1511  [REVERT_MANUAL, BREAK, CLAIM_CREATE, BREAK, CL...        1   \n",
       "1       9  [ENTITY_CREATE, BREAK, SITELINK_ADD, BREAK, ME...  1000036   \n",
       "2       7  [SITELINK_ADD, BREAK, SITELINK_ADD, BREAK, SIT...  1000078   \n",
       "3       9  [ENTITY_CREATE, BREAK, SITELINK_REMOVE, SITELI...   100008   \n",
       "4      44  [SITELINK_ADD, BREAK, SITELINK_ADD, BREAK, SIT...   100012   \n",
       "\n",
       "                                           stat_dist  \n",
       "0  [0.022260285362644863, 0.01999793118304165, 0....  \n",
       "1  [0.020070153072094386, 0.02007015307209438, 0....  \n",
       "2  [0.01947397679104996, 0.019473976791049966, 0....  \n",
       "3  [0.02042483183496783, 0.020424831834967825, 0....  \n",
       "4  [0.01973684210526316, 0.019736842105263157, 0....  "
      ]
     },
     "execution_count": 14,
     "metadata": {},
     "output_type": "execute_result"
    }
   ],
   "source": [
    "df.head()"
   ]
  },
  {
   "cell_type": "code",
   "execution_count": 13,
   "metadata": {},
   "outputs": [
    {
     "data": {
      "text/plain": [
       "array([ 2,  3,  4,  5,  6,  7,  8,  9, 10])"
      ]
     },
     "execution_count": 13,
     "metadata": {},
     "output_type": "execute_result"
    }
   ],
   "source": [
    "kernel_range = np.arange(cfg.getint(\"kmeans\", \"clusters_min\"), cfg.getint(\"kmeans\", \"clusters_max\") + 1)\n",
    "kernel_range"
   ]
  },
  {
   "cell_type": "code",
   "execution_count": null,
   "metadata": {},
   "outputs": [
    {
     "name": "stdout",
     "output_type": "stream",
     "text": [
      "[0.30026087 0.47613368 0.59982247]\n"
     ]
    }
   ],
   "source": [
    "vectors = np.array([np.array(x) for x in df['stat_dist'].values]) # ensure we have the data in numpy format\n",
    "pca = PCA(n_components=3)\n",
    "plot_vectors = pca.fit_transform(vectors)\n",
    "print(pca.explained_variance_ratio_.cumsum())"
   ]
  },
  {
   "cell_type": "code",
   "execution_count": null,
   "metadata": {},
   "outputs": [
    {
     "data": {
      "application/vnd.jupyter.widget-view+json": {
       "model_id": "7df6213fedb44c34aa2604de3e44bacc",
       "version_major": 2,
       "version_minor": 0
      },
      "text/plain": [
       "HBox(children=(IntProgress(value=0, max=9), HTML(value='')))"
      ]
     },
     "metadata": {},
     "output_type": "display_data"
    },
    {
     "name": "stdout",
     "output_type": "stream",
     "text": [
      "Num Centroids: 2\n",
      "SILHOUETTE 0.2543062531909324\n",
      "CALINSKI 22174.99803942664\n",
      "data/results/[WIKIDATA_BOTRM]kmeans[2]_silhouette.png\n",
      "data/results/[WIKIDATA_BOTRM]kmeans[2]_silhouette.pdf\n",
      "data/results/[WIKIDATA_BOTRM]kmeans[2]_clusters.png\n",
      "data/results/[WIKIDATA_BOTRM]kmeans[2]_clusters.pdf\n",
      "data/results/[WIKIDATA_BOTRM]kmeans[2]_clusters_planar.png\n",
      "data/results/[WIKIDATA_BOTRM]kmeans[2]_clusters_planar.pdf\n",
      "data/results/[WIKIDATA_BOTRM]kmeans[2]_population.png\n",
      "data/results/[WIKIDATA_BOTRM]kmeans[2]_population.pdf\n",
      "Num Centroids: 3\n",
      "SILHOUETTE 0.27636892013688563\n",
      "CALINSKI 21886.53361727076\n",
      "data/results/[WIKIDATA_BOTRM]kmeans[3]_silhouette.png\n",
      "data/results/[WIKIDATA_BOTRM]kmeans[3]_silhouette.pdf\n",
      "data/results/[WIKIDATA_BOTRM]kmeans[3]_clusters.png\n",
      "data/results/[WIKIDATA_BOTRM]kmeans[3]_clusters.pdf\n",
      "data/results/[WIKIDATA_BOTRM]kmeans[3]_clusters_planar.png\n",
      "data/results/[WIKIDATA_BOTRM]kmeans[3]_clusters_planar.pdf\n",
      "data/results/[WIKIDATA_BOTRM]kmeans[3]_population.png\n",
      "data/results/[WIKIDATA_BOTRM]kmeans[3]_population.pdf\n",
      "Num Centroids: 4\n",
      "SILHOUETTE 0.3358500505583371\n",
      "CALINSKI 23580.38677838057\n",
      "data/results/[WIKIDATA_BOTRM]kmeans[4]_silhouette.png\n",
      "data/results/[WIKIDATA_BOTRM]kmeans[4]_silhouette.pdf\n",
      "data/results/[WIKIDATA_BOTRM]kmeans[4]_clusters.png\n",
      "data/results/[WIKIDATA_BOTRM]kmeans[4]_clusters.pdf\n",
      "data/results/[WIKIDATA_BOTRM]kmeans[4]_clusters_planar.png\n",
      "data/results/[WIKIDATA_BOTRM]kmeans[4]_clusters_planar.pdf\n",
      "data/results/[WIKIDATA_BOTRM]kmeans[4]_population.png\n",
      "data/results/[WIKIDATA_BOTRM]kmeans[4]_population.pdf\n",
      "Num Centroids: 5\n",
      "SILHOUETTE 0.36060526579516355\n",
      "CALINSKI 23246.791940583305\n",
      "data/results/[WIKIDATA_BOTRM]kmeans[5]_silhouette.png\n",
      "data/results/[WIKIDATA_BOTRM]kmeans[5]_silhouette.pdf\n",
      "data/results/[WIKIDATA_BOTRM]kmeans[5]_clusters.png\n",
      "data/results/[WIKIDATA_BOTRM]kmeans[5]_clusters.pdf\n",
      "data/results/[WIKIDATA_BOTRM]kmeans[5]_clusters_planar.png\n",
      "data/results/[WIKIDATA_BOTRM]kmeans[5]_clusters_planar.pdf\n",
      "data/results/[WIKIDATA_BOTRM]kmeans[5]_population.png\n",
      "data/results/[WIKIDATA_BOTRM]kmeans[5]_population.pdf\n",
      "Num Centroids: 6\n",
      "SILHOUETTE 0.3711016346994636\n",
      "CALINSKI 22624.62025866361\n",
      "data/results/[WIKIDATA_BOTRM]kmeans[6]_silhouette.png\n",
      "data/results/[WIKIDATA_BOTRM]kmeans[6]_silhouette.pdf\n",
      "data/results/[WIKIDATA_BOTRM]kmeans[6]_clusters.png\n",
      "data/results/[WIKIDATA_BOTRM]kmeans[6]_clusters.pdf\n",
      "data/results/[WIKIDATA_BOTRM]kmeans[6]_clusters_planar.png\n",
      "data/results/[WIKIDATA_BOTRM]kmeans[6]_clusters_planar.pdf\n",
      "data/results/[WIKIDATA_BOTRM]kmeans[6]_population.png\n",
      "data/results/[WIKIDATA_BOTRM]kmeans[6]_population.pdf\n",
      "Num Centroids: 7\n",
      "SILHOUETTE 0.38056261969235844\n",
      "CALINSKI 22245.869391541553\n",
      "data/results/[WIKIDATA_BOTRM]kmeans[7]_silhouette.png\n",
      "data/results/[WIKIDATA_BOTRM]kmeans[7]_silhouette.pdf\n",
      "data/results/[WIKIDATA_BOTRM]kmeans[7]_clusters.png\n",
      "data/results/[WIKIDATA_BOTRM]kmeans[7]_clusters.pdf\n",
      "data/results/[WIKIDATA_BOTRM]kmeans[7]_clusters_planar.png\n",
      "data/results/[WIKIDATA_BOTRM]kmeans[7]_clusters_planar.pdf\n",
      "data/results/[WIKIDATA_BOTRM]kmeans[7]_population.png\n",
      "data/results/[WIKIDATA_BOTRM]kmeans[7]_population.pdf\n",
      "Num Centroids: 8\n",
      "SILHOUETTE 0.33918230301609403\n",
      "CALINSKI 21372.165981761467\n",
      "data/results/[WIKIDATA_BOTRM]kmeans[8]_silhouette.png\n",
      "data/results/[WIKIDATA_BOTRM]kmeans[8]_silhouette.pdf\n",
      "data/results/[WIKIDATA_BOTRM]kmeans[8]_clusters.png\n",
      "data/results/[WIKIDATA_BOTRM]kmeans[8]_clusters.pdf\n",
      "data/results/[WIKIDATA_BOTRM]kmeans[8]_clusters_planar.png\n",
      "data/results/[WIKIDATA_BOTRM]kmeans[8]_clusters_planar.pdf\n",
      "data/results/[WIKIDATA_BOTRM]kmeans[8]_population.png\n",
      "data/results/[WIKIDATA_BOTRM]kmeans[8]_population.pdf\n",
      "Num Centroids: 9\n",
      "SILHOUETTE 0.3456165305376712\n",
      "CALINSKI 20741.748825501767\n",
      "data/results/[WIKIDATA_BOTRM]kmeans[9]_silhouette.png\n",
      "data/results/[WIKIDATA_BOTRM]kmeans[9]_silhouette.pdf\n",
      "data/results/[WIKIDATA_BOTRM]kmeans[9]_clusters.png\n",
      "data/results/[WIKIDATA_BOTRM]kmeans[9]_clusters.pdf\n",
      "data/results/[WIKIDATA_BOTRM]kmeans[9]_clusters_planar.png\n",
      "data/results/[WIKIDATA_BOTRM]kmeans[9]_clusters_planar.pdf\n",
      "data/results/[WIKIDATA_BOTRM]kmeans[9]_population.png\n",
      "data/results/[WIKIDATA_BOTRM]kmeans[9]_population.pdf\n",
      "Num Centroids: 10\n",
      "SILHOUETTE 0.35819432083754693\n",
      "CALINSKI 20361.55994282024\n",
      "data/results/[WIKIDATA_BOTRM]kmeans[10]_silhouette.png\n",
      "data/results/[WIKIDATA_BOTRM]kmeans[10]_silhouette.pdf\n",
      "data/results/[WIKIDATA_BOTRM]kmeans[10]_clusters.png\n",
      "data/results/[WIKIDATA_BOTRM]kmeans[10]_clusters.pdf\n",
      "data/results/[WIKIDATA_BOTRM]kmeans[10]_clusters_planar.png\n",
      "data/results/[WIKIDATA_BOTRM]kmeans[10]_clusters_planar.pdf\n",
      "data/results/[WIKIDATA_BOTRM]kmeans[10]_population.png\n",
      "data/results/[WIKIDATA_BOTRM]kmeans[10]_population.pdf\n",
      "\n"
     ]
    }
   ],
   "source": [
    "centroids = {}    \n",
    "centroids_file = os.path.join(cfg.get(\"directory\", \"exchange\"), results_prefix + \"001_centroids.p\")\n",
    "load_centroids = cfg.getboolean(\"kmeans\", \"load_centroids\") and os.path.isfile(centroids_file)\n",
    "for num_centroids in tqdm(kernel_range):    \n",
    "    kmeans = None\n",
    "\n",
    "    print(\"Num Centroids: {n}\".format(n=num_centroids))\n",
    "    if load_centroids:\n",
    "        with open(centroids_file, \"rb\") as dump_file:\n",
    "            centroids = pickle.load(dump_file)\n",
    "        kmeans = KMeans(n_clusters=num_centroids, init=centroids[num_centroids])\n",
    "    else:\n",
    "        kmeans = KMeans(n_clusters=num_centroids)\n",
    "        \n",
    "    kmeans.fit_predict(vectors)\n",
    "    \n",
    "    lbl = kmeans.labels_\n",
    "    centroids[num_centroids] = kmeans.cluster_centers_\n",
    "\n",
    "    \n",
    "    silhouette_avg = silhouette_score(vectors, lbl)#\n",
    "    print(\"SILHOUETTE\", silhouette_avg)\n",
    "    calinski_score = calinski_harabaz_score(vectors, lbl)\n",
    "    print(\"CALINSKI\", calinski_score)\n",
    "    sample_silhouette_values = silhouette_samples(vectors, lbl)\n",
    "    \n",
    "    store_path = os.path.join(cfg.get(\"directory\", \"results\"), results_prefix + \"kmeans[{n}]\".format(n=num_centroids))\n",
    "    cluster_lbl = \"kmeans_{n}\".format(n=num_centroids)\n",
    "    df[cluster_lbl] = lbl\n",
    "    plotting.k_means(plot_vectors, num_centroids, lbl, sample_silhouette_values, silhouette_avg, store_path)\n",
    "    \n",
    "if cfg.getboolean(\"kmeans\", \"store_centroids\"):\n",
    "    with open(centroids_file, \"wb\") as dump_file:\n",
    "        pickle.dump(centroids, dump_file)"
   ]
  },
  {
   "cell_type": "code",
   "execution_count": null,
   "metadata": {},
   "outputs": [],
   "source": [
    "df.to_pickle(os.path.join(cfg.get(\"directory\", \"exchange\"), results_prefix + \"001_clustering.p\"))"
   ]
  },
  {
   "cell_type": "code",
   "execution_count": 10,
   "metadata": {},
   "outputs": [],
   "source": [
    "#load here to skip previous calculations if you already have em\n",
    "df = pd.read_pickle(os.path.join(cfg.get(\"directory\", \"exchange\"), results_prefix + \"001_clustering.p\"))"
   ]
  },
  {
   "cell_type": "code",
   "execution_count": 11,
   "metadata": {},
   "outputs": [
    {
     "data": {
      "text/plain": [
       "['BREAK',\n",
       " 'CLAIM_CREATE',\n",
       " 'CLAIM_UPDATE',\n",
       " 'DESCRIPTION_ADD',\n",
       " 'DESCRIPTION_UPDATE',\n",
       " 'ENTITY_OVERRIDE',\n",
       " 'ENTITY_REDIRECT',\n",
       " 'LABEL_ADD',\n",
       " 'MERGE',\n",
       " 'QUALIFIER_ADD',\n",
       " 'REFERENCE_ADD',\n",
       " 'SITELINK_ADD',\n",
       " 'SITELINK_UPDATE']"
      ]
     },
     "execution_count": 11,
     "metadata": {},
     "output_type": "execute_result"
    }
   ],
   "source": [
    "labels_filtered = sorted([\"BREAK\", \"DESCRIPTION_UPDATE\", \"CLAIM_CREATE\", \"REFERENCE_ADD\", \"ENTITY_OVERRIDE\", \"ENTITY_REDIRECT\", \"MERGE\", \"DESCRIPTION_ADD\", \"LABEL_ADD\", \"QUALIFIER_ADD\", \"CLAIM_UPDATE\", \"SITELINK_ADD\", \"SITELINK_UPDATE\", ])\n",
    "labels_filtered"
   ]
  },
  {
   "cell_type": "code",
   "execution_count": 14,
   "metadata": {},
   "outputs": [
    {
     "name": "stdout",
     "output_type": "stream",
     "text": [
      "data/results/[WIKIDATA_BOTRM]clusters[2_0].png\n",
      "data/results/[WIKIDATA_BOTRM]clusters[2_0].pdf\n",
      "data/results/[WIKIDATA_BOTRM]clusters[2_0]reduced.png\n",
      "data/results/[WIKIDATA_BOTRM]clusters[2_0]reduced.pdf\n",
      "data/results/[WIKIDATA_BOTRM]clusters[2_1].png\n",
      "data/results/[WIKIDATA_BOTRM]clusters[2_1].pdf\n",
      "data/results/[WIKIDATA_BOTRM]clusters[2_1]reduced.png\n",
      "data/results/[WIKIDATA_BOTRM]clusters[2_1]reduced.pdf\n",
      "data/results/[WIKIDATA_BOTRM]clusters[3_0].png\n",
      "data/results/[WIKIDATA_BOTRM]clusters[3_0].pdf\n",
      "data/results/[WIKIDATA_BOTRM]clusters[3_0]reduced.png\n",
      "data/results/[WIKIDATA_BOTRM]clusters[3_0]reduced.pdf\n",
      "data/results/[WIKIDATA_BOTRM]clusters[3_1].png\n",
      "data/results/[WIKIDATA_BOTRM]clusters[3_1].pdf\n",
      "data/results/[WIKIDATA_BOTRM]clusters[3_1]reduced.png\n",
      "data/results/[WIKIDATA_BOTRM]clusters[3_1]reduced.pdf\n",
      "data/results/[WIKIDATA_BOTRM]clusters[3_2].png\n",
      "data/results/[WIKIDATA_BOTRM]clusters[3_2].pdf\n",
      "data/results/[WIKIDATA_BOTRM]clusters[3_2]reduced.png\n",
      "data/results/[WIKIDATA_BOTRM]clusters[3_2]reduced.pdf\n",
      "data/results/[WIKIDATA_BOTRM]clusters[4_0].png\n",
      "data/results/[WIKIDATA_BOTRM]clusters[4_0].pdf\n",
      "data/results/[WIKIDATA_BOTRM]clusters[4_0]reduced.png\n",
      "data/results/[WIKIDATA_BOTRM]clusters[4_0]reduced.pdf\n",
      "data/results/[WIKIDATA_BOTRM]clusters[4_1].png\n",
      "data/results/[WIKIDATA_BOTRM]clusters[4_1].pdf\n",
      "data/results/[WIKIDATA_BOTRM]clusters[4_1]reduced.png\n",
      "data/results/[WIKIDATA_BOTRM]clusters[4_1]reduced.pdf\n",
      "data/results/[WIKIDATA_BOTRM]clusters[4_2].png\n",
      "data/results/[WIKIDATA_BOTRM]clusters[4_2].pdf\n",
      "data/results/[WIKIDATA_BOTRM]clusters[4_2]reduced.png\n",
      "data/results/[WIKIDATA_BOTRM]clusters[4_2]reduced.pdf\n",
      "data/results/[WIKIDATA_BOTRM]clusters[4_3].png\n",
      "data/results/[WIKIDATA_BOTRM]clusters[4_3].pdf\n",
      "data/results/[WIKIDATA_BOTRM]clusters[4_3]reduced.png\n",
      "data/results/[WIKIDATA_BOTRM]clusters[4_3]reduced.pdf\n",
      "data/results/[WIKIDATA_BOTRM]clusters[5_0].png\n",
      "data/results/[WIKIDATA_BOTRM]clusters[5_0].pdf\n",
      "data/results/[WIKIDATA_BOTRM]clusters[5_0]reduced.png\n",
      "data/results/[WIKIDATA_BOTRM]clusters[5_0]reduced.pdf\n",
      "data/results/[WIKIDATA_BOTRM]clusters[5_1].png\n",
      "data/results/[WIKIDATA_BOTRM]clusters[5_1].pdf\n",
      "data/results/[WIKIDATA_BOTRM]clusters[5_1]reduced.png\n",
      "data/results/[WIKIDATA_BOTRM]clusters[5_1]reduced.pdf\n",
      "data/results/[WIKIDATA_BOTRM]clusters[5_2].png\n",
      "data/results/[WIKIDATA_BOTRM]clusters[5_2].pdf\n",
      "data/results/[WIKIDATA_BOTRM]clusters[5_2]reduced.png\n",
      "data/results/[WIKIDATA_BOTRM]clusters[5_2]reduced.pdf\n",
      "data/results/[WIKIDATA_BOTRM]clusters[5_3].png\n",
      "data/results/[WIKIDATA_BOTRM]clusters[5_3].pdf\n",
      "data/results/[WIKIDATA_BOTRM]clusters[5_3]reduced.png\n",
      "data/results/[WIKIDATA_BOTRM]clusters[5_3]reduced.pdf\n",
      "data/results/[WIKIDATA_BOTRM]clusters[5_4].png\n",
      "data/results/[WIKIDATA_BOTRM]clusters[5_4].pdf\n",
      "data/results/[WIKIDATA_BOTRM]clusters[5_4]reduced.png\n",
      "data/results/[WIKIDATA_BOTRM]clusters[5_4]reduced.pdf\n",
      "data/results/[WIKIDATA_BOTRM]clusters[6_0].png\n",
      "data/results/[WIKIDATA_BOTRM]clusters[6_0].pdf\n",
      "data/results/[WIKIDATA_BOTRM]clusters[6_0]reduced.png\n",
      "data/results/[WIKIDATA_BOTRM]clusters[6_0]reduced.pdf\n",
      "data/results/[WIKIDATA_BOTRM]clusters[6_1].png\n",
      "data/results/[WIKIDATA_BOTRM]clusters[6_1].pdf\n",
      "data/results/[WIKIDATA_BOTRM]clusters[6_1]reduced.png\n",
      "data/results/[WIKIDATA_BOTRM]clusters[6_1]reduced.pdf\n",
      "data/results/[WIKIDATA_BOTRM]clusters[6_2].png\n",
      "data/results/[WIKIDATA_BOTRM]clusters[6_2].pdf\n",
      "data/results/[WIKIDATA_BOTRM]clusters[6_2]reduced.png\n",
      "data/results/[WIKIDATA_BOTRM]clusters[6_2]reduced.pdf\n",
      "data/results/[WIKIDATA_BOTRM]clusters[6_3].png\n",
      "data/results/[WIKIDATA_BOTRM]clusters[6_3].pdf\n",
      "data/results/[WIKIDATA_BOTRM]clusters[6_3]reduced.png\n",
      "data/results/[WIKIDATA_BOTRM]clusters[6_3]reduced.pdf\n",
      "data/results/[WIKIDATA_BOTRM]clusters[6_4].png\n",
      "data/results/[WIKIDATA_BOTRM]clusters[6_4].pdf\n",
      "data/results/[WIKIDATA_BOTRM]clusters[6_4]reduced.png\n",
      "data/results/[WIKIDATA_BOTRM]clusters[6_4]reduced.pdf\n",
      "data/results/[WIKIDATA_BOTRM]clusters[6_5].png\n",
      "data/results/[WIKIDATA_BOTRM]clusters[6_5].pdf\n",
      "data/results/[WIKIDATA_BOTRM]clusters[6_5]reduced.png\n",
      "data/results/[WIKIDATA_BOTRM]clusters[6_5]reduced.pdf\n",
      "data/results/[WIKIDATA_BOTRM]clusters[7_0].png\n",
      "data/results/[WIKIDATA_BOTRM]clusters[7_0].pdf\n",
      "data/results/[WIKIDATA_BOTRM]clusters[7_0]reduced.png\n",
      "data/results/[WIKIDATA_BOTRM]clusters[7_0]reduced.pdf\n",
      "data/results/[WIKIDATA_BOTRM]clusters[7_1].png\n",
      "data/results/[WIKIDATA_BOTRM]clusters[7_1].pdf\n",
      "data/results/[WIKIDATA_BOTRM]clusters[7_1]reduced.png\n",
      "data/results/[WIKIDATA_BOTRM]clusters[7_1]reduced.pdf\n",
      "data/results/[WIKIDATA_BOTRM]clusters[7_2].png\n",
      "data/results/[WIKIDATA_BOTRM]clusters[7_2].pdf\n",
      "data/results/[WIKIDATA_BOTRM]clusters[7_2]reduced.png\n",
      "data/results/[WIKIDATA_BOTRM]clusters[7_2]reduced.pdf\n",
      "data/results/[WIKIDATA_BOTRM]clusters[7_3].png\n",
      "data/results/[WIKIDATA_BOTRM]clusters[7_3].pdf\n",
      "data/results/[WIKIDATA_BOTRM]clusters[7_3]reduced.png\n",
      "data/results/[WIKIDATA_BOTRM]clusters[7_3]reduced.pdf\n",
      "data/results/[WIKIDATA_BOTRM]clusters[7_4].png\n",
      "data/results/[WIKIDATA_BOTRM]clusters[7_4].pdf\n",
      "data/results/[WIKIDATA_BOTRM]clusters[7_4]reduced.png\n",
      "data/results/[WIKIDATA_BOTRM]clusters[7_4]reduced.pdf\n",
      "data/results/[WIKIDATA_BOTRM]clusters[7_5].png\n",
      "data/results/[WIKIDATA_BOTRM]clusters[7_5].pdf\n",
      "data/results/[WIKIDATA_BOTRM]clusters[7_5]reduced.png\n",
      "data/results/[WIKIDATA_BOTRM]clusters[7_5]reduced.pdf\n",
      "data/results/[WIKIDATA_BOTRM]clusters[7_6].png\n",
      "data/results/[WIKIDATA_BOTRM]clusters[7_6].pdf\n",
      "data/results/[WIKIDATA_BOTRM]clusters[7_6]reduced.png\n",
      "data/results/[WIKIDATA_BOTRM]clusters[7_6]reduced.pdf\n",
      "data/results/[WIKIDATA_BOTRM]clusters[8_0].png\n",
      "data/results/[WIKIDATA_BOTRM]clusters[8_0].pdf\n",
      "data/results/[WIKIDATA_BOTRM]clusters[8_0]reduced.png\n",
      "data/results/[WIKIDATA_BOTRM]clusters[8_0]reduced.pdf\n",
      "data/results/[WIKIDATA_BOTRM]clusters[8_1].png\n",
      "data/results/[WIKIDATA_BOTRM]clusters[8_1].pdf\n",
      "data/results/[WIKIDATA_BOTRM]clusters[8_1]reduced.png\n",
      "data/results/[WIKIDATA_BOTRM]clusters[8_1]reduced.pdf\n",
      "data/results/[WIKIDATA_BOTRM]clusters[8_2].png\n",
      "data/results/[WIKIDATA_BOTRM]clusters[8_2].pdf\n",
      "data/results/[WIKIDATA_BOTRM]clusters[8_2]reduced.png\n",
      "data/results/[WIKIDATA_BOTRM]clusters[8_2]reduced.pdf\n",
      "data/results/[WIKIDATA_BOTRM]clusters[8_3].png\n",
      "data/results/[WIKIDATA_BOTRM]clusters[8_3].pdf\n",
      "data/results/[WIKIDATA_BOTRM]clusters[8_3]reduced.png\n",
      "data/results/[WIKIDATA_BOTRM]clusters[8_3]reduced.pdf\n",
      "data/results/[WIKIDATA_BOTRM]clusters[8_4].png\n",
      "data/results/[WIKIDATA_BOTRM]clusters[8_4].pdf\n",
      "data/results/[WIKIDATA_BOTRM]clusters[8_4]reduced.png\n",
      "data/results/[WIKIDATA_BOTRM]clusters[8_4]reduced.pdf\n",
      "data/results/[WIKIDATA_BOTRM]clusters[8_5].png\n",
      "data/results/[WIKIDATA_BOTRM]clusters[8_5].pdf\n",
      "data/results/[WIKIDATA_BOTRM]clusters[8_5]reduced.png\n",
      "data/results/[WIKIDATA_BOTRM]clusters[8_5]reduced.pdf\n",
      "data/results/[WIKIDATA_BOTRM]clusters[8_6].png\n",
      "data/results/[WIKIDATA_BOTRM]clusters[8_6].pdf\n",
      "data/results/[WIKIDATA_BOTRM]clusters[8_6]reduced.png\n",
      "data/results/[WIKIDATA_BOTRM]clusters[8_6]reduced.pdf\n",
      "data/results/[WIKIDATA_BOTRM]clusters[8_7].png\n",
      "data/results/[WIKIDATA_BOTRM]clusters[8_7].pdf\n",
      "data/results/[WIKIDATA_BOTRM]clusters[8_7]reduced.png\n",
      "data/results/[WIKIDATA_BOTRM]clusters[8_7]reduced.pdf\n",
      "data/results/[WIKIDATA_BOTRM]clusters[9_0].png\n",
      "data/results/[WIKIDATA_BOTRM]clusters[9_0].pdf\n",
      "data/results/[WIKIDATA_BOTRM]clusters[9_0]reduced.png\n",
      "data/results/[WIKIDATA_BOTRM]clusters[9_0]reduced.pdf\n",
      "data/results/[WIKIDATA_BOTRM]clusters[9_1].png\n",
      "data/results/[WIKIDATA_BOTRM]clusters[9_1].pdf\n",
      "data/results/[WIKIDATA_BOTRM]clusters[9_1]reduced.png\n",
      "data/results/[WIKIDATA_BOTRM]clusters[9_1]reduced.pdf\n",
      "data/results/[WIKIDATA_BOTRM]clusters[9_2].png\n",
      "data/results/[WIKIDATA_BOTRM]clusters[9_2].pdf\n",
      "data/results/[WIKIDATA_BOTRM]clusters[9_2]reduced.png\n",
      "data/results/[WIKIDATA_BOTRM]clusters[9_2]reduced.pdf\n",
      "data/results/[WIKIDATA_BOTRM]clusters[9_3].png\n",
      "data/results/[WIKIDATA_BOTRM]clusters[9_3].pdf\n",
      "data/results/[WIKIDATA_BOTRM]clusters[9_3]reduced.png\n",
      "data/results/[WIKIDATA_BOTRM]clusters[9_3]reduced.pdf\n",
      "data/results/[WIKIDATA_BOTRM]clusters[9_4].png\n",
      "data/results/[WIKIDATA_BOTRM]clusters[9_4].pdf\n",
      "data/results/[WIKIDATA_BOTRM]clusters[9_4]reduced.png\n",
      "data/results/[WIKIDATA_BOTRM]clusters[9_4]reduced.pdf\n",
      "data/results/[WIKIDATA_BOTRM]clusters[9_5].png\n",
      "data/results/[WIKIDATA_BOTRM]clusters[9_5].pdf\n",
      "data/results/[WIKIDATA_BOTRM]clusters[9_5]reduced.png\n",
      "data/results/[WIKIDATA_BOTRM]clusters[9_5]reduced.pdf\n",
      "data/results/[WIKIDATA_BOTRM]clusters[9_6].png\n",
      "data/results/[WIKIDATA_BOTRM]clusters[9_6].pdf\n",
      "data/results/[WIKIDATA_BOTRM]clusters[9_6]reduced.png\n",
      "data/results/[WIKIDATA_BOTRM]clusters[9_6]reduced.pdf\n",
      "data/results/[WIKIDATA_BOTRM]clusters[9_7].png\n",
      "data/results/[WIKIDATA_BOTRM]clusters[9_7].pdf\n",
      "data/results/[WIKIDATA_BOTRM]clusters[9_7]reduced.png\n",
      "data/results/[WIKIDATA_BOTRM]clusters[9_7]reduced.pdf\n",
      "data/results/[WIKIDATA_BOTRM]clusters[9_8].png\n",
      "data/results/[WIKIDATA_BOTRM]clusters[9_8].pdf\n",
      "data/results/[WIKIDATA_BOTRM]clusters[9_8]reduced.png\n",
      "data/results/[WIKIDATA_BOTRM]clusters[9_8]reduced.pdf\n",
      "data/results/[WIKIDATA_BOTRM]clusters[10_0].png\n",
      "data/results/[WIKIDATA_BOTRM]clusters[10_0].pdf\n",
      "data/results/[WIKIDATA_BOTRM]clusters[10_0]reduced.png\n",
      "data/results/[WIKIDATA_BOTRM]clusters[10_0]reduced.pdf\n",
      "data/results/[WIKIDATA_BOTRM]clusters[10_1].png\n",
      "data/results/[WIKIDATA_BOTRM]clusters[10_1].pdf\n",
      "data/results/[WIKIDATA_BOTRM]clusters[10_1]reduced.png\n",
      "data/results/[WIKIDATA_BOTRM]clusters[10_1]reduced.pdf\n",
      "data/results/[WIKIDATA_BOTRM]clusters[10_2].png\n",
      "data/results/[WIKIDATA_BOTRM]clusters[10_2].pdf\n",
      "data/results/[WIKIDATA_BOTRM]clusters[10_2]reduced.png\n",
      "data/results/[WIKIDATA_BOTRM]clusters[10_2]reduced.pdf\n",
      "data/results/[WIKIDATA_BOTRM]clusters[10_3].png\n",
      "data/results/[WIKIDATA_BOTRM]clusters[10_3].pdf\n",
      "data/results/[WIKIDATA_BOTRM]clusters[10_3]reduced.png\n",
      "data/results/[WIKIDATA_BOTRM]clusters[10_3]reduced.pdf\n",
      "data/results/[WIKIDATA_BOTRM]clusters[10_4].png\n",
      "data/results/[WIKIDATA_BOTRM]clusters[10_4].pdf\n",
      "data/results/[WIKIDATA_BOTRM]clusters[10_4]reduced.png\n",
      "data/results/[WIKIDATA_BOTRM]clusters[10_4]reduced.pdf\n",
      "data/results/[WIKIDATA_BOTRM]clusters[10_5].png\n",
      "data/results/[WIKIDATA_BOTRM]clusters[10_5].pdf\n",
      "data/results/[WIKIDATA_BOTRM]clusters[10_5]reduced.png\n",
      "data/results/[WIKIDATA_BOTRM]clusters[10_5]reduced.pdf\n",
      "data/results/[WIKIDATA_BOTRM]clusters[10_6].png\n",
      "data/results/[WIKIDATA_BOTRM]clusters[10_6].pdf\n",
      "data/results/[WIKIDATA_BOTRM]clusters[10_6]reduced.png\n",
      "data/results/[WIKIDATA_BOTRM]clusters[10_6]reduced.pdf\n",
      "data/results/[WIKIDATA_BOTRM]clusters[10_7].png\n",
      "data/results/[WIKIDATA_BOTRM]clusters[10_7].pdf\n",
      "data/results/[WIKIDATA_BOTRM]clusters[10_7]reduced.png\n",
      "data/results/[WIKIDATA_BOTRM]clusters[10_7]reduced.pdf\n",
      "data/results/[WIKIDATA_BOTRM]clusters[10_8].png\n",
      "data/results/[WIKIDATA_BOTRM]clusters[10_8].pdf\n",
      "data/results/[WIKIDATA_BOTRM]clusters[10_8]reduced.png\n",
      "data/results/[WIKIDATA_BOTRM]clusters[10_8]reduced.pdf\n",
      "data/results/[WIKIDATA_BOTRM]clusters[10_9].png\n",
      "data/results/[WIKIDATA_BOTRM]clusters[10_9].pdf\n",
      "data/results/[WIKIDATA_BOTRM]clusters[10_9]reduced.png\n",
      "data/results/[WIKIDATA_BOTRM]clusters[10_9]reduced.pdf\n",
      "Done...\n"
     ]
    }
   ],
   "source": [
    "for num_centroids in kernel_range:\n",
    "    member_count = defaultdict(int)\n",
    "    cluster = defaultdict(list)\n",
    "    cluster_lbl = \"kmeans_{n}\".format(n=num_centroids)\n",
    "    \n",
    "    for i, user in df.iterrows():\n",
    "        cluster_id = user[cluster_lbl]\n",
    "        member_count[cluster_id] += 1\n",
    "        action_df = pd.DataFrame({\"from\": user['sequence']})\n",
    "        action_df[\"to\"] = action_df[\"from\"].shift(periods=-1)\n",
    "        cluster[cluster_id].append(action_df)\n",
    "         \n",
    "    for cluster_index in sorted(cluster):\n",
    "        cluster_df = pd.concat(cluster[cluster_index])\n",
    "\n",
    "        transition_count_pivot = lib.stretch_pivot(pd.crosstab(cluster_df['from'], cluster_df['to']), labels)\n",
    "        unnormalized = transition_count_pivot.transpose().sum().transpose()\n",
    "        pivot = lib.stretch_pivot(pd.crosstab(cluster_df['from'], cluster_df['to'], normalize=\"index\"), labels)\n",
    "        \n",
    "        store_path = os.path.join(cfg.get(\"directory\", \"results\"), results_prefix + \"clusters[{n}_{i}]\".format(n=num_centroids, i=cluster_index))\n",
    "        plotting.transition_matrix((50, 60), unnormalized, pivot, transition_count_pivot, cluster_index, store_path)\n",
    "        \n",
    "        \n",
    "        transition_count_pivot_reduced = lib.stretch_pivot(transition_count_pivot, labels_filtered)\n",
    "        unnormalized_reduced = transition_count_pivot_reduced.transpose().sum().transpose()\n",
    "        pivot_reduced = lib.stretch_pivot(pd.crosstab(cluster_df['from'], cluster_df['to'], normalize=\"index\"), labels_filtered)\n",
    "        \n",
    "        store_path = os.path.join(cfg.get(\"directory\", \"results\"), results_prefix + \"clusters[{n}_{i}]reduced\".format(n=num_centroids, i=cluster_index))\n",
    "        plotting.transition_matrix((20, 25),unnormalized_reduced, pivot_reduced, transition_count_pivot_reduced, cluster_index, store_path)\n",
    "print(\"Done...\")"
   ]
  },
  {
   "cell_type": "code",
   "execution_count": null,
   "metadata": {},
   "outputs": [],
   "source": []
  }
 ],
 "metadata": {
  "kernelspec": {
   "display_name": "Python 3",
   "language": "python",
   "name": "python3"
  },
  "language_info": {
   "codemirror_mode": {
    "name": "ipython",
    "version": 3
   },
   "file_extension": ".py",
   "mimetype": "text/x-python",
   "name": "python",
   "nbconvert_exporter": "python",
   "pygments_lexer": "ipython3",
   "version": "3.7.1"
  }
 },
 "nbformat": 4,
 "nbformat_minor": 2
}
