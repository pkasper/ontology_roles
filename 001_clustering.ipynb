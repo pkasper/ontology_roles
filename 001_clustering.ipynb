{
 "cells": [
  {
   "cell_type": "code",
   "execution_count": 1,
   "metadata": {},
   "outputs": [],
   "source": [
    "%load_ext autoreload\n",
    "%autoreload 2"
   ]
  },
  {
   "cell_type": "code",
   "execution_count": 2,
   "metadata": {},
   "outputs": [],
   "source": [
    "import os\n",
    "import numpy as np\n",
    "import pandas as pd"
   ]
  },
  {
   "cell_type": "code",
   "execution_count": 3,
   "metadata": {},
   "outputs": [],
   "source": [
    "import lib\n",
    "import plotting"
   ]
  },
  {
   "cell_type": "code",
   "execution_count": 4,
   "metadata": {},
   "outputs": [],
   "source": [
    "from multiprocessing import Pool\n",
    "import pickle\n",
    "from collections import defaultdict"
   ]
  },
  {
   "cell_type": "code",
   "execution_count": 5,
   "metadata": {},
   "outputs": [],
   "source": [
    "from sklearn.cluster import KMeans\n",
    "from sklearn.metrics import silhouette_samples, silhouette_score, calinski_harabaz_score\n",
    "from sklearn.decomposition import PCA"
   ]
  },
  {
   "cell_type": "code",
   "execution_count": 6,
   "metadata": {},
   "outputs": [
    {
     "data": {
      "text/plain": [
       "['config.cfg']"
      ]
     },
     "execution_count": 6,
     "metadata": {},
     "output_type": "execute_result"
    }
   ],
   "source": [
    "from configparser import ConfigParser\n",
    "cfg = ConfigParser()\n",
    "cfg.read(\"config.cfg\")"
   ]
  },
  {
   "cell_type": "code",
   "execution_count": 7,
   "metadata": {},
   "outputs": [],
   "source": [
    "from tqdm._tqdm_notebook import tqdm_notebook as tqdm # we manually import the notebook submodule as the normal one struggles with jupyterlab\n",
    "tqdm.pandas() # this enables us to use progress_apply instead of apply"
   ]
  },
  {
   "cell_type": "code",
   "execution_count": 8,
   "metadata": {},
   "outputs": [],
   "source": [
    "results_prefix = cfg.get(\"results\", \"prefix\")\n",
    "\n",
    "sequence_file = os.path.join(cfg.get(\"directory\", \"exchange\"), \"[wikidata]004_sequences.p\")\n",
    "labels_file = os.path.join(cfg.get(\"directory\", \"exchange\"), \"[wikidata]004_labels_readable.p\")\n",
    "users_file = os.path.join(cfg.get(\"directory\", \"exchange\"), \"[wikidata]004_users.p\")"
   ]
  },
  {
   "cell_type": "code",
   "execution_count": 9,
   "metadata": {},
   "outputs": [
    {
     "data": {
      "text/html": [
       "<div>\n",
       "<style scoped>\n",
       "    .dataframe tbody tr th:only-of-type {\n",
       "        vertical-align: middle;\n",
       "    }\n",
       "\n",
       "    .dataframe tbody tr th {\n",
       "        vertical-align: top;\n",
       "    }\n",
       "\n",
       "    .dataframe thead th {\n",
       "        text-align: right;\n",
       "    }\n",
       "</style>\n",
       "<table border=\"1\" class=\"dataframe\">\n",
       "  <thead>\n",
       "    <tr style=\"text-align: right;\">\n",
       "      <th></th>\n",
       "      <th>bot_name</th>\n",
       "      <th>bot_sequence</th>\n",
       "      <th>length</th>\n",
       "      <th>length_nobreak</th>\n",
       "      <th>sequence</th>\n",
       "      <th>sequence_readable</th>\n",
       "      <th>user_id</th>\n",
       "      <th>user_name</th>\n",
       "    </tr>\n",
       "  </thead>\n",
       "  <tbody>\n",
       "    <tr>\n",
       "      <th>0</th>\n",
       "      <td>False</td>\n",
       "      <td>False</td>\n",
       "      <td>1517</td>\n",
       "      <td>1385</td>\n",
       "      <td>[REVERT_MANUAL, BREAK, CLAIM_CREATE, BREAK, CL...</td>\n",
       "      <td>[Revert Item, Break, Create Claim, Break, Crea...</td>\n",
       "      <td>1</td>\n",
       "      <td>Hoo man</td>\n",
       "    </tr>\n",
       "    <tr>\n",
       "      <th>1</th>\n",
       "      <td>False</td>\n",
       "      <td>False</td>\n",
       "      <td>9</td>\n",
       "      <td>6</td>\n",
       "      <td>[ENTITY_CREATE, BREAK, SITELINK_ADD, BREAK, ME...</td>\n",
       "      <td>[Create Item, Break, Add Sitelink, Break, Merg...</td>\n",
       "      <td>1000036</td>\n",
       "      <td>JShenk</td>\n",
       "    </tr>\n",
       "    <tr>\n",
       "      <th>2</th>\n",
       "      <td>False</td>\n",
       "      <td>False</td>\n",
       "      <td>7</td>\n",
       "      <td>4</td>\n",
       "      <td>[SITELINK_ADD, BREAK, SITELINK_ADD, BREAK, SIT...</td>\n",
       "      <td>[Add Sitelink, Break, Add Sitelink, Break, Add...</td>\n",
       "      <td>1000078</td>\n",
       "      <td>Egor-belikov</td>\n",
       "    </tr>\n",
       "    <tr>\n",
       "      <th>3</th>\n",
       "      <td>False</td>\n",
       "      <td>False</td>\n",
       "      <td>9</td>\n",
       "      <td>6</td>\n",
       "      <td>[ENTITY_CREATE, BREAK, SITELINK_REMOVE, SITELI...</td>\n",
       "      <td>[Create Item, Break, Remove Sitelink, Add Site...</td>\n",
       "      <td>100008</td>\n",
       "      <td>Wars</td>\n",
       "    </tr>\n",
       "    <tr>\n",
       "      <th>4</th>\n",
       "      <td>False</td>\n",
       "      <td>False</td>\n",
       "      <td>44</td>\n",
       "      <td>23</td>\n",
       "      <td>[SITELINK_ADD, BREAK, SITELINK_ADD, BREAK, SIT...</td>\n",
       "      <td>[Add Sitelink, Break, Add Sitelink, Break, Add...</td>\n",
       "      <td>100012</td>\n",
       "      <td>Kane 14</td>\n",
       "    </tr>\n",
       "  </tbody>\n",
       "</table>\n",
       "</div>"
      ],
      "text/plain": [
       "   bot_name  bot_sequence  length  length_nobreak  \\\n",
       "0     False         False    1517            1385   \n",
       "1     False         False       9               6   \n",
       "2     False         False       7               4   \n",
       "3     False         False       9               6   \n",
       "4     False         False      44              23   \n",
       "\n",
       "                                            sequence  \\\n",
       "0  [REVERT_MANUAL, BREAK, CLAIM_CREATE, BREAK, CL...   \n",
       "1  [ENTITY_CREATE, BREAK, SITELINK_ADD, BREAK, ME...   \n",
       "2  [SITELINK_ADD, BREAK, SITELINK_ADD, BREAK, SIT...   \n",
       "3  [ENTITY_CREATE, BREAK, SITELINK_REMOVE, SITELI...   \n",
       "4  [SITELINK_ADD, BREAK, SITELINK_ADD, BREAK, SIT...   \n",
       "\n",
       "                                   sequence_readable  user_id     user_name  \n",
       "0  [Revert Item, Break, Create Claim, Break, Crea...        1       Hoo man  \n",
       "1  [Create Item, Break, Add Sitelink, Break, Merg...  1000036        JShenk  \n",
       "2  [Add Sitelink, Break, Add Sitelink, Break, Add...  1000078  Egor-belikov  \n",
       "3  [Create Item, Break, Remove Sitelink, Add Site...   100008          Wars  \n",
       "4  [Add Sitelink, Break, Add Sitelink, Break, Add...   100012       Kane 14  "
      ]
     },
     "execution_count": 9,
     "metadata": {},
     "output_type": "execute_result"
    }
   ],
   "source": [
    "df = pd.read_pickle(sequence_file)\n",
    "labels = pd.read_pickle(labels_file)['label'].values\n",
    "df.head()"
   ]
  },
  {
   "cell_type": "code",
   "execution_count": 10,
   "metadata": {},
   "outputs": [
    {
     "data": {
      "text/plain": [
       "array(['Add Description', 'Add Item Alias', 'Add Label', 'Add Qualifier',\n",
       "       'Add Reference', 'Add Sitelink', 'Break', 'Create Claim',\n",
       "       'Create Item', 'Create Property', 'Edit Alias', 'Edit Claim',\n",
       "       'Edit Claim Value', 'Edit Description', 'Edit Item', 'Edit Label',\n",
       "       'Edit Qualifier', 'Edit Reference', 'Edit Sitelink', 'Merge Items',\n",
       "       'Override Item', 'Protect Item', 'Redirect Item', 'Remove Alias',\n",
       "       'Remove Claim', 'Remove Description', 'Remove Item',\n",
       "       'Remove Label', 'Remove Qualifier', 'Remove Reference',\n",
       "       'Remove Sitelink', 'Revert Item'], dtype=object)"
      ]
     },
     "execution_count": 10,
     "metadata": {},
     "output_type": "execute_result"
    }
   ],
   "source": [
    "labels"
   ]
  },
  {
   "cell_type": "code",
   "execution_count": 11,
   "metadata": {},
   "outputs": [
    {
     "data": {
      "text/plain": [
       "array([ 2,  3,  4,  5,  6,  7,  8,  9, 10])"
      ]
     },
     "execution_count": 11,
     "metadata": {},
     "output_type": "execute_result"
    }
   ],
   "source": [
    "kernel_range = np.arange(cfg.getint(\"kmeans\", \"clusters_min\"), cfg.getint(\"kmeans\", \"clusters_max\") + 1)\n",
    "kernel_range"
   ]
  },
  {
   "cell_type": "code",
   "execution_count": 11,
   "metadata": {},
   "outputs": [
    {
     "name": "stdout",
     "output_type": "stream",
     "text": [
      "Len unfiltered: 88148\n",
      "Len filtered: 38429\n"
     ]
    }
   ],
   "source": [
    "# filter out short sequences. This is a different filter than the preprocessing one!\n",
    "print(\"Len unfiltered: {n}\".format(n=len(df)))\n",
    "df = df.loc[df[\"length_nobreak\"] >= cfg.getint(\"kmeans\", \"min_num_changes\")].reset_index(drop=True)\n",
    "print(\"Len filtered: {n}\".format(n=len(df)))"
   ]
  },
  {
   "cell_type": "code",
   "execution_count": 13,
   "metadata": {},
   "outputs": [
    {
     "data": {
      "application/vnd.jupyter.widget-view+json": {
       "model_id": "dc840f2a15de4807a6e432d13ca069d9",
       "version_major": 2,
       "version_minor": 0
      },
      "text/plain": [
       "HBox(children=(IntProgress(value=0, max=38429), HTML(value='')))"
      ]
     },
     "metadata": {},
     "output_type": "display_data"
    },
    {
     "name": "stdout",
     "output_type": "stream",
     "text": [
      "\n"
     ]
    }
   ],
   "source": [
    "def calc_dist(sequence):\n",
    "    dist, pivot = lib.calc_distribution(labels.copy(), sequence)\n",
    "    return np.array(dist)\n",
    "\n",
    "with Pool(cfg.getint(\"core\", \"num_cores\")) as processor_pool:\n",
    "    df['stat_dist'] = processor_pool.map(calc_dist, tqdm(df['sequence_readable']))"
   ]
  },
  {
   "cell_type": "code",
   "execution_count": 14,
   "metadata": {},
   "outputs": [
    {
     "data": {
      "text/html": [
       "<div>\n",
       "<style scoped>\n",
       "    .dataframe tbody tr th:only-of-type {\n",
       "        vertical-align: middle;\n",
       "    }\n",
       "\n",
       "    .dataframe tbody tr th {\n",
       "        vertical-align: top;\n",
       "    }\n",
       "\n",
       "    .dataframe thead th {\n",
       "        text-align: right;\n",
       "    }\n",
       "</style>\n",
       "<table border=\"1\" class=\"dataframe\">\n",
       "  <thead>\n",
       "    <tr style=\"text-align: right;\">\n",
       "      <th></th>\n",
       "      <th>bot_name</th>\n",
       "      <th>bot_sequence</th>\n",
       "      <th>length</th>\n",
       "      <th>length_nobreak</th>\n",
       "      <th>sequence</th>\n",
       "      <th>sequence_readable</th>\n",
       "      <th>user_id</th>\n",
       "      <th>user_name</th>\n",
       "      <th>stat_dist</th>\n",
       "    </tr>\n",
       "  </thead>\n",
       "  <tbody>\n",
       "    <tr>\n",
       "      <th>38424</th>\n",
       "      <td>False</td>\n",
       "      <td>False</td>\n",
       "      <td>555</td>\n",
       "      <td>493</td>\n",
       "      <td>[CLAIM_CREATE, CLAIM_UPDATE, CLAIM_CREATE, CLA...</td>\n",
       "      <td>[Create Claim, Edit Claim, Create Claim, Creat...</td>\n",
       "      <td>999054</td>\n",
       "      <td>Acebarry</td>\n",
       "      <td>[0.02617328519855593, 0.025862068965517272, 0....</td>\n",
       "    </tr>\n",
       "    <tr>\n",
       "      <th>38425</th>\n",
       "      <td>False</td>\n",
       "      <td>False</td>\n",
       "      <td>83</td>\n",
       "      <td>44</td>\n",
       "      <td>[ENTITY_CREATE, BREAK, ENTITY_CREATE, SITELINK...</td>\n",
       "      <td>[Create Item, Break, Create Item, Edit Sitelin...</td>\n",
       "      <td>99933</td>\n",
       "      <td>Biagio2103</td>\n",
       "      <td>[0.025903359039922972, 0.02590335903992298, 0....</td>\n",
       "    </tr>\n",
       "    <tr>\n",
       "      <th>38426</th>\n",
       "      <td>False</td>\n",
       "      <td>False</td>\n",
       "      <td>85</td>\n",
       "      <td>50</td>\n",
       "      <td>[SITELINK_ADD, BREAK, SITELINK_ADD, BREAK, SIT...</td>\n",
       "      <td>[Add Sitelink, Break, Add Sitelink, Break, Add...</td>\n",
       "      <td>99995</td>\n",
       "      <td>Gyimhu</td>\n",
       "      <td>[0.027914614121510663, 0.025862068965517248, 0...</td>\n",
       "    </tr>\n",
       "    <tr>\n",
       "      <th>38427</th>\n",
       "      <td>False</td>\n",
       "      <td>False</td>\n",
       "      <td>30</td>\n",
       "      <td>25</td>\n",
       "      <td>[DESCRIPTION_ADD, DESCRIPTION_ADD, DESCRIPTION...</td>\n",
       "      <td>[Add Description, Add Description, Add Descrip...</td>\n",
       "      <td>999951</td>\n",
       "      <td>Mongrangvebet</td>\n",
       "      <td>[0.14476813317479206, 0.02586206896551725, 0.0...</td>\n",
       "    </tr>\n",
       "    <tr>\n",
       "      <th>38428</th>\n",
       "      <td>False</td>\n",
       "      <td>False</td>\n",
       "      <td>24</td>\n",
       "      <td>14</td>\n",
       "      <td>[SITELINK_UPDATE, BREAK, SITELINK_UPDATE, BREA...</td>\n",
       "      <td>[Edit Sitelink, Break, Edit Sitelink, Break, E...</td>\n",
       "      <td>999994</td>\n",
       "      <td>Alena Pokorná</td>\n",
       "      <td>[0.025961231375193076, 0.025961231375193076, 0...</td>\n",
       "    </tr>\n",
       "  </tbody>\n",
       "</table>\n",
       "</div>"
      ],
      "text/plain": [
       "       bot_name  bot_sequence  length  length_nobreak  \\\n",
       "38424     False         False     555             493   \n",
       "38425     False         False      83              44   \n",
       "38426     False         False      85              50   \n",
       "38427     False         False      30              25   \n",
       "38428     False         False      24              14   \n",
       "\n",
       "                                                sequence  \\\n",
       "38424  [CLAIM_CREATE, CLAIM_UPDATE, CLAIM_CREATE, CLA...   \n",
       "38425  [ENTITY_CREATE, BREAK, ENTITY_CREATE, SITELINK...   \n",
       "38426  [SITELINK_ADD, BREAK, SITELINK_ADD, BREAK, SIT...   \n",
       "38427  [DESCRIPTION_ADD, DESCRIPTION_ADD, DESCRIPTION...   \n",
       "38428  [SITELINK_UPDATE, BREAK, SITELINK_UPDATE, BREA...   \n",
       "\n",
       "                                       sequence_readable user_id  \\\n",
       "38424  [Create Claim, Edit Claim, Create Claim, Creat...  999054   \n",
       "38425  [Create Item, Break, Create Item, Edit Sitelin...   99933   \n",
       "38426  [Add Sitelink, Break, Add Sitelink, Break, Add...   99995   \n",
       "38427  [Add Description, Add Description, Add Descrip...  999951   \n",
       "38428  [Edit Sitelink, Break, Edit Sitelink, Break, E...  999994   \n",
       "\n",
       "           user_name                                          stat_dist  \n",
       "38424       Acebarry  [0.02617328519855593, 0.025862068965517272, 0....  \n",
       "38425     Biagio2103  [0.025903359039922972, 0.02590335903992298, 0....  \n",
       "38426         Gyimhu  [0.027914614121510663, 0.025862068965517248, 0...  \n",
       "38427  Mongrangvebet  [0.14476813317479206, 0.02586206896551725, 0.0...  \n",
       "38428  Alena Pokorná  [0.025961231375193076, 0.025961231375193076, 0...  "
      ]
     },
     "execution_count": 14,
     "metadata": {},
     "output_type": "execute_result"
    }
   ],
   "source": [
    "df.tail()"
   ]
  },
  {
   "cell_type": "code",
   "execution_count": 15,
   "metadata": {},
   "outputs": [
    {
     "data": {
      "text/html": [
       "<div>\n",
       "<style scoped>\n",
       "    .dataframe tbody tr th:only-of-type {\n",
       "        vertical-align: middle;\n",
       "    }\n",
       "\n",
       "    .dataframe tbody tr th {\n",
       "        vertical-align: top;\n",
       "    }\n",
       "\n",
       "    .dataframe thead th {\n",
       "        text-align: right;\n",
       "    }\n",
       "</style>\n",
       "<table border=\"1\" class=\"dataframe\">\n",
       "  <thead>\n",
       "    <tr style=\"text-align: right;\">\n",
       "      <th></th>\n",
       "      <th>bot_name</th>\n",
       "      <th>bot_sequence</th>\n",
       "      <th>length</th>\n",
       "      <th>length_nobreak</th>\n",
       "      <th>sequence</th>\n",
       "      <th>sequence_readable</th>\n",
       "      <th>user_id</th>\n",
       "      <th>user_name</th>\n",
       "      <th>stat_dist</th>\n",
       "    </tr>\n",
       "  </thead>\n",
       "  <tbody>\n",
       "  </tbody>\n",
       "</table>\n",
       "</div>"
      ],
      "text/plain": [
       "Empty DataFrame\n",
       "Columns: [bot_name, bot_sequence, length, length_nobreak, sequence, sequence_readable, user_id, user_name, stat_dist]\n",
       "Index: []"
      ]
     },
     "execution_count": 15,
     "metadata": {},
     "output_type": "execute_result"
    }
   ],
   "source": [
    "df.loc[pd.isna(df['stat_dist'])]"
   ]
  },
  {
   "cell_type": "code",
   "execution_count": 16,
   "metadata": {},
   "outputs": [
    {
     "name": "stdout",
     "output_type": "stream",
     "text": [
      "[0.41699852 0.59538204 0.72375929]\n"
     ]
    }
   ],
   "source": [
    "vectors = np.array([np.array(x) for x in df['stat_dist'].values]) # ensure we have the data in numpy format\n",
    "pca = PCA(n_components=3)\n",
    "plot_vectors = pca.fit_transform(vectors)\n",
    "print(pca.explained_variance_ratio_.cumsum())"
   ]
  },
  {
   "cell_type": "code",
   "execution_count": 17,
   "metadata": {},
   "outputs": [
    {
     "data": {
      "application/vnd.jupyter.widget-view+json": {
       "model_id": "666e9f940f3b4405bde7e5b077e16f47",
       "version_major": 2,
       "version_minor": 0
      },
      "text/plain": [
       "HBox(children=(IntProgress(value=0, max=9), HTML(value='')))"
      ]
     },
     "metadata": {},
     "output_type": "display_data"
    },
    {
     "name": "stdout",
     "output_type": "stream",
     "text": [
      "Num Centroids: 2\n",
      "SILHOUETTE 0.33872871693269835\n",
      "CALINSKI 18349.844050893935\n",
      "data/results/WIKIDATA_10kmeans[2]_silhouette.png\n",
      "data/results/WIKIDATA_10kmeans[2]_silhouette.pdf\n",
      "data/results/WIKIDATA_10kmeans[2]_clusters.png\n",
      "data/results/WIKIDATA_10kmeans[2]_clusters.pdf\n",
      "data/results/WIKIDATA_10kmeans[2]_clusters_planar.png\n",
      "data/results/WIKIDATA_10kmeans[2]_clusters_planar.pdf\n",
      "data/results/WIKIDATA_10kmeans[2]_population.png\n",
      "data/results/WIKIDATA_10kmeans[2]_population.pdf\n",
      "Num Centroids: 3\n",
      "SILHOUETTE 0.3213767432181129\n",
      "CALINSKI 17168.74183263665\n",
      "data/results/WIKIDATA_10kmeans[3]_silhouette.png\n",
      "data/results/WIKIDATA_10kmeans[3]_silhouette.pdf\n",
      "data/results/WIKIDATA_10kmeans[3]_clusters.png\n",
      "data/results/WIKIDATA_10kmeans[3]_clusters.pdf\n",
      "data/results/WIKIDATA_10kmeans[3]_clusters_planar.png\n",
      "data/results/WIKIDATA_10kmeans[3]_clusters_planar.pdf\n",
      "data/results/WIKIDATA_10kmeans[3]_population.png\n",
      "data/results/WIKIDATA_10kmeans[3]_population.pdf\n",
      "Num Centroids: 4\n",
      "SILHOUETTE 0.3630589338466019\n",
      "CALINSKI 17143.601284029563\n",
      "data/results/WIKIDATA_10kmeans[4]_silhouette.png\n",
      "data/results/WIKIDATA_10kmeans[4]_silhouette.pdf\n",
      "data/results/WIKIDATA_10kmeans[4]_clusters.png\n",
      "data/results/WIKIDATA_10kmeans[4]_clusters.pdf\n",
      "data/results/WIKIDATA_10kmeans[4]_clusters_planar.png\n",
      "data/results/WIKIDATA_10kmeans[4]_clusters_planar.pdf\n",
      "data/results/WIKIDATA_10kmeans[4]_population.png\n",
      "data/results/WIKIDATA_10kmeans[4]_population.pdf\n",
      "Num Centroids: 5\n",
      "SILHOUETTE 0.35551819741910007\n",
      "CALINSKI 15709.818858586754\n",
      "data/results/WIKIDATA_10kmeans[5]_silhouette.png\n",
      "data/results/WIKIDATA_10kmeans[5]_silhouette.pdf\n",
      "data/results/WIKIDATA_10kmeans[5]_clusters.png\n",
      "data/results/WIKIDATA_10kmeans[5]_clusters.pdf\n",
      "data/results/WIKIDATA_10kmeans[5]_clusters_planar.png\n",
      "data/results/WIKIDATA_10kmeans[5]_clusters_planar.pdf\n",
      "data/results/WIKIDATA_10kmeans[5]_population.png\n",
      "data/results/WIKIDATA_10kmeans[5]_population.pdf\n",
      "Num Centroids: 6\n",
      "SILHOUETTE 0.28880144876557323\n",
      "CALINSKI 14545.205767678928\n",
      "data/results/WIKIDATA_10kmeans[6]_silhouette.png\n",
      "data/results/WIKIDATA_10kmeans[6]_silhouette.pdf\n",
      "data/results/WIKIDATA_10kmeans[6]_clusters.png\n",
      "data/results/WIKIDATA_10kmeans[6]_clusters.pdf\n",
      "data/results/WIKIDATA_10kmeans[6]_clusters_planar.png\n",
      "data/results/WIKIDATA_10kmeans[6]_clusters_planar.pdf\n",
      "data/results/WIKIDATA_10kmeans[6]_population.png\n",
      "data/results/WIKIDATA_10kmeans[6]_population.pdf\n",
      "Num Centroids: 7\n",
      "SILHOUETTE 0.29154174797882043\n",
      "CALINSKI 13472.952817917743\n",
      "data/results/WIKIDATA_10kmeans[7]_silhouette.png\n",
      "data/results/WIKIDATA_10kmeans[7]_silhouette.pdf\n",
      "data/results/WIKIDATA_10kmeans[7]_clusters.png\n",
      "data/results/WIKIDATA_10kmeans[7]_clusters.pdf\n",
      "data/results/WIKIDATA_10kmeans[7]_clusters_planar.png\n",
      "data/results/WIKIDATA_10kmeans[7]_clusters_planar.pdf\n",
      "data/results/WIKIDATA_10kmeans[7]_population.png\n",
      "data/results/WIKIDATA_10kmeans[7]_population.pdf\n",
      "Num Centroids: 8\n",
      "SILHOUETTE 0.2938825902577988\n",
      "CALINSKI 12778.006421591163\n",
      "data/results/WIKIDATA_10kmeans[8]_silhouette.png\n",
      "data/results/WIKIDATA_10kmeans[8]_silhouette.pdf\n",
      "data/results/WIKIDATA_10kmeans[8]_clusters.png\n",
      "data/results/WIKIDATA_10kmeans[8]_clusters.pdf\n",
      "data/results/WIKIDATA_10kmeans[8]_clusters_planar.png\n",
      "data/results/WIKIDATA_10kmeans[8]_clusters_planar.pdf\n",
      "data/results/WIKIDATA_10kmeans[8]_population.png\n",
      "data/results/WIKIDATA_10kmeans[8]_population.pdf\n",
      "Num Centroids: 9\n",
      "SILHOUETTE 0.2906729517440686\n",
      "CALINSKI 12347.529756995009\n",
      "data/results/WIKIDATA_10kmeans[9]_silhouette.png\n",
      "data/results/WIKIDATA_10kmeans[9]_silhouette.pdf\n",
      "data/results/WIKIDATA_10kmeans[9]_clusters.png\n",
      "data/results/WIKIDATA_10kmeans[9]_clusters.pdf\n",
      "data/results/WIKIDATA_10kmeans[9]_clusters_planar.png\n",
      "data/results/WIKIDATA_10kmeans[9]_clusters_planar.pdf\n",
      "data/results/WIKIDATA_10kmeans[9]_population.png\n",
      "data/results/WIKIDATA_10kmeans[9]_population.pdf\n",
      "Num Centroids: 10\n",
      "SILHOUETTE 0.29410134225509166\n",
      "CALINSKI 11947.400051660215\n",
      "data/results/WIKIDATA_10kmeans[10]_silhouette.png\n",
      "data/results/WIKIDATA_10kmeans[10]_silhouette.pdf\n",
      "data/results/WIKIDATA_10kmeans[10]_clusters.png\n",
      "data/results/WIKIDATA_10kmeans[10]_clusters.pdf\n",
      "data/results/WIKIDATA_10kmeans[10]_clusters_planar.png\n",
      "data/results/WIKIDATA_10kmeans[10]_clusters_planar.pdf\n",
      "data/results/WIKIDATA_10kmeans[10]_population.png\n",
      "data/results/WIKIDATA_10kmeans[10]_population.pdf\n",
      "\n"
     ]
    }
   ],
   "source": [
    "centroids = {}    \n",
    "centroids_file = os.path.join(cfg.get(\"directory\", \"exchange\"), results_prefix + \"001_centroids.p\")\n",
    "load_centroids = cfg.getboolean(\"kmeans\", \"load_centroids\") and os.path.isfile(centroids_file)\n",
    "for num_centroids in tqdm(kernel_range):    \n",
    "    kmeans = None\n",
    "\n",
    "    print(\"Num Centroids: {n}\".format(n=num_centroids))\n",
    "    if load_centroids:\n",
    "        with open(centroids_file, \"rb\") as dump_file:\n",
    "            centroids = pickle.load(dump_file)\n",
    "        kmeans = KMeans(n_clusters=num_centroids, init=centroids[num_centroids])\n",
    "    else:\n",
    "        kmeans = KMeans(n_clusters=num_centroids, random_state=cfg.getint(\"kmeans\", \"random_state\"))\n",
    "        \n",
    "    kmeans.fit_predict(vectors)\n",
    "    \n",
    "    lbl = kmeans.labels_\n",
    "    centroids[num_centroids] = kmeans.cluster_centers_\n",
    "\n",
    "    \n",
    "    silhouette_avg = silhouette_score(vectors, lbl)#\n",
    "    print(\"SILHOUETTE\", silhouette_avg)\n",
    "    calinski_score = calinski_harabaz_score(vectors, lbl)\n",
    "    print(\"CALINSKI\", calinski_score)\n",
    "    sample_silhouette_values = silhouette_samples(vectors, lbl)\n",
    "    \n",
    "    store_path = os.path.join(cfg.get(\"directory\", \"results\"), results_prefix + \"kmeans[{n}]\".format(n=num_centroids))\n",
    "    cluster_lbl = \"kmeans_{n}\".format(n=num_centroids)\n",
    "    df[cluster_lbl] = lbl\n",
    "    plotting.k_means(plot_vectors, num_centroids, lbl, sample_silhouette_values, silhouette_avg, store_path)\n",
    "    \n",
    "if cfg.getboolean(\"kmeans\", \"store_centroids\"):\n",
    "    with open(centroids_file, \"wb\") as dump_file:\n",
    "        pickle.dump(centroids, dump_file)"
   ]
  },
  {
   "cell_type": "code",
   "execution_count": 18,
   "metadata": {},
   "outputs": [],
   "source": [
    "df.to_pickle(os.path.join(cfg.get(\"directory\", \"exchange\"), results_prefix + \"001_clustering.p\"))"
   ]
  },
  {
   "cell_type": "code",
   "execution_count": 12,
   "metadata": {},
   "outputs": [],
   "source": [
    "#load here to skip previous calculations if you already have em\n",
    "df = pd.read_pickle(os.path.join(cfg.get(\"directory\", \"exchange\"), results_prefix + \"001_clustering.p\"))"
   ]
  },
  {
   "cell_type": "code",
   "execution_count": 13,
   "metadata": {},
   "outputs": [
    {
     "data": {
      "text/plain": [
       "['Add Description',\n",
       " 'Add Label',\n",
       " 'Add Qualifier',\n",
       " 'Add Reference',\n",
       " 'Add Sitelink',\n",
       " 'Break',\n",
       " 'Create Claim',\n",
       " 'Create Item',\n",
       " 'Edit Claim',\n",
       " 'Remove Claim']"
      ]
     },
     "execution_count": 13,
     "metadata": {},
     "output_type": "execute_result"
    }
   ],
   "source": [
    "labels_filtered = sorted(['Add Description', 'Add Label', 'Add Qualifier', 'Add Reference', 'Add Sitelink', 'Break', 'Create Claim', 'Create Item', 'Edit Claim', 'Remove Claim'])\n",
    "labels_filtered"
   ]
  },
  {
   "cell_type": "code",
   "execution_count": 14,
   "metadata": {},
   "outputs": [
    {
     "data": {
      "text/html": [
       "<div>\n",
       "<style scoped>\n",
       "    .dataframe tbody tr th:only-of-type {\n",
       "        vertical-align: middle;\n",
       "    }\n",
       "\n",
       "    .dataframe tbody tr th {\n",
       "        vertical-align: top;\n",
       "    }\n",
       "\n",
       "    .dataframe thead th {\n",
       "        text-align: right;\n",
       "    }\n",
       "</style>\n",
       "<table border=\"1\" class=\"dataframe\">\n",
       "  <thead>\n",
       "    <tr style=\"text-align: right;\">\n",
       "      <th></th>\n",
       "      <th>bot_name</th>\n",
       "      <th>bot_sequence</th>\n",
       "      <th>length</th>\n",
       "      <th>length_nobreak</th>\n",
       "      <th>sequence</th>\n",
       "      <th>sequence_readable</th>\n",
       "      <th>user_id</th>\n",
       "      <th>user_name</th>\n",
       "      <th>stat_dist</th>\n",
       "      <th>kmeans_2</th>\n",
       "      <th>kmeans_3</th>\n",
       "      <th>kmeans_4</th>\n",
       "      <th>kmeans_5</th>\n",
       "      <th>kmeans_6</th>\n",
       "      <th>kmeans_7</th>\n",
       "      <th>kmeans_8</th>\n",
       "      <th>kmeans_9</th>\n",
       "      <th>kmeans_10</th>\n",
       "    </tr>\n",
       "  </thead>\n",
       "  <tbody>\n",
       "    <tr>\n",
       "      <th>0</th>\n",
       "      <td>False</td>\n",
       "      <td>False</td>\n",
       "      <td>1517</td>\n",
       "      <td>1385</td>\n",
       "      <td>[REVERT_MANUAL, BREAK, CLAIM_CREATE, BREAK, CL...</td>\n",
       "      <td>[Revert Item, Break, Create Claim, Break, Crea...</td>\n",
       "      <td>1</td>\n",
       "      <td>Hoo man</td>\n",
       "      <td>[0.033592832488441825, 0.029154644609674315, 0...</td>\n",
       "      <td>0</td>\n",
       "      <td>0</td>\n",
       "      <td>0</td>\n",
       "      <td>3</td>\n",
       "      <td>3</td>\n",
       "      <td>1</td>\n",
       "      <td>3</td>\n",
       "      <td>0</td>\n",
       "      <td>0</td>\n",
       "    </tr>\n",
       "    <tr>\n",
       "      <th>1</th>\n",
       "      <td>False</td>\n",
       "      <td>False</td>\n",
       "      <td>44</td>\n",
       "      <td>23</td>\n",
       "      <td>[SITELINK_ADD, BREAK, SITELINK_ADD, BREAK, SIT...</td>\n",
       "      <td>[Add Sitelink, Break, Add Sitelink, Break, Add...</td>\n",
       "      <td>100012</td>\n",
       "      <td>Kane 14</td>\n",
       "      <td>[0.02586206896551723, 0.025862068965517227, 0....</td>\n",
       "      <td>1</td>\n",
       "      <td>1</td>\n",
       "      <td>2</td>\n",
       "      <td>1</td>\n",
       "      <td>0</td>\n",
       "      <td>5</td>\n",
       "      <td>1</td>\n",
       "      <td>1</td>\n",
       "      <td>1</td>\n",
       "    </tr>\n",
       "    <tr>\n",
       "      <th>2</th>\n",
       "      <td>False</td>\n",
       "      <td>False</td>\n",
       "      <td>17</td>\n",
       "      <td>12</td>\n",
       "      <td>[LABEL_UPDATE, ALIAS_ADD, BREAK, CLAIM_CREATE,...</td>\n",
       "      <td>[Edit Label, Add Item Alias, Break, Create Cla...</td>\n",
       "      <td>1000197</td>\n",
       "      <td>Zaizone</td>\n",
       "      <td>[0.026205469193709592, 0.07779210211701826, 0....</td>\n",
       "      <td>1</td>\n",
       "      <td>2</td>\n",
       "      <td>1</td>\n",
       "      <td>4</td>\n",
       "      <td>1</td>\n",
       "      <td>0</td>\n",
       "      <td>5</td>\n",
       "      <td>6</td>\n",
       "      <td>2</td>\n",
       "    </tr>\n",
       "    <tr>\n",
       "      <th>3</th>\n",
       "      <td>False</td>\n",
       "      <td>False</td>\n",
       "      <td>91</td>\n",
       "      <td>82</td>\n",
       "      <td>[SITELINK_UPDATE, BREAK, LABEL_ADD, CLAIM_CREA...</td>\n",
       "      <td>[Edit Sitelink, Break, Add Label, Create Claim...</td>\n",
       "      <td>1001159</td>\n",
       "      <td>Gogo hr</td>\n",
       "      <td>[0.04118566424353361, 0.03162035177772598, 0.0...</td>\n",
       "      <td>0</td>\n",
       "      <td>0</td>\n",
       "      <td>0</td>\n",
       "      <td>3</td>\n",
       "      <td>4</td>\n",
       "      <td>6</td>\n",
       "      <td>0</td>\n",
       "      <td>7</td>\n",
       "      <td>4</td>\n",
       "    </tr>\n",
       "    <tr>\n",
       "      <th>4</th>\n",
       "      <td>False</td>\n",
       "      <td>False</td>\n",
       "      <td>21</td>\n",
       "      <td>12</td>\n",
       "      <td>[DESCRIPTION_ADD, BREAK, DESCRIPTION_UPDATE, D...</td>\n",
       "      <td>[Add Description, Break, Edit Description, Add...</td>\n",
       "      <td>1001194</td>\n",
       "      <td>Phylosofo</td>\n",
       "      <td>[0.08620689655172406, 0.025862068965517255, 0....</td>\n",
       "      <td>1</td>\n",
       "      <td>2</td>\n",
       "      <td>1</td>\n",
       "      <td>0</td>\n",
       "      <td>5</td>\n",
       "      <td>4</td>\n",
       "      <td>7</td>\n",
       "      <td>8</td>\n",
       "      <td>5</td>\n",
       "    </tr>\n",
       "  </tbody>\n",
       "</table>\n",
       "</div>"
      ],
      "text/plain": [
       "   bot_name  bot_sequence  length  length_nobreak  \\\n",
       "0     False         False    1517            1385   \n",
       "1     False         False      44              23   \n",
       "2     False         False      17              12   \n",
       "3     False         False      91              82   \n",
       "4     False         False      21              12   \n",
       "\n",
       "                                            sequence  \\\n",
       "0  [REVERT_MANUAL, BREAK, CLAIM_CREATE, BREAK, CL...   \n",
       "1  [SITELINK_ADD, BREAK, SITELINK_ADD, BREAK, SIT...   \n",
       "2  [LABEL_UPDATE, ALIAS_ADD, BREAK, CLAIM_CREATE,...   \n",
       "3  [SITELINK_UPDATE, BREAK, LABEL_ADD, CLAIM_CREA...   \n",
       "4  [DESCRIPTION_ADD, BREAK, DESCRIPTION_UPDATE, D...   \n",
       "\n",
       "                                   sequence_readable  user_id  user_name  \\\n",
       "0  [Revert Item, Break, Create Claim, Break, Crea...        1    Hoo man   \n",
       "1  [Add Sitelink, Break, Add Sitelink, Break, Add...   100012    Kane 14   \n",
       "2  [Edit Label, Add Item Alias, Break, Create Cla...  1000197    Zaizone   \n",
       "3  [Edit Sitelink, Break, Add Label, Create Claim...  1001159    Gogo hr   \n",
       "4  [Add Description, Break, Edit Description, Add...  1001194  Phylosofo   \n",
       "\n",
       "                                           stat_dist  kmeans_2  kmeans_3  \\\n",
       "0  [0.033592832488441825, 0.029154644609674315, 0...         0         0   \n",
       "1  [0.02586206896551723, 0.025862068965517227, 0....         1         1   \n",
       "2  [0.026205469193709592, 0.07779210211701826, 0....         1         2   \n",
       "3  [0.04118566424353361, 0.03162035177772598, 0.0...         0         0   \n",
       "4  [0.08620689655172406, 0.025862068965517255, 0....         1         2   \n",
       "\n",
       "   kmeans_4  kmeans_5  kmeans_6  kmeans_7  kmeans_8  kmeans_9  kmeans_10  \n",
       "0         0         3         3         1         3         0          0  \n",
       "1         2         1         0         5         1         1          1  \n",
       "2         1         4         1         0         5         6          2  \n",
       "3         0         3         4         6         0         7          4  \n",
       "4         1         0         5         4         7         8          5  "
      ]
     },
     "execution_count": 14,
     "metadata": {},
     "output_type": "execute_result"
    }
   ],
   "source": [
    "df.head()"
   ]
  },
  {
   "cell_type": "code",
   "execution_count": 15,
   "metadata": {},
   "outputs": [
    {
     "data": {
      "text/plain": [
       "'SEP'"
      ]
     },
     "execution_count": 15,
     "metadata": {},
     "output_type": "execute_result"
    }
   ],
   "source": [
    "sep_label = cfg.get(\"preprocessing\", \"separator_label\")\n",
    "sep_label"
   ]
  },
  {
   "cell_type": "code",
   "execution_count": null,
   "metadata": {},
   "outputs": [
    {
     "data": {
      "application/vnd.jupyter.widget-view+json": {
       "model_id": "36487346aa3e4f95bf718fb349fcee7b",
       "version_major": 2,
       "version_minor": 0
      },
      "text/plain": [
       "HBox(children=(IntProgress(value=0, max=2), HTML(value='')))"
      ]
     },
     "metadata": {},
     "output_type": "display_data"
    },
    {
     "name": "stdout",
     "output_type": "stream",
     "text": [
      "data/results/WIKIDATA_10[kmeans]clusters[2_0][full]_log.png\n",
      "data/results/WIKIDATA_10[kmeans]clusters[2_0][full]_log.pdf\n",
      "data/results/WIKIDATA_10[kmeans]clusters[2_0][full].png\n",
      "data/results/WIKIDATA_10[kmeans]clusters[2_0][full].pdf\n",
      "data/results/WIKIDATA_10[kmeans]clusters[2_0][top]_log.png\n",
      "data/results/WIKIDATA_10[kmeans]clusters[2_0][top]_log.pdf\n",
      "data/results/WIKIDATA_10[kmeans]clusters[2_0][top].png\n",
      "data/results/WIKIDATA_10[kmeans]clusters[2_0][top].pdf\n",
      "data/results/WIKIDATA_10[kmeans]clusters[2_1][full]_log.png\n",
      "data/results/WIKIDATA_10[kmeans]clusters[2_1][full]_log.pdf\n"
     ]
    }
   ],
   "source": [
    "for num_centroids in kernel_range:\n",
    "    cluster_lbl = \"kmeans_{n}\".format(n=num_centroids)\n",
    "    \n",
    "    for cluster_id, cluster_members in tqdm(df.groupby(cluster_lbl)):\n",
    "        stat_dists = []\n",
    "        actions = []#np.array([])\n",
    "        counts = []\n",
    "        for seq, stat in cluster_members[[\"sequence_readable\", \"stat_dist\"]].values:\n",
    "            stat_dists.append(stat)\n",
    "            actions.append(np.concatenate((seq, [sep_label])))\n",
    "        \n",
    "        actions = np.concatenate(actions)\n",
    "        stat_dists_df = pd.DataFrame(stat_dists, columns=labels)\n",
    "        stat_dist_mean = stat_dists_df.mean()\n",
    "        stat_dist_std = stat_dists_df.std()\n",
    "        action_df = pd.DataFrame({'from': actions})\n",
    "        action_df['to'] = action_df['from'].shift(periods=-1)\n",
    "\n",
    "        pivot = pd.crosstab(action_df['from'], action_df['to'])\n",
    "        pivot_norm = pd.crosstab(action_df['from'], action_df['to'], normalize=\"index\")\n",
    "        \n",
    "        for lbl_set_name, lbl_set in [(\"full\", labels), (\"top\", labels_filtered)]:\n",
    "            pivot_full = lib.stretch_pivot(pivot.copy(), lbl_set)\n",
    "            pivot_full_norm = lib.stretch_pivot(pivot_norm.copy(), lbl_set)\n",
    "            counts = pivot_full.transpose().sum().transpose()\n",
    "\n",
    "            plot_size = (1, 1)\n",
    "            if lbl_set_name == \"full\":\n",
    "                plot_size = (50, 60)\n",
    "            elif lbl_set_name == \"top\":\n",
    "                plot_size = (20, 22)\n",
    "                \n",
    "            store_path = os.path.join(cfg.get(\"directory\", \"results\"), results_prefix + \"[kmeans]clusters[{n}_{i}][{s}]_log\".format(n=num_centroids, i=cluster_id, s=lbl_set_name))\n",
    "            plotting.transition_matrix(plot_size, counts, pivot_full_norm, None, cluster_id, store_path, upper_limit=1e7, logscale=True, stat_dist=(stat_dist_mean[lbl_set].values, stat_dist_std[lbl_set].values))\n",
    "\n",
    "            store_path = os.path.join(cfg.get(\"directory\", \"results\"), results_prefix + \"[kmeans]clusters[{n}_{i}][{s}]\".format(n=num_centroids, i=cluster_id, s=lbl_set_name))\n",
    "            plotting.transition_matrix(plot_size, counts, pivot_full_norm, None, cluster_id, store_path, upper_limit=1e7, logscale=False, stat_dist=(stat_dist_mean[lbl_set].values, stat_dist_std[lbl_set].values))\n"
   ]
  },
  {
   "cell_type": "code",
   "execution_count": null,
   "metadata": {},
   "outputs": [],
   "source": []
  }
 ],
 "metadata": {
  "kernelspec": {
   "display_name": "Python 3",
   "language": "python",
   "name": "python3"
  },
  "language_info": {
   "codemirror_mode": {
    "name": "ipython",
    "version": 3
   },
   "file_extension": ".py",
   "mimetype": "text/x-python",
   "name": "python",
   "nbconvert_exporter": "python",
   "pygments_lexer": "ipython3",
   "version": "3.7.1"
  }
 },
 "nbformat": 4,
 "nbformat_minor": 2
}
