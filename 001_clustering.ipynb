{
 "cells": [
  {
   "cell_type": "code",
   "execution_count": null,
   "metadata": {},
   "outputs": [],
   "source": [
    "%load_ext autoreload\n",
    "%autoreload 2"
   ]
  },
  {
   "cell_type": "code",
   "execution_count": 2,
   "metadata": {},
   "outputs": [],
   "source": [
    "import os\n",
    "import numpy as np\n",
    "import pandas as pd"
   ]
  },
  {
   "cell_type": "code",
   "execution_count": 3,
   "metadata": {},
   "outputs": [],
   "source": [
    "import lib\n",
    "import plotting"
   ]
  },
  {
   "cell_type": "code",
   "execution_count": 4,
   "metadata": {},
   "outputs": [],
   "source": [
    "from multiprocessing import Pool\n",
    "import pickle\n",
    "from collections import defaultdict"
   ]
  },
  {
   "cell_type": "code",
   "execution_count": 5,
   "metadata": {},
   "outputs": [],
   "source": [
    "from sklearn.cluster import KMeans\n",
    "from sklearn.metrics import silhouette_samples, silhouette_score, calinski_harabaz_score\n",
    "from sklearn.decomposition import PCA"
   ]
  },
  {
   "cell_type": "code",
   "execution_count": 6,
   "metadata": {},
   "outputs": [
    {
     "data": {
      "text/plain": [
       "['config.cfg']"
      ]
     },
     "execution_count": 6,
     "metadata": {},
     "output_type": "execute_result"
    }
   ],
   "source": [
    "from configparser import ConfigParser\n",
    "cfg = ConfigParser()\n",
    "cfg.read(\"config.cfg\")"
   ]
  },
  {
   "cell_type": "code",
   "execution_count": 7,
   "metadata": {},
   "outputs": [],
   "source": [
    "from tqdm._tqdm_notebook import tqdm_notebook as tqdm # we manually import the notebook submodule as the normal one struggles with jupyterlab\n",
    "tqdm.pandas() # this enables us to use progress_apply instead of apply"
   ]
  },
  {
   "cell_type": "code",
   "execution_count": 8,
   "metadata": {},
   "outputs": [],
   "source": [
    "results_prefix = \"[WIKIDATA_BOTEXT]\"\n",
    "\n",
    "sequence_file = os.path.join(cfg.get(\"directory\", \"exchange\"), \"[wikidata]004_sequences.p\")\n",
    "labels_file = os.path.join(cfg.get(\"directory\", \"exchange\"), \"[wikidata]004_labels.p\")\n",
    "users_file = os.path.join(cfg.get(\"directory\", \"exchange\"), \"[wikidata]004_users.p\")"
   ]
  },
  {
   "cell_type": "code",
   "execution_count": 9,
   "metadata": {},
   "outputs": [
    {
     "data": {
      "text/html": [
       "<div>\n",
       "<style scoped>\n",
       "    .dataframe tbody tr th:only-of-type {\n",
       "        vertical-align: middle;\n",
       "    }\n",
       "\n",
       "    .dataframe tbody tr th {\n",
       "        vertical-align: top;\n",
       "    }\n",
       "\n",
       "    .dataframe thead th {\n",
       "        text-align: right;\n",
       "    }\n",
       "</style>\n",
       "<table border=\"1\" class=\"dataframe\">\n",
       "  <thead>\n",
       "    <tr style=\"text-align: right;\">\n",
       "      <th></th>\n",
       "      <th>length</th>\n",
       "      <th>sequence</th>\n",
       "      <th>user_id</th>\n",
       "    </tr>\n",
       "  </thead>\n",
       "  <tbody>\n",
       "    <tr>\n",
       "      <th>0</th>\n",
       "      <td>1511</td>\n",
       "      <td>[REVERT_MANUAL, BREAK, CLAIM_CREATE, BREAK, CL...</td>\n",
       "      <td>1</td>\n",
       "    </tr>\n",
       "    <tr>\n",
       "      <th>1</th>\n",
       "      <td>9</td>\n",
       "      <td>[ENTITY_CREATE, BREAK, SITELINK_ADD, BREAK, ME...</td>\n",
       "      <td>1000036</td>\n",
       "    </tr>\n",
       "    <tr>\n",
       "      <th>2</th>\n",
       "      <td>7</td>\n",
       "      <td>[SITELINK_ADD, BREAK, SITELINK_ADD, BREAK, SIT...</td>\n",
       "      <td>1000078</td>\n",
       "    </tr>\n",
       "    <tr>\n",
       "      <th>3</th>\n",
       "      <td>9</td>\n",
       "      <td>[ENTITY_CREATE, BREAK, SITELINK_REMOVE, SITELI...</td>\n",
       "      <td>100008</td>\n",
       "    </tr>\n",
       "    <tr>\n",
       "      <th>4</th>\n",
       "      <td>44</td>\n",
       "      <td>[SITELINK_ADD, BREAK, SITELINK_ADD, BREAK, SIT...</td>\n",
       "      <td>100012</td>\n",
       "    </tr>\n",
       "  </tbody>\n",
       "</table>\n",
       "</div>"
      ],
      "text/plain": [
       "   length                                           sequence  user_id\n",
       "0    1511  [REVERT_MANUAL, BREAK, CLAIM_CREATE, BREAK, CL...        1\n",
       "1       9  [ENTITY_CREATE, BREAK, SITELINK_ADD, BREAK, ME...  1000036\n",
       "2       7  [SITELINK_ADD, BREAK, SITELINK_ADD, BREAK, SIT...  1000078\n",
       "3       9  [ENTITY_CREATE, BREAK, SITELINK_REMOVE, SITELI...   100008\n",
       "4      44  [SITELINK_ADD, BREAK, SITELINK_ADD, BREAK, SIT...   100012"
      ]
     },
     "execution_count": 9,
     "metadata": {},
     "output_type": "execute_result"
    }
   ],
   "source": [
    "df = pd.read_pickle(sequence_file)\n",
    "labels = pd.read_pickle(labels_file)['label'].values\n",
    "df.head()"
   ]
  },
  {
   "cell_type": "code",
   "execution_count": 10,
   "metadata": {},
   "outputs": [
    {
     "data": {
      "application/vnd.jupyter.widget-view+json": {
       "model_id": "c3d2f2c3f19a4c63b309669f5fa48268",
       "version_major": 2,
       "version_minor": 0
      },
      "text/plain": [
       "HBox(children=(IntProgress(value=0, max=87480), HTML(value='')))"
      ]
     },
     "metadata": {},
     "output_type": "display_data"
    },
    {
     "name": "stdout",
     "output_type": "stream",
     "text": [
      "\n"
     ]
    }
   ],
   "source": [
    "def calc_dist(sequence):\n",
    "    dist, pivot = lib.calc_distribution(labels, sequence)\n",
    "    return np.array(dist)\n",
    "\n",
    "with Pool(cfg.getint(\"core\", \"num_cores\")) as processor_pool:\n",
    "    df['stat_dist'] = pd.Series(processor_pool.imap(calc_dist, tqdm(df['sequence'])))"
   ]
  },
  {
   "cell_type": "code",
   "execution_count": 11,
   "metadata": {},
   "outputs": [
    {
     "data": {
      "text/html": [
       "<div>\n",
       "<style scoped>\n",
       "    .dataframe tbody tr th:only-of-type {\n",
       "        vertical-align: middle;\n",
       "    }\n",
       "\n",
       "    .dataframe tbody tr th {\n",
       "        vertical-align: top;\n",
       "    }\n",
       "\n",
       "    .dataframe thead th {\n",
       "        text-align: right;\n",
       "    }\n",
       "</style>\n",
       "<table border=\"1\" class=\"dataframe\">\n",
       "  <thead>\n",
       "    <tr style=\"text-align: right;\">\n",
       "      <th></th>\n",
       "      <th>length</th>\n",
       "      <th>sequence</th>\n",
       "      <th>user_id</th>\n",
       "      <th>stat_dist</th>\n",
       "    </tr>\n",
       "  </thead>\n",
       "  <tbody>\n",
       "    <tr>\n",
       "      <th>0</th>\n",
       "      <td>1511</td>\n",
       "      <td>[REVERT_MANUAL, BREAK, CLAIM_CREATE, BREAK, CL...</td>\n",
       "      <td>1</td>\n",
       "      <td>[0.022260285362644863, 0.01999793118304165, 0....</td>\n",
       "    </tr>\n",
       "    <tr>\n",
       "      <th>1</th>\n",
       "      <td>9</td>\n",
       "      <td>[ENTITY_CREATE, BREAK, SITELINK_ADD, BREAK, ME...</td>\n",
       "      <td>1000036</td>\n",
       "      <td>[0.020070153072094386, 0.02007015307209438, 0....</td>\n",
       "    </tr>\n",
       "    <tr>\n",
       "      <th>2</th>\n",
       "      <td>7</td>\n",
       "      <td>[SITELINK_ADD, BREAK, SITELINK_ADD, BREAK, SIT...</td>\n",
       "      <td>1000078</td>\n",
       "      <td>[0.01947397679104996, 0.019473976791049966, 0....</td>\n",
       "    </tr>\n",
       "    <tr>\n",
       "      <th>3</th>\n",
       "      <td>9</td>\n",
       "      <td>[ENTITY_CREATE, BREAK, SITELINK_REMOVE, SITELI...</td>\n",
       "      <td>100008</td>\n",
       "      <td>[0.02042483183496783, 0.020424831834967825, 0....</td>\n",
       "    </tr>\n",
       "    <tr>\n",
       "      <th>4</th>\n",
       "      <td>44</td>\n",
       "      <td>[SITELINK_ADD, BREAK, SITELINK_ADD, BREAK, SIT...</td>\n",
       "      <td>100012</td>\n",
       "      <td>[0.01973684210526316, 0.019736842105263157, 0....</td>\n",
       "    </tr>\n",
       "  </tbody>\n",
       "</table>\n",
       "</div>"
      ],
      "text/plain": [
       "   length                                           sequence  user_id  \\\n",
       "0    1511  [REVERT_MANUAL, BREAK, CLAIM_CREATE, BREAK, CL...        1   \n",
       "1       9  [ENTITY_CREATE, BREAK, SITELINK_ADD, BREAK, ME...  1000036   \n",
       "2       7  [SITELINK_ADD, BREAK, SITELINK_ADD, BREAK, SIT...  1000078   \n",
       "3       9  [ENTITY_CREATE, BREAK, SITELINK_REMOVE, SITELI...   100008   \n",
       "4      44  [SITELINK_ADD, BREAK, SITELINK_ADD, BREAK, SIT...   100012   \n",
       "\n",
       "                                           stat_dist  \n",
       "0  [0.022260285362644863, 0.01999793118304165, 0....  \n",
       "1  [0.020070153072094386, 0.02007015307209438, 0....  \n",
       "2  [0.01947397679104996, 0.019473976791049966, 0....  \n",
       "3  [0.02042483183496783, 0.020424831834967825, 0....  \n",
       "4  [0.01973684210526316, 0.019736842105263157, 0....  "
      ]
     },
     "execution_count": 11,
     "metadata": {},
     "output_type": "execute_result"
    }
   ],
   "source": [
    "df.head()"
   ]
  },
  {
   "cell_type": "code",
   "execution_count": 12,
   "metadata": {},
   "outputs": [
    {
     "data": {
      "text/plain": [
       "array([ 2,  3,  4,  5,  6,  7,  8,  9, 10])"
      ]
     },
     "execution_count": 12,
     "metadata": {},
     "output_type": "execute_result"
    }
   ],
   "source": [
    "kernel_range = np.arange(cfg.getint(\"kmeans\", \"clusters_min\"), cfg.getint(\"kmeans\", \"clusters_max\") + 1)\n",
    "kernel_range"
   ]
  },
  {
   "cell_type": "code",
   "execution_count": 13,
   "metadata": {},
   "outputs": [
    {
     "name": "stdout",
     "output_type": "stream",
     "text": [
      "[0.28125296 0.4497747  0.57094982]\n"
     ]
    }
   ],
   "source": [
    "vectors = np.array([np.array(x) for x in df['stat_dist'].values]) # ensure we have the data in numpy format\n",
    "pca = PCA(n_components=3)\n",
    "plot_vectors = pca.fit_transform(vectors)\n",
    "print(pca.explained_variance_ratio_.cumsum())"
   ]
  },
  {
   "cell_type": "code",
   "execution_count": 34,
   "metadata": {},
   "outputs": [
    {
     "data": {
      "application/vnd.jupyter.widget-view+json": {
       "model_id": "4a720fe07ac044e581202161ae6d69cb",
       "version_major": 2,
       "version_minor": 0
      },
      "text/plain": [
       "HBox(children=(IntProgress(value=0, max=9), HTML(value='')))"
      ]
     },
     "metadata": {},
     "output_type": "display_data"
    },
    {
     "name": "stdout",
     "output_type": "stream",
     "text": [
      "Num Centroids: 2\n"
     ]
    },
    {
     "name": "stderr",
     "output_type": "stream",
     "text": [
      "/home/pkasper/python/Python-3.7.1/lib/python3.7/site-packages/sklearn/cluster/k_means_.py:971: RuntimeWarning: Explicit initial center position passed: performing only one init in k-means instead of n_init=10\n",
      "  return_n_iter=True)\n"
     ]
    },
    {
     "name": "stdout",
     "output_type": "stream",
     "text": [
      "SILHOUETTE 0.24386984466175524\n",
      "CALINSKI 23333.643977691416\n",
      "data/results/[WIKIDATA]kmeans[2]_silhouette.png\n",
      "data/results/[WIKIDATA]kmeans[2]_silhouette.pdf\n",
      "data/results/[WIKIDATA]kmeans[2]_clusters.png\n",
      "data/results/[WIKIDATA]kmeans[2]_clusters.pdf\n",
      "data/results/[WIKIDATA]kmeans[2]_clusters_planar.png\n",
      "data/results/[WIKIDATA]kmeans[2]_clusters_planar.pdf\n",
      "data/results/[WIKIDATA]kmeans[2]_population.png\n",
      "data/results/[WIKIDATA]kmeans[2]_population.pdf\n",
      "Num Centroids: 3\n"
     ]
    },
    {
     "name": "stderr",
     "output_type": "stream",
     "text": [
      "/home/pkasper/python/Python-3.7.1/lib/python3.7/site-packages/sklearn/cluster/k_means_.py:971: RuntimeWarning: Explicit initial center position passed: performing only one init in k-means instead of n_init=10\n",
      "  return_n_iter=True)\n"
     ]
    },
    {
     "name": "stdout",
     "output_type": "stream",
     "text": [
      "SILHOUETTE 0.29026215981061654\n",
      "CALINSKI 22633.81826219971\n",
      "data/results/[WIKIDATA]kmeans[3]_silhouette.png\n",
      "data/results/[WIKIDATA]kmeans[3]_silhouette.pdf\n",
      "data/results/[WIKIDATA]kmeans[3]_clusters.png\n",
      "data/results/[WIKIDATA]kmeans[3]_clusters.pdf\n",
      "data/results/[WIKIDATA]kmeans[3]_clusters_planar.png\n",
      "data/results/[WIKIDATA]kmeans[3]_clusters_planar.pdf\n",
      "data/results/[WIKIDATA]kmeans[3]_population.png\n",
      "data/results/[WIKIDATA]kmeans[3]_population.pdf\n",
      "Num Centroids: 4\n"
     ]
    },
    {
     "name": "stderr",
     "output_type": "stream",
     "text": [
      "/home/pkasper/python/Python-3.7.1/lib/python3.7/site-packages/sklearn/cluster/k_means_.py:971: RuntimeWarning: Explicit initial center position passed: performing only one init in k-means instead of n_init=10\n",
      "  return_n_iter=True)\n"
     ]
    },
    {
     "name": "stdout",
     "output_type": "stream",
     "text": [
      "SILHOUETTE 0.32328692427844813\n",
      "CALINSKI 24169.53502637626\n",
      "data/results/[WIKIDATA]kmeans[4]_silhouette.png\n",
      "data/results/[WIKIDATA]kmeans[4]_silhouette.pdf\n",
      "data/results/[WIKIDATA]kmeans[4]_clusters.png\n",
      "data/results/[WIKIDATA]kmeans[4]_clusters.pdf\n",
      "data/results/[WIKIDATA]kmeans[4]_clusters_planar.png\n",
      "data/results/[WIKIDATA]kmeans[4]_clusters_planar.pdf\n",
      "data/results/[WIKIDATA]kmeans[4]_population.png\n",
      "data/results/[WIKIDATA]kmeans[4]_population.pdf\n",
      "Num Centroids: 5\n"
     ]
    },
    {
     "name": "stderr",
     "output_type": "stream",
     "text": [
      "/home/pkasper/python/Python-3.7.1/lib/python3.7/site-packages/sklearn/cluster/k_means_.py:971: RuntimeWarning: Explicit initial center position passed: performing only one init in k-means instead of n_init=10\n",
      "  return_n_iter=True)\n"
     ]
    },
    {
     "name": "stdout",
     "output_type": "stream",
     "text": [
      "SILHOUETTE 0.34898491533446846\n",
      "CALINSKI 23061.972635740363\n",
      "data/results/[WIKIDATA]kmeans[5]_silhouette.png\n",
      "data/results/[WIKIDATA]kmeans[5]_silhouette.pdf\n",
      "data/results/[WIKIDATA]kmeans[5]_clusters.png\n",
      "data/results/[WIKIDATA]kmeans[5]_clusters.pdf\n",
      "data/results/[WIKIDATA]kmeans[5]_clusters_planar.png\n",
      "data/results/[WIKIDATA]kmeans[5]_clusters_planar.pdf\n",
      "data/results/[WIKIDATA]kmeans[5]_population.png\n",
      "data/results/[WIKIDATA]kmeans[5]_population.pdf\n",
      "Num Centroids: 6\n"
     ]
    },
    {
     "name": "stderr",
     "output_type": "stream",
     "text": [
      "/home/pkasper/python/Python-3.7.1/lib/python3.7/site-packages/sklearn/cluster/k_means_.py:971: RuntimeWarning: Explicit initial center position passed: performing only one init in k-means instead of n_init=10\n",
      "  return_n_iter=True)\n"
     ]
    },
    {
     "name": "stdout",
     "output_type": "stream",
     "text": [
      "SILHOUETTE 0.36195311396975766\n",
      "CALINSKI 22834.00586538342\n",
      "data/results/[WIKIDATA]kmeans[6]_silhouette.png\n",
      "data/results/[WIKIDATA]kmeans[6]_silhouette.pdf\n",
      "data/results/[WIKIDATA]kmeans[6]_clusters.png\n",
      "data/results/[WIKIDATA]kmeans[6]_clusters.pdf\n",
      "data/results/[WIKIDATA]kmeans[6]_clusters_planar.png\n",
      "data/results/[WIKIDATA]kmeans[6]_clusters_planar.pdf\n",
      "data/results/[WIKIDATA]kmeans[6]_population.png\n",
      "data/results/[WIKIDATA]kmeans[6]_population.pdf\n",
      "Num Centroids: 7\n"
     ]
    },
    {
     "name": "stderr",
     "output_type": "stream",
     "text": [
      "/home/pkasper/python/Python-3.7.1/lib/python3.7/site-packages/sklearn/cluster/k_means_.py:971: RuntimeWarning: Explicit initial center position passed: performing only one init in k-means instead of n_init=10\n",
      "  return_n_iter=True)\n"
     ]
    },
    {
     "name": "stdout",
     "output_type": "stream",
     "text": [
      "SILHOUETTE 0.37772108597251564\n",
      "CALINSKI 23254.29739336597\n",
      "data/results/[WIKIDATA]kmeans[7]_silhouette.png\n",
      "data/results/[WIKIDATA]kmeans[7]_silhouette.pdf\n",
      "data/results/[WIKIDATA]kmeans[7]_clusters.png\n",
      "data/results/[WIKIDATA]kmeans[7]_clusters.pdf\n",
      "data/results/[WIKIDATA]kmeans[7]_clusters_planar.png\n",
      "data/results/[WIKIDATA]kmeans[7]_clusters_planar.pdf\n",
      "data/results/[WIKIDATA]kmeans[7]_population.png\n",
      "data/results/[WIKIDATA]kmeans[7]_population.pdf\n",
      "Num Centroids: 8\n"
     ]
    },
    {
     "name": "stderr",
     "output_type": "stream",
     "text": [
      "/home/pkasper/python/Python-3.7.1/lib/python3.7/site-packages/sklearn/cluster/k_means_.py:971: RuntimeWarning: Explicit initial center position passed: performing only one init in k-means instead of n_init=10\n",
      "  return_n_iter=True)\n"
     ]
    },
    {
     "name": "stdout",
     "output_type": "stream",
     "text": [
      "SILHOUETTE 0.38909583497882905\n",
      "CALINSKI 22845.047431541298\n",
      "data/results/[WIKIDATA]kmeans[8]_silhouette.png\n",
      "data/results/[WIKIDATA]kmeans[8]_silhouette.pdf\n",
      "data/results/[WIKIDATA]kmeans[8]_clusters.png\n",
      "data/results/[WIKIDATA]kmeans[8]_clusters.pdf\n",
      "data/results/[WIKIDATA]kmeans[8]_clusters_planar.png\n",
      "data/results/[WIKIDATA]kmeans[8]_clusters_planar.pdf\n",
      "data/results/[WIKIDATA]kmeans[8]_population.png\n",
      "data/results/[WIKIDATA]kmeans[8]_population.pdf\n",
      "Num Centroids: 9\n"
     ]
    },
    {
     "name": "stderr",
     "output_type": "stream",
     "text": [
      "/home/pkasper/python/Python-3.7.1/lib/python3.7/site-packages/sklearn/cluster/k_means_.py:971: RuntimeWarning: Explicit initial center position passed: performing only one init in k-means instead of n_init=10\n",
      "  return_n_iter=True)\n"
     ]
    },
    {
     "name": "stdout",
     "output_type": "stream",
     "text": [
      "SILHOUETTE 0.3344967246708248\n",
      "CALINSKI 22450.464803944174\n",
      "data/results/[WIKIDATA]kmeans[9]_silhouette.png\n",
      "data/results/[WIKIDATA]kmeans[9]_silhouette.pdf\n",
      "data/results/[WIKIDATA]kmeans[9]_clusters.png\n",
      "data/results/[WIKIDATA]kmeans[9]_clusters.pdf\n",
      "data/results/[WIKIDATA]kmeans[9]_clusters_planar.png\n",
      "data/results/[WIKIDATA]kmeans[9]_clusters_planar.pdf\n",
      "data/results/[WIKIDATA]kmeans[9]_population.png\n",
      "data/results/[WIKIDATA]kmeans[9]_population.pdf\n",
      "Num Centroids: 10\n"
     ]
    },
    {
     "name": "stderr",
     "output_type": "stream",
     "text": [
      "/home/pkasper/python/Python-3.7.1/lib/python3.7/site-packages/sklearn/cluster/k_means_.py:971: RuntimeWarning: Explicit initial center position passed: performing only one init in k-means instead of n_init=10\n",
      "  return_n_iter=True)\n"
     ]
    },
    {
     "name": "stdout",
     "output_type": "stream",
     "text": [
      "SILHOUETTE 0.3551217829206689\n",
      "CALINSKI 22674.948195454668\n",
      "data/results/[WIKIDATA]kmeans[10]_silhouette.png\n",
      "data/results/[WIKIDATA]kmeans[10]_silhouette.pdf\n",
      "data/results/[WIKIDATA]kmeans[10]_clusters.png\n",
      "data/results/[WIKIDATA]kmeans[10]_clusters.pdf\n",
      "data/results/[WIKIDATA]kmeans[10]_clusters_planar.png\n",
      "data/results/[WIKIDATA]kmeans[10]_clusters_planar.pdf\n",
      "data/results/[WIKIDATA]kmeans[10]_population.png\n",
      "data/results/[WIKIDATA]kmeans[10]_population.pdf\n"
     ]
    }
   ],
   "source": [
    "centroids = {}    \n",
    "centroids_file = os.path.join(cfg.get(\"directory\", \"exchange\"), results_prefix + \"001_centroids.p\")\n",
    "load_centroids = cfg.getboolean(\"kmeans\", \"load_centroids\") and os.path.isfile(centroids_file)\n",
    "for num_centroids in tqdm(kernel_range):    \n",
    "    kmeans = None\n",
    "\n",
    "    print(\"Num Centroids: {n}\".format(n=num_centroids))\n",
    "    if load_centroids:\n",
    "        with open(centroids_file, \"rb\") as dump_file:\n",
    "            centroids = pickle.load(dump_file)\n",
    "        kmeans = KMeans(n_clusters=num_centroids, init=centroids[num_centroids])\n",
    "    else:\n",
    "        kmeans = KMeans(n_clusters=num_centroids)\n",
    "        \n",
    "    kmeans.fit_predict(vectors)\n",
    "    \n",
    "    lbl = kmeans.labels_\n",
    "    centroids[num_centroids] = kmeans.cluster_centers_\n",
    "\n",
    "    \n",
    "    silhouette_avg = silhouette_score(vectors, lbl)#\n",
    "    print(\"SILHOUETTE\", silhouette_avg)\n",
    "    calinski_score = calinski_harabaz_score(vectors, lbl)\n",
    "    print(\"CALINSKI\", calinski_score)\n",
    "    sample_silhouette_values = silhouette_samples(vectors, lbl)\n",
    "    \n",
    "    store_path = os.path.join(cfg.get(\"directory\", \"results\"), results_prefix + \"kmeans[{n}]\".format(n=num_centroids))\n",
    "    cluster_lbl = \"kmeans_{n}\".format(n=num_centroids)\n",
    "    df[cluster_lbl] = lbl\n",
    "    plotting.k_means(plot_vectors, num_centroids, lbl, sample_silhouette_values, silhouette_avg, store_path)\n",
    "    \n",
    "if cfg.getboolean(\"kmeans\", \"store_centroids\"):\n",
    "    with open(centroids_file, \"wb\") as dump_file:\n",
    "        pickle.dump(centroids, dump_file)"
   ]
  },
  {
   "cell_type": "code",
   "execution_count": 35,
   "metadata": {},
   "outputs": [],
   "source": [
    "df.to_pickle(os.path.join(cfg.get(\"directory\", \"exchange\"), results_prefix + \"001_clustering.p\"))"
   ]
  },
  {
   "cell_type": "code",
   "execution_count": 36,
   "metadata": {},
   "outputs": [
    {
     "data": {
      "text/plain": [
       "['BREAK',\n",
       " 'CLAIM_CREATE',\n",
       " 'CLAIM_UPDATE',\n",
       " 'DESCRIPTION_ADD',\n",
       " 'DESCRIPTION_UPDATE',\n",
       " 'ENTITY_OVERRIDE',\n",
       " 'ENTITY_REDIRECT',\n",
       " 'LABEL_ADD',\n",
       " 'MERGE',\n",
       " 'QUALIFIER_ADD',\n",
       " 'REFERENCE_ADD',\n",
       " 'SITELINK_ADD',\n",
       " 'SITELINK_UPDATE']"
      ]
     },
     "execution_count": 36,
     "metadata": {},
     "output_type": "execute_result"
    }
   ],
   "source": [
    "labels_filtered = sorted([\"BREAK\", \"DESCRIPTION_UPDATE\", \"CLAIM_CREATE\", \"REFERENCE_ADD\", \"ENTITY_OVERRIDE\", \"ENTITY_REDIRECT\", \"MERGE\", \"DESCRIPTION_ADD\", \"LABEL_ADD\", \"QUALIFIER_ADD\", \"CLAIM_UPDATE\", \"SITELINK_ADD\", \"SITELINK_UPDATE\", ])\n",
    "labels_filtered"
   ]
  },
  {
   "cell_type": "code",
   "execution_count": 40,
   "metadata": {},
   "outputs": [
    {
     "name": "stdout",
     "output_type": "stream",
     "text": [
      "data/results/[WIKIDATA]clusters[7_4].png\n",
      "data/results/[WIKIDATA]clusters[7_4].pdf\n",
      "data/results/[WIKIDATA]clusters[7_4]reduced.png\n",
      "data/results/[WIKIDATA]clusters[7_4]reduced.pdf\n",
      "data/results/[WIKIDATA]clusters[7_0].png\n",
      "data/results/[WIKIDATA]clusters[7_0].pdf\n",
      "data/results/[WIKIDATA]clusters[7_0]reduced.png\n",
      "data/results/[WIKIDATA]clusters[7_0]reduced.pdf\n",
      "data/results/[WIKIDATA]clusters[7_1].png\n",
      "data/results/[WIKIDATA]clusters[7_1].pdf\n",
      "data/results/[WIKIDATA]clusters[7_1]reduced.png\n",
      "data/results/[WIKIDATA]clusters[7_1]reduced.pdf\n",
      "data/results/[WIKIDATA]clusters[7_3].png\n",
      "data/results/[WIKIDATA]clusters[7_3].pdf\n",
      "data/results/[WIKIDATA]clusters[7_3]reduced.png\n",
      "data/results/[WIKIDATA]clusters[7_3]reduced.pdf\n",
      "data/results/[WIKIDATA]clusters[7_2].png\n",
      "data/results/[WIKIDATA]clusters[7_2].pdf\n",
      "data/results/[WIKIDATA]clusters[7_2]reduced.png\n",
      "data/results/[WIKIDATA]clusters[7_2]reduced.pdf\n",
      "data/results/[WIKIDATA]clusters[7_5].png\n",
      "data/results/[WIKIDATA]clusters[7_5].pdf\n",
      "data/results/[WIKIDATA]clusters[7_5]reduced.png\n",
      "data/results/[WIKIDATA]clusters[7_5]reduced.pdf\n",
      "data/results/[WIKIDATA]clusters[7_6].png\n",
      "data/results/[WIKIDATA]clusters[7_6].pdf\n",
      "data/results/[WIKIDATA]clusters[7_6]reduced.png\n",
      "data/results/[WIKIDATA]clusters[7_6]reduced.pdf\n"
     ]
    }
   ],
   "source": [
    "for num_centroids in [7]:#kernel_range:\n",
    "    member_count = defaultdict(int)\n",
    "    cluster = defaultdict(list)\n",
    "    cluster_lbl = \"kmeans_{n}\".format(n=num_centroids)\n",
    "    \n",
    "    for i, user in df.iterrows():\n",
    "        cluster_id = user[cluster_lbl]\n",
    "        member_count[cluster_id] += 1\n",
    "        action_df = pd.DataFrame({\"from\": user['sequence']})\n",
    "        action_df[\"to\"] = action_df[\"from\"].shift(periods=-1)\n",
    "        cluster[cluster_id].append(action_df)\n",
    "         \n",
    "    for cluster_index in cluster:\n",
    "        cluster_df = pd.concat(cluster[cluster_index])\n",
    "\n",
    "        transition_count_pivot = lib.stretch_pivot(pd.crosstab(cluster_df['from'], cluster_df['to']), labels)\n",
    "        unnormalized = transition_count_pivot.transpose().sum().transpose()\n",
    "        pivot = lib.stretch_pivot(pd.crosstab(cluster_df['from'], cluster_df['to'], normalize=\"index\"), labels)\n",
    "        \n",
    "        store_path = os.path.join(cfg.get(\"directory\", \"results\"), results_prefix + \"clusters[{n}_{i}]\".format(n=num_centroids, i=cluster_index))\n",
    "        plotting.transition_matrix((50, 60), unnormalized, pivot, transition_count_pivot, cluster_index, store_path)\n",
    "        \n",
    "        \n",
    "        transition_count_pivot_reduced = lib.stretch_pivot(transition_count_pivot, labels_filtered)\n",
    "        unnormalized_reduced = transition_count_pivot_reduced.transpose().sum().transpose()\n",
    "        pivot_reduced = lib.stretch_pivot(pd.crosstab(cluster_df['from'], cluster_df['to'], normalize=\"index\"), labels_filtered)\n",
    "        \n",
    "        store_path = os.path.join(cfg.get(\"directory\", \"results\"), results_prefix + \"clusters[{n}_{i}]reduced\".format(n=num_centroids, i=cluster_index))\n",
    "        plotting.transition_matrix((20, 25),unnormalized_reduced, pivot_reduced, transition_count_pivot_reduced, cluster_index, store_path)"
   ]
  },
  {
   "cell_type": "code",
   "execution_count": null,
   "metadata": {},
   "outputs": [],
   "source": []
  }
 ],
 "metadata": {
  "kernelspec": {
   "display_name": "Python 3",
   "language": "python",
   "name": "python3"
  },
  "language_info": {
   "codemirror_mode": {
    "name": "ipython",
    "version": 3
   },
   "file_extension": ".py",
   "mimetype": "text/x-python",
   "name": "python",
   "nbconvert_exporter": "python",
   "pygments_lexer": "ipython3",
   "version": "3.7.1"
  }
 },
 "nbformat": 4,
 "nbformat_minor": 2
}
