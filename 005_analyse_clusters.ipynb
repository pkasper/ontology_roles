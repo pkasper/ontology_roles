{
 "cells": [
  {
   "cell_type": "code",
   "execution_count": 1,
   "metadata": {},
   "outputs": [],
   "source": [
    "%load_ext autoreload\n",
    "%autoreload 2"
   ]
  },
  {
   "cell_type": "code",
   "execution_count": 2,
   "metadata": {},
   "outputs": [],
   "source": [
    "import os\n",
    "import numpy as np\n",
    "import pandas as pd"
   ]
  },
  {
   "cell_type": "code",
   "execution_count": 3,
   "metadata": {},
   "outputs": [],
   "source": [
    "import lib\n",
    "import plotting"
   ]
  },
  {
   "cell_type": "code",
   "execution_count": 4,
   "metadata": {},
   "outputs": [
    {
     "data": {
      "text/plain": [
       "['config.cfg']"
      ]
     },
     "execution_count": 4,
     "metadata": {},
     "output_type": "execute_result"
    }
   ],
   "source": [
    "from configparser import ConfigParser\n",
    "cfg = ConfigParser()\n",
    "cfg.read(\"config.cfg\")"
   ]
  },
  {
   "cell_type": "code",
   "execution_count": 5,
   "metadata": {},
   "outputs": [],
   "source": [
    "from tqdm._tqdm_notebook import tqdm_notebook as tqdm # we manually import the notebook submodule as the normal one struggles with jupyterlab\n",
    "tqdm.pandas() # this enables us to use progress_apply instead of apply"
   ]
  },
  {
   "cell_type": "code",
   "execution_count": 12,
   "metadata": {},
   "outputs": [
    {
     "data": {
      "text/plain": [
       "'[WIKIDATA_10]'"
      ]
     },
     "execution_count": 12,
     "metadata": {},
     "output_type": "execute_result"
    }
   ],
   "source": [
    "results_prefix = cfg.get(\"results\", \"prefix\")\n",
    "\n",
    "sequence_file = os.path.join(cfg.get(\"directory\", \"exchange\"), results_prefix + \"001_clustering.p\")\n",
    "labels_file = os.path.join(cfg.get(\"directory\", \"exchange\"), \"[wikidata]004_labels_readable.p\")\n",
    "results_prefix"
   ]
  },
  {
   "cell_type": "code",
   "execution_count": 7,
   "metadata": {},
   "outputs": [
    {
     "data": {
      "text/html": [
       "<div>\n",
       "<style scoped>\n",
       "    .dataframe tbody tr th:only-of-type {\n",
       "        vertical-align: middle;\n",
       "    }\n",
       "\n",
       "    .dataframe tbody tr th {\n",
       "        vertical-align: top;\n",
       "    }\n",
       "\n",
       "    .dataframe thead th {\n",
       "        text-align: right;\n",
       "    }\n",
       "</style>\n",
       "<table border=\"1\" class=\"dataframe\">\n",
       "  <thead>\n",
       "    <tr style=\"text-align: right;\">\n",
       "      <th></th>\n",
       "      <th>bot_name</th>\n",
       "      <th>bot_sequence</th>\n",
       "      <th>length</th>\n",
       "      <th>length_nobreak</th>\n",
       "      <th>sequence</th>\n",
       "      <th>sequence_readable</th>\n",
       "      <th>user_id</th>\n",
       "      <th>user_name</th>\n",
       "      <th>stat_dist</th>\n",
       "      <th>kmeans_4</th>\n",
       "      <th>kmeans_8</th>\n",
       "    </tr>\n",
       "  </thead>\n",
       "  <tbody>\n",
       "    <tr>\n",
       "      <th>0</th>\n",
       "      <td>False</td>\n",
       "      <td>False</td>\n",
       "      <td>1517</td>\n",
       "      <td>1385</td>\n",
       "      <td>[REVERT_MANUAL, BREAK, CLAIM_CREATE, BREAK, CL...</td>\n",
       "      <td>[Revert Item, Break, Create Claim, Break, Crea...</td>\n",
       "      <td>1</td>\n",
       "      <td>Hoo man</td>\n",
       "      <td>[0.033592832488441825, 0.029154644609674315, 0...</td>\n",
       "      <td>0</td>\n",
       "      <td>3</td>\n",
       "    </tr>\n",
       "    <tr>\n",
       "      <th>1</th>\n",
       "      <td>False</td>\n",
       "      <td>False</td>\n",
       "      <td>44</td>\n",
       "      <td>23</td>\n",
       "      <td>[SITELINK_ADD, BREAK, SITELINK_ADD, BREAK, SIT...</td>\n",
       "      <td>[Add Sitelink, Break, Add Sitelink, Break, Add...</td>\n",
       "      <td>100012</td>\n",
       "      <td>Kane 14</td>\n",
       "      <td>[0.02586206896551723, 0.025862068965517227, 0....</td>\n",
       "      <td>2</td>\n",
       "      <td>1</td>\n",
       "    </tr>\n",
       "    <tr>\n",
       "      <th>2</th>\n",
       "      <td>False</td>\n",
       "      <td>False</td>\n",
       "      <td>17</td>\n",
       "      <td>12</td>\n",
       "      <td>[LABEL_UPDATE, ALIAS_ADD, BREAK, CLAIM_CREATE,...</td>\n",
       "      <td>[Edit Label, Add Item Alias, Break, Create Cla...</td>\n",
       "      <td>1000197</td>\n",
       "      <td>Zaizone</td>\n",
       "      <td>[0.026205469193709592, 0.07779210211701826, 0....</td>\n",
       "      <td>1</td>\n",
       "      <td>5</td>\n",
       "    </tr>\n",
       "    <tr>\n",
       "      <th>3</th>\n",
       "      <td>False</td>\n",
       "      <td>False</td>\n",
       "      <td>91</td>\n",
       "      <td>82</td>\n",
       "      <td>[SITELINK_UPDATE, BREAK, LABEL_ADD, CLAIM_CREA...</td>\n",
       "      <td>[Edit Sitelink, Break, Add Label, Create Claim...</td>\n",
       "      <td>1001159</td>\n",
       "      <td>Gogo hr</td>\n",
       "      <td>[0.04118566424353361, 0.03162035177772598, 0.0...</td>\n",
       "      <td>0</td>\n",
       "      <td>0</td>\n",
       "    </tr>\n",
       "    <tr>\n",
       "      <th>4</th>\n",
       "      <td>False</td>\n",
       "      <td>False</td>\n",
       "      <td>21</td>\n",
       "      <td>12</td>\n",
       "      <td>[DESCRIPTION_ADD, BREAK, DESCRIPTION_UPDATE, D...</td>\n",
       "      <td>[Add Description, Break, Edit Description, Add...</td>\n",
       "      <td>1001194</td>\n",
       "      <td>Phylosofo</td>\n",
       "      <td>[0.08620689655172406, 0.025862068965517255, 0....</td>\n",
       "      <td>1</td>\n",
       "      <td>7</td>\n",
       "    </tr>\n",
       "  </tbody>\n",
       "</table>\n",
       "</div>"
      ],
      "text/plain": [
       "   bot_name  bot_sequence  length  length_nobreak  \\\n",
       "0     False         False    1517            1385   \n",
       "1     False         False      44              23   \n",
       "2     False         False      17              12   \n",
       "3     False         False      91              82   \n",
       "4     False         False      21              12   \n",
       "\n",
       "                                            sequence  \\\n",
       "0  [REVERT_MANUAL, BREAK, CLAIM_CREATE, BREAK, CL...   \n",
       "1  [SITELINK_ADD, BREAK, SITELINK_ADD, BREAK, SIT...   \n",
       "2  [LABEL_UPDATE, ALIAS_ADD, BREAK, CLAIM_CREATE,...   \n",
       "3  [SITELINK_UPDATE, BREAK, LABEL_ADD, CLAIM_CREA...   \n",
       "4  [DESCRIPTION_ADD, BREAK, DESCRIPTION_UPDATE, D...   \n",
       "\n",
       "                                   sequence_readable  user_id  user_name  \\\n",
       "0  [Revert Item, Break, Create Claim, Break, Crea...        1    Hoo man   \n",
       "1  [Add Sitelink, Break, Add Sitelink, Break, Add...   100012    Kane 14   \n",
       "2  [Edit Label, Add Item Alias, Break, Create Cla...  1000197    Zaizone   \n",
       "3  [Edit Sitelink, Break, Add Label, Create Claim...  1001159    Gogo hr   \n",
       "4  [Add Description, Break, Edit Description, Add...  1001194  Phylosofo   \n",
       "\n",
       "                                           stat_dist  kmeans_4  kmeans_8  \n",
       "0  [0.033592832488441825, 0.029154644609674315, 0...         0         3  \n",
       "1  [0.02586206896551723, 0.025862068965517227, 0....         2         1  \n",
       "2  [0.026205469193709592, 0.07779210211701826, 0....         1         5  \n",
       "3  [0.04118566424353361, 0.03162035177772598, 0.0...         0         0  \n",
       "4  [0.08620689655172406, 0.025862068965517255, 0....         1         7  "
      ]
     },
     "execution_count": 7,
     "metadata": {},
     "output_type": "execute_result"
    }
   ],
   "source": [
    "df = pd.read_pickle(sequence_file)\n",
    "df.head()"
   ]
  },
  {
   "cell_type": "code",
   "execution_count": 8,
   "metadata": {},
   "outputs": [],
   "source": [
    "labels = pd.read_pickle(labels_file)['label'].values"
   ]
  },
  {
   "cell_type": "code",
   "execution_count": 23,
   "metadata": {},
   "outputs": [],
   "source": [
    "num_clusters = 8\n",
    "df_selector = \"kmeans_{n}\".format(n=num_clusters)"
   ]
  },
  {
   "cell_type": "code",
   "execution_count": 24,
   "metadata": {},
   "outputs": [],
   "source": [
    "cluster_group = df.groupby(df_selector)"
   ]
  },
  {
   "cell_type": "code",
   "execution_count": 25,
   "metadata": {},
   "outputs": [
    {
     "data": {
      "text/html": [
       "<div>\n",
       "<style scoped>\n",
       "    .dataframe tbody tr th:only-of-type {\n",
       "        vertical-align: middle;\n",
       "    }\n",
       "\n",
       "    .dataframe tbody tr th {\n",
       "        vertical-align: top;\n",
       "    }\n",
       "\n",
       "    .dataframe thead th {\n",
       "        text-align: right;\n",
       "    }\n",
       "</style>\n",
       "<table border=\"1\" class=\"dataframe\">\n",
       "  <thead>\n",
       "    <tr style=\"text-align: right;\">\n",
       "      <th></th>\n",
       "      <th>actions_max</th>\n",
       "      <th>actions_mean</th>\n",
       "      <th>actions_median</th>\n",
       "      <th>actions_min</th>\n",
       "      <th>actions_sum</th>\n",
       "      <th>cluster</th>\n",
       "      <th>num_breaks</th>\n",
       "      <th>population</th>\n",
       "    </tr>\n",
       "  </thead>\n",
       "  <tbody>\n",
       "    <tr>\n",
       "      <th>0</th>\n",
       "      <td>1078290</td>\n",
       "      <td>5500.620969</td>\n",
       "      <td>42.0</td>\n",
       "      <td>10</td>\n",
       "      <td>33944332</td>\n",
       "      <td>0</td>\n",
       "      <td>595116</td>\n",
       "      <td>6171</td>\n",
       "    </tr>\n",
       "    <tr>\n",
       "      <th>1</th>\n",
       "      <td>15542</td>\n",
       "      <td>177.263363</td>\n",
       "      <td>39.0</td>\n",
       "      <td>10</td>\n",
       "      <td>1591825</td>\n",
       "      <td>1</td>\n",
       "      <td>894356</td>\n",
       "      <td>8980</td>\n",
       "    </tr>\n",
       "    <tr>\n",
       "      <th>2</th>\n",
       "      <td>1574515</td>\n",
       "      <td>4146.505503</td>\n",
       "      <td>24.0</td>\n",
       "      <td>10</td>\n",
       "      <td>11303374</td>\n",
       "      <td>2</td>\n",
       "      <td>226571</td>\n",
       "      <td>2726</td>\n",
       "    </tr>\n",
       "    <tr>\n",
       "      <th>3</th>\n",
       "      <td>1098458</td>\n",
       "      <td>2908.146329</td>\n",
       "      <td>51.0</td>\n",
       "      <td>10</td>\n",
       "      <td>17350001</td>\n",
       "      <td>3</td>\n",
       "      <td>621802</td>\n",
       "      <td>5966</td>\n",
       "    </tr>\n",
       "    <tr>\n",
       "      <th>4</th>\n",
       "      <td>16405</td>\n",
       "      <td>154.283611</td>\n",
       "      <td>28.0</td>\n",
       "      <td>10</td>\n",
       "      <td>639197</td>\n",
       "      <td>4</td>\n",
       "      <td>225239</td>\n",
       "      <td>4143</td>\n",
       "    </tr>\n",
       "    <tr>\n",
       "      <th>5</th>\n",
       "      <td>58090</td>\n",
       "      <td>336.568340</td>\n",
       "      <td>42.0</td>\n",
       "      <td>10</td>\n",
       "      <td>2272846</td>\n",
       "      <td>5</td>\n",
       "      <td>543182</td>\n",
       "      <td>6753</td>\n",
       "    </tr>\n",
       "    <tr>\n",
       "      <th>6</th>\n",
       "      <td>86583</td>\n",
       "      <td>1048.192671</td>\n",
       "      <td>52.0</td>\n",
       "      <td>10</td>\n",
       "      <td>1773542</td>\n",
       "      <td>6</td>\n",
       "      <td>267967</td>\n",
       "      <td>1692</td>\n",
       "    </tr>\n",
       "    <tr>\n",
       "      <th>7</th>\n",
       "      <td>859179</td>\n",
       "      <td>2011.364865</td>\n",
       "      <td>23.0</td>\n",
       "      <td>10</td>\n",
       "      <td>4018707</td>\n",
       "      <td>7</td>\n",
       "      <td>75252</td>\n",
       "      <td>1998</td>\n",
       "    </tr>\n",
       "  </tbody>\n",
       "</table>\n",
       "</div>"
      ],
      "text/plain": [
       "   actions_max  actions_mean  actions_median  actions_min  actions_sum  \\\n",
       "0      1078290   5500.620969            42.0           10     33944332   \n",
       "1        15542    177.263363            39.0           10      1591825   \n",
       "2      1574515   4146.505503            24.0           10     11303374   \n",
       "3      1098458   2908.146329            51.0           10     17350001   \n",
       "4        16405    154.283611            28.0           10       639197   \n",
       "5        58090    336.568340            42.0           10      2272846   \n",
       "6        86583   1048.192671            52.0           10      1773542   \n",
       "7       859179   2011.364865            23.0           10      4018707   \n",
       "\n",
       "   cluster  num_breaks  population  \n",
       "0        0      595116        6171  \n",
       "1        1      894356        8980  \n",
       "2        2      226571        2726  \n",
       "3        3      621802        5966  \n",
       "4        4      225239        4143  \n",
       "5        5      543182        6753  \n",
       "6        6      267967        1692  \n",
       "7        7       75252        1998  "
      ]
     },
     "execution_count": 25,
     "metadata": {},
     "output_type": "execute_result"
    }
   ],
   "source": [
    "results = []\n",
    "for i, g in cluster_group:\n",
    "    actions_break = g[\"length\"]\n",
    "    actions = g[\"length_nobreak\"]\n",
    "    res = {\n",
    "        \"cluster\": i,\n",
    "        \"population\": len(g),\n",
    "        \"actions_sum\": actions.sum(),\n",
    "        \"actions_mean\": actions.mean(),\n",
    "        \"actions_median\": actions.median(),\n",
    "        \"actions_max\": actions.max(),\n",
    "        \"actions_min\": actions.min(),\n",
    "        \"num_breaks\": actions_break.sum() - actions.sum()\n",
    "    }\n",
    "    \n",
    "    #for i, r in g.iterrows():\n",
    "    #    if len(r['sequence']) == actions.max():\n",
    "    #        print(r[\"user_id\"])\n",
    "    results.append(res)\n",
    "    \n",
    "df_res = pd.DataFrame(results)\n",
    "df_res"
   ]
  },
  {
   "cell_type": "code",
   "execution_count": 26,
   "metadata": {},
   "outputs": [
    {
     "data": {
      "text/plain": [
       "38429"
      ]
     },
     "execution_count": 26,
     "metadata": {},
     "output_type": "execute_result"
    }
   ],
   "source": [
    "df_res[\"population\"].sum()"
   ]
  },
  {
   "cell_type": "code",
   "execution_count": null,
   "metadata": {},
   "outputs": [],
   "source": []
  }
 ],
 "metadata": {
  "kernelspec": {
   "display_name": "Python 3",
   "language": "python",
   "name": "python3"
  },
  "language_info": {
   "codemirror_mode": {
    "name": "ipython",
    "version": 3
   },
   "file_extension": ".py",
   "mimetype": "text/x-python",
   "name": "python",
   "nbconvert_exporter": "python",
   "pygments_lexer": "ipython3",
   "version": "3.7.1"
  }
 },
 "nbformat": 4,
 "nbformat_minor": 2
}
