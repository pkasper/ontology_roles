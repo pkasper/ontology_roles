{
 "cells": [
  {
   "cell_type": "code",
   "execution_count": 1,
   "metadata": {},
   "outputs": [],
   "source": [
    "%load_ext autoreload\n",
    "%autoreload 2"
   ]
  },
  {
   "cell_type": "code",
   "execution_count": 2,
   "metadata": {},
   "outputs": [],
   "source": [
    "import os\n",
    "import numpy as np\n",
    "import pandas as pd"
   ]
  },
  {
   "cell_type": "code",
   "execution_count": 3,
   "metadata": {},
   "outputs": [],
   "source": [
    "import lib\n",
    "import plotting"
   ]
  },
  {
   "cell_type": "code",
   "execution_count": 40,
   "metadata": {},
   "outputs": [],
   "source": [
    "from multiprocessing import Pool\n",
    "import pickle\n",
    "from collections import defaultdict\n",
    "import itertools"
   ]
  },
  {
   "cell_type": "code",
   "execution_count": 5,
   "metadata": {},
   "outputs": [],
   "source": [
    "from sklearn.cluster import KMeans\n",
    "from sklearn.metrics import silhouette_samples, silhouette_score, calinski_harabaz_score\n",
    "from sklearn.decomposition import PCA"
   ]
  },
  {
   "cell_type": "code",
   "execution_count": 6,
   "metadata": {},
   "outputs": [
    {
     "data": {
      "text/plain": [
       "['config.cfg']"
      ]
     },
     "execution_count": 6,
     "metadata": {},
     "output_type": "execute_result"
    }
   ],
   "source": [
    "from configparser import ConfigParser\n",
    "cfg = ConfigParser()\n",
    "cfg.read(\"config.cfg\")"
   ]
  },
  {
   "cell_type": "code",
   "execution_count": 7,
   "metadata": {},
   "outputs": [],
   "source": [
    "from tqdm._tqdm_notebook import tqdm_notebook as tqdm # we manually import the notebook submodule as the normal one struggles with jupyterlab\n",
    "tqdm.pandas() # this enables us to use progress_apply instead of apply"
   ]
  },
  {
   "cell_type": "code",
   "execution_count": 8,
   "metadata": {},
   "outputs": [
    {
     "data": {
      "text/plain": [
       "'[WIKIDATA_10]'"
      ]
     },
     "execution_count": 8,
     "metadata": {},
     "output_type": "execute_result"
    }
   ],
   "source": [
    "results_prefix = cfg.get(\"results\", \"prefix\")\n",
    "\n",
    "sequence_file = os.path.join(cfg.get(\"directory\", \"exchange\"), results_prefix + \"001_clustering.p\")\n",
    "labels_file = os.path.join(cfg.get(\"directory\", \"exchange\"), \"[wikidata]004_labels_readable.p\")\n",
    "results_prefix"
   ]
  },
  {
   "cell_type": "code",
   "execution_count": 9,
   "metadata": {},
   "outputs": [
    {
     "data": {
      "text/html": [
       "<div>\n",
       "<style scoped>\n",
       "    .dataframe tbody tr th:only-of-type {\n",
       "        vertical-align: middle;\n",
       "    }\n",
       "\n",
       "    .dataframe tbody tr th {\n",
       "        vertical-align: top;\n",
       "    }\n",
       "\n",
       "    .dataframe thead th {\n",
       "        text-align: right;\n",
       "    }\n",
       "</style>\n",
       "<table border=\"1\" class=\"dataframe\">\n",
       "  <thead>\n",
       "    <tr style=\"text-align: right;\">\n",
       "      <th></th>\n",
       "      <th>bot_name</th>\n",
       "      <th>bot_sequence</th>\n",
       "      <th>length</th>\n",
       "      <th>length_nobreak</th>\n",
       "      <th>sequence</th>\n",
       "      <th>sequence_readable</th>\n",
       "      <th>user_id</th>\n",
       "      <th>user_name</th>\n",
       "      <th>stat_dist</th>\n",
       "      <th>kmeans_4</th>\n",
       "      <th>kmeans_8</th>\n",
       "    </tr>\n",
       "  </thead>\n",
       "  <tbody>\n",
       "    <tr>\n",
       "      <th>0</th>\n",
       "      <td>False</td>\n",
       "      <td>False</td>\n",
       "      <td>1517</td>\n",
       "      <td>1385</td>\n",
       "      <td>[REVERT_MANUAL, BREAK, CLAIM_CREATE, BREAK, CL...</td>\n",
       "      <td>[Revert Item, Break, Create Claim, Break, Crea...</td>\n",
       "      <td>1</td>\n",
       "      <td>Hoo man</td>\n",
       "      <td>[0.033592832488441825, 0.029154644609674315, 0...</td>\n",
       "      <td>0</td>\n",
       "      <td>3</td>\n",
       "    </tr>\n",
       "    <tr>\n",
       "      <th>1</th>\n",
       "      <td>False</td>\n",
       "      <td>False</td>\n",
       "      <td>44</td>\n",
       "      <td>23</td>\n",
       "      <td>[SITELINK_ADD, BREAK, SITELINK_ADD, BREAK, SIT...</td>\n",
       "      <td>[Add Sitelink, Break, Add Sitelink, Break, Add...</td>\n",
       "      <td>100012</td>\n",
       "      <td>Kane 14</td>\n",
       "      <td>[0.02586206896551723, 0.025862068965517227, 0....</td>\n",
       "      <td>2</td>\n",
       "      <td>1</td>\n",
       "    </tr>\n",
       "    <tr>\n",
       "      <th>2</th>\n",
       "      <td>False</td>\n",
       "      <td>False</td>\n",
       "      <td>17</td>\n",
       "      <td>12</td>\n",
       "      <td>[LABEL_UPDATE, ALIAS_ADD, BREAK, CLAIM_CREATE,...</td>\n",
       "      <td>[Edit Label, Add Item Alias, Break, Create Cla...</td>\n",
       "      <td>1000197</td>\n",
       "      <td>Zaizone</td>\n",
       "      <td>[0.026205469193709592, 0.07779210211701826, 0....</td>\n",
       "      <td>1</td>\n",
       "      <td>5</td>\n",
       "    </tr>\n",
       "    <tr>\n",
       "      <th>3</th>\n",
       "      <td>False</td>\n",
       "      <td>False</td>\n",
       "      <td>91</td>\n",
       "      <td>82</td>\n",
       "      <td>[SITELINK_UPDATE, BREAK, LABEL_ADD, CLAIM_CREA...</td>\n",
       "      <td>[Edit Sitelink, Break, Add Label, Create Claim...</td>\n",
       "      <td>1001159</td>\n",
       "      <td>Gogo hr</td>\n",
       "      <td>[0.04118566424353361, 0.03162035177772598, 0.0...</td>\n",
       "      <td>0</td>\n",
       "      <td>0</td>\n",
       "    </tr>\n",
       "    <tr>\n",
       "      <th>4</th>\n",
       "      <td>False</td>\n",
       "      <td>False</td>\n",
       "      <td>21</td>\n",
       "      <td>12</td>\n",
       "      <td>[DESCRIPTION_ADD, BREAK, DESCRIPTION_UPDATE, D...</td>\n",
       "      <td>[Add Description, Break, Edit Description, Add...</td>\n",
       "      <td>1001194</td>\n",
       "      <td>Phylosofo</td>\n",
       "      <td>[0.08620689655172406, 0.025862068965517255, 0....</td>\n",
       "      <td>1</td>\n",
       "      <td>7</td>\n",
       "    </tr>\n",
       "  </tbody>\n",
       "</table>\n",
       "</div>"
      ],
      "text/plain": [
       "   bot_name  bot_sequence  length  length_nobreak  \\\n",
       "0     False         False    1517            1385   \n",
       "1     False         False      44              23   \n",
       "2     False         False      17              12   \n",
       "3     False         False      91              82   \n",
       "4     False         False      21              12   \n",
       "\n",
       "                                            sequence  \\\n",
       "0  [REVERT_MANUAL, BREAK, CLAIM_CREATE, BREAK, CL...   \n",
       "1  [SITELINK_ADD, BREAK, SITELINK_ADD, BREAK, SIT...   \n",
       "2  [LABEL_UPDATE, ALIAS_ADD, BREAK, CLAIM_CREATE,...   \n",
       "3  [SITELINK_UPDATE, BREAK, LABEL_ADD, CLAIM_CREA...   \n",
       "4  [DESCRIPTION_ADD, BREAK, DESCRIPTION_UPDATE, D...   \n",
       "\n",
       "                                   sequence_readable  user_id  user_name  \\\n",
       "0  [Revert Item, Break, Create Claim, Break, Crea...        1    Hoo man   \n",
       "1  [Add Sitelink, Break, Add Sitelink, Break, Add...   100012    Kane 14   \n",
       "2  [Edit Label, Add Item Alias, Break, Create Cla...  1000197    Zaizone   \n",
       "3  [Edit Sitelink, Break, Add Label, Create Claim...  1001159    Gogo hr   \n",
       "4  [Add Description, Break, Edit Description, Add...  1001194  Phylosofo   \n",
       "\n",
       "                                           stat_dist  kmeans_4  kmeans_8  \n",
       "0  [0.033592832488441825, 0.029154644609674315, 0...         0         3  \n",
       "1  [0.02586206896551723, 0.025862068965517227, 0....         2         1  \n",
       "2  [0.026205469193709592, 0.07779210211701826, 0....         1         5  \n",
       "3  [0.04118566424353361, 0.03162035177772598, 0.0...         0         0  \n",
       "4  [0.08620689655172406, 0.025862068965517255, 0....         1         7  "
      ]
     },
     "execution_count": 9,
     "metadata": {},
     "output_type": "execute_result"
    }
   ],
   "source": [
    "df = pd.read_pickle(sequence_file)\n",
    "labels = pd.read_pickle(labels_file)['label'].values\n",
    "df.head()"
   ]
  },
  {
   "cell_type": "code",
   "execution_count": 10,
   "metadata": {},
   "outputs": [
    {
     "data": {
      "text/plain": [
       "array(['Add Description', 'Add Item Alias', 'Add Label', 'Add Qualifier',\n",
       "       'Add Reference', 'Add Sitelink', 'Break', 'Create Claim',\n",
       "       'Create Item', 'Create Property', 'Edit Alias', 'Edit Claim',\n",
       "       'Edit Claim Value', 'Edit Description', 'Edit Item', 'Edit Label',\n",
       "       'Edit Qualifier', 'Edit Reference', 'Edit Sitelink', 'Merge Items',\n",
       "       'Override Item', 'Protect Item', 'Redirect Item', 'Remove Alias',\n",
       "       'Remove Claim', 'Remove Description', 'Remove Item',\n",
       "       'Remove Label', 'Remove Qualifier', 'Remove Reference',\n",
       "       'Remove Sitelink', 'Revert Item'], dtype=object)"
      ]
     },
     "execution_count": 10,
     "metadata": {},
     "output_type": "execute_result"
    }
   ],
   "source": [
    "labels"
   ]
  },
  {
   "cell_type": "code",
   "execution_count": 11,
   "metadata": {},
   "outputs": [],
   "source": [
    "num_chunks = cfg.getint(\"kmeans\", \"num_temporal_chunks\")\n",
    "\n",
    "def calc_dist_chunked(sequence):\n",
    "    dist_dict = {}\n",
    "    chunk_length = len(sequence) // 3\n",
    "    for chunk_index in range(num_chunks):\n",
    "        dist, pivot = lib.calc_distribution(labels.copy(), sequence[chunk_index*chunk_length:(chunk_index+1)*chunk_length])\n",
    "        dist_dict[\"stat_dist_chunk_{i}\".format(i=int(chunk_index))] = np.array(dist)\n",
    "    return dist_dict"
   ]
  },
  {
   "cell_type": "raw",
   "metadata": {},
   "source": [
    "#not running smooth\n",
    "with Pool(cfg.getint(\"core\", \"num_cores\")) as processor_pool:\n",
    "    stat_dists = processor_pool.map(calc_dist_chunked, tqdm(df['sequence_readable']))"
   ]
  },
  {
   "cell_type": "code",
   "execution_count": 12,
   "metadata": {},
   "outputs": [
    {
     "data": {
      "application/vnd.jupyter.widget-view+json": {
       "model_id": "23c07cd072244ae288a6732d9476c0ca",
       "version_major": 2,
       "version_minor": 0
      },
      "text/plain": [
       "HBox(children=(IntProgress(value=0, max=38429), HTML(value='')))"
      ]
     },
     "metadata": {},
     "output_type": "display_data"
    },
    {
     "name": "stdout",
     "output_type": "stream",
     "text": [
      "\n"
     ]
    }
   ],
   "source": [
    "stat_dists = df['sequence_readable'].progress_apply(calc_dist_chunked)"
   ]
  },
  {
   "cell_type": "code",
   "execution_count": 14,
   "metadata": {},
   "outputs": [
    {
     "data": {
      "text/plain": [
       "{'stat_dist_chunk_0': array([0.03271298, 0.02827704, 0.03272996, 0.09368902, 0.02588348,\n",
       "        0.02588348, 0.03102848, 0.1000217 , 0.02588348, 0.02588348,\n",
       "        0.02622596, 0.0272497 , 0.02588348, 0.02656818, 0.02588348,\n",
       "        0.02827694, 0.02588348, 0.02588348, 0.02588348, 0.02588348,\n",
       "        0.02588348, 0.02588348, 0.02588348, 0.02588348, 0.02623006,\n",
       "        0.02588348, 0.02588348, 0.02588348, 0.02588348, 0.02588348,\n",
       "        0.02588348, 0.02932041]),\n",
       " 'stat_dist_chunk_1': array([0.02824608, 0.02687825, 0.02927138, 0.03202873, 0.02585605,\n",
       "        0.02654063, 0.02995688, 0.13859851, 0.02585605, 0.02585605,\n",
       "        0.02585605, 0.02585605, 0.02585605, 0.02585605, 0.02585605,\n",
       "        0.02619806, 0.02585605, 0.02585605, 0.02585605, 0.02585605,\n",
       "        0.02585605, 0.02688209, 0.02585605, 0.02585605, 0.05767422,\n",
       "        0.02585605, 0.02585605, 0.02585605, 0.02585605, 0.02585605,\n",
       "        0.02585605, 0.03474808]),\n",
       " 'stat_dist_chunk_2': array([0.03988899, 0.03203837, 0.04127846, 0.02586804, 0.02586804,\n",
       "        0.02859262, 0.06142953, 0.04772957, 0.02655167, 0.02586804,\n",
       "        0.02689247, 0.03713794, 0.02586804, 0.02928226, 0.02621032,\n",
       "        0.02758271, 0.02586804, 0.02586804, 0.02586804, 0.03270582,\n",
       "        0.02689408, 0.02654979, 0.02962626, 0.02688993, 0.04327601,\n",
       "        0.02689442, 0.02586804, 0.02655231, 0.02586804, 0.02586804,\n",
       "        0.02723594, 0.05008009])}"
      ]
     },
     "execution_count": 14,
     "metadata": {},
     "output_type": "execute_result"
    }
   ],
   "source": [
    "stat_dists[0]"
   ]
  },
  {
   "cell_type": "code",
   "execution_count": 17,
   "metadata": {},
   "outputs": [
    {
     "data": {
      "text/html": [
       "<div>\n",
       "<style scoped>\n",
       "    .dataframe tbody tr th:only-of-type {\n",
       "        vertical-align: middle;\n",
       "    }\n",
       "\n",
       "    .dataframe tbody tr th {\n",
       "        vertical-align: top;\n",
       "    }\n",
       "\n",
       "    .dataframe thead th {\n",
       "        text-align: right;\n",
       "    }\n",
       "</style>\n",
       "<table border=\"1\" class=\"dataframe\">\n",
       "  <thead>\n",
       "    <tr style=\"text-align: right;\">\n",
       "      <th></th>\n",
       "      <th>stat_dist_chunk_0</th>\n",
       "      <th>stat_dist_chunk_1</th>\n",
       "      <th>stat_dist_chunk_2</th>\n",
       "    </tr>\n",
       "  </thead>\n",
       "  <tbody>\n",
       "    <tr>\n",
       "      <th>0</th>\n",
       "      <td>[0.03271298404929652, 0.028277042858212108, 0....</td>\n",
       "      <td>[0.0282460839167121, 0.02687824852974209, 0.02...</td>\n",
       "      <td>[0.039888988479645754, 0.03203837125326975, 0....</td>\n",
       "    </tr>\n",
       "    <tr>\n",
       "      <th>1</th>\n",
       "      <td>[0.02586206896551726, 0.02586206896551724, 0.0...</td>\n",
       "      <td>[0.02588503236461467, 0.02588503236461472, 0.0...</td>\n",
       "      <td>[0.025885032364614688, 0.02588503236461469, 0....</td>\n",
       "    </tr>\n",
       "    <tr>\n",
       "      <th>2</th>\n",
       "      <td>[0.027836504580690636, 0.050739957716701874, 0...</td>\n",
       "      <td>[0.02866099417823558, 0.06448723690102993, 0.0...</td>\n",
       "      <td>[0.025862068965517227, 0.025862068965517234, 0...</td>\n",
       "    </tr>\n",
       "    <tr>\n",
       "      <th>3</th>\n",
       "      <td>[0.042818893056000604, 0.025938600582565308, 0...</td>\n",
       "      <td>[0.0377526753864447, 0.025862068965517265, 0.0...</td>\n",
       "      <td>[0.04342765868267035, 0.04416192004726148, 0.0...</td>\n",
       "    </tr>\n",
       "    <tr>\n",
       "      <th>4</th>\n",
       "      <td>[0.09522673906662768, 0.02606765482829466, 0.0...</td>\n",
       "      <td>[0.11767772941603226, 0.02541258614435979, 0.0...</td>\n",
       "      <td>[0.05989330746847721, 0.02586206896551724, 0.0...</td>\n",
       "    </tr>\n",
       "  </tbody>\n",
       "</table>\n",
       "</div>"
      ],
      "text/plain": [
       "                                   stat_dist_chunk_0  \\\n",
       "0  [0.03271298404929652, 0.028277042858212108, 0....   \n",
       "1  [0.02586206896551726, 0.02586206896551724, 0.0...   \n",
       "2  [0.027836504580690636, 0.050739957716701874, 0...   \n",
       "3  [0.042818893056000604, 0.025938600582565308, 0...   \n",
       "4  [0.09522673906662768, 0.02606765482829466, 0.0...   \n",
       "\n",
       "                                   stat_dist_chunk_1  \\\n",
       "0  [0.0282460839167121, 0.02687824852974209, 0.02...   \n",
       "1  [0.02588503236461467, 0.02588503236461472, 0.0...   \n",
       "2  [0.02866099417823558, 0.06448723690102993, 0.0...   \n",
       "3  [0.0377526753864447, 0.025862068965517265, 0.0...   \n",
       "4  [0.11767772941603226, 0.02541258614435979, 0.0...   \n",
       "\n",
       "                                   stat_dist_chunk_2  \n",
       "0  [0.039888988479645754, 0.03203837125326975, 0....  \n",
       "1  [0.025885032364614688, 0.02588503236461469, 0....  \n",
       "2  [0.025862068965517227, 0.025862068965517234, 0...  \n",
       "3  [0.04342765868267035, 0.04416192004726148, 0.0...  \n",
       "4  [0.05989330746847721, 0.02586206896551724, 0.0...  "
      ]
     },
     "execution_count": 17,
     "metadata": {},
     "output_type": "execute_result"
    }
   ],
   "source": [
    "df_stat_dists = pd.DataFrame.from_records(stat_dists)\n",
    "df_stat_dists.head()"
   ]
  },
  {
   "cell_type": "code",
   "execution_count": 20,
   "metadata": {},
   "outputs": [
    {
     "data": {
      "text/html": [
       "<div>\n",
       "<style scoped>\n",
       "    .dataframe tbody tr th:only-of-type {\n",
       "        vertical-align: middle;\n",
       "    }\n",
       "\n",
       "    .dataframe tbody tr th {\n",
       "        vertical-align: top;\n",
       "    }\n",
       "\n",
       "    .dataframe thead th {\n",
       "        text-align: right;\n",
       "    }\n",
       "</style>\n",
       "<table border=\"1\" class=\"dataframe\">\n",
       "  <thead>\n",
       "    <tr style=\"text-align: right;\">\n",
       "      <th></th>\n",
       "      <th>bot_name</th>\n",
       "      <th>bot_sequence</th>\n",
       "      <th>length</th>\n",
       "      <th>length_nobreak</th>\n",
       "      <th>sequence</th>\n",
       "      <th>sequence_readable</th>\n",
       "      <th>user_id</th>\n",
       "      <th>user_name</th>\n",
       "      <th>stat_dist</th>\n",
       "      <th>kmeans_4</th>\n",
       "      <th>kmeans_8</th>\n",
       "      <th>stat_dist_chunk_0</th>\n",
       "      <th>stat_dist_chunk_1</th>\n",
       "      <th>stat_dist_chunk_2</th>\n",
       "    </tr>\n",
       "  </thead>\n",
       "  <tbody>\n",
       "    <tr>\n",
       "      <th>0</th>\n",
       "      <td>False</td>\n",
       "      <td>False</td>\n",
       "      <td>1517</td>\n",
       "      <td>1385</td>\n",
       "      <td>[REVERT_MANUAL, BREAK, CLAIM_CREATE, BREAK, CL...</td>\n",
       "      <td>[Revert Item, Break, Create Claim, Break, Crea...</td>\n",
       "      <td>1</td>\n",
       "      <td>Hoo man</td>\n",
       "      <td>[0.033592832488441825, 0.029154644609674315, 0...</td>\n",
       "      <td>0</td>\n",
       "      <td>3</td>\n",
       "      <td>[0.03271298404929652, 0.028277042858212108, 0....</td>\n",
       "      <td>[0.0282460839167121, 0.02687824852974209, 0.02...</td>\n",
       "      <td>[0.039888988479645754, 0.03203837125326975, 0....</td>\n",
       "    </tr>\n",
       "    <tr>\n",
       "      <th>1</th>\n",
       "      <td>False</td>\n",
       "      <td>False</td>\n",
       "      <td>44</td>\n",
       "      <td>23</td>\n",
       "      <td>[SITELINK_ADD, BREAK, SITELINK_ADD, BREAK, SIT...</td>\n",
       "      <td>[Add Sitelink, Break, Add Sitelink, Break, Add...</td>\n",
       "      <td>100012</td>\n",
       "      <td>Kane 14</td>\n",
       "      <td>[0.02586206896551723, 0.025862068965517227, 0....</td>\n",
       "      <td>2</td>\n",
       "      <td>1</td>\n",
       "      <td>[0.02586206896551726, 0.02586206896551724, 0.0...</td>\n",
       "      <td>[0.02588503236461467, 0.02588503236461472, 0.0...</td>\n",
       "      <td>[0.025885032364614688, 0.02588503236461469, 0....</td>\n",
       "    </tr>\n",
       "    <tr>\n",
       "      <th>2</th>\n",
       "      <td>False</td>\n",
       "      <td>False</td>\n",
       "      <td>17</td>\n",
       "      <td>12</td>\n",
       "      <td>[LABEL_UPDATE, ALIAS_ADD, BREAK, CLAIM_CREATE,...</td>\n",
       "      <td>[Edit Label, Add Item Alias, Break, Create Cla...</td>\n",
       "      <td>1000197</td>\n",
       "      <td>Zaizone</td>\n",
       "      <td>[0.026205469193709592, 0.07779210211701826, 0....</td>\n",
       "      <td>1</td>\n",
       "      <td>5</td>\n",
       "      <td>[0.027836504580690636, 0.050739957716701874, 0...</td>\n",
       "      <td>[0.02866099417823558, 0.06448723690102993, 0.0...</td>\n",
       "      <td>[0.025862068965517227, 0.025862068965517234, 0...</td>\n",
       "    </tr>\n",
       "    <tr>\n",
       "      <th>3</th>\n",
       "      <td>False</td>\n",
       "      <td>False</td>\n",
       "      <td>91</td>\n",
       "      <td>82</td>\n",
       "      <td>[SITELINK_UPDATE, BREAK, LABEL_ADD, CLAIM_CREA...</td>\n",
       "      <td>[Edit Sitelink, Break, Add Label, Create Claim...</td>\n",
       "      <td>1001159</td>\n",
       "      <td>Gogo hr</td>\n",
       "      <td>[0.04118566424353361, 0.03162035177772598, 0.0...</td>\n",
       "      <td>0</td>\n",
       "      <td>0</td>\n",
       "      <td>[0.042818893056000604, 0.025938600582565308, 0...</td>\n",
       "      <td>[0.0377526753864447, 0.025862068965517265, 0.0...</td>\n",
       "      <td>[0.04342765868267035, 0.04416192004726148, 0.0...</td>\n",
       "    </tr>\n",
       "    <tr>\n",
       "      <th>4</th>\n",
       "      <td>False</td>\n",
       "      <td>False</td>\n",
       "      <td>21</td>\n",
       "      <td>12</td>\n",
       "      <td>[DESCRIPTION_ADD, BREAK, DESCRIPTION_UPDATE, D...</td>\n",
       "      <td>[Add Description, Break, Edit Description, Add...</td>\n",
       "      <td>1001194</td>\n",
       "      <td>Phylosofo</td>\n",
       "      <td>[0.08620689655172406, 0.025862068965517255, 0....</td>\n",
       "      <td>1</td>\n",
       "      <td>7</td>\n",
       "      <td>[0.09522673906662768, 0.02606765482829466, 0.0...</td>\n",
       "      <td>[0.11767772941603226, 0.02541258614435979, 0.0...</td>\n",
       "      <td>[0.05989330746847721, 0.02586206896551724, 0.0...</td>\n",
       "    </tr>\n",
       "  </tbody>\n",
       "</table>\n",
       "</div>"
      ],
      "text/plain": [
       "   bot_name  bot_sequence  length  length_nobreak  \\\n",
       "0     False         False    1517            1385   \n",
       "1     False         False      44              23   \n",
       "2     False         False      17              12   \n",
       "3     False         False      91              82   \n",
       "4     False         False      21              12   \n",
       "\n",
       "                                            sequence  \\\n",
       "0  [REVERT_MANUAL, BREAK, CLAIM_CREATE, BREAK, CL...   \n",
       "1  [SITELINK_ADD, BREAK, SITELINK_ADD, BREAK, SIT...   \n",
       "2  [LABEL_UPDATE, ALIAS_ADD, BREAK, CLAIM_CREATE,...   \n",
       "3  [SITELINK_UPDATE, BREAK, LABEL_ADD, CLAIM_CREA...   \n",
       "4  [DESCRIPTION_ADD, BREAK, DESCRIPTION_UPDATE, D...   \n",
       "\n",
       "                                   sequence_readable  user_id  user_name  \\\n",
       "0  [Revert Item, Break, Create Claim, Break, Crea...        1    Hoo man   \n",
       "1  [Add Sitelink, Break, Add Sitelink, Break, Add...   100012    Kane 14   \n",
       "2  [Edit Label, Add Item Alias, Break, Create Cla...  1000197    Zaizone   \n",
       "3  [Edit Sitelink, Break, Add Label, Create Claim...  1001159    Gogo hr   \n",
       "4  [Add Description, Break, Edit Description, Add...  1001194  Phylosofo   \n",
       "\n",
       "                                           stat_dist  kmeans_4  kmeans_8  \\\n",
       "0  [0.033592832488441825, 0.029154644609674315, 0...         0         3   \n",
       "1  [0.02586206896551723, 0.025862068965517227, 0....         2         1   \n",
       "2  [0.026205469193709592, 0.07779210211701826, 0....         1         5   \n",
       "3  [0.04118566424353361, 0.03162035177772598, 0.0...         0         0   \n",
       "4  [0.08620689655172406, 0.025862068965517255, 0....         1         7   \n",
       "\n",
       "                                   stat_dist_chunk_0  \\\n",
       "0  [0.03271298404929652, 0.028277042858212108, 0....   \n",
       "1  [0.02586206896551726, 0.02586206896551724, 0.0...   \n",
       "2  [0.027836504580690636, 0.050739957716701874, 0...   \n",
       "3  [0.042818893056000604, 0.025938600582565308, 0...   \n",
       "4  [0.09522673906662768, 0.02606765482829466, 0.0...   \n",
       "\n",
       "                                   stat_dist_chunk_1  \\\n",
       "0  [0.0282460839167121, 0.02687824852974209, 0.02...   \n",
       "1  [0.02588503236461467, 0.02588503236461472, 0.0...   \n",
       "2  [0.02866099417823558, 0.06448723690102993, 0.0...   \n",
       "3  [0.0377526753864447, 0.025862068965517265, 0.0...   \n",
       "4  [0.11767772941603226, 0.02541258614435979, 0.0...   \n",
       "\n",
       "                                   stat_dist_chunk_2  \n",
       "0  [0.039888988479645754, 0.03203837125326975, 0....  \n",
       "1  [0.025885032364614688, 0.02588503236461469, 0....  \n",
       "2  [0.025862068965517227, 0.025862068965517234, 0...  \n",
       "3  [0.04342765868267035, 0.04416192004726148, 0.0...  \n",
       "4  [0.05989330746847721, 0.02586206896551724, 0.0...  "
      ]
     },
     "execution_count": 20,
     "metadata": {},
     "output_type": "execute_result"
    }
   ],
   "source": [
    "df_combined = pd.concat([df, df_stat_dists], axis=1)\n",
    "df_combined.head()"
   ]
  },
  {
   "cell_type": "code",
   "execution_count": 45,
   "metadata": {},
   "outputs": [
    {
     "name": "stderr",
     "output_type": "stream",
     "text": [
      "/home/pkasper/python/Python-3.7.1/lib/python3.7/site-packages/sklearn/cluster/k_means_.py:971: RuntimeWarning:\n",
      "\n",
      "Explicit initial center position passed: performing only one init in k-means instead of n_init=10\n",
      "\n"
     ]
    },
    {
     "data": {
      "text/plain": [
       "True"
      ]
     },
     "execution_count": 45,
     "metadata": {},
     "output_type": "execute_result"
    }
   ],
   "source": [
    "centroids_file = os.path.join(cfg.get(\"directory\", \"exchange\"), results_prefix + \"001_centroids.p\")\n",
    "with open(centroids_file, \"rb\") as dump_file:\n",
    "    centroids = pickle.load(dump_file)\n",
    "        \n",
    "num_centroids = 4 # change if needed\n",
    "\n",
    "# quickly fit with the data we already have and one iteration, as we know it already converged.\n",
    "kmeans = KMeans(n_clusters=num_centroids, init=centroids[num_centroids], max_iter=1)\n",
    "base_vectors =  np.array([np.array(x) for x in df_combined['stat_dist'].values])\n",
    "kmeans.fit(base_vectors)\n",
    "\n",
    "# Check to make sure the centroids did not move. We use isclose to account for rounding errors that start to happen\n",
    "np.all(np.isclose(centroids[num_centroids][0],kmeans.cluster_centers_[0]))"
   ]
  },
  {
   "cell_type": "code",
   "execution_count": 48,
   "metadata": {},
   "outputs": [
    {
     "data": {
      "application/vnd.jupyter.widget-view+json": {
       "model_id": "8a05c6b0784d4c598602215fa9d40c84",
       "version_major": 2,
       "version_minor": 0
      },
      "text/plain": [
       "HBox(children=(IntProgress(value=0, max=3), HTML(value='')))"
      ]
     },
     "metadata": {},
     "output_type": "display_data"
    },
    {
     "name": "stdout",
     "output_type": "stream",
     "text": [
      "\n"
     ]
    }
   ],
   "source": [
    "for chunk_index in tqdm(range(num_chunks)):\n",
    "    vectors = np.array([np.array(x) for x in df_combined[\"stat_dist_chunk_{i}\".format(i=int(chunk_index))].values])\n",
    "    df_combined[\"kmeans_chunk_{i}\".format(i=int(chunk_index))] = kmeans.predict(vectors)"
   ]
  },
  {
   "cell_type": "code",
   "execution_count": 63,
   "metadata": {},
   "outputs": [],
   "source": [
    "# store load trick to avoid redoing the chunked stat dist calc"
   ]
  },
  {
   "cell_type": "code",
   "execution_count": 61,
   "metadata": {},
   "outputs": [],
   "source": [
    "df_combined.to_pickle(os.path.join(cfg.get(\"directory\", \"exchange\"), results_prefix + \"002_temporal_analysis.p\"))"
   ]
  },
  {
   "cell_type": "code",
   "execution_count": 13,
   "metadata": {},
   "outputs": [
    {
     "data": {
      "text/html": [
       "<div>\n",
       "<style scoped>\n",
       "    .dataframe tbody tr th:only-of-type {\n",
       "        vertical-align: middle;\n",
       "    }\n",
       "\n",
       "    .dataframe tbody tr th {\n",
       "        vertical-align: top;\n",
       "    }\n",
       "\n",
       "    .dataframe thead th {\n",
       "        text-align: right;\n",
       "    }\n",
       "</style>\n",
       "<table border=\"1\" class=\"dataframe\">\n",
       "  <thead>\n",
       "    <tr style=\"text-align: right;\">\n",
       "      <th></th>\n",
       "      <th>bot_name</th>\n",
       "      <th>bot_sequence</th>\n",
       "      <th>length</th>\n",
       "      <th>length_nobreak</th>\n",
       "      <th>sequence</th>\n",
       "      <th>sequence_readable</th>\n",
       "      <th>user_id</th>\n",
       "      <th>user_name</th>\n",
       "      <th>stat_dist</th>\n",
       "      <th>kmeans_4</th>\n",
       "      <th>kmeans_8</th>\n",
       "      <th>stat_dist_chunk_0</th>\n",
       "      <th>stat_dist_chunk_1</th>\n",
       "      <th>stat_dist_chunk_2</th>\n",
       "      <th>kmeans_chunk_0</th>\n",
       "      <th>kmeans_chunk_1</th>\n",
       "      <th>kmeans_chunk_2</th>\n",
       "    </tr>\n",
       "  </thead>\n",
       "  <tbody>\n",
       "    <tr>\n",
       "      <th>0</th>\n",
       "      <td>False</td>\n",
       "      <td>False</td>\n",
       "      <td>1517</td>\n",
       "      <td>1385</td>\n",
       "      <td>[REVERT_MANUAL, BREAK, CLAIM_CREATE, BREAK, CL...</td>\n",
       "      <td>[Revert Item, Break, Create Claim, Break, Crea...</td>\n",
       "      <td>1</td>\n",
       "      <td>Hoo man</td>\n",
       "      <td>[0.033592832488441825, 0.029154644609674315, 0...</td>\n",
       "      <td>0</td>\n",
       "      <td>3</td>\n",
       "      <td>[0.03271298404929652, 0.028277042858212108, 0....</td>\n",
       "      <td>[0.0282460839167121, 0.02687824852974209, 0.02...</td>\n",
       "      <td>[0.039888988479645754, 0.03203837125326975, 0....</td>\n",
       "      <td>0</td>\n",
       "      <td>0</td>\n",
       "      <td>1</td>\n",
       "    </tr>\n",
       "    <tr>\n",
       "      <th>1</th>\n",
       "      <td>False</td>\n",
       "      <td>False</td>\n",
       "      <td>44</td>\n",
       "      <td>23</td>\n",
       "      <td>[SITELINK_ADD, BREAK, SITELINK_ADD, BREAK, SIT...</td>\n",
       "      <td>[Add Sitelink, Break, Add Sitelink, Break, Add...</td>\n",
       "      <td>100012</td>\n",
       "      <td>Kane 14</td>\n",
       "      <td>[0.02586206896551723, 0.025862068965517227, 0....</td>\n",
       "      <td>2</td>\n",
       "      <td>1</td>\n",
       "      <td>[0.02586206896551726, 0.02586206896551724, 0.0...</td>\n",
       "      <td>[0.02588503236461467, 0.02588503236461472, 0.0...</td>\n",
       "      <td>[0.025885032364614688, 0.02588503236461469, 0....</td>\n",
       "      <td>2</td>\n",
       "      <td>2</td>\n",
       "      <td>2</td>\n",
       "    </tr>\n",
       "    <tr>\n",
       "      <th>2</th>\n",
       "      <td>False</td>\n",
       "      <td>False</td>\n",
       "      <td>17</td>\n",
       "      <td>12</td>\n",
       "      <td>[LABEL_UPDATE, ALIAS_ADD, BREAK, CLAIM_CREATE,...</td>\n",
       "      <td>[Edit Label, Add Item Alias, Break, Create Cla...</td>\n",
       "      <td>1000197</td>\n",
       "      <td>Zaizone</td>\n",
       "      <td>[0.026205469193709592, 0.07779210211701826, 0....</td>\n",
       "      <td>1</td>\n",
       "      <td>5</td>\n",
       "      <td>[0.027836504580690636, 0.050739957716701874, 0...</td>\n",
       "      <td>[0.02866099417823558, 0.06448723690102993, 0.0...</td>\n",
       "      <td>[0.025862068965517227, 0.025862068965517234, 0...</td>\n",
       "      <td>1</td>\n",
       "      <td>1</td>\n",
       "      <td>1</td>\n",
       "    </tr>\n",
       "    <tr>\n",
       "      <th>3</th>\n",
       "      <td>False</td>\n",
       "      <td>False</td>\n",
       "      <td>91</td>\n",
       "      <td>82</td>\n",
       "      <td>[SITELINK_UPDATE, BREAK, LABEL_ADD, CLAIM_CREA...</td>\n",
       "      <td>[Edit Sitelink, Break, Add Label, Create Claim...</td>\n",
       "      <td>1001159</td>\n",
       "      <td>Gogo hr</td>\n",
       "      <td>[0.04118566424353361, 0.03162035177772598, 0.0...</td>\n",
       "      <td>0</td>\n",
       "      <td>0</td>\n",
       "      <td>[0.042818893056000604, 0.025938600582565308, 0...</td>\n",
       "      <td>[0.0377526753864447, 0.025862068965517265, 0.0...</td>\n",
       "      <td>[0.04342765868267035, 0.04416192004726148, 0.0...</td>\n",
       "      <td>0</td>\n",
       "      <td>0</td>\n",
       "      <td>0</td>\n",
       "    </tr>\n",
       "    <tr>\n",
       "      <th>4</th>\n",
       "      <td>False</td>\n",
       "      <td>False</td>\n",
       "      <td>21</td>\n",
       "      <td>12</td>\n",
       "      <td>[DESCRIPTION_ADD, BREAK, DESCRIPTION_UPDATE, D...</td>\n",
       "      <td>[Add Description, Break, Edit Description, Add...</td>\n",
       "      <td>1001194</td>\n",
       "      <td>Phylosofo</td>\n",
       "      <td>[0.08620689655172406, 0.025862068965517255, 0....</td>\n",
       "      <td>1</td>\n",
       "      <td>7</td>\n",
       "      <td>[0.09522673906662768, 0.02606765482829466, 0.0...</td>\n",
       "      <td>[0.11767772941603226, 0.02541258614435979, 0.0...</td>\n",
       "      <td>[0.05989330746847721, 0.02586206896551724, 0.0...</td>\n",
       "      <td>1</td>\n",
       "      <td>1</td>\n",
       "      <td>1</td>\n",
       "    </tr>\n",
       "  </tbody>\n",
       "</table>\n",
       "</div>"
      ],
      "text/plain": [
       "   bot_name  bot_sequence  length  length_nobreak  \\\n",
       "0     False         False    1517            1385   \n",
       "1     False         False      44              23   \n",
       "2     False         False      17              12   \n",
       "3     False         False      91              82   \n",
       "4     False         False      21              12   \n",
       "\n",
       "                                            sequence  \\\n",
       "0  [REVERT_MANUAL, BREAK, CLAIM_CREATE, BREAK, CL...   \n",
       "1  [SITELINK_ADD, BREAK, SITELINK_ADD, BREAK, SIT...   \n",
       "2  [LABEL_UPDATE, ALIAS_ADD, BREAK, CLAIM_CREATE,...   \n",
       "3  [SITELINK_UPDATE, BREAK, LABEL_ADD, CLAIM_CREA...   \n",
       "4  [DESCRIPTION_ADD, BREAK, DESCRIPTION_UPDATE, D...   \n",
       "\n",
       "                                   sequence_readable  user_id  user_name  \\\n",
       "0  [Revert Item, Break, Create Claim, Break, Crea...        1    Hoo man   \n",
       "1  [Add Sitelink, Break, Add Sitelink, Break, Add...   100012    Kane 14   \n",
       "2  [Edit Label, Add Item Alias, Break, Create Cla...  1000197    Zaizone   \n",
       "3  [Edit Sitelink, Break, Add Label, Create Claim...  1001159    Gogo hr   \n",
       "4  [Add Description, Break, Edit Description, Add...  1001194  Phylosofo   \n",
       "\n",
       "                                           stat_dist  kmeans_4  kmeans_8  \\\n",
       "0  [0.033592832488441825, 0.029154644609674315, 0...         0         3   \n",
       "1  [0.02586206896551723, 0.025862068965517227, 0....         2         1   \n",
       "2  [0.026205469193709592, 0.07779210211701826, 0....         1         5   \n",
       "3  [0.04118566424353361, 0.03162035177772598, 0.0...         0         0   \n",
       "4  [0.08620689655172406, 0.025862068965517255, 0....         1         7   \n",
       "\n",
       "                                   stat_dist_chunk_0  \\\n",
       "0  [0.03271298404929652, 0.028277042858212108, 0....   \n",
       "1  [0.02586206896551726, 0.02586206896551724, 0.0...   \n",
       "2  [0.027836504580690636, 0.050739957716701874, 0...   \n",
       "3  [0.042818893056000604, 0.025938600582565308, 0...   \n",
       "4  [0.09522673906662768, 0.02606765482829466, 0.0...   \n",
       "\n",
       "                                   stat_dist_chunk_1  \\\n",
       "0  [0.0282460839167121, 0.02687824852974209, 0.02...   \n",
       "1  [0.02588503236461467, 0.02588503236461472, 0.0...   \n",
       "2  [0.02866099417823558, 0.06448723690102993, 0.0...   \n",
       "3  [0.0377526753864447, 0.025862068965517265, 0.0...   \n",
       "4  [0.11767772941603226, 0.02541258614435979, 0.0...   \n",
       "\n",
       "                                   stat_dist_chunk_2  kmeans_chunk_0  \\\n",
       "0  [0.039888988479645754, 0.03203837125326975, 0....               0   \n",
       "1  [0.025885032364614688, 0.02588503236461469, 0....               2   \n",
       "2  [0.025862068965517227, 0.025862068965517234, 0...               1   \n",
       "3  [0.04342765868267035, 0.04416192004726148, 0.0...               0   \n",
       "4  [0.05989330746847721, 0.02586206896551724, 0.0...               1   \n",
       "\n",
       "   kmeans_chunk_1  kmeans_chunk_2  \n",
       "0               0               1  \n",
       "1               2               2  \n",
       "2               1               1  \n",
       "3               0               0  \n",
       "4               1               1  "
      ]
     },
     "execution_count": 13,
     "metadata": {},
     "output_type": "execute_result"
    }
   ],
   "source": [
    "df_combined = pd.read_pickle(os.path.join(cfg.get(\"directory\", \"exchange\"), results_prefix + \"002_temporal_analysis.p\"))\n",
    "df_combined.head()"
   ]
  },
  {
   "cell_type": "code",
   "execution_count": 89,
   "metadata": {},
   "outputs": [
    {
     "data": {
      "text/html": [
       "        <script type=\"text/javascript\">\n",
       "        window.PlotlyConfig = {MathJaxConfig: 'local'};\n",
       "        if (window.MathJax) {MathJax.Hub.Config({SVG: {font: \"STIX-Web\"}});}\n",
       "        if (typeof require !== 'undefined') {\n",
       "        require.undef(\"plotly\");\n",
       "        requirejs.config({\n",
       "            paths: {\n",
       "                'plotly': ['https://cdn.plot.ly/plotly-latest.min']\n",
       "            }\n",
       "        });\n",
       "        require(['plotly'], function(Plotly) {\n",
       "            window._Plotly = Plotly;\n",
       "        });\n",
       "        }\n",
       "        </script>\n",
       "        "
      ]
     },
     "metadata": {},
     "output_type": "display_data"
    }
   ],
   "source": [
    "from plotly.offline import download_plotlyjs, init_notebook_mode, plot, iplot\n",
    "import plotly.io as pio\n",
    "init_notebook_mode(connected=True)\n",
    "import colormap"
   ]
  },
  {
   "cell_type": "code",
   "execution_count": 124,
   "metadata": {},
   "outputs": [],
   "source": [
    "labels = [\"Claim Expert\", \"Description Expert\", \"Sitelink Creator\", \"Sitelink Editor\"] * num_chunks\n",
    "colors = [colormap.get_static_plotly(x, alpha=1) for x in range(num_centroids)] * num_chunks\n",
    "colors_alpha = [colormap.get_static_plotly(x, alpha=0.5) for x in range(num_centroids)] * num_chunks"
   ]
  },
  {
   "cell_type": "code",
   "execution_count": 125,
   "metadata": {},
   "outputs": [],
   "source": [
    "sources = []\n",
    "targets = []\n",
    "counts = []\n",
    "for state_index in range(num_chunks-1):\n",
    "    for cl_from, cl_to in itertools.product(np.arange(num_centroids), repeat=2):\n",
    "        sources.append(cl_from + (num_centroids * state_index))\n",
    "        targets.append(cl_to + (num_centroids * (state_index+1)))\n",
    "        counts.append(len(df_combined.loc[(df_combined[\"kmeans_chunk_{si}\".format(si=state_index)] == cl_from) & (df_combined[\"kmeans_chunk_{si}\".format(si=state_index+1)] == cl_to)]))   "
   ]
  },
  {
   "cell_type": "code",
   "execution_count": 135,
   "metadata": {},
   "outputs": [
    {
     "data": {
      "application/vnd.plotly.v1+json": {
       "config": {
        "linkText": "Export to plot.ly",
        "plotlyServerURL": "https://plot.ly",
        "responsive": true,
        "showLink": false
       },
       "data": [
        {
         "link": {
          "color": [
           "rgba(228,134,48, 0.5)",
           "rgba(228,134,48, 0.5)",
           "rgba(228,134,48, 0.5)",
           "rgba(228,134,48, 0.5)",
           "rgba(127,171,47, 0.5)",
           "rgba(127,171,47, 0.5)",
           "rgba(127,171,47, 0.5)",
           "rgba(127,171,47, 0.5)",
           "rgba(100,158,245, 0.5)",
           "rgba(100,158,245, 0.5)",
           "rgba(100,158,245, 0.5)",
           "rgba(100,158,245, 0.5)",
           "rgba(199,127,245, 0.5)",
           "rgba(199,127,245, 0.5)",
           "rgba(199,127,245, 0.5)",
           "rgba(199,127,245, 0.5)",
           "rgba(228,134,48, 0.5)",
           "rgba(228,134,48, 0.5)",
           "rgba(228,134,48, 0.5)",
           "rgba(228,134,48, 0.5)",
           "rgba(127,171,47, 0.5)",
           "rgba(127,171,47, 0.5)",
           "rgba(127,171,47, 0.5)",
           "rgba(127,171,47, 0.5)",
           "rgba(100,158,245, 0.5)",
           "rgba(100,158,245, 0.5)",
           "rgba(100,158,245, 0.5)",
           "rgba(100,158,245, 0.5)",
           "rgba(199,127,245, 0.5)",
           "rgba(199,127,245, 0.5)",
           "rgba(199,127,245, 0.5)",
           "rgba(199,127,245, 0.5)"
          ],
          "source": [
           0,
           0,
           0,
           0,
           1,
           1,
           1,
           1,
           2,
           2,
           2,
           2,
           3,
           3,
           3,
           3,
           4,
           4,
           4,
           4,
           5,
           5,
           5,
           5,
           6,
           6,
           6,
           6,
           7,
           7,
           7,
           7
          ],
          "target": [
           4,
           5,
           6,
           7,
           4,
           5,
           6,
           7,
           4,
           5,
           6,
           7,
           4,
           5,
           6,
           7,
           8,
           9,
           10,
           11,
           8,
           9,
           10,
           11,
           8,
           9,
           10,
           11,
           8,
           9,
           10,
           11
          ],
          "value": [
           6768,
           1150,
           91,
           51,
           2389,
           8470,
           1066,
           547,
           314,
           1484,
           9963,
           762,
           111,
           743,
           716,
           3804,
           7476,
           1845,
           191,
           70,
           1573,
           8471,
           1150,
           653,
           198,
           1149,
           9736,
           753,
           77,
           586,
           668,
           3833
          ]
         },
         "node": {
          "color": [
           "rgba(228,134,48, 1)",
           "rgba(127,171,47, 1)",
           "rgba(100,158,245, 1)",
           "rgba(199,127,245, 1)",
           "rgba(228,134,48, 1)",
           "rgba(127,171,47, 1)",
           "rgba(100,158,245, 1)",
           "rgba(199,127,245, 1)",
           "rgba(228,134,48, 1)",
           "rgba(127,171,47, 1)",
           "rgba(100,158,245, 1)",
           "rgba(199,127,245, 1)"
          ],
          "label": [
           "Claim Expert",
           "Description Expert",
           "Sitelink Creator",
           "Sitelink Editor",
           "Claim Expert",
           "Description Expert",
           "Sitelink Creator",
           "Sitelink Editor",
           "Claim Expert",
           "Description Expert",
           "Sitelink Creator",
           "Sitelink Editor"
          ],
          "line": {
           "color": "black",
           "width": 0.5
          },
          "pad": 10,
          "thickness": 20
         },
         "type": "sankey"
        }
       ],
       "layout": {
        "autosize": true,
        "font": {
         "size": 25
        },
        "paper_bgcolor": "rgba(0, 0, 0, 0)",
        "plot_bgcolor": "rgba(0, 0, 0, 0)"
       }
      },
      "image/png": "[encoded data removed]",
      "text/html": [
       "<div>\n",
       "        \n",
       "        \n",
       "            <div id=\"ab5754b0-9d07-4b23-97ad-d765726fe705\" class=\"plotly-graph-div\" style=\"height:525px; width:100%;\"></div>\n",
       "            <script type=\"text/javascript\">\n",
       "                require([\"plotly\"], function(Plotly) {\n",
       "                    window.PLOTLYENV=window.PLOTLYENV || {};\n",
       "                    window.PLOTLYENV.BASE_URL='https://plot.ly';\n",
       "                    \n",
       "                if (document.getElementById(\"ab5754b0-9d07-4b23-97ad-d765726fe705\")) {\n",
       "                    Plotly.newPlot(\n",
       "                        'ab5754b0-9d07-4b23-97ad-d765726fe705',\n",
       "                        [{\"link\": {\"color\": [\"rgba(228,134,48, 0.5)\", \"rgba(228,134,48, 0.5)\", \"rgba(228,134,48, 0.5)\", \"rgba(228,134,48, 0.5)\", \"rgba(127,171,47, 0.5)\", \"rgba(127,171,47, 0.5)\", \"rgba(127,171,47, 0.5)\", \"rgba(127,171,47, 0.5)\", \"rgba(100,158,245, 0.5)\", \"rgba(100,158,245, 0.5)\", \"rgba(100,158,245, 0.5)\", \"rgba(100,158,245, 0.5)\", \"rgba(199,127,245, 0.5)\", \"rgba(199,127,245, 0.5)\", \"rgba(199,127,245, 0.5)\", \"rgba(199,127,245, 0.5)\", \"rgba(228,134,48, 0.5)\", \"rgba(228,134,48, 0.5)\", \"rgba(228,134,48, 0.5)\", \"rgba(228,134,48, 0.5)\", \"rgba(127,171,47, 0.5)\", \"rgba(127,171,47, 0.5)\", \"rgba(127,171,47, 0.5)\", \"rgba(127,171,47, 0.5)\", \"rgba(100,158,245, 0.5)\", \"rgba(100,158,245, 0.5)\", \"rgba(100,158,245, 0.5)\", \"rgba(100,158,245, 0.5)\", \"rgba(199,127,245, 0.5)\", \"rgba(199,127,245, 0.5)\", \"rgba(199,127,245, 0.5)\", \"rgba(199,127,245, 0.5)\"], \"source\": [0, 0, 0, 0, 1, 1, 1, 1, 2, 2, 2, 2, 3, 3, 3, 3, 4, 4, 4, 4, 5, 5, 5, 5, 6, 6, 6, 6, 7, 7, 7, 7], \"target\": [4, 5, 6, 7, 4, 5, 6, 7, 4, 5, 6, 7, 4, 5, 6, 7, 8, 9, 10, 11, 8, 9, 10, 11, 8, 9, 10, 11, 8, 9, 10, 11], \"value\": [6768, 1150, 91, 51, 2389, 8470, 1066, 547, 314, 1484, 9963, 762, 111, 743, 716, 3804, 7476, 1845, 191, 70, 1573, 8471, 1150, 653, 198, 1149, 9736, 753, 77, 586, 668, 3833]}, \"node\": {\"color\": [\"rgba(228,134,48, 1)\", \"rgba(127,171,47, 1)\", \"rgba(100,158,245, 1)\", \"rgba(199,127,245, 1)\", \"rgba(228,134,48, 1)\", \"rgba(127,171,47, 1)\", \"rgba(100,158,245, 1)\", \"rgba(199,127,245, 1)\", \"rgba(228,134,48, 1)\", \"rgba(127,171,47, 1)\", \"rgba(100,158,245, 1)\", \"rgba(199,127,245, 1)\"], \"label\": [\"Claim Expert\", \"Description Expert\", \"Sitelink Creator\", \"Sitelink Editor\", \"Claim Expert\", \"Description Expert\", \"Sitelink Creator\", \"Sitelink Editor\", \"Claim Expert\", \"Description Expert\", \"Sitelink Creator\", \"Sitelink Editor\"], \"line\": {\"color\": \"black\", \"width\": 0.5}, \"pad\": 10, \"thickness\": 20}, \"type\": \"sankey\", \"uid\": \"f86586d3-7ca0-4562-9d42-fa47efa4eb6e\"}],\n",
       "                        {\"font\": {\"size\": 25}, \"paper_bgcolor\": \"rgba(0,0,0,0)\", \"plot_bgcolor\": \"rgba(0,0,0,0)\"},\n",
       "                        {\"showLink\": false, \"linkText\": \"Export to plot.ly\", \"plotlyServerURL\": \"https://plot.ly\", \"responsive\": true}\n",
       "                    ).then(function(){\n",
       "                            \n",
       "var gd = document.getElementById('ab5754b0-9d07-4b23-97ad-d765726fe705');\n",
       "var x = new MutationObserver(function (mutations, observer) {{\n",
       "        var display = window.getComputedStyle(gd).display;\n",
       "        if (!display || display === 'none') {{\n",
       "            console.log([gd, 'removed!']);\n",
       "            Plotly.purge(gd);\n",
       "            observer.disconnect();\n",
       "        }}\n",
       "}});\n",
       "\n",
       "// Listen for the removal of the full notebook cells\n",
       "var notebookContainer = gd.closest('#notebook-container');\n",
       "if (notebookContainer) {{\n",
       "    x.observe(notebookContainer, {childList: true});\n",
       "}}\n",
       "\n",
       "// Listen for the clearing of the current output cell\n",
       "var outputEl = gd.closest('.output');\n",
       "if (outputEl) {{\n",
       "    x.observe(outputEl, {childList: true});\n",
       "}}\n",
       "\n",
       "                        })\n",
       "                };\n",
       "                });\n",
       "            </script>\n",
       "        </div>"
      ]
     },
     "metadata": {},
     "output_type": "display_data"
    }
   ],
   "source": [
    "data = dict(\n",
    "    type='sankey',\n",
    "    node = dict(\n",
    "      pad = 10,\n",
    "      thickness = 20,\n",
    "      line = dict(\n",
    "          color = \"black\",\n",
    "          width = 0.5\n",
    "      ),\n",
    "      label = labels,\n",
    "      color = colors\n",
    "    ),\n",
    "    link = dict(\n",
    "        source = sources,\n",
    "        target = targets,\n",
    "        value = counts,\n",
    "        color = [colors_alpha[x] for x in sources]\n",
    "  ))\n",
    "\n",
    "layout =  dict(\n",
    "    font = dict(\n",
    "      size = 25\n",
    "    ),\n",
    "    paper_bgcolor='rgba(0,0,0,0)',\n",
    "    plot_bgcolor='rgba(0,0,0,0)'\n",
    ")\n",
    "\n",
    "fig = dict(data=[data], layout=layout)\n",
    "store_path = os.path.join(cfg.get(\"directory\", \"results\"), results_prefix + \"sankey[{n}]centroids\".format(n=num_centroids)) + \".html\"\n",
    "plot(fig, filename=store_path, validate=False)\n",
    "iplot(fig, validate=False)"
   ]
  },
  {
   "cell_type": "code",
   "execution_count": 136,
   "metadata": {},
   "outputs": [
    {
     "data": {
      "text/plain": [
       "'data/results/[WIKIDATA_10]sankey[4]centroids.html'"
      ]
     },
     "execution_count": 136,
     "metadata": {},
     "output_type": "execute_result"
    }
   ],
   "source": [
    "store_path"
   ]
  },
  {
   "cell_type": "code",
   "execution_count": null,
   "metadata": {},
   "outputs": [],
   "source": []
  }
 ],
 "metadata": {
  "kernelspec": {
   "display_name": "Python 3",
   "language": "python",
   "name": "python3"
  },
  "language_info": {
   "codemirror_mode": {
    "name": "ipython",
    "version": 3
   },
   "file_extension": ".py",
   "mimetype": "text/x-python",
   "name": "python",
   "nbconvert_exporter": "python",
   "pygments_lexer": "ipython3",
   "version": "3.7.1"
  }
 },
 "nbformat": 4,
 "nbformat_minor": 2
}
